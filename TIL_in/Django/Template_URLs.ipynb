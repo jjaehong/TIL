{
 "cells": [
  {
   "cell_type": "markdown",
   "metadata": {},
   "source": [
    "## Django Template\n",
    "\n",
    "- 데이터 **표현**을 제어하면서, **표현**과 관련된 부분을 담당\n",
    "- html, css"
   ]
  },
  {
   "cell_type": "code",
   "execution_count": null,
   "metadata": {
    "vscode": {
     "languageId": "plaintext"
    }
   },
   "outputs": [],
   "source": [
    "#### Django Template Language(DTL)\n",
    "\n",
    "- Template에서 조건, 반복, 변수 등의 프로그래밍적 기능을 제공하는 시스템\n",
    "\n",
    "#### DTL syntax\n",
    "\n",
    "- variable, filters, tags, comments\n",
    "- 장고 공식문서 : built-in template tags and filters에서 찾아보기\n",
    "\n",
    "1. 변수(variable)\n",
    "    \n",
    "    - {{variable}}\n",
    "\n",
    "    - 딕셔너리 key에 해당하는 문자열이 template에서 사용 가능한 변수명이 됨\n",
    "    - dot(.)을 사용하여 변수 속성에 접근할 수 있음\n",
    "\n",
    "2. filters\n",
    "\n",
    "    - {{ variable|filter}}\n",
    "    - {{ name|truncatewords:30 }}\n",
    "\n",
    "    - 표시할 변수를 수정할 때 사용\n",
    "    - 약 60개의 built-in template filters를 제공\n",
    "\n",
    "3. tags\n",
    "\n",
    "    - {% tag %}\n",
    "    - {% if %} {% endif %}\n",
    "\n",
    "    - 반복 또는 논리를 수행하여 제어 흐름을 만듦\n",
    "    - 일부 태그는 시작과 종료 태그가 필요\n",
    "    - 약 24개의 buil-in template tags를 제공\n",
    "\n",
    "4. comments\n",
    "    \n",
    "    - DTL에서의 주석\n"
   ]
  }
 ],
 "metadata": {
  "language_info": {
   "name": "python"
  },
  "orig_nbformat": 4
 },
 "nbformat": 4,
 "nbformat_minor": 2
}
