{
 "cells": [
  {
   "cell_type": "markdown",
   "metadata": {},
   "source": [
    "## Django Template\n",
    "\n",
    "- 데이터 **표현**을 제어하면서, **표현**과 관련된 부분을 담당\n",
    "- (html, css)"
   ]
  },
  {
   "cell_type": "markdown",
   "metadata": {
    "vscode": {
     "languageId": "plaintext"
    }
   },
   "source": [
    "#### 1. Django Template Language(DTL)\n",
    "\n",
    "- Template(html,css)에서 **조건, 반복, 변수** 등의 프로그래밍적 기능을 제공하는 시스템\n",
    "\n",
    "#### DTL syntax\n",
    "\n",
    "- variable, filters, tags, comments\n",
    "- 장고 공식문서 : built-in template tags and filters에서 찾아보기\n",
    "\n",
    "1. 변수(variable)\n",
    "    \n",
    "    - {{variable}}\n",
    "    \n",
    "    - render 함수의 **세번째 인자**로 딕셔너리 데이터를 사용\n",
    "    - 딕셔너리 key에 해당하는 문자열이 template에서 사용 가능한 변수명이 됨\n",
    "    - dot(.)을 사용하여 변수 속성에 접근할 수 있음\n",
    "\n",
    "2. filters\n",
    "\n",
    "    - {{ variable|filter}}\n",
    "    - {{ name|truncatewords:30 }}\n",
    "\n",
    "\n",
    "    - 표시할 변수를 수정할 때 사용\n",
    "    - chained가 가능하며 일부 필터는 인자를 받기도 함\n",
    "    - 약 60개의 built-in template filters를 제공\n",
    "\n",
    "3. tags\n",
    "\n",
    "    - {% tag %}\n",
    "    - {% if %} {% endif %}\n",
    "\n",
    "    - 반복 또는 논리를 수행하여 제어 흐름을 만듦\n",
    "    - 일부 태그는 시작과 종료 태그가 필요\n",
    "    - 약 24개의 buil-in template tags를 제공\n",
    "\n",
    "4. comments\n",
    "    \n",
    "    - DTL에서의 주석\n"
   ]
  },
  {
   "cell_type": "markdown",
   "metadata": {},
   "source": [
    "#### 2. template 상속\n",
    "\n",
    "- **페이지의 공통요소를 포함**하고,\n",
    "- **하위 템플릿이 재정의 할 수 있는 공간**을 정의하는\n",
    "- 기본 'skeleton' 템플릿을 작성하여 상속 구조를 구축\n",
    "\n",
    "- 상위 템플릿\n",
    "- 하위 템플릿\n",
    "\n",
    "![이미지](../이미지/템플릿상속.PNG)"
   ]
  },
  {
   "cell_type": "markdown",
   "metadata": {},
   "source": [
    "#### 3. HTML form(요청과 응답)\n",
    "\n",
    "- 데이터를 보내고 가져오기 : HTML form element를 통해 사용자와 애플리케이션 간의 상호작용 이해하기\n",
    "\n",
    "![이미지](../이미지/form1.PNG)\n",
    "\n",
    "![이미지](../이미지/form2.PNG)\n",
    "\n",
    "![이미지](../이미지/form3.PNG)\n",
    "\n",
    "- HTML form은 HTTP 요청을 서버에 보내는 가장 편리한 방법\n",
    "\n",
    "- 'form' element\n",
    "    \n",
    "    - 사용자로부터 할당된 데이터를 서버로 전송\n",
    "        -> 웹에서 사용자 정보를 입력하는 여러 방식을 제공\n",
    "\n",
    "- action (form 핵심속성)\n",
    "\n",
    "    - 입력 데이터가 전송될 URL을 지정(목적지)\n",
    "    - 만약 이 속성을 지정하지 않으면 데이터는 현재 form이 있는 페이지의 URL로 보내짐         \n",
    "\n",
    "- method (form 핵심속성)\n",
    "\n",
    "    - 데이터를 어떤 방식으로 보낼 것인지 정의\n",
    "    - GET, POST 지정\n",
    "\n",
    "- 데이터를 어디(action)로 어떤 방식(method)으로 요청할지"
   ]
  },
  {
   "cell_type": "markdown",
   "metadata": {},
   "source": [
    "- input element\n",
    "    \n",
    "    - 사용자의 데이터를 입력 받을 수 있는 요소\n",
    "\n",
    "- name 속성(input 핵심속성)\n",
    "\n",
    "    - 입력한 데이터에 붙이는 이름(key)\n",
    "    - 데이터를 제출했을 때 **서버는 name 속성에 설정된 값을 통해서만** 사용자가 입력한 데이터에 접근할 수 있음\n",
    "\n",
    "\n",
    "![이미지](../이미지/요청응답1.PNG)\n",
    "\n",
    "![이미지](../이미지/요청응답2.PNG)\n",
    "\n",
    "![이미지](../이미지/요청응답3.PNG)\n",
    "\n"
   ]
  },
  {
   "cell_type": "markdown",
   "metadata": {},
   "source": [
    "#### form 활용\n",
    "\n",
    "- 사용자 입력 데이터를 받아 그대로 출력하는 서버 만들기\n",
    "\n",
    "1. throw 로직(로그인 페이지)\n",
    "\n",
    "![이미지](../이미지/throw.PNG)\n",
    "\n",
    "2. catch 로직(로그인 결과창)\n",
    "\n",
    "![이미지](../이미지/catch.PNG)\n",
    "\n",
    "3. form 데이터를 가져오는 방법\n",
    "![이미지](../이미지/request.get.get.PNG)\n",
    "\n",
    "4. catch 로직 마무리\n",
    "![이미지](../이미지/catch마무리.PNG)\n",
    "\n",
    "[참고: request 객체] \n",
    "![이미지](../이미지/request객체.PNG)"
   ]
  }
 ],
 "metadata": {
  "language_info": {
   "name": "python"
  },
  "orig_nbformat": 4
 },
 "nbformat": 4,
 "nbformat_minor": 2
}
