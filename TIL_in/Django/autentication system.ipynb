{
 "cells": [
  {
   "cell_type": "markdown",
   "metadata": {},
   "source": [
    "## 8. Django Autentication System 1"
   ]
  },
  {
   "cell_type": "markdown",
   "metadata": {},
   "source": [
    "#### 1. Cookie & Session\n",
    "\n",
    "1. 개요\n",
    "\n",
    "- 목적 : 서버와 클라이언트 간의 **상태를 유지**\n",
    "\n",
    "- 상태를 유지한다는 것은 \n",
    "\n",
    "    - 장바구니에 담은 상품을 다른 페이지 옮겨다닐때마다 보관된 상태로 유지함\n",
    "\n",
    "    - 로그인 이후 다른 페이지 옮겨다닐때마다 로그인 상태를 유지함\n",
    "\n",
    "- HTTP 특징 : 원래 서버는 요청에 대한 응답을 보낸 후 연결을 끊고, 연결을 끊는 순간 상태정보가 유지되지 않음\n",
    " \n",
    "\n",
    "\n",
    "2. 쿠키(cookie)\n",
    "\n",
    "    - 서버가 사용자의 웹 브라우저에 전송하는 작은 데이터 조각\n",
    "\n",
    "    - 클라이언트 측에서 저장되는 작은 데이터 파일이며, 사용자 인증, 추적, 상태 유지 등에 사용되는 데이터 저장 방식\n",
    "\n",
    "    ![이미지](../이미지/쿠키예시.PNG)\n",
    "\n",
    "    ![이미지](../이미지/쿠키사용원리.PNG)\n",
    "\n",
    "    ![이미지](../이미지/쿠키사용목적.PNG)\n",
    "\n",
    "3. 세션(session)\n",
    "\n",
    "    - 서버 측에서 생성되어 클라이언트와 서버 간의 **상태를 유지**\n",
    "\n",
    "    - 상태 정보를 저장하는 데이터 저장 방식\n",
    "\n",
    "    - 쿠키에 세션 데이터를 저장하여 매 요청시마다 세션 데이터를 함께 보냄\n",
    "\n",
    "\n",
    "    ![이미지](../이미지/세션작동원리.PNG)\n",
    "\n",
    "\n",
    "4. 쿠키와 세션 정리\n",
    "\n",
    "- 목적 : 서버와 클라인트 간의 상태를 유지하기 위해 쿠키와 세션을 사용\n",
    "\n",
    "    ![이미지](../이미지/쿠키정리.PNG)\n",
    "    \n",
    "    ![이미지](../이미지/쿠키정리1.PNG)\n"
   ]
  },
  {
   "cell_type": "markdown",
   "metadata": {},
   "source": [
    "#### 2. Autentication System\n",
    "\n",
    "- 사용자 인증과 관련된 기능을 모아 놓은 시스템(**인증(신원확인) 시스템**)\n",
    "\n",
    "0. 사전준비 + 대체하기\n",
    "\n",
    "![이미지](../이미지/accounts사전준비.PNG)\n",
    "\n",
    "\n"
   ]
  },
  {
   "cell_type": "markdown",
   "metadata": {},
   "source": [
    "#### 3. custom user model\n",
    "\n",
    "- django가 기본적으로 제공하는 user model은 **내장된 auth 앱의 user 클래스를 사용함**\n",
    "\n",
    "- 물론 내장 클래스를 잘 사용하고 있겠지만 **개발자가 직접 수정할 수 없는 문제가 존재함!**\n",
    "\n",
    "- 따라서 custom user model로 **대체**해라!(user model은 변경될 수 있는 가능성 여지)\n",
    "\n",
    "1. **대체하기**\n",
    "\n",
    "![이미지](../이미지/대체하기.PNG)\n",
    "\n",
    "- AbstractUser 클래스 불러와서 User에 상속받기\n",
    "\n",
    "![이미지](../이미지/대체하기1.PNG)\n",
    "\n",
    "- accounts의 User class를 기본 User 모델로 지정\n",
    "\n",
    "![이미지](../이미지/대체하기2.PNG)\n",
    "\n",
    "- admin에서 User class를 등록\n",
    "\n",
    "![이미지](../이미지/대체하기결과.PNG)\n",
    "\n",
    "- auth user 클래스 -> accounts user \n",
    "\n",
    "\n",
    "2. 대체하기 **주의**\n",
    "\n",
    "![이미지](../이미지/대체하기주의.PNG)\n",
    "\n",
    "![이미지](../이미지/대체하기주의1.PNG)\n",
    "\n",
    "- [참고] AbstractUser class\n",
    "\n",
    "    - 관리자 권한과 함께 완전한 기능을 가지고 있는 User model을 구현하는 추상 기본 클래스\n",
    "\n",
    "    - 몇 가지 공통 정보를 여러 다른 모델에 넣을 때 사용하는 클래스"
   ]
  },
  {
   "cell_type": "markdown",
   "metadata": {},
   "source": [
    "#### 4. Login\n",
    "\n",
    "- session을 **create**하는 과정\n",
    "\n",
    "- AuthenticationForm() : **로그인 인증**에 사용할 데이터를 입력 받는 built-in **form**(모델폼이 아닌 그냥 폼)\n",
    "\n",
    "\n",
    "![이미지](../이미지/로그인페이지작성.PNG)\n",
    "\n",
    "![이미지](../이미지/로그인페이지작성1.PNG)\n",
    "\n",
    "![이미지](../이미지/로그인%20로직1.PNG)\n",
    "\n",
    "- 모델 폼과 달리 폼 클래스는 첫번째 인자가 request, 두번째 인자가 request.POST\n",
    "\n",
    "- auth_login : autenticationform을 통해 인증된 사용자를 로그인 하는 함수, 위의 login 함수와 중첩되니 다르게 명명 \n",
    "\n",
    "- get_user() : autenticationform의 인스턴스 메서드, 유효성 검사를 통과했을 경우 로그인 한 사용자 객체를 반환\n",
    "\n",
    "![이미지](../이미지/세션데이터확인.PNG)\n",
    "\n",
    "\n",
    "- 로그인 링크 작성\n",
    "\n",
    "![이미지](../이미지/로그인링크작성.PNG)"
   ]
  },
  {
   "cell_type": "markdown",
   "metadata": {},
   "source": [
    "#### 5. Logout\n",
    "\n",
    "- session을 **delete**하는 과정\n",
    "\n",
    "- 현재 요청에 대한 session data를 DB에서 삭제\n",
    "\n",
    "- 클라이언트의 쿠키에서도 session id를 삭제\n",
    "\n",
    "![이미지](../이미지/로그아웃로직.PNG)\n",
    "\n",
    "![이미지](../이미지/로그아웃로직1.PNG)"
   ]
  },
  {
   "cell_type": "markdown",
   "metadata": {},
   "source": [
    "#### 6. Template with Autentication data\n",
    "\n",
    "- 템플릿에서 인증 관련 데이터를 출력하는 방법\n",
    "\n",
    "![이미지](../이미지/현재로그인되어있는.PNG)\n",
    "\n",
    "![이미지](../이미지/현재로그인되어있는1.PNG)\n"
   ]
  },
  {
   "cell_type": "markdown",
   "metadata": {},
   "source": [
    "#### 7. 참고\n",
    "\n"
   ]
  },
  {
   "cell_type": "code",
   "execution_count": null,
   "metadata": {},
   "outputs": [],
   "source": []
  },
  {
   "cell_type": "code",
   "execution_count": null,
   "metadata": {},
   "outputs": [],
   "source": []
  }
 ],
 "metadata": {
  "language_info": {
   "name": "python"
  },
  "orig_nbformat": 4
 },
 "nbformat": 4,
 "nbformat_minor": 2
}
