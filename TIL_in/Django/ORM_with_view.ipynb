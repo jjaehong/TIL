{
 "cells": [
  {
   "cell_type": "markdown",
   "metadata": {},
   "source": [
    "## 5. Django ORM with view\n",
    "\n",
    "- CRUD 위주\n",
    "- Django shell에서 연습했던 QuerySet API를 직접 view 함수에서 사용하기\n"
   ]
  },
  {
   "cell_type": "markdown",
   "metadata": {},
   "source": [
    "#### 1. Read(조회)\n",
    "\n",
    "1. 전체 게시글 조회 : 한 페이지에 모든 게시글 모아놓음\n",
    "\n",
    "    ![이미지](../이미지/전체게시글조회1.PNG)\n",
    "    ![이미지](../이미지/전체게시글조회.PNG)\n",
    "\n",
    "\n",
    "2. 단일 게시글 조회\n",
    "\n",
    "    ![이미지](../이미지/단일게시글조회2.PNG)\n",
    "    ![이미지](../이미지/단일게시글조회.PNG)\n",
    "\n",
    "3. 단일 게시글 페이지 링크 작성\n",
    "\n",
    "    ![이미지](../이미지/단일페이지링크.PNG)"
   ]
  },
  {
   "cell_type": "markdown",
   "metadata": {},
   "source": [
    "#### 2. Create(생성)\n",
    "\n",
    "- create 로직을 구현하기 위해 필요한 view 함수의 개수는?? => 2개\n",
    "\n",
    "    1. new : 사용자 입력 데이터를 받을 페이지를 렌더링\n",
    "    \n",
    "    ![이미지](../이미지/new기능1.PNG)\n",
    "\n",
    "    ![이미지](../이미지/new%20기능2.PNG)\n",
    "\n",
    "    ![이미지](../이미지/new기능3.PNG)\n",
    "\n",
    "    2. create : 사용자가 입력한 데이터를 받아 DB에 저장\n",
    "\n",
    "    ![이미지](../이미지/create1.PNG)\n",
    "\n",
    "    ![이미지](../이미지/create2.PNG)"
   ]
  },
  {
   "cell_type": "markdown",
   "metadata": {},
   "source": [
    "#### 3. HTTP request methods\n",
    "\n",
    "- 데이터(리소스)에 어떤 요청(행동)을 원하는지를 나타내는 것(**GET & POST**)\n",
    "\n",
    "1. 'GET' method\n",
    "\n",
    "    - 특정 리소스를 **조회(READ)**하는 요청\n",
    "\n",
    "    - GET으로 데이터를 전달하면 Query String 형식으로 보내짐\n",
    "\n",
    "2. 'POST' method\n",
    "\n",
    "    - 특정 리소스에 **변경(생성,수정,삭제)(CUD)을 요구하는** 요청\n",
    "\n",
    "    - POST로 데이터를 전달하면 HTTP Body에 담겨 보내짐\n",
    "    \n",
    "![이미지](../이미지/postmethod.PNG)\n",
    "\n",
    "![이미지](../이미지/403.PNG) ![이미지](../이미지/거절된이유.PNG)\n",
    "\n",
    "- 403 forbidden : 서버에 요청이 전달되었지만, **권한** 때문에 거절되었다는 의미\n",
    "\n",
    "- CSRF(cross-site-request-forgery) : 사이트 간 요청 위주\n",
    "\n",
    "    -> Django 서버는 해당 요청이 DB에 영향을 주는 요청에 대해 **\"Django가 직접 제공하는 페이지에서 데이터를 작성하고 있는 것인지\"**에 대한 확인 수단이 필요한 것\n",
    "\n",
    "    -> 요청 시 위조사이트 등 해킹에 대해 방어하고자 CSRF 토큰을 함께 넣어서 보냄\n",
    "    \n",
    "    -> GET : 요청 데이터 -> 게시글 작성\n",
    "\n",
    "    -> POST : 요청 데이터 + **인증 토큰** -> 게시글 작성 (DB에 조작을 가하는 요청은 반드시 인증수단이 필요)\n",
    "\n",
    "![이미지](../이미지/CSRF토큰.PNG)\n",
    "\n",
    "![이미지](../이미지/게시글작성결과.PNG)\n",
    "\n",
    "\n",
    "\n"
   ]
  },
  {
   "cell_type": "markdown",
   "metadata": {},
   "source": [
    "#### 4. redirect\n",
    "\n",
    "- 만약 당신이 게시글을 작성한 후 '게시글이 작성되었습니다'는 페이지를 볼 필요가 있을까?\n",
    "\n",
    "- 高.. 보통은 홈 화면으로 돌아가죠?\n",
    "\n",
    "- 따라서 데이터 저장 후 페이지를 주는 것이 아닌 다른 페이지로 사용자를 보내야 한다.\n",
    "\n",
    "- **사용자를 보낸다 == 사용자가 GET 요청을 한번 더 보내도록 해야 한다.**\n",
    "\n",
    "- **redirect()** : 클라이언트가 인자에 작성된 주소로 다시 요청을 보내도록 하는 함수\n",
    "\n",
    "![이미지](../이미지/redirect함수.PNG)\n",
    "![이미지](../이미지/redirect함수2.PNG)\n",
    "\n",
    "- 게시글 작성 결과 \n",
    "\n",
    "    - 게시글 작성 후 생성된 게시글의 detail 페이지로 redirect 되었는지 확인\n",
    "\n",
    "    - create 요청 이후에 detail로 다시 요청을 보냈다는 것을 알 수 있음"
   ]
  },
  {
   "cell_type": "markdown",
   "metadata": {},
   "source": [
    "#### 5. Delete\n",
    "\n",
    "![이미지](../이미지/딜리트1.PNG)\n",
    "\n",
    "![이미지](../이미지/딜리트2.PNG)"
   ]
  },
  {
   "cell_type": "markdown",
   "metadata": {},
   "source": [
    "#### 6. Update\n",
    "\n",
    "- update 로직을 구현하기 위해 필요한 필요한 view 함수의 개수는? => 2개\n",
    "\n",
    "    1. edit : 사용자 입력 데이터를 받을 페이지를 렌더링\n",
    "    \n",
    "\n",
    "\n",
    "\n",
    "    2. update : 사용자가 입력한 데이터를 받아 DB에 저장"
   ]
  },
  {
   "cell_type": "code",
   "execution_count": null,
   "metadata": {},
   "outputs": [],
   "source": []
  }
 ],
 "metadata": {
  "language_info": {
   "name": "python"
  },
  "orig_nbformat": 4
 },
 "nbformat": 4,
 "nbformat_minor": 2
}
