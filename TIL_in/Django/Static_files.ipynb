{
 "cells": [
  {
   "cell_type": "markdown",
   "metadata": {},
   "source": [
    "## 7. Static files\n",
    "\n",
    "- 정적 파일(이미지, JS, CSS파일 등)\n",
    "\n",
    "- 서버 측에서 변경되지 않고 고정적으로 제공되는 파일\n",
    "\n",
    "- "
   ]
  },
  {
   "cell_type": "markdown",
   "metadata": {},
   "source": [
    "#### 1. Static files 제공하기\n",
    "\n",
    "1. 기본 경로에서 제공하기 : app폴더/static/\n",
    "\n",
    "![이미지](../이미지/기본경로static1.PNG)\n",
    "![이미지](../이미지/기본경로static.PNG)\n",
    "\n",
    "- STATIC_URL : 기본 경로 및 추가 경로에 위치한 정적 파일을 참조하기 위한 URL 실제 파일이나 디렉토리가 아니며, URL로만 존재(base.html 상속과 유사)\n",
    "\n",
    "![이미지](../이미지/static_url.PNG)\n",
    "![이미지](../이미지/static_url1.PNG)\n",
    "\n",
    "\n",
    "2. 추가 경로에서 제공하기\n",
    "\n",
    "    - STATICFILES_DIRS에 문자열 값으로 추가 경로 설정\n",
    "\n",
    "    - STATICFILES_DIRS : 정적 파일의 기본 경로 외에 추가적인 경로 목록을 정의하는 리스트\n",
    "\n",
    "\n",
    "    ![이미지](../이미지/추가경로.PNG)\n",
    "    ![이미지](../이미지/추가경로2.PNG)\n",
    "    ![이미지](../이미지/추가경로3.PNG)\n",
    "    ![이미지](../이미지/추가경로결과.PNG)\n",
    "\n",
    "\n",
    "\n",
    "articles/\n"
   ]
  },
  {
   "cell_type": "code",
   "execution_count": null,
   "metadata": {},
   "outputs": [],
   "source": []
  },
  {
   "cell_type": "code",
   "execution_count": null,
   "metadata": {},
   "outputs": [],
   "source": []
  },
  {
   "cell_type": "markdown",
   "metadata": {},
   "source": [
    "## 2. Media files\n",
    "\n",
    "- 사용자가 웹에서 업로드하는 정적 파일(user-uploaded)"
   ]
  },
  {
   "cell_type": "markdown",
   "metadata": {},
   "source": [
    "#### 1. 이미지 업로드\n",
    "\n",
    "- ImageField()\n",
    "\n",
    "    - 이미지 업로드에 사용하는 모델 필드\n",
    "\n",
    "    - 이미지 객체가 직접 저장되는 것이 아닌 **이미지 파일의 경로**가 문자열로 DB에 저장"
   ]
  },
  {
   "cell_type": "markdown",
   "metadata": {},
   "source": [
    "#### 미디어 파일을 제공하기 전 준비\n",
    "\n",
    "1. settings.py에 **MEDIA_ROOT**, **MEDIA_URL** 설정\n",
    "\n",
    "\n",
    "2. 작성한 **MEDIA_ROOT**와 **MEDIA_URL**에 대한 url 지정"
   ]
  },
  {
   "cell_type": "code",
   "execution_count": null,
   "metadata": {},
   "outputs": [],
   "source": []
  },
  {
   "cell_type": "code",
   "execution_count": null,
   "metadata": {},
   "outputs": [],
   "source": []
  },
  {
   "cell_type": "code",
   "execution_count": null,
   "metadata": {},
   "outputs": [],
   "source": []
  },
  {
   "cell_type": "code",
   "execution_count": null,
   "metadata": {},
   "outputs": [],
   "source": []
  },
  {
   "cell_type": "code",
   "execution_count": null,
   "metadata": {},
   "outputs": [],
   "source": []
  },
  {
   "cell_type": "code",
   "execution_count": null,
   "metadata": {},
   "outputs": [],
   "source": []
  },
  {
   "cell_type": "markdown",
   "metadata": {},
   "source": [
    "\n",
    "\n",
    "1. 성능 및 DB 최적화\n",
    "- 직접 파일을 저장하면 DB 크기가 급격하게 증가\n",
    "    - 성능이 저하\n",
    "    - 파일 자체는 파일시스템에 별도로 저장\n",
    "    - DB에는 그 파일에 대한 문자열 경로만\n",
    "\n",
    "2. 유지 보수 관점\n",
    "\n",
    "- 만약 db에 직접 파일을 저장해버리면 파일을 변경하거나 업데이트 할 때 db를 직접 조작해야 함\n",
    "\n",
    "- 그런데 db에 경로만 저장되어있다면 파일시스템에서만 파일을 수정하면 됨\n",
    "\n"
   ]
  }
 ],
 "metadata": {
  "language_info": {
   "name": "python"
  },
  "orig_nbformat": 4
 },
 "nbformat": 4,
 "nbformat_minor": 2
}
