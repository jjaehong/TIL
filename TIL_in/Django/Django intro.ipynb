{
 "cells": [
  {
   "cell_type": "markdown",
   "metadata": {},
   "source": [
    "## Django and Framework"
   ]
  },
  {
   "cell_type": "markdown",
   "metadata": {},
   "source": [
    "#### Framework\n",
    "\n",
    "- 개념 : 웹 어플리케이션을 빠르게 개발할 수 있도록 도와주는 도구\n",
    "(개발에 필요한 기본 구조, 규칙, 라이브러리 등을 제공)\n",
    "\n",
    "- 프레임워크 활용 이유 : \n",
    "    - 기본적인 구조, 도구, 규칙 등을 제공하기 때문에 **개발자는 필수적인 해야 하는 핵심 개발에만 집중**할 수 있음 \n",
    "    - 여러 라이브러리를 제공해 **개발 속도를 빠르게 할 수 있음(생산성)**\n",
    "    - 유지보수와 확장에 용이해 **소프트웨어의 품질을 높임**\n",
    "\n",
    "#### Django Framework\n",
    "\n",
    "- python 기반의 대표적인 웹 프레임워크"
   ]
  },
  {
   "cell_type": "markdown",
   "metadata": {},
   "source": [
    "#### 클라이언트와 서버\n",
    "\n",
    "- 웹의 동작 방식 : 우리가 컴퓨터 혹은 모바일 기기로 웹 페이지를 보게 될 때까지 무슨 일이 일어날까?\n",
    "\n",
    "![이미지](../이미지/클라이언트-서버.png)\n",
    "\n",
    "- **클라이언트(Client)** : 서비스를 **요청**하는 주체(웹 사용자의 인터넷이 연결된 장치, 웹 브라우저)\n",
    "\n",
    "- **서버(Server)** : 클라이언트의 요청에 **응답**하는 주체(웹 페이지, 앱을 저장하는 컴퓨터)\n",
    "\n",
    "![이미지](../이미지/웹페이지%20보는%20과정.png)\n",
    "\n",
    "## Django를 사용해서 서버를 구현할 것!"
   ]
  },
  {
   "cell_type": "markdown",
   "metadata": {},
   "source": [
    "#### 프로젝트 및 가상환경\n",
    "\n",
    "1. 가상 환경 : Python 애플리케이션과 그에 따른 패키지들을 격리하여 관리할 수 있는 **독립적인** 실행 환경\n",
    "\n",
    "- 가상환경은 본인이 가상환경으로 이동하는 것이 아니라 **on/off** 개념임!\n",
    "\n",
    "![이미지](../이미지/가상환경2.png)\n",
    "![이미지](../이미지/가상환경1.png)\n",
    "- 각각 프로젝트에서 같은 패키지의 다른 버전, 다른 패키지를 구분하기 위해 독립적인 개발 환경이 필요함!\n",
    "\n",
    "![이미지](../이미지/패키지%20목록%20시나리오.PNG)"
   ]
  },
  {
   "cell_type": "markdown",
   "metadata": {},
   "source": [
    "#### Django 프로젝트 생성 전 루틴 (in bash)\n",
    "\n",
    "1. 가상환경(venv) 생성\n",
    "\n",
    "    $ python -m venv venv \n",
    "\n",
    "    -> 뒤에 venv가 가상환경 이름임 (근데 보통 가상환경 venv로 명명함)\n",
    "\n",
    "2. 가상환경 활성화(가상환경 on/off 기능)\n",
    "\n",
    "    $ source venv/Scripts/activate\n",
    "\n",
    "    -> 파일이름/파일경로/활성화\n",
    "    -> 비활성화 : deactivate\n",
    "\n",
    "2-1. 패키지 목록 확인\n",
    "\n",
    "    $ pip list\n",
    "\n",
    "3. Django 설치\n",
    "\n",
    "    $ pip install Django\n",
    "\n",
    "4. 의존성 파일 생성(package 설치할 때마다 진행)\n",
    "\n",
    "    $ pip freeze > requirements.txt (근데 보통 의존성 파일로 requirements.txt로 명명함)\n",
    "\n",
    "5. Django 프로젝트 생성\n",
    "\n",
    "    $ django-admin startproject firstpjt .\n",
    "        => firstpjt라는 이름의 프로젝트를 생성\n",
    "        => 뒤에 .은 현재 디렉토리에 만들갰다\n",
    "\n",
    "6. Django 서버 실행\n",
    "\n",
    "    $ python manage.py runserver \n",
    "        => manage.py와 동일한 경로에서 명령어 진행"
   ]
  },
  {
   "cell_type": "markdown",
   "metadata": {},
   "source": [
    "![이미지](../이미지/장고생성루틴.PNG)\n",
    "\n",
    "가상환경을 사용하는 이유\n",
    "- 의존성 관리\n",
    "    라이브러리 및 패키지를 각 프로젝트마다 **독립적으로** 사용 가능\n",
    "\n",
    "- 팀 프로젝트 협업\n",
    "    - 모튼 팀원이 동일한 환경과 의존성 위에서 작업하여 **버전간 충돌을 방지**"
   ]
  },
  {
   "cell_type": "code",
   "execution_count": null,
   "metadata": {
    "vscode": {
     "languageId": "plaintext"
    }
   },
   "outputs": [],
   "source": [
    "#### 집에가서 다시 했던 프로젝트들 가상환경 다시 받기\n",
    "\n",
    "가상환경 만들고 활성화하고 의존성 파일 만들고, pip install -r requirements.txt\n",
    "\n",
    "https://jonghyuck.tistory.com/8"
   ]
  },
  {
   "cell_type": "markdown",
   "metadata": {},
   "source": [
    "## Django 디자인 패턴"
   ]
  },
  {
   "cell_type": "markdown",
   "metadata": {
    "vscode": {
     "languageId": "plaintext"
    }
   },
   "source": [
    "#### Django 프로젝트와 앱\n",
    "\n",
    "1. Django project\n",
    "    - 애플리케이션의 집합\n",
    "    - DB 설정, URL 연결, 전채 앱 설정 등을 처리\n",
    "    \n",
    "2. Django application\n",
    "    - 독립적으로 작동하는 기능 단위 모듈\n",
    "    - 각자 특정한 기능을 담당하며 다른 앱들과 함께 하나의 프로젝트를 구성"
   ]
  },
  {
   "cell_type": "markdown",
   "metadata": {},
   "source": [
    "\n",
    "\n",
    "- 디자인 패턴 : 소프트웨어 설계에서 발생하는 문제를 해결하기 위한 일반적인 해결책 (즉, **공통적인 문제**를 해결하는데 쓰이는 **형식화된 관행**)\n",
    "\n",
    "- MVC 디자인 패턴 : 애플리케이션을 구조화하는 대표적인 패턴(데이터, 사용자 인터페이스, 비즈니스 로직을 분리)\n",
    "\n",
    "    (model, view, controller)\n",
    "    (DB,    화면,   내부조건)\n",
    "\n",
    "\n",
    "- MTV 디자인 패턴 : Django에서 애플리케이션을 구조화하는 패턴(기존 MVC 패턴과 동일하나 명칭을 다르게 정의한 것)\n",
    "\n",
    "    (model, Template, View)\n",
    "    (=> 데이터  => view(html,css)  => controller(데이터를 가공하는 로직!))\n"
   ]
  },
  {
   "cell_type": "code",
   "execution_count": null,
   "metadata": {
    "vscode": {
     "languageId": "plaintext"
    }
   },
   "outputs": [],
   "source": [
    "#### 반드시 앱을 먼저 생성한 후 등록해라!\n",
    "\n",
    "articles : 게시판 담당\n",
    "\n",
    "\n",
    "여기까지 기본세팅임"
   ]
  },
  {
   "cell_type": "markdown",
   "metadata": {},
   "source": [
    "\n",
    "### 프로젝트 구조에선 아래 2개가 중요함!!\n",
    "settings.py\n",
    "\n",
    "urls.py \n",
    "\n",
    "#### 나머진 시야에서 지워주셈\n",
    "\n",
    "\n",
    "#### 앱 구조에선 아래 3개가 중요함\n",
    "admin.py\n",
    "\n",
    "models.py\n",
    "\n",
    "views.py\n",
    "\n"
   ]
  },
  {
   "cell_type": "markdown",
   "metadata": {},
   "source": [
    "\n",
    "\n",
    "![이미지](../이미지/)"
   ]
  },
  {
   "cell_type": "markdown",
   "metadata": {},
   "source": [
    "url 만들고 view에 보여주겠다."
   ]
  },
  {
   "cell_type": "code",
   "execution_count": null,
   "metadata": {
    "vscode": {
     "languageId": "plaintext"
    }
   },
   "outputs": [],
   "source": []
  },
  {
   "cell_type": "code",
   "execution_count": null,
   "metadata": {
    "vscode": {
     "languageId": "plaintext"
    }
   },
   "outputs": [],
   "source": []
  }
 ],
 "metadata": {
  "kernelspec": {
   "display_name": "Python 3",
   "language": "python",
   "name": "python3"
  },
  "language_info": {
   "name": "python",
   "version": "3.11.4"
  },
  "orig_nbformat": 4
 },
 "nbformat": 4,
 "nbformat_minor": 2
}
