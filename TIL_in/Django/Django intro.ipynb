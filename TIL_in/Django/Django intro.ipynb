{
 "cells": [
  {
   "cell_type": "markdown",
   "metadata": {},
   "source": [
    "## Django and Framework"
   ]
  },
  {
   "cell_type": "markdown",
   "metadata": {},
   "source": [
    "#### Framework\n",
    "\n",
    "- 개념 : 웹 어플리케이션을 빠르게 개발할 수 있도록 도와주는 도구\n",
    "(개발에 필요한 기본 구조, 규칙, 라이브러리 등을 제공)\n",
    "\n",
    "- 프레임워크 활용 이유 : \n",
    "    - 기본적인 구조, 도구, 규칙 등을 제공하기 때문에 **개발자는 필수적인 해야 하는 핵심 개발에만 집중**할 수 있음 \n",
    "    - 여러 라이브러리를 제공해 **개발 속도를 빠르게 할 수 있음(생산성)**\n",
    "    - 유지보수와 확장에 용이해 **소프트웨어의 품질을 높임**\n",
    "\n",
    "#### Django Framework\n",
    "\n",
    "- python 기반의 대표적인 웹 프레임워크"
   ]
  },
  {
   "cell_type": "markdown",
   "metadata": {},
   "source": [
    "#### 클라이언트와 서버\n",
    "\n",
    "- 웹의 동작 방식 : 우리가 컴퓨터 혹은 모바일 기기로 웹 페이지를 보게 될 때까지 무슨 일이 일어날까?\n",
    "\n",
    "![이미지](../이미지/클라이언트-서버.png)\n",
    "\n",
    "- 클라이언트(Client) : 서비스를 요청하는 주체(웹 사용자의 인터넷이 연결된 장치, 웹 브라우저)\n",
    "\n",
    "- 서버(Server) : 클라이언트의 요청에 응답하는 주체(웹 페이지, 앱을 저장하는 컴퓨터)\n",
    "\n",
    "![이미지](../이미지/웹페이지%20보는%20과정.png)\n",
    "\n",
    "## Django를 사용해서 서버를 구현할 것!"
   ]
  },
  {
   "cell_type": "markdown",
   "metadata": {},
   "source": [
    "#### 프로젝트 및 가상환경\n",
    "\n",
    "1. 가상 환경 : Python 애플리케이션과 그에 따른 패키지들을 격리하여 관리할 수 있는 **독립적인** 실행 환경\n",
    "\n",
    "![이미지](../이미지/가상환경2.png)\n",
    "![이미지](../이미지/가상환경1.png)"
   ]
  },
  {
   "cell_type": "markdown",
   "metadata": {},
   "source": [
    "#### Django 프로젝트 생성 전 루틴\n",
    "- bash\n",
    "\n",
    "1. 가상환경(venv) 생성\n",
    "$ python -m venv venv\n",
    "\n",
    "2. 가상환경 활성화\n",
    "$ source venv/Scripts/activate\n",
    "\n",
    "3. Django 설치\n",
    "$ pip install Django\n",
    "\n",
    "4. 의존성 파일 생성(package 설치할 때마다 진행)\n",
    "$ pip freeze > requirements.txt\n"
   ]
  },
  {
   "cell_type": "markdown",
   "metadata": {},
   "source": []
  },
  {
   "cell_type": "markdown",
   "metadata": {},
   "source": []
  },
  {
   "cell_type": "code",
   "execution_count": null,
   "metadata": {},
   "outputs": [],
   "source": []
  }
 ],
 "metadata": {
  "kernelspec": {
   "display_name": "Python 3",
   "language": "python",
   "name": "python3"
  },
  "language_info": {
   "name": "python",
   "version": "3.11.4"
  },
  "orig_nbformat": 4
 },
 "nbformat": 4,
 "nbformat_minor": 2
}
