{
 "cells": [
  {
   "cell_type": "markdown",
   "metadata": {},
   "source": [
    "## 3. Model\n",
    "\n",
    "- Django model\n",
    "\n",
    "    - DB의 테이블을 *정의*하고 데이터를 **조작(생성,수정,삭제)**할 수 있는 기능들을 제공\n",
    "\n",
    "    - 테이블 구조를 *설계*하는 청사진(blueprint)   "
   ]
  },
  {
   "cell_type": "markdown",
   "metadata": {},
   "source": [
    "![이미지](../이미지/model.PNG)"
   ]
  },
  {
   "cell_type": "markdown",
   "metadata": {},
   "source": [
    "#### 1. model 클래스 작성\n",
    "\n",
    "- model 클래스 작성 : 데이터 타입을 하나 만든다.\n",
    "\n",
    "- class 옆에 (괄호)는 상속을 받는다는 의미\n",
    "\n",
    "![이미지](../이미지/modelclass1.PNG)\n",
    "\n",
    "[살펴보기]\n",
    "\n",
    "1. (models.Model)\n",
    "\n",
    "    - django.db.models 모듈의 Model이라는 부모 클래스를 **상속**받음 (Model == 테이블 설계도)\n",
    "\n",
    "    - Model은 model에 관련된 모든 코드가 이미 작성되어 있는 클래스 \n",
    "    \n",
    "        => 개발자는 **테이블 구조를 어떻게 설계할지에 대한 코드만 작성**해도됨 => (프레임워크 이점 : 편의성)\n",
    "\n",
    "2. title, content\n",
    "\n",
    "    - 클래스 변수명 : 테이블의 각 필드(열) 이름, cf) 행 == 레코드\n",
    "    \n",
    "    - id필드는 django에서 자동제공\n",
    "\n",
    "3. CharField, TextField\n",
    "\n",
    "    - model Field 클래스 : 테이블 필드의 \"데이터 타입\"\n",
    "\n",
    "4. max_length\n",
    "\n",
    "    - model field 클래스의 키워드 인자(필드 옵션)\n",
    "\n",
    "    - 테이블 필드의 \"제약조건\" 관련 설정\n",
    "    "
   ]
  },
  {
   "cell_type": "markdown",
   "metadata": {
    "vscode": {
     "languageId": "plaintext"
    }
   },
   "source": [
    "#### 2. Migrations\n",
    "\n",
    "- model 클래스의 **변경사항(필드 생성, 수정 삭제 등)**을 *DB에 최종 반영*하는 방법\n",
    "\n",
    "![이미지](../이미지/migration1.PNG)\n",
    "\n",
    "##### **migrations 핵심 명령어 2가지**\n",
    "\n",
    "![이미지](../이미지/migration2.PNG)\n",
    "\n",
    "[중요함!]\n",
    "\n",
    "    $ python manage.py makemigrations\n",
    "\n",
    "    $ python manage.py migrate "
   ]
  },
  {
   "cell_type": "markdown",
   "metadata": {},
   "source": [
    "#### 3. 추가 migrations\n",
    "\n",
    "- 이미 생성된 테이블에 필드를 추가해야 한다면?\n",
    "\n",
    "![이미지](../이미지/추가migrate.PNG)\n",
    "\n",
    "\n",
    "![이미지](../이미지/추가모델필드작성과정1.PNG)\n",
    "\n",
    "    1. 추가 모델 필드 작성\n",
    "\n",
    "    2. makemigrations 과정\n",
    "\n",
    "    3. 기존 필드가 있기에 빈 컬럼(열)을 추가할 수 없다.\n",
    "        - 추가하려면 \"1번 : 직접 기본 값 입력하기 \", \" 2번 : model class에 기본값 관련 설정하기\"\n",
    "    \n",
    "    4,5 . 2번째 migration 파일 생성 확인\n",
    "\n",
    "    6. migrate 진행\n",
    "\n",
    "    7. migrate 진행 후 테이블 필드 변화 확인\n",
    "\n",
    "\n",
    "![이미지](../이미지/추가migrate4.PNG)"
   ]
  },
  {
   "cell_type": "markdown",
   "metadata": {},
   "source": [
    "#### 4. model field\n",
    "\n",
    "- DB 테이블의 필드(열)을 정의하며, 해당 필드에 저장되는 데이터 타입과 제약조건을 정의\n",
    "\n",
    "1. CharField()\n",
    "\n",
    "- 길이의 제한이 있는 문자열을 넣을 때 사용\n",
    "- (필드의 최대길이를 결정하는 max_length는 필수 인자)\n",
    "\n",
    "2. TextField()\n",
    "\n",
    "- 글자의 수가 많을 때 사용\n",
    "\n",
    "3. DateTimeField()\n",
    "\n",
    "- 날짜와 시간을 넣을 때 사용\n",
    "\n",
    "    - dateTimeField 선택인자 :\n",
    "\n",
    "        - auto_now : **수정일** / 데이터가 **저장될 때마다** 자동으로 현재 날짜시간을 저장\n",
    "\n",
    "        - auto_now_add : **생성일** / 데이터가 **처음 생성될 때만** 자동으로 현재 날짜시간을 저장\n"
   ]
  },
  {
   "cell_type": "markdown",
   "metadata": {},
   "source": [
    "#### 5. Admin site\n",
    "\n",
    "- Django는 추가 설치 및 설정 없이 자동으로 관리자 인터페이스를 제공\n",
    "\n",
    "1. admin 계정 생성\n",
    "\n",
    "    $ python manage.py createsuperuser\n",
    "\n",
    "    - 이메일은 선택 사항\n",
    "\n",
    "2. DB에 생성된 admin 계정 확인\n",
    "\n",
    "![이미지](../이미지/admin확인.PNG)\n",
    "\n",
    "3. admin에 모델 클래스 등록\n",
    "\n",
    "![이미지](../이미지/모델클래스등록.PNG)\n",
    "\n",
    "- **admin-site에 등록한다! class Aritcle을**\n",
    "\n",
    "4. admin site 로그인 후 등록된 모델 클래스 확인\n",
    "\n",
    "![이미지](../이미지/등록된모델클래스.PNG)\n",
    "\n",
    "5. 데이터 생성, 수정, 삭제 테스트\n",
    "\n",
    "![이미지](../이미지/데이터%20생성,수정,삭제.PNG)\n",
    "\n",
    "6. 테이블 확인\n",
    "\n",
    "![이미지](../이미지/테이블%20확인.PNG)"
   ]
  },
  {
   "cell_type": "markdown",
   "metadata": {},
   "source": [
    "[참고]\n",
    "\n",
    "1. 데이터베이스 초기화\n",
    "\n",
    "- 잘못 만들었다고 생각하면 과감하게 지우자 !\n",
    "\n",
    "![이미지](../이미지/데이터베이스%20초기화.PNG)\n",
    "\n",
    "2. migrations 기타 명령어\n",
    "\n",
    "![이미지](../이미지/migration%20명령어.PNG)\n",
    "\n",
    "3. sql 언어 : sqlite, mysql, 등등\n",
    "\n",
    "4. CRUD : 소프트웨어가 가지는 기본적인 데이터 처리기능\n",
    "\n",
    "- create(저장), read(조회), update(갱신), delete(삭제)\n",
    "\n",
    "\n",
    "\n"
   ]
  }
 ],
 "metadata": {
  "language_info": {
   "name": "python"
  },
  "orig_nbformat": 4
 },
 "nbformat": 4,
 "nbformat_minor": 2
}
