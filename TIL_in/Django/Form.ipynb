{
 "cells": [
  {
   "cell_type": "markdown",
   "metadata": {},
   "source": [
    "## 6. Django Form\n",
    "\n",
    "- 직접 다 만들지 않고 django의 form을 활용해 비교적 손쉽게 만드는 방법"
   ]
  },
  {
   "cell_type": "markdown",
   "metadata": {},
   "source": [
    "#### 1. 개요\n",
    "\n",
    "- HTML 'form' : 지금까지 사용자로부터 데이터를 받기 위해 활용한 방법, 그러나 악의적인 사용자 때문에 유효한 데이터인지에 대한 **확인이 필요**함\n",
    "\n",
    "- 유효성 검사 구현\n",
    "\n",
    "    - 유효성 검사를 구현하기 위해서는 입력 값, 형식, 중복, 범위, 보안 등 많은 것들을 고려해야함\n",
    "\n",
    "    - 이런 과정과 기능을 직접 개발하는 것이 아닌 Django가 제공하는 **Form**을 사용!"
   ]
  },
  {
   "cell_type": "markdown",
   "metadata": {},
   "source": [
    "#### 2. Django Form\n",
    "\n",
    "- 유효성 검사를 단순화하고 자동화 할 수 있는 기능을 제공\n",
    "\n",
    "- articles app에 form.py 만들고 !\n",
    "\n",
    "![이미지](../이미지/form정의1.PNG)\n",
    "\n",
    "![이미지](../이미지/form로직1.PNG)\n",
    "\n",
    "![이미지](../이미지/form로직2.PNG)\n",
    "\n",
    "- django에서 제공하는 form을 사용해서, form을 표현할 수도 있음"
   ]
  },
  {
   "cell_type": "markdown",
   "metadata": {},
   "source": [
    "#### 3. Widgets\n",
    "\n",
    "- HTML 'input' element의 표현을 담당\n",
    "\n",
    "![이미지](../이미지/wiget.PNG)\n",
    "\n",
    "- widget을 응용하여 form을 customizing 할 수 있음\n",
    "\n",
    "![이미지](../이미지/widget응용.PNG)\n",
    "\n"
   ]
  },
  {
   "cell_type": "markdown",
   "metadata": {},
   "source": [
    "#### 4. Django ModelForm\n",
    "\n",
    "1. Form\n",
    "    - 사용자 입력 데이터를 **DB에 저장하지 않을 때**\n",
    "    - ex. 로그인\n",
    "\n",
    "2. ModelForm\n",
    "    - 사용자 입력 데이터를 **DB에 저장해야 할 때**\n",
    "    - ex. 게시글, 회원가입\n",
    "\n",
    "    - Model과 연결된 Form을 자동으로 생성해주는 기능을 제공(Form + Model)\n",
    "    - Model의 데이터 구조를 그대로 form에 사용하고자 할 때 !(중복 코드 X)\n",
    "\n",
    "3. ModelForm 로직\n",
    "\n",
    "![이미지](../이미지/modelform1.PNG)\n",
    "\n",
    "- fields = '__all__' : 모두 포함 \n",
    "\n",
    "![이미지](../이미지/modelform2.PNG)\n",
    "- exclude : ~ 는 제외"
   ]
  },
  {
   "cell_type": "markdown",
   "metadata": {},
   "source": [
    "#### 4-1. ModelForm Create 로직\n",
    "\n",
    "![이미지](../이미지/modelform_create1.PNG)\n",
    "\n",
    "\n",
    "- ModelForm을 받고\n",
    "\n",
    "- 유효성 검사\n",
    "\n",
    "    - form이 유효하면\n",
    "        \n",
    "        - 저장하고, detail로 보낸다\n",
    "    \n",
    "    - form이 유효하지 않으면\n",
    "\n",
    "        context로 new.html로 보낸다.\n",
    "\n",
    "![이미지](../이미지/modelform_create2.PNG)"
   ]
  },
  {
   "cell_type": "markdown",
   "metadata": {},
   "source": [
    "#### 4-2. ModelForm edit 로직\n",
    "\n",
    "![이미지](../이미지/edit%20로직.PNG)\n",
    "\n",
    "#### 4-3. ModelForm update 로직\n",
    "\n",
    "![이미지](../이미지/update로직1.PNG)\n",
    "\n",
    "#### save()메서드\n",
    "\n",
    "![이미지](../이미지/save()메서드%20생성,수정%20구분.PNG)\n"
   ]
  },
  {
   "cell_type": "markdown",
   "metadata": {},
   "source": [
    "#### 5. Handling HTTP requests\n",
    "\n",
    "1. new + create 결합 => 최종형태\n",
    "\n",
    "    - 공통점 : 목적 : 데이터(게시글) 생성 구현\n",
    "\n",
    "    - 차이점 : new는 GET메서드(조회) 요청만을, create는 POST메서드(변경) 요청만을 처리\n",
    "\n",
    "    ![이미지](../이미지/new_create%20결합1.PNG)\n",
    "\n",
    "    ![이미지](../이미지/new_create%20결합2.PNG)\n",
    "\n",
    "    - 메서드가 POST면 (create 함수 구조로 객체 생성 및 저장 로직 처리)\n",
    "        - POST형태로 받고\n",
    "        - 받은 데이터가 유효하다면\n",
    "            - 저장하고 redirect\n",
    "    \n",
    "    - 메서드가 POST가 아니면\n",
    "        - 단순히 인스턴스 생성\n",
    "\n",
    "    \n",
    "    - is_valid를 통과하지 못한 form이거나\n",
    "\n",
    "    - else문을 통한 form 인스턴스는\n",
    "\n",
    "    - context에 담겨 new.html을 create.html로 변경 후 요청 \n",
    "    \n",
    "    - new + create 병합 후 기존 new 관련 코드 수정\n",
    "\n",
    "    ![이미지](../이미지/new수정1.PNG)\n",
    "    ![이미지](../이미지/new수정2.PNG)\n",
    "    ![이미지](../이미지/new수정3.PNG)\n",
    "\n",
    "\n",
    "\n",
    "2. edit + update 결합 => 최종형태\n",
    "    \n",
    "    ![이미지](../이미지/edit_update%20결합.PNG)\n",
    "    ![이미지](../이미지/edit_update%20결합1.PNG)\n",
    "    ![이미지](../이미지/edit_update%20결합2.PNG)\n",
    "\n",
    "\n",
    "\n",
    "\n",
    "\n",
    "\n",
    "\n",
    "\n",
    "\n"
   ]
  },
  {
   "cell_type": "code",
   "execution_count": null,
   "metadata": {},
   "outputs": [],
   "source": [
    "# ModelForm Create 로직\n",
    "# articles/views.py\n",
    "\n",
    "def create(request):\n",
    "    # 요청의 메서드가 POST라면 (create)\n",
    "    if request.method == 'POST':\n",
    "        form = ArticleForm(request.POST)\n",
    "        # 유효성 검사 진행\n",
    "        # 유효성 검사가 통과된 경우\n",
    "        if form.is_valid():\n",
    "            article = form.save()\n",
    "            return redirect('articles:detail', article.pk)\n",
    "    # 요청의 메서드가 POST가 아니라면 (new)\n",
    "    else:\n",
    "        form = ArticleForm()\n",
    "    context = {\n",
    "        'form': form,\n",
    "    }\n",
    "    return render(request, 'articles/create.html', context)\n",
    "\n"
   ]
  },
  {
   "cell_type": "code",
   "execution_count": null,
   "metadata": {},
   "outputs": [],
   "source": []
  },
  {
   "cell_type": "markdown",
   "metadata": {},
   "source": [
    "Meta : 어떤 데이터(정보)에 대한 데이터(정보)"
   ]
  },
  {
   "cell_type": "code",
   "execution_count": null,
   "metadata": {},
   "outputs": [],
   "source": []
  },
  {
   "cell_type": "markdown",
   "metadata": {},
   "source": [
    "\n",
    "\n",
    "![이미지](../이미지/view과정1.PNG)\n",
    "\n",
    "- 위의 과정을 이해하고 최종형태를 구현해야함.\n",
    "\n",
    "- 단순히 최종형태(합치기)를 외우기만하면 언젠가는 막히는 부분이 생기고 터짐\n",
    "\n",
    "- if/else 짤 때 : else 부분부터 짜는 사람이 과정을 잘 이해하고 있는 사람임(왜냐면, edit 부분 먼저 짜기 때문!)\n",
    "\n",
    "\n",
    "![이미지](../이미지/view과정2.PNG)"
   ]
  }
 ],
 "metadata": {
  "language_info": {
   "name": "python"
  },
  "orig_nbformat": 4
 },
 "nbformat": 4,
 "nbformat_minor": 2
}
