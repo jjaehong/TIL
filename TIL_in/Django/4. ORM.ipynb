{
 "cells": [
  {
   "cell_type": "markdown",
   "metadata": {},
   "source": [
    "## 4. Django ORM"
   ]
  },
  {
   "cell_type": "markdown",
   "metadata": {},
   "source": [
    "#### 1. ORM\n",
    "\n",
    "- object-relational-mapping\n",
    "\n",
    "- 객체 지향 프로그래밍 언어를 사용하여 호환되지 않는 유형의 시스템 간에 데이터를 변환하는 기술 (번역기라고 생각)\n",
    "\n",
    "![이미지](../이미지/orm역할.PNG)"
   ]
  },
  {
   "cell_type": "markdown",
   "metadata": {},
   "source": [
    "#### 2. QuerySet API(번역기라 생각)\n",
    "\n",
    "- ORM에서 데이터를 검색, 필터링, 정렬 및 그룹화(CRUD) 하는데 사용하는 도구\n",
    "\n",
    "    -> API를 사용하여 SQL이 아닌 **Python 코드로 데이터를 처리**\n",
    "\n",
    "![이미지](../이미지/queryset_api1.PNG)\n",
    "\n",
    "\n",
    "![이미지](../이미지/queryset_api.PNG)\n"
   ]
  },
  {
   "cell_type": "markdown",
   "metadata": {},
   "source": [
    "\n",
    "![이미지](../이미지/query.PNG)\n",
    "##### Query를 보낸다 : 명령을 보낸다.\n",
    "\n",
    "![이미지](../이미지/query_set.PNG)\n",
    "\n",
    "- 데이터베이스가 *단일한* 객체를 반환 : Model(class)의 인스턴스로 반환\n",
    "\n",
    "- 데이터베이스로부터 전달받은 데이터 *모음(복수)* : Queryset 반환\n",
    "\n",
    "##### 궁극적 목적 :\n",
    "##### Python의 **모델 클래스**와 **인스턴스**를 활용해 DB에 데이터를 **저장,조회,수정,삭제(CRUD)**하는 것 !"
   ]
  },
  {
   "cell_type": "markdown",
   "metadata": {},
   "source": [
    "#### 3. QuerySet API 실습 - create / read / update / delete\n",
    "\n",
    "1. 사전준비\n",
    "\n",
    "![이미지](../이미지/querysetapi사전준비1.PNG)\n",
    "\n",
    "2. Django shell 실행\n",
    "    \n",
    "    : $ python manage.py shell_plus\n",
    "\n",
    "3. 데이터 객체 생성 (3가지 방법)\n",
    "\n",
    "    3-1. 인스턴스에 필드 하나씩 생성 (save를 해줘야 저장됨)\n",
    "    \n",
    "    ![이미지](../이미지/데이터%20생성1.PNG)\n",
    "\n",
    "    ![이미지](../이미지/데이터%20생성2.PNG)\n",
    "\n",
    "    ![이미지](../이미지/데이터%20생성3.PNG)\n",
    "\n",
    "\n",
    "    **3-2. 인스턴스에 필드를 한번에 생성 (save를 해줘야 저장됨)**\n",
    "\n",
    "    ![이미지](../이미지/데이터생성2-1.PNG)\n",
    "\n",
    "\n",
    "    3-3. create 메서드 : 필드 한번에 생성 + 저장도 한번에 ! \n",
    "    \n",
    "    ![이미지](../이미지/데이터%20생성3-1.PNG)\n"
   ]
  },
  {
   "cell_type": "markdown",
   "metadata": {},
   "source": [
    "#### 1. 데이터 객체 생성 (Create 3가지 방법)\n",
    "\n",
    "1. 인스턴스에 필드 하나씩 생성 (save를 해줘야 저장됨)\n",
    "    \n",
    "![이미지](../이미지/데이터%20생성1.PNG)\n",
    "\n",
    "![이미지](../이미지/데이터%20생성2.PNG)\n",
    "\n",
    "![이미지](../이미지/데이터%20생성3.PNG)\n",
    "\n",
    "\n",
    "2. 인스턴스에 필드를 한번에 생성 (save를 해줘야 저장됨)\n",
    "\n",
    "![이미지](../이미지/데이터생성2-1.PNG)\n",
    "\n",
    "3. 쿼리셋 API 중 create 메서드 : 필드 한번에 생성 + 저장까지 한번에 ! \n",
    "    \n",
    "![이미지](../이미지/데이터%20생성3-1.PNG)"
   ]
  },
  {
   "cell_type": "markdown",
   "metadata": {},
   "source": [
    "#### 2. 데이터 조회(Read)\n",
    "\n",
    "1. all() : **전체** 데이터 조회\n",
    "\n",
    "![이미지](../이미지/all.PNG)\n",
    "\n",
    "2. get() : **단일** 데이터 조회\n",
    "\n",
    "![이미지](../이미지/get.PNG)\n",
    "\n",
    "- get() 메서드는 단일데이터 조회이기에, **보통 pk와 같이 고유성을 보장하는 조회일 때만 씀(primary key)**\n",
    "- 객체를 찾을 수 없을 때 : DoesNotExist 예외 발생\n",
    "- 둘 이상의 객체를 찾으면 : MultipleObjectsReturned 예외 발생\n",
    "\n",
    "3. filter() : **특정 조건** 데이터 조회\n",
    "\n",
    "![이미지](../이미지/filter.PNG)\n",
    "\n",
    "- filter() 메서드는 보통 쿼리셋과 함께 씀\n",
    "\n"
   ]
  },
  {
   "cell_type": "markdown",
   "metadata": {},
   "source": [
    "#### 3. 데이터 수정(update)\n",
    "\n",
    "- 수정하려면 데이터 조회를 먼저해야함(보통 get 조회)\n",
    "\n",
    "- **데이터 조회 -> 데이터 수정**\n",
    "\n",
    "![이미지](../이미지/update.PNG)\n"
   ]
  },
  {
   "cell_type": "markdown",
   "metadata": {},
   "source": [
    "#### 4. 삭제(delete)\n",
    "\n",
    "- 삭제하려면 데이터 조회를 먼저해야함(보통 get 조회)\n",
    "\n",
    "- 데이터 조회 -> 데이터 삭제\n",
    "\n",
    "![이미지](../이미지/delete.PNG)"
   ]
  },
  {
   "cell_type": "markdown",
   "metadata": {},
   "source": [
    "#### 5. 기타 메서드\n",
    "\n",
    "Filed lookups : __\n",
    "\n",
    "![이미지](../이미지/field.PNG)\n",
    "\n",
    "\n",
    "order_by('field') \n",
    "- 그 field를 기준으로 정렬(오름차순,내림차순)\n",
    "\n",
    "\n",
    "bulk_create()\n",
    "bulk_update()\n",
    "- 쿼리셋을 묶어서 한번에 뭐시기~\n",
    "\n",
    "\n",
    "contains()\n",
    "\n",
    "\n",
    "\n",
    "startswith = ''\n",
    "endswith = ''\n",
    "- 접두사, 접미사"
   ]
  },
  {
   "cell_type": "markdown",
   "metadata": {},
   "source": [
    "#### Django Queryset API : 공식문서에서 목차보면서 찾기"
   ]
  }
 ],
 "metadata": {
  "language_info": {
   "name": "python"
  },
  "orig_nbformat": 4
 },
 "nbformat": 4,
 "nbformat_minor": 2
}
