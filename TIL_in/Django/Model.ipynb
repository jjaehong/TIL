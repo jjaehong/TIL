{
 "cells": [
  {
   "cell_type": "markdown",
   "metadata": {},
   "source": [
    "## Model\n",
    "\n",
    "- Django model\n",
    "\n",
    "    - DB의 테이블을 정의하고 데이터를 조작할 수 있는 기능들을 제공\n",
    "\n",
    "    - 테이블 구조를 설계하는 청사진(blueprint)   "
   ]
  },
  {
   "cell_type": "markdown",
   "metadata": {},
   "source": [
    "![이미지](../이미지/model.PNG)"
   ]
  },
  {
   "cell_type": "markdown",
   "metadata": {},
   "source": [
    "#### model 클래스 작성\n",
    "\n",
    "![이미지](../이미지/modelclass1.PNG)\n",
    "\n",
    "[살펴보기]\n",
    "\n",
    "1. (models.Model)\n",
    "\n",
    "    - django.db.models 모듈의 Model이라는 부모 클래스를 상속받음\n",
    "    - Model은 model에 관련된 모든 코드가 이미 작성되어 있는 클래스 \n",
    "        => 개발자를 편리하게 해줌(프레임워크 이점)\n",
    "\n",
    "2. title, content\n",
    "\n",
    "    - 클래스 변수명 : 테이블의 각 필드(열) 이름\n",
    "\n",
    "3. CharField, TextField\n",
    "\n",
    "    - model Field 클래스 : 테이블 필드의 \"데이터 타입\""
   ]
  },
  {
   "cell_type": "code",
   "execution_count": null,
   "metadata": {
    "vscode": {
     "languageId": "plaintext"
    }
   },
   "outputs": [],
   "source": []
  },
  {
   "cell_type": "markdown",
   "metadata": {},
   "source": []
  },
  {
   "cell_type": "markdown",
   "metadata": {},
   "source": []
  },
  {
   "cell_type": "markdown",
   "metadata": {},
   "source": []
  },
  {
   "cell_type": "code",
   "execution_count": null,
   "metadata": {
    "vscode": {
     "languageId": "plaintext"
    }
   },
   "outputs": [],
   "source": []
  }
 ],
 "metadata": {
  "language_info": {
   "name": "python"
  },
  "orig_nbformat": 4
 },
 "nbformat": 4,
 "nbformat_minor": 2
}
