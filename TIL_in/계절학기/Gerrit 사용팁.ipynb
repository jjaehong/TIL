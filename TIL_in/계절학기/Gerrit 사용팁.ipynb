{
 "cells": [
  {
   "cell_type": "markdown",
   "metadata": {},
   "source": [
    "## :mario_star: Gerrit 사용팁  :mario_star: \n",
    "\n",
    "push 하는 과정에서 매번 HEAD:refs/for을 치기 귀찮으시다면 이렇게 사용해보세요 !\n",
    "1. Git 설정 파일 열기:\n",
    "   Git의 설정 파일인 .gitconfig를 열거나, git config --global --edit 명령어를 사용하여 전역 설정을 편집합니다.\n",
    "\n",
    "2. Alias 설정 추가:\n",
    "  설정 파일에 아래와 같은 alias 설정을 추가합니다. 이 설정은 pushgerrit라는 명령어 뒤에 붙는 인자를 HEAD:refs/for/ 뒤에 추가합니다.\n",
    "```\n",
    "[alias]\n",
    "    pushgerrit = \"!f() { git push origin HEAD:refs/for/$1; }; f\"\n",
    "```\n",
    "\n",
    "3. 사용 방법:\n",
    "  이제 git pushgerrit [브랜치 이름] 형태로 명령어를 사용할 수 있습니다.\n",
    "  예를 들어, master 브랜치로 push하고 싶다면, git pushgerrit master라고 입력하면 됩니다.\n",
    "\n",
    "이렇게 설정하면 HEAD:refs/for/ 뒤에 오는 브랜치 이름만 입력하여 push할 수 있어 편리합니다!  :yujin_mario: "
   ]
  }
 ],
 "metadata": {
  "language_info": {
   "name": "python"
  }
 },
 "nbformat": 4,
 "nbformat_minor": 2
}
