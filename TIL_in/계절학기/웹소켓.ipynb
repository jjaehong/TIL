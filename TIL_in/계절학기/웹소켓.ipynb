{
 "cells": [
  {
   "cell_type": "markdown",
   "metadata": {},
   "source": [
    "## WebSocket\n",
    "\n",
    "#### 싸피 명세서\n",
    "\n",
    "#### HTTP 구조\n",
    "\n",
    "- https://hahahoho5915.tistory.com/62\n",
    "\n",
    "#### 폴링, 롱폴링, HTTP 스트리밍, SSE\n",
    "\n",
    "- https://jaehyeon48.github.io/network/polling-and-sse/\n",
    "\n",
    "\n",
    "\n"
   ]
  },
  {
   "cell_type": "markdown",
   "metadata": {},
   "source": [
    "#### 롤 큐의 비밀\n",
    "\n",
    "- https://www.youtube.com/watch?v=jp5Fl3ZBKUM"
   ]
  }
 ],
 "metadata": {
  "language_info": {
   "name": "python"
  }
 },
 "nbformat": 4,
 "nbformat_minor": 2
}
