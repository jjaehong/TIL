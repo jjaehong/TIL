{
 "cells": [
  {
   "cell_type": "markdown",
   "metadata": {},
   "source": [
    "# 블록체인"
   ]
  },
  {
   "cell_type": "markdown",
   "metadata": {},
   "source": [
    "## 1. 블록체인 개요\n",
    "\n",
    "\n",
    "1. 블록체인의 등장 : 비트코인\n",
    "\n",
    "- 사이버펑크 운동 : 정부, 거대 기업으로부터 개인의 권리와 자산을 지키기 위한 운동\n",
    "\n",
    "- 비트코인의 탄생\n",
    "\n",
    "    - CyberPunk 운동의 결과물로 화폐 권력의 중앙화를 없애기 위해 사토시 나카모토가 개발\n",
    "\n",
    "    - 발행기관, 운영기관, 중개기관이 없이 인터넷 상에서 다수의 사람들에게 신뢰받는 세계 최초의 탈중앙형 화폐 탄생\n",
    "\n",
    "2. 블록체인 2.0 : 이더리움\n",
    "\n",
    "- 비탈릭 부테린은 비트코인을 확장하고자 제안하였으나, 당시 급진적인 제안으로 인해 새로운 블록체인, 이더리움(Ethereum)을 개발하게 됨.\n",
    "\n",
    "- 이더리움은 업계 최초 ICO를 통해 개발비 모금\n",
    "\n",
    "- 이더리움은 스마트 컨트랙트를 실행하는 탈중앙화된 컴퓨팅 인프라로 월드 컴퓨터라고도 불림\n",
    "\n",
    "- 블록체인에 스마트 컨트랙트 도입하여 DAO(Decentralized Autonomous Organization), 자기주권신원증명(DID), 탈중앙형 금융(Defi) 등의 가능성을 보여주고 Web3.0의 기틀을 마련했다는 평가를 받음.\n",
    "\n",
    "\n",
    "3. 블록체인의 정의\n",
    "\n",
    "- **P2P(peer to peer) 네트워크**를 통해 관리되는 분산 데이터베이스의 한 형태로,\n",
    "\n",
    "- 블록체인 노드(네트워크에 연결된 여러 컴퓨터)에 **디지털 서명된 거래 정보**를 보관하는 **분산 원장 기술(distributed ledger technology)**\n",
    "\n",
    "\n",
    "4. 블록체인의 동작 원리\n",
    "\n",
    "![이미지](../이미지/블록체인동작원리.PNG)\n",
    "\n",
    "\n",
    "- 트랜잭션\n",
    "    - 비트코인 : \"누가 누구에게 몇 bit를 보냈다\"라는 데이터 /\n",
    "    - 스마트 컨트랙트 : \"소스코드 혹은 소스코드를 실행하는 명령어\""
   ]
  },
  {
   "cell_type": "markdown",
   "metadata": {},
   "source": [
    "## 2. 블록체인의 암호학\n",
    "\n",
    "\n",
    "1. 공개키 암호화(Public Key Cryptography, PKC)\n",
    "\n",
    "![이미지](../이미지/공개키암호화.PNG)\n",
    "\n",
    "- 공개키 암호화 === 비대칭 암호화\n",
    "\n",
    "- 계산하기는 쉽지만 그 역을 계산하기 어려운 특수한 함수를 바탕으로 생성된 고유한 키를 사용하여 정보를 보호하는 방법\n",
    "\n",
    "- 비트코인 및 이더리움에서는 이산 로그 문제를 이용하는 타원곡선암호화를 활용\n",
    "\n",
    "2. 개인키와 공개키\n",
    "\n",
    "\n",
    "3. 해시 함수"
   ]
  },
  {
   "cell_type": "markdown",
   "metadata": {},
   "source": []
  },
  {
   "cell_type": "markdown",
   "metadata": {},
   "source": [
    "## 3. 트랜잭션"
   ]
  },
  {
   "cell_type": "markdown",
   "metadata": {},
   "source": []
  },
  {
   "cell_type": "markdown",
   "metadata": {},
   "source": [
    "## 4. 합의"
   ]
  },
  {
   "cell_type": "markdown",
   "metadata": {},
   "source": []
  },
  {
   "cell_type": "markdown",
   "metadata": {},
   "source": [
    "5. Day1과제"
   ]
  },
  {
   "cell_type": "markdown",
   "metadata": {},
   "source": []
  }
 ],
 "metadata": {
  "language_info": {
   "name": "python"
  }
 },
 "nbformat": 4,
 "nbformat_minor": 2
}
