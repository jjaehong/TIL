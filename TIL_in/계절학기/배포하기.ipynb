{
 "cells": [
  {
   "cell_type": "markdown",
   "metadata": {},
   "source": [
    "## 배포하기"
   ]
  },
  {
   "cell_type": "markdown",
   "metadata": {},
   "source": [
    "#### 1. NGNIX\n",
    "- High perfomance load balancer, web server, API gateway & reverse proxy\n",
    "- 비동기 방식이기 때문에 매우 높은 성능\n",
    "- 정적인 파일(주로 프론트엔드 파일)을 서비스할때 뛰어난 성능(vs 톰캣)\n",
    "- load balancer나 API gateway 용도로도 사용 가능\n",
    "- DOS 공격 방어도 가능하다\n",
    "- NGNIX 얼마나 많이 쓰나 ⇒ 502 Bad Gateway 화면\n",
    "\n",
    "\n",
    "#### 2. 배포 구조\n",
    "- 프론트엔드와 백엔드의 분기\n",
    "    - / 로 들어오는 요청을 프론트엔드의 라우터로\n",
    "    - /api 로 들어오는 요청은 백엔드로 보낸다\n",
    "    - webserver로서의 역할\n",
    "    - API gateway로서의 역할\n",
    "\n",
    "#### 3. Nginx validator\n",
    "- https://nginx.viraptor.info/\n",
    "- 어디가 잘못됐는지 알 수 있다.\n",
    "\n",
    "#### 4. CORS\n",
    "- Cross Origin Resource Sharing\n",
    "- 도메인, 포트, 프로토콜이 다를 때 발생한다\n",
    "- nginx의 설정을 기억해보자!\n",
    "- https://domain-a.com 의 프론트엔드 JavaScript 코드가 XMLHttpRequest를 사용하여 https://domain-b.com/data.json 을 요청하는 경우\n",
    "\n",
    "\n",
    "#### 5. 우리는 왜 도커를 쓰는가\n",
    "- 빠르게 필요한 서버를 증설할 수 있다.\n",
    "- 기존에는 VM을 증설하는 방식을 사용했음\n",
    "- VM이 부팅되는 1분이면 서비스 전체가 중지되기에 충분한 시간\n",
    "- 운영체제를 부팅해야 하는 기존의 방식보다 빠름\n",
    "- 이미지를 만들어두면 찍어내기만 하면 되는 배포의 편의성(w / k8s) (Java 버전을 잘못 깔았어요. node가 이 버전이 아닌데?)\n",
    "\n",
    "#### 6. 어디까지 도커화 해야할까?\n",
    "- 프론트엔드 / 백엔드는 필수적\n",
    "- 배포의 효율성 / 편의성 생각하기\n",
    "- DB/Jenkins/nginx는 선택적\n",
    "- DB를 이미지화해서 새로 배포할 일이 많이 있을까? 옮긴다면 데이터는?\n",
    "- 빌드 서버를 병렬적으로 추가 증설하는 경우는?\n",
    "\n",
    "#### 7. 보안 이슈\n",
    "- Docker container를 실행하게 되면 iptable에 포트를 여는 설정을 하고 실행하게 된다.\n",
    "- UFW에 안 열었는데요?\n",
    "    - UFW로 열지 않더라도 iptable에 열려 있다면 외부로 향하는 포트는 열려 있게 된다.\n",
    "- 3306같은 위험한 포트를 여는 것에 유의하기.\n",
    "\n",
    "#### 8. 임의의 포트를 쓰면 안 되는 이유?\n",
    "- ISP(skt, kt, lg u+)에 따라 닫혀 있는 포트가 존재\n",
    "- 어느 곳에서는 되고, 어느 곳에서는 안 되는 서비스라면?\n",
    "    - 고객은 포트가 막혔을 것이라는 생각을 하지 못하고 그냥 이탈한다.\n",
    "\n",
    "#### 9. Gitlab ⇒ Jenkins\n",
    "- 개발자가 gitlab의 특정 브랜치(develop or master)에 머지를 하면 이벤트가 트리거되어 jenkins에서 빌드를 시작한다.\n",
    "- 빌드가 완료되면 도커 이미지가 제작되어 배포된다.\n",
    "- 동일한 도커 이미지로 제작, 배포되기 때문에 동일성이 보장된다.\n",
    "\n",
    "\n",
    "#### 10. TLS\n",
    "- 회원가입 시에 비밀버호 등의 개인 정보가 전송되고, 수시로 유출되어서는 안되는 정보들이 오가기 때문에 암호화가 필요하다.\n",
    "- 매번 데이터를 암호화해서 전송하기 어렵기 때문에 TLS(Transport Layer Security)를 사용한다.\n",
    "- 이론적으로는 TLS를 활용한 통신은 안전하다고 볼 수 있다.\n",
    "- WebRTC를 위해서는 SSL 인증서 설치가 필요.\n",
    "\n",
    "#### 11. CertBot\n",
    "- https 확산을 위해서 시작된 비영리 푸로젝트\n",
    "- 상용 프로그램을 제작할 때는 보통 신뢰할 수 있는 ROOT 인증서 발급자로부터 SSL 인증서를 구매하여 사용한다.\n",
    "- SSAFY 프로젝트의 경우에는 Cert Bot를 이용해서 무료 인증서를 발급받아서 사용하면 좋다.\n",
    "- Cert Bot는 nginx에 자동으로 설정을 추가해 준다.\n",
    "\n",
    "#### 12. 사용자 계정 만들기\n",
    "- 각 프로그램들을 실행할 때는 프로그램에 맞는 권한을 가진 사용자계정을 만들어 실행한다.\n",
    "- ubuntu 계정이나 심지어 root 계정으로 실행하는 경우에는 해커의 공격 명령이 그 계정의 권한으로 실행되기 때문에 매우 위험하다.\n",
    "- 사용자 계정으로 실행하는 경우 해커의 공격을 받더라도 피해를 최소화할 수 있다."
   ]
  },
  {
   "cell_type": "markdown",
   "metadata": {},
   "source": []
  },
  {
   "cell_type": "markdown",
   "metadata": {},
   "source": []
  },
  {
   "cell_type": "markdown",
   "metadata": {},
   "source": []
  }
 ],
 "metadata": {
  "language_info": {
   "name": "python"
  }
 },
 "nbformat": 4,
 "nbformat_minor": 2
}
