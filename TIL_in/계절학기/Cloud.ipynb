{
 "cells": [
  {
   "cell_type": "markdown",
   "metadata": {},
   "source": [
    "## Cloud 모듈 특강\n"
   ]
  },
  {
   "cell_type": "markdown",
   "metadata": {},
   "source": [
    "#### 1. IT의 변천사\n",
    "\n",
    "1. IT\n",
    "\n",
    "- 정보, 데이터와 관련된 모든 과정에 사용되는 기술 수단을 총체적으로 표현하는 개념\n",
    "\n",
    "2. IT의 역할\n",
    "\n",
    "- IT는 조직이 기술을 활용하여 비즈니스 성과를 달성할 수 있도록 지원\n",
    "\n",
    "![이미지](../이미지/클라우드변천사.PNG)"
   ]
  },
  {
   "cell_type": "markdown",
   "metadata": {},
   "source": [
    "#### 2. 클라우드 소개\n",
    "\n",
    "![이미지](../이미지/클라우드온프레미스.PNG)\n",
    "\n",
    "![이미지](../이미지/클라우드%20서비스%20모델.PNG)\n",
    "\n",
    "- 클라우드는 실제 서비스가 필요한만큼 자원을 할당하는 것이 중요하다. 즉, 탄력적인 IT자원 활용이 중요하다. \n",
    "\n"
   ]
  },
  {
   "cell_type": "markdown",
   "metadata": {},
   "source": [
    "#### 3. 클라우드의 특징"
   ]
  },
  {
   "cell_type": "markdown",
   "metadata": {},
   "source": [
    "#### 4. 클라우드의 활용"
   ]
  },
  {
   "cell_type": "code",
   "execution_count": null,
   "metadata": {
    "vscode": {
     "languageId": "plaintext"
    }
   },
   "outputs": [],
   "source": []
  },
  {
   "cell_type": "code",
   "execution_count": null,
   "metadata": {
    "vscode": {
     "languageId": "plaintext"
    }
   },
   "outputs": [],
   "source": []
  }
 ],
 "metadata": {
  "language_info": {
   "name": "python"
  }
 },
 "nbformat": 4,
 "nbformat_minor": 2
}
