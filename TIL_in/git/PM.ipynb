{
 "cells": [
  {
   "cell_type": "markdown",
   "metadata": {},
   "source": [
    "## PM(Project Management)"
   ]
  },
  {
   "cell_type": "markdown",
   "metadata": {},
   "source": [
    "#### 1. PM Overview\n",
    "\n",
    "1. 프로젝트 정의\n",
    "\n",
    "- temporary duration : 시작일과 종료일이 명확한 수행기간(정해진 기간 내에, 납기 준수)\n",
    "\n",
    "- Unique deliverables : 독특한 산출물\n",
    "\n",
    "\n",
    "2. 프로젝트 관리 지식영역(PM Knowledge Areas)\n",
    "\n",
    "    1. 범위 관리(scope management)\n",
    "\n",
    "        - 일의 양 결정 => 역할 정의 => 일정 관리\n",
    "        \n",
    "        - 범위기술서(=요구사항 정의서, 역할,책임) => 작업분류체계(WBS, 일정관리, 계획 가능, 통제 가능)\n",
    "            - 통제 가능 : 계획 대비 실적 비교 가능, 명확한 시정조치 권고 가능\n",
    "\n",
    "            ![이미지](../이미지/wbs.PNG)\n",
    "\n",
    "            ![이미지](../이미지/wbs1.PNG)\n",
    "\n",
    "\n",
    "        - 모든 요구사항이 프로젝트 작업에 누락없이 포함되고, 해당 내용이 성공적으로 완료되도록 명확히 하는 것\n",
    "\n",
    "    **2. 일정 관리(time management)**\n",
    "\n",
    "        - 달력에 표시\n",
    "\n",
    "    3. 원가 관리(cost management)\n",
    "\n",
    "        - 수익 > 비용.. 예산안 >= 비용.. 프로젝트가 손익분기점을 넘어야..\n",
    "\n",
    "    4. 품질 관리(Quallity management)\n",
    "\n",
    "        - 고품질 유지\n",
    "\n",
    "    5. 자원 관리(resource management)\n",
    "\n",
    "    6. 의사소통 관리(communication management)\n",
    "\n",
    "    7. 리스크 관리(risk management)\n",
    "\n",
    "    8. 조달 관리(procurement management)\n",
    "\n",
    "    9. 통합 관리(integration management)\n",
    "\n",
    "        - 의사결정 \n",
    "\n",
    "    10. 이해관계자 관리(stakeholder management)\n",
    "\n",
    "        - 단일 부서가 해결하지 못함(융복합)"
   ]
  },
  {
   "cell_type": "markdown",
   "metadata": {},
   "source": [
    "3. 프로젝트 관리 활동 집합(process group)\n",
    "\n",
    "![이미지](../이미지/pm.PNG)\n",
    "\n",
    "4. 대충 일하게 될 때, 계획 수립 => 중간 중간 보고 & 발표\n",
    "\n",
    "![이미지](../이미지/마일스톤.PNG)\n",
    "\n",
    "5. 칸반 보드\n",
    "\n",
    "![이미지](../이미지/칸반보드1.PNG)\n"
   ]
  },
  {
   "cell_type": "markdown",
   "metadata": {},
   "source": []
  },
  {
   "cell_type": "markdown",
   "metadata": {},
   "source": []
  }
 ],
 "metadata": {
  "language_info": {
   "name": "python"
  }
 },
 "nbformat": 4,
 "nbformat_minor": 2
}
