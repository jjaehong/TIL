{
 "cells": [
  {
   "cell_type": "markdown",
   "metadata": {},
   "source": [
    "## 문자열(string)"
   ]
  },
  {
   "cell_type": "markdown",
   "metadata": {},
   "source": [
    "#### 컴퓨터에서의 문자 표현\n",
    "\n",
    "- 컴퓨터는 모든 것을 2진수로 인식하기 때문에\n",
    "- 문자를 미리 2진수의 6(64가지)비트에 저장해놓고 연결시켜 인식\n",
    "\n",
    "- 코드체계 영어 표준안 : **ASCII(아스키) 코드** / 확장 아스키\n",
    "- 코드체계 다국어 표준안 : **유니코드**\n",
    "\n",
    "\n",
    "- 유니코드 인코딩(UTF : unicode transformation format)\n",
    "\n",
    "\n",
    "\n",
    "\n",
    "\n",
    "\n"
   ]
  },
  {
   "cell_type": "markdown",
   "metadata": {},
   "source": [
    "![이미지](../이미지/유니코드%20인코딩.PNG)"
   ]
  },
  {
   "cell_type": "code",
   "execution_count": 17,
   "metadata": {},
   "outputs": [
    {
     "name": "stdout",
     "output_type": "stream",
     "text": [
      "sgnirts siht esreveR\n",
      "20\n",
      "['s', 'g', 'n', 'i', 'r', 't', 's', ' ', 's', 'h', 'i', 't', ' ', 'e', 's', 'r', 'e', 'v', 'e', 'R']\n"
     ]
    },
    {
     "data": {
      "text/plain": [
       "'sgnirts shit esreveR'"
      ]
     },
     "execution_count": 17,
     "metadata": {},
     "output_type": "execute_result"
    }
   ],
   "source": [
    "# 문자열 뒤집기\n",
    "# 문자열 길이 n\n",
    "\n",
    "text = \"Reverse this strings\"\n",
    "\n",
    "# 슬라이싱 이용\n",
    "text = text[::-1]\n",
    "print(text)\n",
    "\n",
    "text_lst = list(text)\n",
    "n = len(text_lst)\n",
    "print(n)\n",
    "\n",
    "# 내장함수 이용\n",
    "text_lst.reverse()\n",
    "\n",
    "# for문 이용\n",
    "for i in range(0, n//2 - 1): # 문자열 길이가 n일 때, n//2 -1 번만 바꿔줘도됨 # i를 인덱스로 활용\n",
    "    text_lst[i], text_lst[n-1-i] = text_lst[n-1-i], text_lst[i]\n",
    "print(text_lst)\n",
    "''.join(text_lst) # join은 문자열에서만 사용가능"
   ]
  },
  {
   "cell_type": "code",
   "execution_count": 20,
   "metadata": {},
   "outputs": [
    {
     "name": "stdout",
     "output_type": "stream",
     "text": [
      "s1==s5\n",
      "s1 is not s5\n"
     ]
    }
   ],
   "source": [
    "# == 와 is의 차이점\n",
    "\n",
    "# == : '값'이 완전히 같냐\n",
    "# is : 메모리가 '같은 주소'를 참조하냐\n",
    "\n",
    "s1 = 'abc'\n",
    "s2 = 'abc'\n",
    "s5 = s1[:2] + 'c'\n",
    "\n",
    "if s1== s5:\n",
    "    print('s1==s5')\n",
    "else:\n",
    "    print('s1!=s5')\n",
    "\n",
    "if s1 is s5:\n",
    "    print('s1 is s5')\n",
    "else:\n",
    "    print('s1 is not s5')"
   ]
  },
  {
   "cell_type": "code",
   "execution_count": 22,
   "metadata": {},
   "outputs": [
    {
     "ename": "TypeError",
     "evalue": "'<' not supported between instances of 'str' and 'int'",
     "output_type": "error",
     "traceback": [
      "\u001b[1;31m---------------------------------------------------------------------------\u001b[0m",
      "\u001b[1;31mTypeError\u001b[0m                                 Traceback (most recent call last)",
      "Cell \u001b[1;32mIn[22], line 10\u001b[0m\n\u001b[0;32m      7\u001b[0m         a\u001b[39m/\u001b[39m\u001b[39m/\u001b[39m\u001b[39m=\u001b[39m \u001b[39m10\u001b[39m\n\u001b[0;32m      8\u001b[0m     \u001b[39mreturn\u001b[39;00m s[::\u001b[39m-\u001b[39m\u001b[39m1\u001b[39m] \u001b[39m# 뒤집기\u001b[39;00m\n\u001b[1;32m---> 10\u001b[0m itoa(\u001b[39m\"\u001b[39;49m\u001b[39msfsdg\u001b[39;49m\u001b[39m\"\u001b[39;49m)\n",
      "Cell \u001b[1;32mIn[22], line 5\u001b[0m, in \u001b[0;36mitoa\u001b[1;34m(a)\u001b[0m\n\u001b[0;32m      3\u001b[0m \u001b[39mdef\u001b[39;00m \u001b[39mitoa\u001b[39m(a):\n\u001b[0;32m      4\u001b[0m     s \u001b[39m=\u001b[39m \u001b[39m'\u001b[39m\u001b[39m'\u001b[39m\n\u001b[1;32m----> 5\u001b[0m     \u001b[39mwhile\u001b[39;00m a \u001b[39m<\u001b[39;49m \u001b[39m0\u001b[39;49m:\n\u001b[0;32m      6\u001b[0m         s \u001b[39m+\u001b[39m\u001b[39m=\u001b[39m \u001b[39mchr\u001b[39m(\u001b[39mord\u001b[39m(\u001b[39m'\u001b[39m\u001b[39m0\u001b[39m\u001b[39m'\u001b[39m) \u001b[39m+\u001b[39m a \u001b[39m%\u001b[39m \u001b[39m10\u001b[39m) \u001b[39m# 1의자리 숫자의 아스키코드\u001b[39;00m\n\u001b[0;32m      7\u001b[0m         a\u001b[39m/\u001b[39m\u001b[39m/\u001b[39m\u001b[39m=\u001b[39m \u001b[39m10\u001b[39m\n",
      "\u001b[1;31mTypeError\u001b[0m: '<' not supported between instances of 'str' and 'int'"
     ]
    }
   ],
   "source": [
    "# int()와 같은 atoi() 함수 만들기\n",
    "\n",
    "def itoa(a):\n",
    "    s = ''\n",
    "    while a < 0:\n",
    "        s += chr(ord('0') + a % 10) # 1의자리 숫자의 아스키코드\n",
    "        a//= 10\n",
    "    return s[::-1] # 뒤집기\n",
    "\n",
    "itoa(\"sfsdg\")"
   ]
  }
 ],
 "metadata": {
  "kernelspec": {
   "display_name": "Python 3",
   "language": "python",
   "name": "python3"
  },
  "language_info": {
   "codemirror_mode": {
    "name": "ipython",
    "version": 3
   },
   "file_extension": ".py",
   "mimetype": "text/x-python",
   "name": "python",
   "nbconvert_exporter": "python",
   "pygments_lexer": "ipython3",
   "version": "3.9.13"
  },
  "orig_nbformat": 4
 },
 "nbformat": 4,
 "nbformat_minor": 2
}
