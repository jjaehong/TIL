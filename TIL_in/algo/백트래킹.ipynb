{
 "cells": [
  {
   "cell_type": "markdown",
   "metadata": {},
   "source": [
    "## <span style = 'color : red'>백트래킹(backtracking)</span>\n",
    "\n",
    "- 해를 찾는 도중에 **'막히면'**(즉, 해가 아니면) 되돌아가서 다시 해를 찾아가는 기법이다.\n",
    "\n",
    "- 백트래킹은 최적화 문제와 결정 문제를 해결할 수 있다.\n",
    "\n",
    "#### 백트래킹 기법\n",
    "- 어떤 노드의 **유망성을 점검**한 후에 유망(promising)하지 않다고 결정되면, 그 노드의 부모로 되돌아가(backtracking) 다음 자식 노드로 감.\n",
    "\n",
    "- 어떤 노드를 방문했을 때, 그 노드를 포함한 경로가 해답이 될 수 없으면 그 노드는 유망하지 않다고 하며, 반대로 해답의 가능성이 있으면 유망하다고 한다.\n",
    "\n",
    "- 가지치기(pruning): 유망하지 않는 노드가 포함되는 경로는 더 이상 고려하지 않는다.\n",
    "\n",
    "\n",
    "#### 백트래킹 알고리즘 절차\n",
    "1. 상태 공간 트리의 깊이우선검색(DFS) 실시\n",
    "\n",
    "2. 각 노드가 유망한지를 점검함 => 후보군\n",
    "\n",
    "3. 만일 그 노드가 유망하지 않으면, 그 노드의 부모 노드로 돌아가서 검색을 계속함. => 조기차단 가능\n",
    "\n",
    "\n",
    "\n",
    "![이미지](../이미지/백트래킹과dfs.PNG)\n",
    "\n",
    "- DFS : 모든 경우의 수 고려\n",
    "- 백트래킹 : "
   ]
  },
  {
   "cell_type": "markdown",
   "metadata": {},
   "source": [
    "#### 1. 결정문제\n",
    "- 문제의 조건을 만족하는 해가 존재하는지의 여부를 'yes' 또는 'no'가 답하는 문제\n",
    "\n",
    "- 미로 찾기\n",
    "\n",
    "- n-Queen 문제\n",
    "\n",
    "- Map coloring\n",
    "\n",
    "- 부분 집합의 합(subset sum) 문제 등"
   ]
  },
  {
   "cell_type": "code",
   "execution_count": null,
   "metadata": {},
   "outputs": [],
   "source": [
    "# 미로찾기\n",
    "\n",
    "# 입구와 출구가 주어진 미로에서 입구부터 출구까지의 경로를 찾는 문제\n",
    "# 이동방향은 4방향으로 제한"
   ]
  },
  {
   "cell_type": "code",
   "execution_count": null,
   "metadata": {},
   "outputs": [],
   "source": [
    "# n-Queen"
   ]
  },
  {
   "cell_type": "code",
   "execution_count": null,
   "metadata": {},
   "outputs": [],
   "source": []
  },
  {
   "cell_type": "markdown",
   "metadata": {},
   "source": [
    "## 분할 정복 알고리즘\n",
    "\n",
    "- 유래 : 나폴레옹이 연합군을 둘로 나누고 한 부분씩 격파\n",
    "\n",
    "#### 설계전략\n",
    "\n",
    "- 분할(divide) : 해결할 문제를 여러 개의 작은 부분으로 나눈다.\n",
    "\n",
    "- 정복(conquer) : 나눈 작은 문제를 각각 해결한다.  \n",
    "\n",
    "- 통합(combine) : (필요하다면)해결된 해답을 모은다.\n",
    "\n"
   ]
  },
  {
   "cell_type": "code",
   "execution_count": 5,
   "metadata": {},
   "outputs": [
    {
     "name": "stdout",
     "output_type": "stream",
     "text": [
      "1048576 20\n",
      "1048576 5\n"
     ]
    }
   ],
   "source": [
    "# 거듭제곱\n",
    "\n",
    "def f1(base,exponent):\n",
    "    global cnt1\n",
    "    if base == 0:\n",
    "        return 1\n",
    "    result = 1\n",
    "    for i in range(exponent):\n",
    "        result *= base\n",
    "        cnt1 += 1\n",
    "    return result\n",
    "\n",
    "def f2(base,exponent):\n",
    "    global cnt2\n",
    "    if base ==0 or exponent ==0:\n",
    "        return 1\n",
    "    \n",
    "    if exponent % 2:    # 홀수면\n",
    "        result = f2(base,(exponent-1)//2)\n",
    "        cnt2 += 1\n",
    "        return result * result * base\n",
    "    else:               # 짝수면\n",
    "        result = f2(base,exponent//2)\n",
    "        cnt2 += 1\n",
    "        return result * result\n",
    "\n",
    "# 함수 호출 횟수\n",
    "cnt1 = 0\n",
    "cnt2 = 0 \n",
    "print(f1(2,20), cnt1)\n",
    "print(f2(2,20), cnt2)"
   ]
  }
 ],
 "metadata": {
  "kernelspec": {
   "display_name": "Python 3",
   "language": "python",
   "name": "python3"
  },
  "language_info": {
   "codemirror_mode": {
    "name": "ipython",
    "version": 3
   },
   "file_extension": ".py",
   "mimetype": "text/x-python",
   "name": "python",
   "nbconvert_exporter": "python",
   "pygments_lexer": "ipython3",
   "version": "3.9.13"
  },
  "orig_nbformat": 4
 },
 "nbformat": 4,
 "nbformat_minor": 2
}
