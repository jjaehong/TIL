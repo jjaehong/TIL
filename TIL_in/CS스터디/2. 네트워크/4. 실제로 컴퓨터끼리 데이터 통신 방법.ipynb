{
 "cells": [
  {
   "cell_type": "markdown",
   "metadata": {},
   "source": [
    "## 4. 실제로 컴퓨터끼리는 IP주소를 사용해 데이터를 주고받는다"
   ]
  },
  {
   "cell_type": "markdown",
   "metadata": {},
   "source": [
    "#### 1. 3계층의 기능\n",
    "\n",
    "1. 3계층에서 하는 일\n",
    "\n",
    "    ![이미지](../../이미지/wan_lan.PNG)\n",
    "\n",
    "    - 3계층은 **다른 네트워크 대역**, 즉 멀리 떨어진 곳에 존재하는 네트워크까지 어떻게 데이터를 전달할지 제어하는 일을 담당\n",
    "    - 발신에서 착신까지의 패킷의 경로를 제어\n",
    "\n",
    "\n",
    "2. 3계층에서 쓰는 주소\n",
    "\n",
    "    ![이미지](../../이미지/3계층.png)\n",
    "\n",
    "    - IP 주소 : WAN에서 통신할 때 사용함.\n",
    "    - 3계층 통신할 때, IP 주소 뿐만 아니라 서브넷 마스크 + 기본 게이트웨이도 필요함\n",
    "\n",
    "3. 3계층 프로토콜\n",
    "\n",
    "    - ARP 프로토콜\n",
    "\n",
    "    - IPv4 프로토콜\n",
    "\n",
    "    - ICMP 프로토콜"
   ]
  },
  {
   "cell_type": "markdown",
   "metadata": {},
   "source": [
    "#### 2. 일반적인 IP 주소\n",
    "\n",
    "1. Classful\n",
    "\n",
    "\n",
    "2. Classless\n",
    "\n",
    "\n",
    "3. 사설 IP와 공인 IP\n",
    "\n"
   ]
  },
  {
   "cell_type": "markdown",
   "metadata": {},
   "source": [
    "#### 3. 특수한 IP 주소\n",
    "\n",
    "\n",
    "1. 0.0.0.0\n",
    "\n",
    "\n",
    "2. 127.X.X.X\n"
   ]
  },
  {
   "cell_type": "markdown",
   "metadata": {},
   "source": [
    "#### 4. 실습"
   ]
  }
 ],
 "metadata": {
  "language_info": {
   "name": "python"
  }
 },
 "nbformat": 4,
 "nbformat_minor": 2
}
