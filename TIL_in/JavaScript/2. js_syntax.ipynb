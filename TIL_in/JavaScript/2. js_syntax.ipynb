{
 "cells": [
  {
   "cell_type": "markdown",
   "metadata": {},
   "source": [
    "## Basic syntax of Javascript\n",
    "\n",
    "- ES6 이후 명제를 따라야함\n",
    "\n",
    "- 권장 스타일 가이드 : https://standardjs.com/rules-kokr.html"
   ]
  },
  {
   "cell_type": "markdown",
   "metadata": {},
   "source": [
    "#### 0. 자료형(Data Type)\n",
    "\n",
    "- 모든 변수들은 하나의 자료형을 갖게 되는데,\n",
    "\n",
    "- 일반적인 프로그래밍 언어에서는 변수를 선언하는 시점에 해당 변수의 자료형이 결정됨\n",
    "\n",
    "- 그런데 자바스크립트에서는 변수를 선언할 때가 아닌 변수에 값(데이터)이 대입되는 시점에 해당 변수의 자료형이 결정됨. 이처럼 동적으로 자료형이 결정되는 것을 동적타이핑(Dynamic Typing)이라고 부르며 자바스크립트는 동적타이핑을 사용함.\n",
    "\n",
    "- 즉, 선언만 하면 undefined : const legend\n",
    "\n",
    "- 선언하고 할당해야만 number type이 됨 : const legend = 1 \n"
   ]
  },
  {
   "cell_type": "markdown",
   "metadata": {},
   "source": [
    "#### 1. 변수\n",
    "\n",
    "1. 식별자(변수명) 작성 규칙(naming convention)\n",
    "\n",
    "    - 반드시 문자, 달러($) 또는 밑줄(_)로 시작\n",
    "\n",
    "    - 대소문자를 구분\n",
    "\n",
    "    - 예약어 사용 불가(for, if, function 등)\n",
    "\n",
    "    - **카멜 케이스(camelCase)** : 변수, 객체, 함수에 사용\n",
    "\n",
    "    - 파스칼 케이스(PascalCase) : 클래스, 생성자에 사용\n",
    "\n",
    "    - 대문자 스네이크 케이스(SNAKE_CASE) : 상수(constants)에 사용\n",
    "\n",
    "\n",
    "2. 변수 선언 키워드(let, const, var)\n",
    "\n",
    "    - **let**\n",
    "\n",
    "        - 블록 스코프(중괄호 내부)를 갖는 지역 변수를 선언\n",
    "\n",
    "        - **(변수에 값을) 재할당 가능** \n",
    "\n",
    "        - (변수) 재선언 불가능\n",
    "\n",
    "        ![이미지](../이미지/let.PNG)\n",
    "\n",
    "    - **const**\n",
    "\n",
    "        - 블록 스코프(파이썬에서 들여쓰기)를 갖는 지역 변수를 선언\n",
    "\n",
    "        - **재할당 불가능**\n",
    "\n",
    "        - 재선언 불가능\n",
    "\n",
    "        ![이미지](../이미지/const.PNG)\n",
    "        \n",
    "\n",
    "3. 변수 선언 키워드 정리\n",
    "\n",
    "    ![이미지](../이미지/블록스코프.PNG)\n",
    "\n",
    "    - **기본적으로 const 사용을 권장**\n",
    "\n",
    "    - 재할당이 필요한 변수는 let으로 변경해서 사용\n",
    "\n",
    "    - Q : 변수 할당은 하지 않고 선언만 하기 => const legend\n"
   ]
  },
  {
   "cell_type": "markdown",
   "metadata": {},
   "source": [
    "#### 3. 연산자\n",
    "\n",
    "1. 할당 연산자(=) & 단축 연산자(+=, -=, *=, %= 등)\n",
    "\n",
    "    ![이미지](../이미지/할당연산자.PNG)\n",
    "\n",
    "2. 증가(++) & 감소(--) 연산자 \n",
    "\n",
    "    1. 증가 연산자(++)\n",
    "\n",
    "        - 피연산자를 증가(1을 더함)시키고 연산자의 위치에 따라 증가하기 전이나 후의 값을 반환\n",
    "\n",
    "    2. 감소 연산자(--)\n",
    "\n",
    "        - 피연산자를 감소(1을 뺌)시키고 연산자의 위치에 따라 감소하기 전이나 후의 값을 반환\n",
    "\n",
    "        - += or -=와 같이 더 명시적인 표현으로 작성하는 것을 권장\n",
    "\n",
    "    3. postfix방식(a++) vs prefix방식(++a)\n",
    "\n",
    "        ![이미지](../이미지/증가연산자.PNG)\n",
    "\n",
    "        - postfix 방식이기에 먼저 y에 3이 대입되고, x가 1증가하여 4가됨\n",
    "\n",
    "        - prefix 방식이기에 먼저 b에는 a값을 1 증가시킨 4가 대입됨, a는 1 증가하여 4가됨 \n",
    "\n",
    "        - 변수 뒤에(post) 연산\n",
    "        - 변수 앞에(prefix) 연산\n",
    "\n",
    "3. **비교 연산자**\n",
    "\n",
    "    - 피연산자들(숫자,문자,Boolean 등)을 비교하고 결과 값을 boolean으로 반환하는 연산자\n",
    "\n",
    "    ![이미지](../이미지/비교연산자.PNG) \n",
    "    \n",
    "\n",
    "4. 동등 연산자(==)\n",
    "\n",
    "    - 두 피연산자가 같은 값으로 평가되는지 비교 후 boolean 값을 반환\n",
    "    \n",
    "    - **암묵적 타입 변환**을 통해 **타입을 일치시킨 후 같은 값인지 비교**\n",
    "    \n",
    "    - 두 피연산자가 모두 객체일 경우, 메모리의 같은 객체를 바라보는지 판별\n",
    "    \n",
    "    ![이미지](../이미지/동등연산자.PNG) \n",
    "\n",
    "\n",
    "5. 일치 연산자(===)\n",
    "\n",
    "    - 두 피연산자의 값과 타입이 모두 같은 경우 true를 반환(같은 객체냐, 같은 타입이냐, 같은 값이냐.)\n",
    "\n",
    "    - **엄격한 비교**가 이뤄지며 암묵적 타입 변환이 발생하지 않음\n",
    "\n",
    "    - 특수한 경우를 제외하고는 동등 연산자가 아닌 **일치 연산자 사용 권장**\n",
    "\n",
    "    ![이미지](../이미지/일치연산자.PNG) \n",
    "\n",
    "6. 논리 연산자\n",
    "\n",
    "    ![이미지](../이미지/논리연산자.PNG) \n",
    "\n",
    "    - and 연산 : &&\n",
    "\n",
    "    - or 연산 : ||\n",
    "\n",
    "    - not 연산 : !\n",
    "\n",
    "    - 단축 평가 지원\n",
    "\n",
    "7. 조건부 연산자(삼항 연산자)\n",
    "\n",
    "    - 조건식 **?** true일 경우 : false일 경우\n",
    "\n",
    "    - console.log( a ? 1 : 2 )"
   ]
  },
  {
   "cell_type": "markdown",
   "metadata": {},
   "source": [
    "#### 4. 조건문(if)\n",
    "\n",
    "- 조건 표현식의 결과값을 boolean 타입으로 변환 후 참/거짓을 판단\n",
    "\n",
    "- if 예시\n",
    "\n",
    "![이미지](../이미지/if예시.PNG)\n",
    "\n",
    "- 조건(삼항) 연산자\n",
    "\n",
    "![이미지](../이미지/조건연산자.PNG)"
   ]
  },
  {
   "cell_type": "markdown",
   "metadata": {},
   "source": [
    "#### 5. 반복문\n",
    "\n",
    "- 종류 : while, for, for ... in, for ... of\n",
    "\n",
    "1. while\n",
    "\n",
    "- 조건문이 참이면 문장을 계속해서 수행\n",
    "\n",
    "    ![이미지](../이미지/while0.PNG)\n",
    "\n",
    "\n",
    "2. for \n",
    "\n",
    "- 특정한 조건이 거짓으로 판별될 때까지 반복\n",
    "\n",
    "    ![이미지](../이미지/for.PNG)\n",
    "\n",
    "- for 동작 원리\n",
    "\n",
    "    ![이미지](../이미지/for0.PNG)\n",
    "\n",
    "\n",
    "3. for (variable **in** object)\n",
    "\n",
    "    ![이미지](../이미지/forin.PNG)\n",
    "\n",
    "    - 객체의 **열거 가능한 속성(property)**에 대해 반복\n",
    "\n",
    "    - (정수가 아닌) 이름과 속성을 포함하여 열거 가능한 모든 속성을 반환\n",
    "\n",
    "    - for...in 은 키(key)를 가져다줌(순서가 중요하지 않은 dict 등)\n",
    "\n",
    "\n",
    "4. for (variable **of** iterable)\n",
    "\n",
    "    ![이미지](../이미지/forof.PNG)\n",
    "\n",
    "    - **반복 가능한 객체(배열, 문자열 등)**에 대해 반복\n",
    "\n",
    "    - for...of 는 값(value)을 가져다줌(순서가 필요할 때 사용) \n",
    "\n",
    "![이미지](../이미지/forinof1.PNG)\n",
    "\n",
    "![이미지](../이미지/forinof.PNG)\n",
    "\n",
    "- for...in : 객체만 사용(배열을 순회할 때 사용 XXXX)\n",
    "\n",
    "- for...of : 객체를 제외한 나머지 사용 가능\n",
    "\n",
    "![이미지](../이미지/const사용여부.PNG)\n",
    "\n",
    "- 5. 반복문 정리\n",
    "\n",
    "![이미지](../이미지/반복문%20정리.PNG)"
   ]
  },
  {
   "cell_type": "code",
   "execution_count": 4,
   "metadata": {
    "vscode": {
     "languageId": "javascript"
    }
   },
   "outputs": [
    {
     "ename": "SyntaxError",
     "evalue": "invalid syntax (3326785031.py, line 3)",
     "output_type": "error",
     "traceback": [
      "\u001b[1;36m  Cell \u001b[1;32mIn[4], line 3\u001b[1;36m\u001b[0m\n\u001b[1;33m    const arr = []\u001b[0m\n\u001b[1;37m          ^\u001b[0m\n\u001b[1;31mSyntaxError\u001b[0m\u001b[1;31m:\u001b[0m invalid syntax\n"
     ]
    }
   ],
   "source": [
    "// for..in vs for..of\n",
    "\n",
    "const arr = []\n",
    "arr[4] = 4\n",
    "\n",
    "// 배열을 순회할때는 in 사용 xxxx\n",
    "for (const i in arr) {\n",
    "  console.log(i)\n",
    "}\n",
    "\n",
    "console.log(\"============\")\n",
    "\n",
    "for (const i of arr) {\n",
    "  console.log(i)\n",
    "}"
   ]
  },
  {
   "cell_type": "markdown",
   "metadata": {},
   "source": [
    "#### 6. 참고\n",
    "\n",
    "1. javascript는 세미콜론(;)을 선택적으로 사용 가능(자동 세미콜론 삽입 규칙)\n",
    "\n",
    "2. 변수 선언 키워드 - 'var' \n",
    "\n",
    "![이미지](../이미지/var.PNG)\n",
    "\n",
    "3. 함수 스코프(function scope)\n",
    "\n",
    "![이미지](../이미지/함수스코프.PNG)\n",
    "\n",
    "4. 호이스팅\n",
    "\n",
    "![이미지](../이미지/호이스팅.PNG)\n",
    "\n",
    "- JavaScript에서 변수들은 실제 실행시에 코드의 최상단으로 끌어 올려지게되며(hoisted) 이러한 이유 때문에 var로 선언된 변수는 선언 시에 undefined로 값이 초기화되는 과정이 동시에 발생\n",
    "\n",
    "5. NaN을 반환하는 경우 예시\n",
    "\n",
    "![이미지](../이미지/nan.PNG)"
   ]
  },
  {
   "cell_type": "markdown",
   "metadata": {},
   "source": [
    "#### js is weird"
   ]
  },
  {
   "cell_type": "code",
   "execution_count": null,
   "metadata": {
    "vscode": {
     "languageId": "javascript"
    }
   },
   "outputs": [],
   "source": []
  },
  {
   "cell_type": "code",
   "execution_count": null,
   "metadata": {
    "vscode": {
     "languageId": "javascript"
    }
   },
   "outputs": [],
   "source": []
  },
  {
   "cell_type": "code",
   "execution_count": null,
   "metadata": {
    "vscode": {
     "languageId": "javascript"
    }
   },
   "outputs": [],
   "source": []
  },
  {
   "cell_type": "code",
   "execution_count": null,
   "metadata": {
    "vscode": {
     "languageId": "javascript"
    }
   },
   "outputs": [],
   "source": []
  }
 ],
 "metadata": {
  "kernelspec": {
   "display_name": "Python 3",
   "language": "python",
   "name": "python3"
  },
  "language_info": {
   "codemirror_mode": {
    "name": "ipython",
    "version": 3
   },
   "file_extension": ".py",
   "mimetype": "text/x-python",
   "name": "python",
   "nbconvert_exporter": "python",
   "pygments_lexer": "ipython3",
   "version": "3.9.13"
  }
 },
 "nbformat": 4,
 "nbformat_minor": 2
}
