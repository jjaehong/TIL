{
 "cells": [
  {
   "cell_type": "markdown",
   "metadata": {},
   "source": [
    "## 7. Vue with DRF\n",
    "\n",
    "- 교재 참고"
   ]
  },
  {
   "cell_type": "markdown",
   "metadata": {},
   "source": [
    "#### 1.  프로젝트 개요\n",
    "\n",
    "- 08-01-vue-with-drf의 실습을 기준으로 살펴보기\n",
    "\n",
    "1. Django Rest Framework 프로젝트 안내\n",
    "\n",
    "    - 스켈레톤 프로젝트 **django-pjt** 제공\n",
    "    - 외부 패키지 및 라이브러리는 requirements.txt에 작성되어 있음\n",
    "    - DRF 프로젝트는 주석을 해제하며 진행\n",
    "\n",
    "\n",
    "2. Vue 프로젝트 안내\n",
    "\n",
    "    - 스켈레톤 프로젝트 **vue-pjt** 제공\n",
    "    - Vite를 사용해 Pinia 및 Vue Router가 추가 되어있음\n",
    "    - pinia-plugin-persistedstate가 설치 및 등록 되어있음\n",
    "    - Vue 프로젝트는 직접 코드를 작성하며 진행\n",
    "\n",
    "    ![이미지](../이미지/컴포넌트구조.PNG)\n",
    "\n",
    "    - bootstrap 및 bootstrap-icons 설치\n",
    "\n",
    "        1. bash\n",
    "            - npm install bootstrap\n",
    "            - npm i bootstrap-icons\n",
    "\n",
    "        2. main.js\n",
    "\n",
    "            - import 'bootstrap'\n",
    "            - import 'bootstrap/dist/css/bootstrap.min.css'\n",
    "\n",
    "            - import 'bootstrap-icons/font/bootstrap-icons.css'\n",
    "\n",
    "\n",
    "3. 최종 프로젝트 안내\n",
    "\n",
    "    ![이미지](../이미지/프론트백엔드.PNG)\n",
    "\n",
    "    - front-end 프레임워크(Vue)와 back-end 프레임워크(Django) 간의 요청과 응답\n",
    "\n",
    "    - 그 과정에서 등장하는 새로운 개념과 문제를 해결하면서 하나의 웹 애플리케이션 서비스를 구현하는 과정에 집중"
   ]
  },
  {
   "cell_type": "markdown",
   "metadata": {},
   "source": [
    "#### 2. 메인 페이지 구현\n",
    "\n",
    "\n",
    "1. state 참조 및 출력\n",
    "\n",
    "    - ArticleView 컴포넌트에 ArticleList 컴포넌트와 ArticleListItem 컴포넌트 등록 및 출력하기\n",
    "\n",
    "    - ArticleList와 ArticleListItem은 각각 게시글 출력을 담당\n",
    "\n",
    "2. state with DRF\n",
    "\n",
    "    - 이제는 임시 데이터가 아닌 DRF 서버에 직접 요청하여 데이터를 응답받아 store에 저장 후 출력하기\n",
    "\n",
    "    - 코드를 따라하다보면 애러 발생\n",
    "\n",
    "        - DRF 서버 측에서는 문제 없이 응답했음(200 OK)\n",
    "        \n",
    "        - 서버는 응답했으나 브라우저 측에서 거절한 것\n",
    "\n",
    "        - 브라우저가 거절한 이유\n",
    "\n",
    "            ![이미지](../이미지/브라우저거절이유.PNG)"
   ]
  },
  {
   "cell_type": "markdown",
   "metadata": {},
   "source": [
    "#### 3. CORS Policy\n",
    "\n",
    "1. SOP(same-origin policy) : 동일 출처 정책\n",
    "\n",
    "    - 어떤 출처(Origin)에서 불러온 문서나 스크립트가 다른 출처에서 가져온 리소스와 상호 작용하는 것을 **제한하는 보안 방식**\n",
    "\n",
    "        - 웹 애플리케이션의 도메인이 다른 도메인의 리소스에 접근하는 것을 제어하여 **사용자의 개인 정보와 데이터의 보안을 보호하고, 잠재적인 보안 위협을 방지**\n",
    "\n",
    "        - **잠재적으로 해로울 수 있는 문서를 분리**함으로써 공격받을 수 있는 경로를 줄임\n",
    "\n",
    "2. Origin\n",
    "\n",
    "    ![이미지](../이미지/origin.PNG)\n",
    "\n",
    "    - 세 영역이 일치하는 경우에 동일 출처라고 본다.\n",
    "\n",
    "    ![이미지](../이미지/origin1.PNG)\n",
    "\n",
    "\n",
    "3. CORS policy의 등장\n",
    "\n",
    "    - 기본적으로 **웹 브라우저는 같은 출처에서만 요청하는 것을 허용하며, 다른 출처로의 요청은 보안상의 이유로 차단됨**\n",
    "\n",
    "        - SOP에 의해 다른 출처의 리소스와 상호작용하는 것이 기본적으로 제한되기 때문\n",
    "\n",
    "    - 하지만 현대 웹 애플리케이션은 다양한 출처로부터 리소스를 요청하는 경우가 많기 때문에 CORS 정책이 필요하게 되었음\n",
    "\n",
    "    - **CORS는 웹 서버가 리소스에 대한 서로 다른 출처 간 접근을 허용하도록 선택할 수 있는 기능을 제공**\n",
    "\n",
    "4. CORS\n",
    "\n",
    "    - 교차 출처 리소스 공유(Cross-Origin Resource Sharing)\n",
    "\n",
    "    - 특정 출처(Origin)에서 실행 중인 웹 애플리케이션이 **다른 출처의 자원에 접근할 수 있는 권한을 부여**하도록 브라우저에 알려주는 체계\n",
    "\n",
    "        - 만약 다른 출처의 리소스를 가져오기 위해서는 이를 제공하는 서버가 브라우저에게 다른 출처지만 접근해도 된다는 사실을 알려야 함\n",
    "\n",
    "5. CORS policy(교차 출처 리소스 공유 정책)\n",
    "\n",
    "    - 다른 출처에서 온 리소스를 공유하는 것에 대한 정책\n",
    "\n",
    "    - **서버에서 설정**되며, 브라우저가 해당 정책을 확인하여 요청이 허용되는지 여부를 결정\n",
    "\n",
    "    - 다른 출처의 리소스를 불러오려면 그 출처에서 올바른 **CORS headers를 포함한 응답을 반환**해야함\n",
    "\n",
    "\n",
    "    - **서버측(DRF)에서 설정하는데 클라이언트의 정보가 들어가 있어야 한다.**\n",
    "\n",
    "    ![이미지](../이미지/cors1.PNG)\n",
    "\n",
    "6. CORS Headers 설정\n",
    "\n",
    "    - Django에서는 django-cors-headers 라이브러리를 활용\n",
    "    \n",
    "    - 손쉽게 응답 객체에 CORS header를 추가해주는 라이브러리\n",
    "\n",
    "    - CORS_ALLOWED_ORIGINS = [ ]\n",
    "\n",
    "        - 여기서 온 URL은 믿어도 된다.\n",
    "        - 나머지 URL은 신뢰하지 않아서 열어보지 않겠다."
   ]
  },
  {
   "cell_type": "markdown",
   "metadata": {},
   "source": [
    "#### 4. Article CR 구현\n",
    "\n",
    "\n",
    "1. 전체 게시글 조회(read)\n",
    "\n",
    "\n",
    "2. 단일 게시글 조회(read)\n",
    "\n",
    "\n",
    "3. 게시글 작성(create)"
   ]
  },
  {
   "cell_type": "markdown",
   "metadata": {},
   "source": []
  },
  {
   "cell_type": "markdown",
   "metadata": {},
   "source": []
  },
  {
   "cell_type": "markdown",
   "metadata": {},
   "source": []
  },
  {
   "cell_type": "markdown",
   "metadata": {},
   "source": []
  },
  {
   "cell_type": "markdown",
   "metadata": {},
   "source": []
  },
  {
   "cell_type": "markdown",
   "metadata": {},
   "source": []
  }
 ],
 "metadata": {
  "language_info": {
   "name": "python"
  }
 },
 "nbformat": 4,
 "nbformat_minor": 2
}
