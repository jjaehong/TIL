{
 "cells": [
  {
   "cell_type": "markdown",
   "metadata": {},
   "source": [
    "## 1. Introduction of Vue"
   ]
  },
  {
   "cell_type": "markdown",
   "metadata": {},
   "source": [
    "#### 1. Front-end Development\n",
    "\n",
    "- 웹 사이트와 웹 어플리케이션의 사용자 인터페이스(UI)와 사용자 경험(UX)을 만들고 디자인 하는 것\n",
    "\n",
    "- HTML, CSS, JavaScript 등을 활용하여 **사용자가 직접 상호작용하는 부분**을 개발\n",
    "\n",
    "\n",
    "1. Client-side frameworks\n",
    "\n",
    "    - 클라이언트 측에서 UI와 상호작용을 개발하기 위해 사용되는 **JavaScript 기반 프레임워크**\n",
    "\n",
    "    - Angular.JS(구글), Vue.JS, React.Js(페이스북)\n",
    "\n",
    "\n",
    "2. 웹 사이트의 발전으로 인한 client-side frameworks의 필요성\n",
    "\n",
    "    - (과거) 문서를 읽는 것 -> (현재) 음악 스트리밍, 영화, 채팅 등등 동적인 대화형 어플리케이션이 많아짐\n",
    "\n",
    "    - 웹에서 여러 가지 활동을 하며 다루는 데이터의 양이 많아졌다. => Vanilla_JS만으로는 데이터 조작 어려움\n",
    "\n",
    "\n",
    "3. SPA(single page application)\n",
    "\n",
    "    - **페이지 1개**로 구성된 웹 애플리케이션\n",
    "\n",
    "    - 웹 애플리케이션의 초기 로딩 후 새로운 페이지 요청 없이 동적으로 화면을 갱신하며 사용자와 상호작용하는 웹 애플리케이션(CSR 방식)\n",
    "\n",
    "    ![이미지](../이미지/spa.PNG)\n",
    "\n",
    "\n",
    "4. CSR(Client-side Rendering)\n",
    "\n",
    "    - 클라이언트에서 화면을 렌더링 하는 방식\n",
    "\n",
    "    ![이미지](../이미지/client-side%20rendering.PNG)\n",
    "\n",
    "    1. CSR 장점\n",
    "\n",
    "        - 빠른 속도 : 페이지의 일부를 다시 렌더링\n",
    "\n",
    "        - 사용자 경험 : **새로고침 X**\n",
    "\n",
    "        - Front-end와 Back-end의 명확한 분리\n",
    "            \n",
    "            - Front-end : UI 렌더링 및 사용자 상호 작용 처리를 담당\n",
    "\n",
    "            - Back-end : 데이터 및 API 제공을 담당\n",
    "            \n",
    "            - 대규모 애플리케이션을 더 쉽게 개발하고 유지 관리 가능\n",
    "\n",
    "\n",
    "    2. CSR 단점\n",
    "\n",
    "        - 초기 구동속도가 느림\n",
    "\n",
    "        - SEO(검색 엔진 최적화)문제\n"
   ]
  },
  {
   "cell_type": "markdown",
   "metadata": {},
   "source": [
    "#### 2. Vue\n",
    "\n",
    "- 사용자 인터페이스를 구축하기 위한 JS 프레임워크\n",
    "\n",
    "0. Vue 학습 이유\n",
    "\n",
    "    1. 쉬운 학습 곡선 및 간편한 문법\n",
    "    \n",
    "    2. 반응성 시스템 : 데이터 변경에 따라 자동으로 화면이 업데이트되는 기능을 제공\n",
    "\n",
    "    3. 모듈화 및 유연한 구조 : 애플리케이션을 컴포넌트 조각을 나눌 수 있음\n",
    "\n",
    "1. **Vue의 2가지 핵심 기능**\n",
    "\n",
    "    1. 선언적 렌더링 : **HTML을 확장하는 템플릿 구문( {{ }} )**을 사용하여 HTML이 JS데이터를 기반으로 어떻게 보이는지 설명할 수 있음\n",
    "\n",
    "    2. 반응형 : JS 상태 변경사항을 자동으로 추적하고 변경사항이 발생할 때 DOM을 효율적으로 업데이트\n",
    "\n",
    "    ![이미지](../이미지/vue.PNG)\n",
    "\n",
    "    - 왼쪽 코드\n",
    "\n",
    "        - {{ }} : 선언적 렌더링, setup()의 return에서 받아옴\n",
    "\n",
    "        - @click(=== v-on:click) : DOM 이벤트 수신 === addEventListner('click',)\n",
    "    \n",
    "    - 오른쪽 코드\n",
    "\n",
    "        - src : CDN 작성\n",
    "\n",
    "        - const { createApp, ref } = Vue : Application instance(구조 분해 할당 형식)\n",
    "\n",
    "        - createApp({ }) : 모든 Vue 애플리케이션은 createApp 함수로 새 Application instance를 생성하는 것으로 시작\n",
    "\n",
    "        - setup() : 단축 메서드\n",
    "\n",
    "        - ref() : 반응형을 가지는 참조 변수를 생성하는 함수(ref === reactive reference)\n",
    "    \n",
    "        ![이미지](../이미지/ref.PNG)\n",
    "    \n",
    "        ![이미지](../이미지/ref1.PNG)\n",
    "\n",
    "        ![이미지](../이미지/ref2.PNG)\n",
    "\n",
    "        ![이미지](../이미지/ref3.PNG)\n",
    "\n",
    "        - setup()의 return : 단축 속성\n",
    "\n",
    "        - app.mount('~') : app 인스턴스를 ~태그에 탑재한다.  "
   ]
  },
  {
   "cell_type": "markdown",
   "metadata": {},
   "source": [
    "#### 3. 참고"
   ]
  },
  {
   "cell_type": "markdown",
   "metadata": {},
   "source": []
  },
  {
   "cell_type": "markdown",
   "metadata": {},
   "source": []
  },
  {
   "cell_type": "markdown",
   "metadata": {},
   "source": []
  },
  {
   "cell_type": "markdown",
   "metadata": {},
   "source": []
  },
  {
   "cell_type": "markdown",
   "metadata": {},
   "source": []
  },
  {
   "cell_type": "markdown",
   "metadata": {},
   "source": []
  },
  {
   "cell_type": "markdown",
   "metadata": {},
   "source": []
  }
 ],
 "metadata": {
  "language_info": {
   "name": "python"
  }
 },
 "nbformat": 4,
 "nbformat_minor": 2
}
