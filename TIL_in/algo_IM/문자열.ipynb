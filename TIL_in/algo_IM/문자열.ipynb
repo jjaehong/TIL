{
 "cells": [
  {
   "cell_type": "markdown",
   "metadata": {},
   "source": [
    "## 문자열(string)"
   ]
  },
  {
   "cell_type": "markdown",
   "metadata": {},
   "source": [
    "#### 컴퓨터에서의 문자 표현\n",
    "\n",
    "- 컴퓨터는 모든 것을 2진수로 인식하기 때문에\n",
    "- 문자를 미리 2진수의 6(64가지)비트에 저장해놓고 연결시켜 인식\n",
    "\n",
    "- 코드체계 영어 표준안 : **ASCII(아스키) 코드** / 확장 아스키(도형,특수문자,특수기호)\n",
    "- 코드체계 다국어 표준안 : **유니코드**\n",
    "\n",
    "\n",
    "- 유니코드 인코딩(UTF : unicode transformation format)\n",
    "\n",
    "\n",
    "\n",
    "\n",
    "\n",
    "\n"
   ]
  },
  {
   "cell_type": "markdown",
   "metadata": {},
   "source": [
    "![이미지](../이미지/유니코드%20인코딩.PNG)"
   ]
  },
  {
   "cell_type": "code",
   "execution_count": 17,
   "metadata": {},
   "outputs": [
    {
     "name": "stdout",
     "output_type": "stream",
     "text": [
      "sgnirts siht esreveR\n",
      "20\n",
      "['s', 'g', 'n', 'i', 'r', 't', 's', ' ', 's', 'h', 'i', 't', ' ', 'e', 's', 'r', 'e', 'v', 'e', 'R']\n"
     ]
    },
    {
     "data": {
      "text/plain": [
       "'sgnirts shit esreveR'"
      ]
     },
     "execution_count": 17,
     "metadata": {},
     "output_type": "execute_result"
    }
   ],
   "source": [
    "# 문자열 뒤집기\n",
    "# 문자열 길이 n\n",
    "\n",
    "text = \"Reverse this strings\"\n",
    "\n",
    "# 슬라이싱 이용\n",
    "text = text[::-1]\n",
    "print(text)\n",
    "\n",
    "text_lst = list(text)\n",
    "n = len(text_lst)\n",
    "print(n)\n",
    "\n",
    "# 내장함수 이용\n",
    "text_lst.reverse()\n",
    "\n",
    "# for문 이용\n",
    "for i in range(0, n//2 - 1): # 문자열 길이가 n일 때, n//2 -1 번만 바꿔줘도됨 # i를 인덱스로 활용\n",
    "    text_lst[i], text_lst[n-1-i] = text_lst[n-1-i], text_lst[i]\n",
    "print(text_lst)\n",
    "''.join(text_lst) # join은 문자열에서만 사용가능"
   ]
  },
  {
   "cell_type": "code",
   "execution_count": 20,
   "metadata": {},
   "outputs": [
    {
     "name": "stdout",
     "output_type": "stream",
     "text": [
      "s1==s5\n",
      "s1 is not s5\n"
     ]
    }
   ],
   "source": [
    "# == 와 is의 차이점\n",
    "\n",
    "# == : '값'이 완전히 같냐\n",
    "# is : 메모리가 '같은 주소'를 참조하냐\n",
    "\n",
    "s1 = 'abc'\n",
    "s2 = 'abc'\n",
    "s5 = s1[:2] + 'c'\n",
    "\n",
    "if s1== s5:\n",
    "    print('s1==s5')\n",
    "else:\n",
    "    print('s1!=s5')\n",
    "\n",
    "if s1 is s5:\n",
    "    print('s1 is s5')\n",
    "else:\n",
    "    print('s1 is not s5')"
   ]
  },
  {
   "cell_type": "code",
   "execution_count": 22,
   "metadata": {},
   "outputs": [
    {
     "ename": "TypeError",
     "evalue": "'<' not supported between instances of 'str' and 'int'",
     "output_type": "error",
     "traceback": [
      "\u001b[1;31m---------------------------------------------------------------------------\u001b[0m",
      "\u001b[1;31mTypeError\u001b[0m                                 Traceback (most recent call last)",
      "Cell \u001b[1;32mIn[22], line 10\u001b[0m\n\u001b[0;32m      7\u001b[0m         a\u001b[39m/\u001b[39m\u001b[39m/\u001b[39m\u001b[39m=\u001b[39m \u001b[39m10\u001b[39m\n\u001b[0;32m      8\u001b[0m     \u001b[39mreturn\u001b[39;00m s[::\u001b[39m-\u001b[39m\u001b[39m1\u001b[39m] \u001b[39m# 뒤집기\u001b[39;00m\n\u001b[1;32m---> 10\u001b[0m itoa(\u001b[39m\"\u001b[39;49m\u001b[39msfsdg\u001b[39;49m\u001b[39m\"\u001b[39;49m)\n",
      "Cell \u001b[1;32mIn[22], line 5\u001b[0m, in \u001b[0;36mitoa\u001b[1;34m(a)\u001b[0m\n\u001b[0;32m      3\u001b[0m \u001b[39mdef\u001b[39;00m \u001b[39mitoa\u001b[39m(a):\n\u001b[0;32m      4\u001b[0m     s \u001b[39m=\u001b[39m \u001b[39m'\u001b[39m\u001b[39m'\u001b[39m\n\u001b[1;32m----> 5\u001b[0m     \u001b[39mwhile\u001b[39;00m a \u001b[39m<\u001b[39;49m \u001b[39m0\u001b[39;49m:\n\u001b[0;32m      6\u001b[0m         s \u001b[39m+\u001b[39m\u001b[39m=\u001b[39m \u001b[39mchr\u001b[39m(\u001b[39mord\u001b[39m(\u001b[39m'\u001b[39m\u001b[39m0\u001b[39m\u001b[39m'\u001b[39m) \u001b[39m+\u001b[39m a \u001b[39m%\u001b[39m \u001b[39m10\u001b[39m) \u001b[39m# 1의자리 숫자의 아스키코드\u001b[39;00m\n\u001b[0;32m      7\u001b[0m         a\u001b[39m/\u001b[39m\u001b[39m/\u001b[39m\u001b[39m=\u001b[39m \u001b[39m10\u001b[39m\n",
      "\u001b[1;31mTypeError\u001b[0m: '<' not supported between instances of 'str' and 'int'"
     ]
    }
   ],
   "source": [
    "# int()와 같은 atoi() 함수 만들기\n",
    "\n",
    "def itoa(a):\n",
    "    s = ''\n",
    "    while a < 0:\n",
    "        s += chr(ord('0') + a % 10) # 1의자리 숫자의 아스키코드\n",
    "        a//= 10\n",
    "    return s[::-1] # 뒤집기\n",
    "\n",
    "itoa(\"sfsdg\")"
   ]
  },
  {
   "cell_type": "markdown",
   "metadata": {},
   "source": [
    "## 패턴매칭"
   ]
  },
  {
   "cell_type": "markdown",
   "metadata": {},
   "source": [
    "#### 패턴 매칭에 사용되는 알고리즘들\n",
    "\n",
    "- **고지식한 패턴 검색 알고리즘**\n",
    "\n",
    "- 카프-라빈 알고리즘\n",
    "\n",
    "- KMP 알고리즘\n",
    "\n",
    "- 보이어-무어 알고리즘\n"
   ]
  },
  {
   "cell_type": "markdown",
   "metadata": {},
   "source": [
    "#### **고지식한 알고리즘(brute force)**\n",
    "\n",
    "- 본문 문자열을 처음부터 끝까지 차례대로 순회하면서 패턴 내의 문자들을 일일이 비교하는 방식으로 동작\n",
    "\n",
    "![이미지](../이미지/고지식한알고.PNG)\n",
    "\n",
    "```python\n",
    "for i : 0 -> n-m # 구간 시작\n",
    "    for j: -> m-1 # 구간 내부\n",
    "\n",
    "\n",
    "```\n",
    "\n",
    "과제 : while과 이중 for문으로 둘다 구현해보자"
   ]
  },
  {
   "cell_type": "code",
   "execution_count": 4,
   "metadata": {},
   "outputs": [
    {
     "name": "stdout",
     "output_type": "stream",
     "text": [
      "2\n"
     ]
    }
   ],
   "source": [
    "# 고지식한 패턴 검색 알고리즘\n",
    "# text에서의 문자 위치에 있는 문자와 pattern에서의 문자 위치에 있는 문자를\n",
    "# 계속 같은지 비교하면서 결국 text에 pattern이 존재하는지 검사 \n",
    "\n",
    "\n",
    "text = 'This is a book~!' # 전체 텍스트\n",
    "pattern = 'is' # 찾을 패턴\n",
    "\n",
    "\n",
    "ti = 0 # text의 idx\n",
    "pi = 0 # pattern의 idx\n",
    "answer = 0\n",
    "# 비교 시작\n",
    "while ti < len(text) and pi < len(pattern): # 인덱스들이 텍스트와 패턴에서 벗어나면 안되지!\n",
    "    \n",
    "    if text[ti] != pattern[pi]: # 텍스트와 패턴이 다르면 다시 되돌아가기\n",
    "        ti = ti - pi + 1 # 텍스트 검사 위치는\n",
    "        pi = 0\n",
    "    \n",
    "    else:   # 텍스트와 패턴 문자열이 같으면 위치 1씩 증가하며 계속 비교\n",
    "        ti += 1\n",
    "        pi += 1\n",
    "\n",
    "if pi == len(pattern): # 패턴 위치가 패턴 길이만큼 가면 # 검색 성공\n",
    "    answer = ti - len(pattern) # 결과 => 일치하는 패턴 위치\n",
    "\n",
    "else:   # 검색 실패\n",
    "    answer = -1\n",
    "\n",
    "print(answer)\n"
   ]
  },
  {
   "cell_type": "code",
   "execution_count": null,
   "metadata": {},
   "outputs": [],
   "source": [
    "# 문자열 비교\n",
    "\n",
    "# text안에 pattern이 있냐?\n",
    "# 있으면 1, 없으면 0 출력\n",
    "\n",
    "import sys\n",
    "sys.stdin = open('input.txt', 'r')\n",
    "\n",
    "T = int(input())\n",
    "for tc in range(1, T+1):\n",
    "    pattern = input() # 찾는 것\n",
    "    text = input() # 문자열\n",
    "\n",
    "    ti = pi = 0 # 패턴, text의 idx\n",
    "    answer = 0\n",
    "\n",
    "    # 비교 시작\n",
    "    while ti < len(text) and pi < len(pattern):\n",
    "        \n",
    "        # 현재 위치 pi에 있는 문자와 ti 에 있는 문자가 같으면\n",
    "        # pi 와 ti 1씩 증가해 가면서 계속 비교(끝 or 다른게 나올 때까지)\n",
    "        if text[ti] == pattern[pi]:\n",
    "            ti += 1\n",
    "            pi += 1\n",
    "        \n",
    "        # 다르면?? pi는 0으로 바꾸고 ti 는 pi만큼 다시 앞으로 갔다가\n",
    "        # 다음 위치에서 비교를 해야하니까 1 증가\n",
    "        else:\n",
    "            ti = ti - pi + 1\n",
    "            pi = 0\n",
    "\n",
    "    if pi == len(pattern): # 패턴 문자의 위치 pi가 패턴의 길이만큼 되버렸다면 패턴 발견!\n",
    "        answer = 1\n",
    "        break\n",
    "    else:\n",
    "        answer = 0\n",
    "    \n",
    "    print(f'#{tc} {answer}')"
   ]
  },
  {
   "cell_type": "code",
   "execution_count": null,
   "metadata": {},
   "outputs": [],
   "source": [
    "# 회문\n",
    "\n",
    "import sys\n",
    "sys.stdin = open('input.txt', 'r')\n",
    "\n",
    "T = int(input())\n",
    "for tc in range(1,T+1):\n",
    "    N,M  = map(int, input().split()) # matrix n*n / 패턴 길이가 m\n",
    "    matrix = [list(input()) for _ in range(N)]\n",
    "\n",
    "\n",
    "    answer = ''\n",
    "    \n",
    "    # 행 우선\n",
    "    for r in range(N):\n",
    "        for c in range(N-M+1):  # 회문 검사 자릿수 계산\n",
    "            word_row = ''\n",
    "            for k in range(M): # 회문 길이만큼 text입력\n",
    "                word_row += matrix[r][c+k]\n",
    "            \n",
    "            rotate = 1\n",
    "            for v in range(M//2):\n",
    "                if word_row[v] != word_row[M-1-v]:  # 다르면 회문 아님!\n",
    "                    rotate = 0\n",
    "                    break\n",
    "            else:   # break 작동 안된 것들은 회문임!\n",
    "                rotate = 1\n",
    "                answer = word_row\n",
    "                \n",
    "    # 열 우선\n",
    "    for c in range(N):\n",
    "        for r in range(N-M+1):\n",
    "            word_col = ''\n",
    "            for k in range(M):\n",
    "                word_col += matrix[r+k][c]\n",
    "            \n",
    "            rotate = 1\n",
    "            for v in range(M//2):\n",
    "                if word_col[v] != word_col[M-1-v]:\n",
    "                    rotate = 0\n",
    "                    break\n",
    "            else:\n",
    "                rotate = 1\n",
    "                answer = word_col\n",
    "    \n",
    "    print(f'#{tc} {answer}')"
   ]
  }
 ],
 "metadata": {
  "kernelspec": {
   "display_name": "Python 3",
   "language": "python",
   "name": "python3"
  },
  "language_info": {
   "codemirror_mode": {
    "name": "ipython",
    "version": 3
   },
   "file_extension": ".py",
   "mimetype": "text/x-python",
   "name": "python",
   "nbconvert_exporter": "python",
   "pygments_lexer": "ipython3",
   "version": "3.11.4"
  },
  "orig_nbformat": 4
 },
 "nbformat": 4,
 "nbformat_minor": 2
}
