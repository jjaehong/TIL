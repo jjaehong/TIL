{
 "cells": [
  {
   "cell_type": "markdown",
   "metadata": {},
   "source": [
    "## 트리\n",
    "\n",
    "- **비선형** 구조\n",
    "- 원소들 간에 1:n 관계를 가지는 구조\n",
    "- 원소들 간에 계층관계를 가지는 계층형 구조\n",
    "- 상위 원소 -> 하위 원소 : 점차 확장되는 트리(나무)모양의 구조\n",
    "\n",
    "![이미지](../이미지/트리1.PNG)\n",
    "![이미지](../이미지/트리2.PNG)"
   ]
  },
  {
   "cell_type": "markdown",
   "metadata": {},
   "source": [
    "#### 1. 트리 - 정의\n",
    "\n",
    "- 한 개 이상의 노드로 이루어진 유한 집합\n",
    "\n",
    "\n",
    "#### 트리 용어정리\n",
    "- 노드(node,정점) : 트리의 원소\n",
    "    - 루트(root) 노드 : 최상위 노드, 트리의 시작 노드\n",
    "    \n",
    "    - 부 트리(subtree) :\n",
    "    \n",
    "    - 잎(leaf) 노드 : 단말노드, 마지막 노드\n",
    "\n",
    "- 간선 : 노드를 연결하는 선\n",
    "\n",
    "\n",
    "\n",
    "![이미지](../이미지/노드.PNG)\n",
    "![이미지](../이미지/차수.PNG)\n",
    "![이미지](../이미지/높이.PNG)\n",
    "\n",
    "\n",
    "\n",
    "\n"
   ]
  },
  {
   "cell_type": "markdown",
   "metadata": {},
   "source": [
    "#### 2. 이진트리\n",
    "\n",
    "![이미지](../이미지/이진트리.PNG)\n",
    "\n",
    "- 모든 노드들이 **2개의 서브트리**를 갖는 특별한 형태의 트리 (left_child / right_child)\n",
    "\n",
    "- 레벨 i에서의 노드의 최대 개수는 2**i개\n",
    "\n",
    "- 높이가 h인 이진 트리가 가질 수 있는 노드의 최소 개수는 (h+1)개가 되며, 최대 개수는 (2**(h+1) - 1)개가 된다."
   ]
  },
  {
   "cell_type": "markdown",
   "metadata": {},
   "source": [
    "#### 이진트리 - 종류\n",
    "\n",
    "1. 포화 이진 트리\n",
    "\n",
    "![이미지](../이미지/포화이진트리.PNG)\n",
    "\n",
    "2. 완전 이진 트리\n",
    "\n",
    "![이미지](../이미지/완전이진트리.PNG)\n",
    "\n",
    "3. 편향 이진 트리\n",
    "\n",
    "![이미지](../이미지/편향%20이진%20트리.PNG)"
   ]
  },
  {
   "cell_type": "markdown",
   "metadata": {},
   "source": [
    "#### 3. 이진트리 - 순회(탐색)\n",
    "\n",
    "- 순회 : 트리의 노드들을 체계적으로 방문하는 것(**자식들은 무조건 왼쪽부터!**)\n",
    "\n",
    "- 3가지 순회방법\n",
    "\n",
    "    - 전위순회(VLR) : 부모 노드 -> 자식 노드(좌,우)\n",
    "\n",
    "    - 중위순회(LVR) : 왼쪽 자식 노드 -> 부모 노드 -> 오른쪽 자식 노드 \n",
    "\n",
    "    - 후위순회(LRV) : 자식 노드(좌,우) -> 부모 노드\n",
    "\n",
    "#### 교재에 각 순회마다 재귀호출 왜 그렇게 되는지 그려보면서 이해해봐! "
   ]
  },
  {
   "cell_type": "code",
   "execution_count": 1,
   "metadata": {},
   "outputs": [
    {
     "name": "stdout",
     "output_type": "stream",
     "text": [
      "3\n",
      "5\n",
      "[0, 2, 0, 4, 0, 0]\n",
      "[0, 3, 0, 5, 0, 0]\n"
     ]
    }
   ],
   "source": [
    "# 1. 이진트리의 저장\n",
    "# **부모 번호를 인덱스**로 자식 번호를 저장\n",
    "\n",
    "'''\n",
    "4\n",
    "1 2 1 3 3 4 3 5\n",
    "'''\n",
    "\n",
    "# 정점 5개, 간선 input()\n",
    "N = 5\n",
    "E = int(input())\n",
    "tree = list(map(int, input().split()))\n",
    "\n",
    "# 1. 인덱스 번호 => 부모 노드의 번호\n",
    "child_left = [0] * (N+1) # child_left[i] i의 왼쪽 자식 노드 번호\n",
    "child_right = [0] * (N+1) # child_right[i] i의 오른쪽 자식 노드 번호\n",
    "\n",
    "for i in range(E):\n",
    "    parent = tree[i*2] # tree의 2의 배수가 부모 번호 : 0,2,4 ...\n",
    "    child = tree[i*2 + 1]\n",
    "    \n",
    "    # 왼쪽 자식이 비어있으면 왼쪽부터 추가\n",
    "    if child_left[parent] == 0:\n",
    "        child_left[parent] = child\n",
    "    else:\n",
    "        # 왼쪽 자식이 이미 있으면 오른쪽 자식으로 추가\n",
    "        child_right[parent] = child\n",
    "print(parent)\n",
    "print(child)\n",
    "print(child_left) # 리스트 인덱스 = 부모 노드 / 리스트 값 = 왼쪽 자식\n",
    "print(child_right) # 리스트 인덱스 = 부모 노드 / 리스트 값 = 오른쪽 자식\n",
    "# 따라서 부모의 왼쪽 자식은 2, 오른쪽 자식은 3"
   ]
  },
  {
   "cell_type": "code",
   "execution_count": 2,
   "metadata": {},
   "outputs": [
    {
     "name": "stdout",
     "output_type": "stream",
     "text": [
      "[0, 0, 1, 1, 3, 3]\n"
     ]
    }
   ],
   "source": [
    "# 2. 이진트리의 저장\n",
    "# **자식 번호를 인덱스**로 부모 번호를 저장\n",
    "\n",
    "'''\n",
    "4\n",
    "1 2 1 3 3 4 3 5\n",
    "'''\n",
    "\n",
    "N = 5\n",
    "E = int(input())\n",
    "tree = list(map(int, input().split()))\n",
    "\n",
    "parent = [0] * (N+1)    # parent[i] ==> i번째 노드의 부모 노드 번호\n",
    "\n",
    "for i in range(E):\n",
    "    p = tree[i*2]\n",
    "    c = tree[i*2+1]\n",
    "    parent[c] = p\n",
    "\n",
    "print(parent) # 리스트 인덱스 = 자식 / 리스트 값 = 부모\n",
    "# 따라서 자식의 부모는 1\n"
   ]
  },
  {
   "cell_type": "code",
   "execution_count": 5,
   "metadata": {},
   "outputs": [
    {
     "name": "stdout",
     "output_type": "stream",
     "text": [
      "[0, 0, 1, 1, 3, 3]\n",
      "3\n",
      "1\n"
     ]
    }
   ],
   "source": [
    "# 3. 조상노드 찾기\n",
    "# **자식 번호를 인덱스**로 부모 번호를 저장한 방법으로 확인 가능\n",
    "\n",
    "'''\n",
    "4\n",
    "1 2 1 3 3 4 3 5\n",
    "'''\n",
    "\n",
    "N = 5\n",
    "E = int(input())\n",
    "tree = list(map(int, input().split()))\n",
    "\n",
    "parent = [0] * (N+1)    # parent[i] ==> i번째 노드의 부모 노드 번호\n",
    "\n",
    "for i in range(E):\n",
    "    p = tree[i*2]\n",
    "    c = tree[i*2+1]\n",
    "    parent[c] = p\n",
    "\n",
    "print(parent)\n",
    "\n",
    "now = 5\n",
    "while parent[now] !=0:\n",
    "    print(parent[now])\n",
    "    now = parent[now]"
   ]
  },
  {
   "cell_type": "code",
   "execution_count": 7,
   "metadata": {},
   "outputs": [
    {
     "name": "stdout",
     "output_type": "stream",
     "text": [
      "left : [0, 2, 0, 4, 0, 0]\n",
      "right : [0, 3, 0, 5, 0, 0]\n",
      "1 2 4 7 12 3 5 8 9 6 10 11 13 \n",
      "12 7 4 2 1 8 5 9 3 10 6 13 11 \n",
      "12 7 4 2 8 9 5 10 13 11 6 3 1 "
     ]
    }
   ],
   "source": [
    "# 이진 트리 순회\n",
    "\"\"\"\n",
    "13\n",
    "1 2 1 3 2 4 3 5 3 6 4 7 5 8 5 9 6 10 6 11 7 12 11 13\n",
    "\"\"\"\n",
    "N = int(input())\n",
    "tree = list(map(int, input().split()))\n",
    "\n",
    "# 인덱스가 부모노드의 번호\n",
    "cleft = [0] * (N + 1)\n",
    "cright = [0] * (N + 1)\n",
    "\n",
    "for i in range(N - 1): # N-1은 간선의 개수 / 노드 수 : N -> 간선의 개수 : N-1\n",
    "    p = tree[i * 2]\n",
    "    c = tree[i * 2 + 1]\n",
    "    if cleft[p] == 0:\n",
    "        cleft[p] = c\n",
    "    else:\n",
    "        cright[p] = c\n",
    "\n",
    "print(f'left : {child_left}')\n",
    "print(f'right : {child_right}')\n",
    "\n",
    "\n",
    "# 1. 전위순회(preorder) : V - L - R\n",
    "def preorder(t):\n",
    "    if t:\n",
    "        # t에서 방문처리\n",
    "        print(t, end=\" \")\n",
    "        # 왼쪽\n",
    "        preorder(cleft[t])\n",
    "        # 오른쪽\n",
    "        preorder(cright[t])\n",
    "\n",
    "\n",
    "# 2. 중위순회(inorder) : L - V - R\n",
    "def inorder(t):\n",
    "    if t:\n",
    "        # 왼쪽\n",
    "        inorder(cleft[t])\n",
    "        # t에서 방문처리\n",
    "        print(t, end=\" \")\n",
    "        # 오른쪽\n",
    "        inorder(cright[t])\n",
    "\n",
    "\n",
    "# 3. 후위순회(postorder) : L - R - V\n",
    "def postorder(t):\n",
    "    if t:\n",
    "        # 왼쪽\n",
    "        postorder(cleft[t])\n",
    "        # 오른쪽\n",
    "        postorder(cright[t])\n",
    "        # t에서 방문처리\n",
    "        print(t, end=\" \")\n",
    "\n",
    "preorder(1)\n",
    "print()\n",
    "inorder(1)\n",
    "print()\n",
    "postorder(1)"
   ]
  },
  {
   "cell_type": "code",
   "execution_count": null,
   "metadata": {},
   "outputs": [],
   "source": [
    "# 연습문제\n"
   ]
  },
  {
   "cell_type": "markdown",
   "metadata": {},
   "source": [
    "#### 4. 이진트리의 표현\n",
    "\n",
    "1. 배열을 이용한 이진 트리의 표현\n",
    "\n",
    "    "
   ]
  },
  {
   "cell_type": "markdown",
   "metadata": {},
   "source": [
    "#### 5. 이진탐색 트리\n",
    "\n",
    "- 탐색 작업을 효율적으로 하기 위한 구조\n",
    "\n",
    "- 모든 원소는 서로 다른 유일한 키를 갖는다.\n",
    "\n",
    "- **key(왼쪽 서브트리, 루트보다 작은 값) < key(루트 노드) < (오른쪽 서브트리, 루트보다 큰 값)으로 저장**\n",
    "\n",
    "![이미지](../이미지/이진%20탐색트리%20저장.PNG)\n",
    "\n",
    "\n",
    "- **중위 순회**하면 오름차순으로 정렬된 값을 얻을 수 있다.\n",
    "\n",
    "\n",
    "![이미지](../이미지/탐색연산.PNG)\n",
    "![이미지](../이미지/탐색연산2.PNG)"
   ]
  },
  {
   "cell_type": "code",
   "execution_count": 2,
   "metadata": {},
   "outputs": [
    {
     "name": "stdout",
     "output_type": "stream",
     "text": [
      "right 9 12\n",
      "right 12 15\n",
      "left 15 13\n",
      "find : 13 == 13\n",
      "13\n",
      "right 9 12\n",
      "right 12 15\n",
      "right 15 17\n",
      "right 17 0\n",
      "None\n"
     ]
    }
   ],
   "source": [
    "# 이진탐색트리 - 탐색 연산 예시\n",
    "\n",
    "\"\"\"\n",
    "7\n",
    "9 4 9 12 4 3 4 6 12 15 15 13 15 17\n",
    "\"\"\"\n",
    "\n",
    "cleft = [0] * 20\n",
    "cright = [0] * 20\n",
    "\n",
    "E = int(input())\n",
    "tree = list(map(int, input().split()))\n",
    "\n",
    "for i in range(E):\n",
    "    p, c = tree[i * 2], tree[i * 2 + 1]\n",
    "\n",
    "    # 루트를 기준으로 루트보다 작으면 왼쪽 자식으로, 루트보다 크면 오른쪽 자식으로\n",
    "    if p < c:\n",
    "        cright[p] = c\n",
    "    else:\n",
    "        cleft[p] = c\n",
    "\n",
    "\n",
    "def search(node, key):\n",
    "    if not node:\n",
    "        return\n",
    "\n",
    "    if key == node:\n",
    "        print(f\"find : {node} == {key}\")\n",
    "        return node\n",
    "    elif key > node:\n",
    "        print(\"right\", node, cright[node])\n",
    "        return search(cright[node], key)\n",
    "    else:\n",
    "        print(\"left\", node, cleft[node])\n",
    "        return search(cleft[node], key)\n",
    "\n",
    "\n",
    "def search2(node, key):\n",
    "    while node:\n",
    "        if key == node:\n",
    "            print(f\"find : {node} == {key}\")\n",
    "            return node\n",
    "        elif key > node:\n",
    "            print(\"right\", node, cright[node])\n",
    "            node = cright[node]\n",
    "        else:\n",
    "            print(\"left\", node, cleft[node])\n",
    "            node = cleft[node]\n",
    "\n",
    "    # 여기까지 코드가 실행이 됬다\n",
    "    # 내가 찾고있는 key가 트리 안에 없다\n",
    "    return None  # 탐색 실패\n",
    "\n",
    "\n",
    "print(search(9, 13))\n",
    "print(search2(9, 20))\n"
   ]
  },
  {
   "cell_type": "code",
   "execution_count": null,
   "metadata": {},
   "outputs": [],
   "source": []
  },
  {
   "cell_type": "code",
   "execution_count": null,
   "metadata": {},
   "outputs": [],
   "source": []
  }
 ],
 "metadata": {
  "kernelspec": {
   "display_name": "Python 3",
   "language": "python",
   "name": "python3"
  },
  "language_info": {
   "codemirror_mode": {
    "name": "ipython",
    "version": 3
   },
   "file_extension": ".py",
   "mimetype": "text/x-python",
   "name": "python",
   "nbconvert_exporter": "python",
   "pygments_lexer": "ipython3",
   "version": "3.9.13"
  },
  "orig_nbformat": 4
 },
 "nbformat": 4,
 "nbformat_minor": 2
}
