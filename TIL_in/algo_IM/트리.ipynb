{
 "cells": [
  {
   "cell_type": "markdown",
   "metadata": {},
   "source": [
    "## 트리\n",
    "\n",
    "- **비선형** 구조\n",
    "- 원소들 간에 1:n 관계를 가지는 구조\n",
    "- 원소들 간에 계층관계를 가지는 계층형 구조\n",
    "- 상위 원소 -> 하위 원소 : 점차 확장되는 트리(나무)모양의 구조\n",
    "\n",
    "![이미지](../이미지/트리1.PNG)\n",
    "![이미지](../이미지/트리2.PNG)"
   ]
  },
  {
   "cell_type": "markdown",
   "metadata": {},
   "source": [
    "#### 트리 - 정의\n",
    "\n",
    "- 한 개 이상의 노드로 이루어진 유한 집합\n",
    "\n",
    "\n",
    "#### 트리 용어정리\n",
    "- 노드(node,정점) : 트리의 원소\n",
    "    - 루트(root) 노드 : 최상위 노드, 트리의 시작 노드\n",
    "    \n",
    "    - 부 트리(subtree) :\n",
    "    \n",
    "    - 잎(leaf) 노드 : 단말노드, 마지막 노드\n",
    "\n",
    "- 간선 : 노드를 연결하는 선\n",
    "\n",
    "\n",
    "\n",
    "![이미지](../이미지/노드.PNG)\n",
    "![이미지](../이미지/차수.PNG)\n",
    "![이미지](../이미지/높이.PNG)\n",
    "\n",
    "\n",
    "\n",
    "\n"
   ]
  },
  {
   "cell_type": "markdown",
   "metadata": {},
   "source": [
    "#### 이진트리\n",
    "\n",
    "![이미지](../이미지/이진트리.PNG)\n",
    "\n",
    "- 모든 노드들이 **2개의 서브트리**를 갖는 특별한 형태의 트리 (left_child / right_child)\n",
    "\n",
    "- 레벨 i에서의 노드의 최대 개수는 2**i개\n",
    "\n",
    "- 높이가 h인 이진 트리가 가질 수 있는 노드의 최소 개수는 (h+1)개가 되며, 최대 개수는 (2**(h+1) - 1)개가 된다."
   ]
  },
  {
   "cell_type": "markdown",
   "metadata": {},
   "source": [
    "#### 이진트리 - 종류\n",
    "\n",
    "- 1. 포화 이진 트리\n",
    "\n",
    "![이미지](../이미지/포화이진트리.PNG)\n",
    "\n",
    "- 2. 완전 이진 트리\n",
    "\n",
    "![이미지](../이미지/완전이진트리.PNG)\n",
    "\n",
    "- 3. 편향 이진 트리\n",
    "\n",
    "![이미지](../이미지/편향%20이진%20트리.PNG)"
   ]
  },
  {
   "cell_type": "markdown",
   "metadata": {},
   "source": [
    "#### 이진트리 - 순회(탐색)\n",
    "\n",
    "- 순회 : 트리의 노드들을 체계적으로 방문하는 것(**자식들은 무조건 왼쪽부터!**)\n",
    "\n",
    "- 3가지 순회방법\n",
    "\n",
    "    - 전위순회(VLR) : 부모 노드 -> 자식 노드(좌,우)\n",
    "\n",
    "    - 중위순회(LVR) : 왼쪽 자식 노드 -> 부모 노드 -> 오른쪽 자식 노드 \n",
    "\n",
    "    - 후위순회(LRV) : 자식 노드(좌,우) -> 부모 노드\n",
    "\n",
    "#### 교재에 각 순회마다 재귀호출 왜 그렇게 되는지 그려보면서 이해해봐! "
   ]
  },
  {
   "cell_type": "code",
   "execution_count": null,
   "metadata": {},
   "outputs": [],
   "source": [
    "# 전위순회\n"
   ]
  },
  {
   "cell_type": "code",
   "execution_count": null,
   "metadata": {},
   "outputs": [],
   "source": []
  },
  {
   "cell_type": "code",
   "execution_count": 1,
   "metadata": {},
   "outputs": [
    {
     "name": "stdout",
     "output_type": "stream",
     "text": [
      "[0, 2, 0, 4, 0, 0]\n",
      "[0, 3, 0, 5, 0, 0]\n"
     ]
    }
   ],
   "source": [
    "# 1. 이진트리의 저장\n",
    "# **부모 번호**를 인덱스로 자식 번호를 저장\n",
    "\n",
    "'''\n",
    "4\n",
    "1 2 1 3 3 4 3 5\n",
    "'''\n",
    "\n",
    "N = 5\n",
    "E = int(input())\n",
    "tree = list(map(int, input().split()))\n",
    "\n",
    "# 1. 인덱스 번호 => 부모 노드의 번호\n",
    "child_left = [0] * (N+1) # child_left[i] i의 왼쪽 자식 노드 번호\n",
    "child_right = [0] * (N+1) # child_right[i] i의 오른쪽 자식 노드 번호\n",
    "\n",
    "for i in range(E):\n",
    "    parent = tree[i*2] # tree의 2의 배수가 부모 번호 : 0,2,4 ...\n",
    "    child = tree[i*2 + 1]\n",
    "    \n",
    "    # 왼쪽 자식이 비어있으면 왼쪽부터 추가\n",
    "    if child_left[parent] == 0:\n",
    "        child_left[parent] = child\n",
    "    else:\n",
    "        # 왼쪽 자식이 이미 있으면 오른쪽 자식으로 추가\n",
    "        child_right[parent] = child\n",
    "\n",
    "print(child_left)\n",
    "print(child_right)"
   ]
  },
  {
   "cell_type": "code",
   "execution_count": 2,
   "metadata": {},
   "outputs": [
    {
     "name": "stdout",
     "output_type": "stream",
     "text": [
      "[0, 0, 1, 1, 3, 3]\n"
     ]
    }
   ],
   "source": [
    "# 2. 이진트리의 저장\n",
    "# **자식 번호**를 인덱스로 부모 번호를 저장\n",
    "\n",
    "'''\n",
    "4\n",
    "1 2 1 3 3 4 3 5\n",
    "'''\n",
    "\n",
    "N = 5\n",
    "E = int(input())\n",
    "tree = list(map(int, input().split()))\n",
    "\n",
    "parent = [0] * (N+1)    # parent[i] ==> i번째 노드의 부모 노드 번호\n",
    "\n",
    "for i in range(E):\n",
    "    p = tree[i*2]\n",
    "    c = tree[i*2+1]\n",
    "    parent[c] = p\n",
    "\n",
    "print(parent)\n"
   ]
  },
  {
   "cell_type": "code",
   "execution_count": 5,
   "metadata": {},
   "outputs": [
    {
     "name": "stdout",
     "output_type": "stream",
     "text": [
      "[0, 0, 1, 1, 3, 3]\n",
      "3\n",
      "1\n"
     ]
    }
   ],
   "source": [
    "# 3. 조상노드 찾기\n",
    "# **자식 번호**를 인덱스로 부모 번호를 저장한 방법으로 확인 가능\n",
    "\n",
    "'''\n",
    "4\n",
    "1 2 1 3 3 4 3 5\n",
    "'''\n",
    "\n",
    "N = 5\n",
    "E = int(input())\n",
    "tree = list(map(int, input().split()))\n",
    "\n",
    "parent = [0] * (N+1)    # parent[i] ==> i번째 노드의 부모 노드 번호\n",
    "\n",
    "for i in range(E):\n",
    "    p = tree[i*2]\n",
    "    c = tree[i*2+1]\n",
    "    parent[c] = p\n",
    "\n",
    "print(parent)\n",
    "\n",
    "now = 5\n",
    "while parent[now] !=0:\n",
    "    print(parent[now])\n",
    "    now = parent[now]"
   ]
  },
  {
   "cell_type": "code",
   "execution_count": 7,
   "metadata": {},
   "outputs": [
    {
     "name": "stdout",
     "output_type": "stream",
     "text": [
      "left : [0, 2, 0, 4, 0, 0]\n",
      "right : [0, 3, 0, 5, 0, 0]\n",
      "1 2 4 7 12 3 5 8 9 6 10 11 13 \n",
      "12 7 4 2 1 8 5 9 3 10 6 13 11 \n",
      "12 7 4 2 8 9 5 10 13 11 6 3 1 "
     ]
    }
   ],
   "source": [
    "# 이진 트리 순회\n",
    "\"\"\"\n",
    "13\n",
    "1 2 1 3 2 4 3 5 3 6 4 7 5 8 5 9 6 10 6 11 7 12 11 13\n",
    "\"\"\"\n",
    "N = int(input())\n",
    "tree = list(map(int, input().split()))\n",
    "\n",
    "# 인덱스가 부모노드의 번호\n",
    "cleft = [0] * (N + 1)\n",
    "cright = [0] * (N + 1)\n",
    "\n",
    "for i in range(N - 1): # N-1은 간선의 개수 / 노드 수 : N -> 간선의 개수 : N-1\n",
    "    p = tree[i * 2]\n",
    "    c = tree[i * 2 + 1]\n",
    "    if cleft[p] == 0:\n",
    "        cleft[p] = c\n",
    "    else:\n",
    "        cright[p] = c\n",
    "\n",
    "print(f'left : {child_left}')\n",
    "print(f'right : {child_right}')\n",
    "\n",
    "\n",
    "# 1. 전위순회(preorder) : V - L - R\n",
    "def preorder(t):\n",
    "    if t:\n",
    "        # t에서 방문처리\n",
    "        print(t, end=\" \")\n",
    "        # 왼쪽\n",
    "        preorder(cleft[t])\n",
    "        # 오른쪽\n",
    "        preorder(cright[t])\n",
    "\n",
    "\n",
    "# 2. 중위순회(inorder) : L - V - R\n",
    "def inorder(t):\n",
    "    if t:\n",
    "        # 왼쪽\n",
    "        inorder(cleft[t])\n",
    "        # t에서 방문처리\n",
    "        print(t, end=\" \")\n",
    "        # 오른쪽\n",
    "        inorder(cright[t])\n",
    "\n",
    "\n",
    "# 3. 후위순회(postorder) : L - R - V\n",
    "def postorder(t):\n",
    "    if t:\n",
    "        # 왼쪽\n",
    "        postorder(cleft[t])\n",
    "        # 오른쪽\n",
    "        postorder(cright[t])\n",
    "        # t에서 방문처리\n",
    "        print(t, end=\" \")\n",
    "\n",
    "preorder(1)\n",
    "print()\n",
    "inorder(1)\n",
    "print()\n",
    "postorder(1)"
   ]
  },
  {
   "cell_type": "code",
   "execution_count": null,
   "metadata": {},
   "outputs": [],
   "source": [
    "# 연습문제\n"
   ]
  }
 ],
 "metadata": {
  "kernelspec": {
   "display_name": "Python 3",
   "language": "python",
   "name": "python3"
  },
  "language_info": {
   "codemirror_mode": {
    "name": "ipython",
    "version": 3
   },
   "file_extension": ".py",
   "mimetype": "text/x-python",
   "name": "python",
   "nbconvert_exporter": "python",
   "pygments_lexer": "ipython3",
   "version": "3.9.13"
  },
  "orig_nbformat": 4
 },
 "nbformat": 4,
 "nbformat_minor": 2
}
