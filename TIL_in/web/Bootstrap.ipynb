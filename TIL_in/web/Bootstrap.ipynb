{
 "cells": [
  {
   "cell_type": "markdown",
   "metadata": {},
   "source": [
    "## Bootstrap\n",
    "\n",
    "- 공부 방법 : 필요한 것 검색해보고 docs 읽으면서 복붙해보고 코드가 어떻게 작용되는지 분석\n",
    "\n",
    "- 사용 방법 : bootstrap -> docs -> include css, js\n",
    "\n",
    "\n",
    "- CSS 프론트엔드 프레임워크(toolkit) -> 도구들의 모음\n",
    "- 미리 만들어진 다양한 디자인 요소들을 제공하여 웹 사이트를 빠르고 쉽게 개발할 수 있도록 함\n",
    "\n",
    "    => (이미 만들어진 스타일 및 레이아웃들을 가져다가 쓴다.)\n",
    "\n",
    "![이미지](../이미지/bootstrap기본사용법.PNG)\n",
    "\n",
    "![이미지](../이미지/bootstrap표현.PNG)"
   ]
  },
  {
   "cell_type": "code",
   "execution_count": null,
   "metadata": {
    "vscode": {
     "languageId": "plaintext"
    }
   },
   "outputs": [],
   "source": []
  },
  {
   "cell_type": "code",
   "execution_count": null,
   "metadata": {
    "vscode": {
     "languageId": "plaintext"
    }
   },
   "outputs": [],
   "source": []
  },
  {
   "cell_type": "code",
   "execution_count": null,
   "metadata": {
    "vscode": {
     "languageId": "plaintext"
    }
   },
   "outputs": [],
   "source": []
  },
  {
   "cell_type": "code",
   "execution_count": null,
   "metadata": {
    "vscode": {
     "languageId": "plaintext"
    }
   },
   "outputs": [],
   "source": []
  },
  {
   "cell_type": "code",
   "execution_count": null,
   "metadata": {
    "vscode": {
     "languageId": "plaintext"
    }
   },
   "outputs": [],
   "source": []
  },
  {
   "cell_type": "markdown",
   "metadata": {},
   "source": [
    "## semantic element\n",
    "\n",
    "- 기능상의 차이는 없으나, 의미를 직관적으로 이해 가능하게 하기에 활용 \n",
    "\n",
    "![이미지](../이미지/semantic.PNG)\n",
    "![이미지](../이미지/semantic예시.PNG)"
   ]
  }
 ],
 "metadata": {
  "language_info": {
   "name": "python"
  },
  "orig_nbformat": 4
 },
 "nbformat": 4,
 "nbformat_minor": 2
}
