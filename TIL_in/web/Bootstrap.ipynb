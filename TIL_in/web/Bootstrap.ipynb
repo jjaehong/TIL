{
 "cells": [
  {
   "cell_type": "markdown",
   "metadata": {},
   "source": [
    "## 1. Bootstrap\n",
    "\n",
    "#### 개요\n",
    "\n",
    "- 공부 방법 : 필요한 것 검색해보고 docs 읽으면서 복붙해보고 코드가 어떻게 작용되는지 분석\n",
    "\n",
    "- 사용 방법 : bootstrap -> docs -> include css, js\n",
    "\n",
    "\n",
    "- 개념 : CSS 프론트엔드 프레임워크(toolkit) -> 도구들의 모음\n",
    "- 미리 만들어진 다양한 디자인 요소들을 제공하여 웹 사이트를 빠르고 쉽게 개발할 수 있도록 함\n",
    "\n",
    "    => (이미 만들어진 스타일 및 레이아웃들을 가져다가 쓴다.)\n",
    "\n",
    "![이미지](../이미지/bootstrap기본사용법.PNG)\n",
    "\n",
    "![이미지](../이미지/bootstrap표현.PNG)"
   ]
  },
  {
   "cell_type": "markdown",
   "metadata": {
    "vscode": {
     "languageId": "plaintext"
    }
   },
   "source": [
    "#### Typography : 제목,본문 텍스트, 목록 등\n",
    "\n",
    "- display headings\n",
    "\n",
    "- inline text elements\n",
    "\n",
    "- lists\n",
    "\n",
    "#### Colors : 색상\n",
    "\n",
    "![이미지](../이미지/boot-bgc.PNG)\n",
    "\n",
    "\n",
    "#### component : UI 관련 요소\n",
    "\n",
    "- 버튼, 네비게이션 바, 카드, 폼, 드롭다운, 뱃지,  등"
   ]
  },
  {
   "cell_type": "markdown",
   "metadata": {},
   "source": [
    "## 2. Semantic Web\n",
    "\n",
    "#### 1. HTML semantic element\n",
    "\n",
    "- 기능상의 차이는 없으나, 의미를 직관적으로 이해 가능하게 하기에 활용\n",
    "\n",
    "    - 검색엔진 및 개발자가 웹 페이지 콘텐츠를 이해하기 쉽도록\n",
    "\n",
    "![이미지](../이미지/semantic.PNG)\n",
    "![이미지](../이미지/semantic예시.PNG)\n",
    "\n",
    "\n",
    "\n",
    "#### 2. semantic in CSS\n",
    "\n",
    "- OOCSS(Object oriented css)\n",
    "- 객체 지향적 접근법을 적용하여 CSS를 구성하는 방법론\n",
    "\n",
    "- OOCSS 기본원칙\n",
    "\n",
    "    1. 구조와 스킨을 분리\n",
    " \n",
    "        - 구조와 스킨을 분리함으로써 재사용 가능성을 높임\n",
    "\n",
    "        - 모든 버튼의 공통 구조를 정의 + 각각의 스킨(배경색과 폰트 색상)을 정의\n",
    "    \n",
    "    2. 컨테이너와 콘텐츠를 분리\n",
    "\n",
    "        - 객체에 직접 적용하는 대신 객체를 둘러싸는 컨테이너에 스타일을 적용\n",
    "\n",
    "        - 스타일을 정의할 때 위치에 의존적인 스타일을 사용하지 않도록 함\n",
    "\n",
    "        - 콘텐츠를 다른 컨테이너로 이동시키거나 재배치할 때 스타일이 깨지는 것을 방지"
   ]
  },
  {
   "cell_type": "markdown",
   "metadata": {},
   "source": [
    "#### [참고]\n",
    "\n",
    "CDN\n",
    "\n",
    "- 서버와 사용자 사이의 물리적인 거리를 줄여 콘텐츠 로딩에 소요되는 시간을 최소화(웹 페이지 로드 속도를 높임)\n",
    "\n",
    "![이미지](../이미지/bootstrap%20사용이유.PNG)\n",
    "![이미지](../이미지/책임역할.PNG)"
   ]
  }
 ],
 "metadata": {
  "language_info": {
   "name": "python"
  },
  "orig_nbformat": 4
 },
 "nbformat": 4,
 "nbformat_minor": 2
}
