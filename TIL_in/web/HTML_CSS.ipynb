{
 "cells": [
  {
   "cell_type": "markdown",
   "metadata": {},
   "source": [
    "## 웹 소개\n",
    "\n",
    "- World Wide Web(www) : 인터넷으로 연결된 컴퓨터들이 정보를 공유하는 거대한 정보 공간\n",
    "\n",
    "- web : web site, web application 등을 통해 사용자들이 정보를 검색하고 상호 작용하는 기술\n",
    "\n",
    "    - web site : 인터넷에서 **여러개의 web page가 모인 것**으로, 사용자들에게 정보나 서비스를 제공하는 공간\n",
    "    \n",
    "    - web page : html, css 등의 웹 기술을 이용하여 만들어진, **'web site'를 구성하는 하나의 요소**\n",
    "\n",
    "![이미지](../이미지/web1.PNG)\n",
    "![이미지](../이미지/web2.PNG)"
   ]
  },
  {
   "cell_type": "markdown",
   "metadata": {},
   "source": [
    "## 1. 웹 구조화 : HTML\n",
    "\n",
    "- Hyper Text Markup Language(html) : 웹 페이지의 의미와 **구조**를 정의하는 언어 \n",
    "    \n",
    "    -> HTML은 마크업 언어임, 코딩 언어가 아님\n",
    "    \n",
    "    - hypertext : 웹 페이지를 다른 페이지로 연결하는 링크 \n",
    "    - markup language : 태그 등을 이용해 문서나 데이터의 **구조**를 명시하는 언어 ex) html, markdown\n",
    "\n",
    "![이미지](../이미지/마크업예시.PNG)"
   ]
  },
  {
   "cell_type": "markdown",
   "metadata": {},
   "source": [
    "#### 1-1. HTML 구조\n",
    "\n",
    "![이미지](../이미지/HTML구조.PNG)\n",
    "\n",
    "- !DOCTYPE : 어떤 문서 타입인지\n",
    "- meta : 어떤 형식으로 저장? "
   ]
  },
  {
   "cell_type": "markdown",
   "metadata": {},
   "source": [
    "#### 1-2. HTML 요소\n",
    "![이미지](../이미지/html요소.PNG)\n",
    "\n",
    "- 닫는 태그가 있는 친구들은 그 안에 내용이나 기능이 있음\n",
    "- 닫는 태그가 없는 친구들은 그 자체로 기능을 하는 친구들임\n",
    "\n",
    "\n",
    "- division : <div></div>\n",
    "- paragraph : <p></p>\n",
    "- span : <span></span> : inline 요소\n",
    "\n",
    "\n",
    "* div ⊃ p ⊃ span "
   ]
  },
  {
   "cell_type": "markdown",
   "metadata": {},
   "source": [
    "#### 1-3. HTML 속성\n",
    "![이미지](../이미지/html속성.PNG)"
   ]
  },
  {
   "cell_type": "code",
   "execution_count": null,
   "metadata": {
    "vscode": {
     "languageId": "html"
    }
   },
   "outputs": [],
   "source": [
    "# html basic\n",
    "\n",
    "<!DOCTYPE html>\n",
    "<html lang=\"en\">\n",
    "<head>\n",
    "    <meta charset=\"UTF-8\"> \n",
    "    <title>My page</title>\n",
    "</head>\n",
    "<!-- body : 페이지에 표시되는 모든 콘텐츠 -->\n",
    "<body>\n",
    "    <p>This is my page</p>\n",
    "    <!-- a 태그 : 링크 삽입 -->\n",
    "    <a href=\"http://www.google.co.kr/\">Google</a> \n",
    "    <!-- img 태그 : img 삽입 -->\n",
    "    <img src=\"images/sample.png\" alt=\"sample-img\"> \n",
    "    <img src=\"https://random.imagecdn.app/500/150/\" alt=\"sample-img\"> \n",
    "</body>\n",
    "</html>"
   ]
  },
  {
   "cell_type": "code",
   "execution_count": null,
   "metadata": {
    "vscode": {
     "languageId": "html"
    }
   },
   "outputs": [],
   "source": [
    "<!DOCTYPE html>\n",
    "<html lang=\"en\">\n",
    "<head>\n",
    "    <meta charset=\"UTF-8\">\n",
    "    <meta name=\"viewport\" content=\"width=device-width, initial-scale=1.0\">\n",
    "    <title>Document</title>\n",
    "\n",
    "</head>\n",
    "<body>\n",
    "    <!-- h1 : 최상위 제목 -->\n",
    "    <h1>main heading</h1>\n",
    "    <h2>sub heading</h2>\n",
    "    <!-- p태그 : 단락 -->\n",
    "    <p>This is my page</p>\n",
    "    <!-- em : 기울임 -->\n",
    "    <p>This is <em>emphasis</em></p>\n",
    "    <!-- strong : 굵게 -->\n",
    "    <p>Hi <strong>my name</strong> air </p>\n",
    "    <!-- ol : 정렬된 리스트 -->\n",
    "    <ol>\n",
    "        <li>파이썬</li>\n",
    "        <li>알고리즘</li>\n",
    "        <li>웹</li>\n",
    "    </ol>\n",
    "    <!-- ul : 정렬 안된 리스트 -->\n",
    "    <ul>\n",
    "        <li>뭘봐</li>\n",
    "        <li>임마</li>\n",
    "        <li>색갸</li>\n",
    "    </ul>\n",
    "    \n",
    "</body>\n",
    "</html>"
   ]
  },
  {
   "cell_type": "markdown",
   "metadata": {},
   "source": [
    "## 2. 웹 스타일링 : CSS\n",
    "\n",
    "- cascading style sheet : 웹 페이지의 **디자인**과 **레이아웃**을 구성하는 언어\n",
    "\n",
    "![이미지](../이미지/css1.PNG)"
   ]
  },
  {
   "cell_type": "markdown",
   "metadata": {},
   "source": [
    "#### 2-1. css 적용방법\n",
    "\n",
    "1. 인라인(inline) 스타일\n",
    "- HTML 요소 안에 style 속성 값으로 작성(직접 넣기)\n",
    "\n",
    "![이미지](../이미지/인라인.PNG)\n",
    "\n",
    "2. 내부(internal) 스타일 시트\n",
    "- head 태그 안에 style 태그에 작성\n",
    "\n",
    "![이미지](../이미지/내부스타일.PNG)\n",
    "\n",
    "3. 외부(external) 스타일 시트\n",
    "- 별도의 css파일 생성 후 html link 태그를 사용해 불러오기 => 주로 현업에서 사용\n",
    "\n",
    "![이미지](../이미지/외부css.PNG)"
   ]
  },
  {
   "cell_type": "markdown",
   "metadata": {},
   "source": [
    "#### 2-3. css selectors(선택자) 종류\n",
    "\n",
    "![이미지](../이미지/css종류.PNG)\n",
    "\n",
    "- 기본 선택자\n",
    "    - 전체 선택자 : '*'\n",
    "    - 요소 선택자 : h1, p, div 등\n",
    "    - 클래스 선택자 : '.' (dot)\n",
    "    - 아이디(id) 선택자 : '#'\n",
    "    - 속성 선택자 : \n",
    "\n",
    "- 결합자\n",
    "    - 자손 결합자 : (space)\n",
    "    - 자식 결합자 : >\n"
   ]
  },
  {
   "cell_type": "markdown",
   "metadata": {},
   "source": [
    "#### 2-4 CSS 상속\n",
    "\n",
    "- 가본적으로 CSS는 상속을 통해 부모 요소의 속성을 자식에게 상속해 재사용성을 높임\n",
    "\n",
    "![이미지](../이미지/css상속여부.PNG)\n",
    "\n",
    "![이미지](../이미지/상속예시.PNG)\n",
    "\n"
   ]
  },
  {
   "cell_type": "code",
   "execution_count": null,
   "metadata": {
    "vscode": {
     "languageId": "html"
    }
   },
   "outputs": [],
   "source": [
    "<!DOCTYPE html>\n",
    "<html lang=\"en\">\n",
    "\n",
    "<head>\n",
    "  <meta charset=\"UTF-8\">\n",
    "  <meta http-equiv=\"X-UA-Compatible\" content=\"IE=edge\">\n",
    "  <meta name=\"viewport\" content=\"width=device-width, initial-scale=1.0\">\n",
    "  <title>Document</title>\n",
    "  <style>\n",
    "\n",
    "    /* 전체 선택자 */\n",
    "    * {\n",
    "        color :red;\n",
    "    }\n",
    "    /* 요소 선택자 */\n",
    "    h2{\n",
    "        color : orange;\n",
    "    }\n",
    "\n",
    "    /* h2안의 green 클래스 선택자 */\n",
    "    h2.green {\n",
    "      color: black;\n",
    "    }\n",
    "\n",
    "    /* 한번에 여러 개 지정 */\n",
    "    h3, h4 {\n",
    "        color: blue\n",
    "    }\n",
    "\n",
    "    /* h3안의 h2아이디 선택자 */\n",
    "    h3#h2 {\n",
    "\t\t\t\tbackground-color: beige;\n",
    "\t\t}\n",
    "\n",
    "    /* 클래스 */\n",
    "    .green {\n",
    "      color : green;\n",
    "    }\n",
    "    \n",
    "    /* 아이디 */\n",
    "    #purple {\n",
    "      color : purple\n",
    "    }\n",
    "\n",
    "    /* 자식 결합자 */\n",
    "    .green > span{\n",
    "      font-size: 50px;\n",
    "    }\n",
    "\n",
    "    /*자손 결합자*/\n",
    "    .green li{\n",
    "      color : brown\n",
    "    }\n",
    "\n",
    "</style>\n",
    "</head>\n",
    "\n",
    "<body>\n",
    "  <!-- 클래스는 특정을 지정하면서 style을 재사용할 수 잇음 -->\n",
    "  <h1 class=\"green\">Heading</h1>\n",
    "  <h2>선택자</h2>\n",
    "  <h2 class=\"green\">요소안의 클래스</h2>\n",
    "  <h3>연습</h3>\n",
    "  <h3 id=\"h2\">TITLE3</h3>\n",
    "  <h4>반가워요</h4>\n",
    "  <p id=\"purple\">과목 목록</p>\n",
    "  \n",
    "  <!-- 포함관계 -->\n",
    "  <ul class=\"green\">\n",
    "    <li>파이썬</li>\n",
    "    <li>알고리즘</li>\n",
    "    <li>웹\n",
    "      <ol>\n",
    "        <li>HTML</li>\n",
    "        <li>CSS</li>\n",
    "        <li>PYTHON</li>\n",
    "      </ol>\n",
    "    </li>\n",
    "  </ul>\n",
    "  <p class=\"green\">Lorem, <span>ipsum</span> dolor.</p>\n",
    "</body>\n",
    "\n",
    "</html>"
   ]
  },
  {
   "cell_type": "markdown",
   "metadata": {},
   "source": [
    "#### 2-4. css 우선순위\n",
    "\n",
    "1. importance\n",
    "    - !important\n",
    "\n",
    "2. inline 스타일\n",
    "\n",
    "3. 선택자\n",
    "\n",
    "    - id > class > 요소\n",
    "\n",
    "4. 소스 코드 순서\n",
    "\n",
    "    - 동일한 우선순위를 갖는 규칙이 적용될 떼, CSS에서 마지막에 나오는 규칙이 사용됨"
   ]
  },
  {
   "cell_type": "code",
   "execution_count": null,
   "metadata": {
    "vscode": {
     "languageId": "html"
    }
   },
   "outputs": [],
   "source": [
    "<!DOCTYPE html>\n",
    "<html lang=\"en\">\n",
    "\n",
    "<head>\n",
    "  <meta charset=\"UTF-8\">\n",
    "  <meta http-equiv=\"X-UA-Compatible\" content=\"IE=edge\">\n",
    "  <meta name=\"viewport\" content=\"width=device-width, initial-scale=1.0\">\n",
    "  <title>Document</title>\n",
    "  <style>\n",
    "    h2 {\n",
    "      color:darkmagenta !important;\n",
    "    }\n",
    "    p {\n",
    "      color: blue\n",
    "\n",
    "    }\n",
    "    .orange {\n",
    "      color:orange\n",
    "    }\n",
    "\n",
    "    .green {\n",
    "      color : green\n",
    "    }\n",
    "\n",
    "    #red {\n",
    "      color : red\n",
    "    }\n",
    "  </style>\n",
    "  \n",
    "\n",
    "<body>\n",
    "  <p>1</p>\n",
    "  <p class=\"orange\">2</p>\n",
    "  <p class=\"green orange\">3</p>\n",
    "  <p id=\"red\" class=\"orange green\">4</p>\n",
    "  <p>5</p>\n",
    "  <h2 id=\"red\">6</h2>\n",
    "  <p>7</p>\n",
    "  <h2>8</h2>\n",
    "</body>\n",
    "\n",
    "</html>\n"
   ]
  },
  {
   "cell_type": "code",
   "execution_count": null,
   "metadata": {
    "vscode": {
     "languageId": "html"
    }
   },
   "outputs": [],
   "source": [
    "/*nth-child*/\n",
    "\n",
    "<!DOCTYPE html>\n",
    "<html lang=\"en\">\n",
    "\t<head>\n",
    "\t\t<meta charset=\"UTF-8\" />\n",
    "\t\t<meta http-equiv=\"X-UA-Compatible\" content=\"IE=edge\" />\n",
    "\t\t<meta name=\"viewport\" content=\"width=device-width, initial-scale=1.0\" />\n",
    "\t\t<title>Document</title>\n",
    "\t\t<style>\n",
    "\t\t\tspan:nth-child(3n) {\n",
    "\t\t\t\tcolor: red;\n",
    "\t\t\t}\n",
    "\t\t</style>\n",
    "\t</head>\n",
    "\t<body>\n",
    "\t\t<div class=\"parent\">\n",
    "\t\t\t<span>1</span>\n",
    "\t\t\t<span>2</span>\n",
    "\t\t\t<span>3</span>\n",
    "\t\t\t<span>4</span>\n",
    "\t\t\t<span>5</span>\n",
    "\t\t\t<span>6</span>\n",
    "\t\t\t<span>7</span>\n",
    "\t\t\t<span>8</span>\n",
    "\t\t\t<span>9</span>\n",
    "\t\t\t<span>10</span>\n",
    "\t\t</div>\n",
    "\t</body>\n",
    "</html>\n"
   ]
  },
  {
   "cell_type": "code",
   "execution_count": null,
   "metadata": {
    "vscode": {
     "languageId": "html"
    }
   },
   "outputs": [],
   "source": [
    "/* nth-of-type은 요소 지정해주기 */\n",
    "\n",
    "<!DOCTYPE html>\n",
    "<html lang=\"en\">\n",
    "\t<head>\n",
    "\t\t<meta charset=\"UTF-8\" />\n",
    "\t\t<meta http-equiv=\"X-UA-Compatible\" content=\"IE=edge\" />\n",
    "\t\t<meta name=\"viewport\" content=\"width=device-width, initial-scale=1.0\" />\n",
    "\t\t<title>Document</title>\n",
    "\t\t<style>\n",
    "\t\t\t/* nth-of-type은 요소 지정해주기 */\n",
    "\t\t\tp:nth-of-type(1) {\n",
    "\t\t\t\tcolor: blue;\n",
    "\t\t\t}\n",
    "\t\t\tdiv:nth-of-type(2) {\n",
    "\t\t\t\tcolor: red;\n",
    "\t\t\t}\n",
    "\t\t\tspan:nth-of-type(3) {\n",
    "\t\t\t\tcolor: orange;\n",
    "\t\t\t}\n",
    "\t\t</style>\n",
    "\t</head>\n",
    "\t<body>\n",
    "\t\t<div class=\"parent\">\n",
    "\t\t\t<div>1 d</div>\n",
    "\t\t\t<p>1 p</p>\n",
    "\t\t\t<span>1 s</span>\n",
    "\t\t\t<div>2 d</div>\n",
    "\t\t\t<p>2 p</p>\n",
    "\t\t\t<span>2 s</span>\n",
    "\t\t\t<div>3 d</div>\n",
    "\t\t\t<p>3 p</p>\n",
    "\t\t\t<span>3 s</span>\n",
    "\t\t</div>\n",
    "\t</body>\n",
    "</html>\n"
   ]
  }
 ],
 "metadata": {
  "language_info": {
   "name": "python"
  },
  "orig_nbformat": 4
 },
 "nbformat": 4,
 "nbformat_minor": 2
}
