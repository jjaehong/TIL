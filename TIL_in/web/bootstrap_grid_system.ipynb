{
 "cells": [
  {
   "cell_type": "markdown",
   "metadata": {},
   "source": [
    "## bootstrap grid system\n",
    "\n",
    "- 개념 : 웰 페이지의 레이아웃을 조정하는 데 사용되는 **12개의 칼럼**으로 구성된 시스템\n",
    "\n",
    "- 목적 : 반응형 디자인을 지원해 웹 페이지를 모바일, 태블릿, 데스크 탑 등 다양한 기기에서 적절하게 표시할 수 있도록 도움"
   ]
  }
 ],
 "metadata": {
  "language_info": {
   "name": "python"
  },
  "orig_nbformat": 4
 },
 "nbformat": 4,
 "nbformat_minor": 2
}
