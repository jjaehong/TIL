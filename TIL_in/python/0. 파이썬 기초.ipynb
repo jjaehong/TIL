{
 "cells": [
  {
   "cell_type": "markdown",
   "metadata": {},
   "source": [
    "# 파이썬 기초\n",
    "1. 저장\n",
    "\n",
    "2. 조건\n",
    "\n",
    "3. 반복"
   ]
  },
  {
   "cell_type": "markdown",
   "metadata": {},
   "source": [
    "\n",
    "## 1. 저장, 초기화\n",
    "\n",
    "변수 : 하나의 **값**을 저장할 수 있는 **저장 공간**\n",
    "\n",
    "무엇을 저장하는가 ?\n",
    "\n",
    "1. 숫자(int,float)\n",
    "- 현실세계에 존재하는 모든 숫자, 기본적인 연산이 가능.\n",
    "\n",
    "2. 글자/문자(string)\n",
    "- 현실세계에 존재하는 모든 글자, 파이썬에서 글자를 표현하기 위해서는 따옴표 사용\n",
    "- ex) 56(숫자), \"56\"(문자)\n",
    "\n",
    "3. 참/거짓(bool)\n",
    "- True / False 단 2가지만 사용 가능, 조건문/반복문에 사용된다. \n",
    "- ex1) 300 > 200 => True\n",
    "- ex2) 150 == 161 => False\n",
    "\n"
   ]
  },
  {
   "cell_type": "code",
   "execution_count": 54,
   "metadata": {},
   "outputs": [
    {
     "name": "stdout",
     "output_type": "stream",
     "text": [
      "jaehong 174 True\n"
     ]
    }
   ],
   "source": [
    "# 변수 설정\n",
    "name = \"jaehong\"\n",
    "sex = 'M'\n",
    "height = 174\n",
    "weight = 59\n",
    "bool = 300 > 200 #True\n",
    "print(name, height, bool)"
   ]
  },
  {
   "cell_type": "markdown",
   "metadata": {},
   "source": [
    "값을 여러개 저장하려면??\n",
    "\n",
    "**리스트(List)** 사용\n",
    "\n",
    "- 여러개의 **연속된 값**을 저장할 수 있는 저장 공간\n"
   ]
  },
  {
   "cell_type": "code",
   "execution_count": 55,
   "metadata": {},
   "outputs": [
    {
     "name": "stdout",
     "output_type": "stream",
     "text": [
      "돼지불백\n",
      "햄라면\n"
     ]
    }
   ],
   "source": [
    "# 리스트 설정 & 인덱스\n",
    "lunch = [\"돼지불백\", \"지코바치밥\", \"설렁탕\", \"햄라면\"]\n",
    "print(lunch[0])\n",
    "print(lunch[-1])"
   ]
  },
  {
   "cell_type": "markdown",
   "metadata": {},
   "source": [
    "**딕셔너리(Dictionary)**\n",
    "\n",
    "- 이름표를 단 여러개의 값을 저장할 수 있는 저장공간\n",
    "- **key : value**로 이루어진 쌍\n",
    "- 키를 통해 값을 불러옴"
   ]
  },
  {
   "cell_type": "code",
   "execution_count": 56,
   "metadata": {},
   "outputs": [
    {
     "name": "stdout",
     "output_type": "stream",
     "text": [
      "{'name': 'jaehong', 'sex': 'M', 'height': 174, 'weight': 59}\n",
      "59\n"
     ]
    }
   ],
   "source": [
    "# 딕셔너리 설정\n",
    "jaehong = {\"name\" : \"jaehong\", \"sex\" : \"M\", \"height\" : 174, \"weight\" : 59}\n",
    "print(jaehong)\n",
    "print(jaehong[\"weight\"])"
   ]
  },
  {
   "cell_type": "markdown",
   "metadata": {},
   "source": [
    "**조건문**\n",
    "\n",
    "만약 ★★ 이라면:\n",
    "\n",
    "    ■■ 해줘\n",
    "\n",
    "그게 아니라 만약 ※※ 라면:\n",
    "\n",
    "    ●● 해줘\n",
    "\n",
    "그 밖에는:\n",
    "\n",
    "    ▲▲ 해줘\n",
    "\n",
    "\n",
    "=>\n",
    "\n",
    "\n",
    "if ★★ :\n",
    "\n",
    "    ■■\n",
    "\n",
    "elif :\n",
    "\n",
    "    ●●\n",
    "\n",
    "else : \n",
    "\n",
    "    ▲▲"
   ]
  },
  {
   "cell_type": "code",
   "execution_count": 49,
   "metadata": {},
   "outputs": [
    {
     "name": "stdout",
     "output_type": "stream",
     "text": [
      "미세먼지는 좋음\n"
     ]
    }
   ],
   "source": [
    "dust = int(input(\"dust를 입력하시오\"))\n",
    "\n",
    "if dust > 150:\n",
    "    print(\"미세먼지는\",\"매우 나쁨\")\n",
    "elif 80 < dust <=150:\n",
    "    print(\"미세먼지는\",\"나쁨\")\n",
    "elif 30 < dust <= 80:\n",
    "    print(\"미세먼지는\",\"보통\")\n",
    "else:\n",
    "    print(\"미세먼지는\",\"좋음\")"
   ]
  },
  {
   "cell_type": "markdown",
   "metadata": {},
   "source": [
    "# 3. 반복 while / for\n",
    "\n",
    "3-1 while\n",
    "\n",
    "    만약 ★★ 이라면\n",
    "    계속 ■■ 해줘\n",
    "\n",
    "=>\n",
    "\n",
    "while ★★:\n",
    "    ■■\n",
    "\n",
    "```\n",
    "ex)\n",
    "n = 0 \n",
    "\n",
    "만약 n이 3보다 작다면\n",
    "계속 n을 출력하고,\n",
    "n에 1을 더해줘(n += 1)\n",
    "```\n",
    "\n",
    "3-2 for\n",
    "- 여러개의 값을 저장하는 변수에서 반복하여 값을 꺼내서 사용\n",
    "\n",
    "★★에 있는 ●●를 이용해서\n",
    "■■ 해줘\\\n",
    "\n",
    "for ●● in ★★ :\n",
    "\n",
    "■■\n",
    "\n",
    "\n",
    "**※ while vs for**\n",
    "\n",
    "- while => 조건이 True인 동안 반복적으로 실행되기에 종료조건이 반드시 필요\n",
    "\n",
    "- for => 정해진 범위를 반복하기에 종료조건이 필요 없음"
   ]
  },
  {
   "cell_type": "code",
   "execution_count": 50,
   "metadata": {},
   "outputs": [
    {
     "name": "stdout",
     "output_type": "stream",
     "text": [
      "hello\n",
      "hello\n",
      "hello\n",
      "<class 'list'>\n",
      "돼지불백\n",
      "지코바치밥\n",
      "설렁탕\n",
      "햄라면\n"
     ]
    }
   ],
   "source": [
    "# ex) while문\n",
    "n = 0\n",
    "while n < 3:\n",
    "    print(\"hello\")\n",
    "    n= n+1\n",
    "\n",
    "\n",
    "# for문\n",
    "print(type(lunch))\n",
    "\n",
    "for value in lunch:\n",
    "    print(value)"
   ]
  },
  {
   "cell_type": "markdown",
   "metadata": {},
   "source": [
    "# 4. 함수\n",
    "\n",
    "- input => FUNCTION => output\n",
    "\n",
    "- 어떤 기능을 하는 코드 덩어리들을 모아 놓은 것\n",
    "\n",
    "ex)\n",
    "```python\n",
    "print(\"hello)\n",
    "```"
   ]
  },
  {
   "cell_type": "markdown",
   "metadata": {},
   "source": [
    "# 5 모듈 사용\n",
    "\n",
    "1. 함수가 포함된 파일을 불러와서 사용할 수 있다. (import)\n",
    "\n",
    "ex) random 모듈\n",
    "\n"
   ]
  },
  {
   "cell_type": "code",
   "execution_count": 9,
   "metadata": {},
   "outputs": [
    {
     "name": "stdout",
     "output_type": "stream",
     "text": [
      "['돼지불백', '지코바치밥', '설렁탕', '햄라면']\n",
      "햄라면\n",
      "[9, 8, 6]\n"
     ]
    }
   ],
   "source": [
    "# ex) random 모듈\n",
    "import random as rd\n",
    "\n",
    "lunch = [\"돼지불백\", \"지코바치밥\", \"설렁탕\", \"햄라면\"]\n",
    "\n",
    "print(lunch)\n",
    "numbers = range(1,11)\n",
    "\n",
    "# choice : 런치 중에 1개 뽑기\n",
    "print(rd.choice(lunch))\n",
    "\n",
    "# sample : numbers 중에 ~개 뽑기\n",
    "pick = rd.sample(numbers, 3)\n",
    "print(pick)"
   ]
  },
  {
   "cell_type": "code",
   "execution_count": 61,
   "metadata": {},
   "outputs": [
    {
     "name": "stdout",
     "output_type": "stream",
     "text": [
      "==2 단==\n",
      "2*1 = 2\n",
      "2*2 = 4\n",
      "2*3 = 6\n",
      "2*4 = 8\n",
      "2*5 = 10\n",
      "2*6 = 12\n",
      "2*7 = 14\n",
      "2*8 = 16\n",
      "2*9 = 18\n",
      "==3 단==\n",
      "3*1 = 3\n",
      "3*2 = 6\n",
      "3*3 = 9\n",
      "3*4 = 12\n",
      "3*5 = 15\n",
      "3*6 = 18\n",
      "3*7 = 21\n",
      "3*8 = 24\n",
      "3*9 = 27\n",
      "==4 단==\n",
      "4*1 = 4\n",
      "4*2 = 8\n",
      "4*3 = 12\n",
      "4*4 = 16\n",
      "4*5 = 20\n",
      "4*6 = 24\n",
      "4*7 = 28\n",
      "4*8 = 32\n",
      "4*9 = 36\n",
      "==5 단==\n",
      "5*1 = 5\n",
      "5*2 = 10\n",
      "5*3 = 15\n",
      "5*4 = 20\n",
      "5*5 = 25\n",
      "5*6 = 30\n",
      "5*7 = 35\n",
      "5*8 = 40\n",
      "5*9 = 45\n",
      "==6 단==\n",
      "6*1 = 6\n",
      "6*2 = 12\n",
      "6*3 = 18\n",
      "6*4 = 24\n",
      "6*5 = 30\n",
      "6*6 = 36\n",
      "6*7 = 42\n",
      "6*8 = 48\n",
      "6*9 = 54\n",
      "==7 단==\n",
      "7*1 = 7\n",
      "7*2 = 14\n",
      "7*3 = 21\n",
      "7*4 = 28\n",
      "7*5 = 35\n",
      "7*6 = 42\n",
      "7*7 = 49\n",
      "7*8 = 56\n",
      "7*9 = 63\n",
      "==8 단==\n",
      "8*1 = 8\n",
      "8*2 = 16\n",
      "8*3 = 24\n",
      "8*4 = 32\n",
      "8*5 = 40\n",
      "8*6 = 48\n",
      "8*7 = 56\n",
      "8*8 = 64\n",
      "8*9 = 72\n",
      "==9 단==\n",
      "9*1 = 9\n",
      "9*2 = 18\n",
      "9*3 = 27\n",
      "9*4 = 36\n",
      "9*5 = 45\n",
      "9*6 = 54\n",
      "9*7 = 63\n",
      "9*8 = 72\n",
      "9*9 = 81\n"
     ]
    }
   ],
   "source": [
    "## 구구단(2~9)\n",
    "\n",
    "for i in range(2,10): # range(1,10) 1이상 10미만의 숫자 모음을 만들어준다.\n",
    "    print(f\"=={i} 단==\")\n",
    "    for j in range(1,10):\n",
    "        print(f\"{i}*{j} = {i*j}\") \n",
    "\n",
    "# for 반복문은 iterable에서 하나씩 꺼내서 나열한다.\n",
    "# 중첩 반복문 중에 안에 있는 반복문이 먼저 계속 돌고(j), 그 다음 바깥에 있는 반복문이 다시 돈다.(i)\n",
    "# 즉, i 하나 돌고, j 전부 돌고 / 그 다음 i 하나 돌고, j 전부 돌고 / 이런식으로 i가 다 돌 때까지 ! \n"
   ]
  },
  {
   "cell_type": "code",
   "execution_count": 11,
   "metadata": {},
   "outputs": [
    {
     "name": "stdout",
     "output_type": "stream",
     "text": [
      "[14, 12, 16, 22, 4, 25]\n",
      "26\n",
      "19\n",
      "9\n",
      "3\n",
      "44\n",
      "16\n"
     ]
    }
   ],
   "source": [
    "# 로또 자동추첨기\n",
    "\n",
    "# 로또의 번호 범위는 1~45\n",
    "# 6개의 숫자를 뽑아서 출력하는 코드\n",
    "\n",
    "#1. 반복문 안쓰기(중복 X)\n",
    "lotto = range(1,46)\n",
    "randompick = rd.sample(lotto,6)\n",
    "\n",
    "print(randompick)\n",
    "\n",
    "#2. 반복문 쓰기(중복이 일어남)\n",
    "for i in range(6):\n",
    "    print(rd.choice(lotto))"
   ]
  }
 ],
 "metadata": {
  "kernelspec": {
   "display_name": "Python 3",
   "language": "python",
   "name": "python3"
  },
  "language_info": {
   "codemirror_mode": {
    "name": "ipython",
    "version": 3
   },
   "file_extension": ".py",
   "mimetype": "text/x-python",
   "name": "python",
   "nbconvert_exporter": "python",
   "pygments_lexer": "ipython3",
   "version": "3.12.1"
  },
  "orig_nbformat": 4
 },
 "nbformat": 4,
 "nbformat_minor": 2
}
