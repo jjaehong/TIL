{
 "cells": [
  {
   "cell_type": "markdown",
   "metadata": {},
   "source": [
    "## 2. CT\n",
    "- 목표 : 프로그램을 짜기 시작하기 전에, **정확한 결과**가 나올 것인지, **얼마나 빠르게 돌아갈 것인지** 미리 알 수 있을 정도로!\n",
    "    \n",
    "    \n",
    "1. 논리(hard logic) : hard logic은 직관이 아닌 정확한 논리와 검증이 필요함.\n",
    "        \n",
    "    - 명제\n",
    "        - True / False \n",
    "        \n",
    "        - 1 / 0 \n",
    "        \n",
    "        - p -> q : p이면 q이다.\n",
    "    \n",
    "   \n",
    "    \n",
    "    - 합성\n",
    "\n",
    "        - 항진명제 : 진리값이 항상 참\n",
    "\n",
    "        - 모순명제 : 진리값이 항상 거짓\n",
    "\n",
    "        - 사건명제 : 항진명제도 모순명제도 아닌 명제\n",
    "\n",
    "        - 조건명제 : p -> q : p이면 q이다.\n",
    "        \n",
    "        - 쌍방조건명제 : p,q가 명제일 때, 명제 p와 q가 모두 조건이면서 결론인 명제 / p면 q고, q면 p다.\n",
    "\n"
   ]
  },
  {
   "cell_type": "markdown",
   "metadata": {},
   "source": [
    "2. 프로그래밍 언어 문법\n",
    "\n",
    "    - 연산(결합)\n",
    "    \n",
    "        - 부정(not) : ~ p\n",
    "    \n",
    "        - 논리곱(and) : p,q가 명제일 때, p,q 모두 참일 때만 참이 되는 명제\n",
    "    \n",
    "        - 논리합(or) : p,q가 명제일 때, p,q 모두 거짓일 때만 거짓이 되는 명제\n",
    "    \n",
    "        - 배타적 논리합(xor) : p,q가 명제일 때, p,q 중 하나만 참 일때, 참이 되는 명제\n",
    "\n",
    "        ![이미지](../이미지/배타적논리합.PNG)\n",
    "\n",
    "    - 합성\n",
    "        - 연산자 우선순위 : 부정(~) > 논리곱(and), 논리합(or) > 조건명제(→), 쌍방조건명제(⑫)\n",
    "\n",
    "        - 항진명제 : 진리값이 항상 참\n",
    "\n",
    "        - 모순명제 : 진리값이 항상 거짓\n",
    "\n",
    "        - 사건명제 : 항진명제도 모순명제도 아닌 명제\n",
    "\n",
    "        - 조건명제 : p -> q : p이면 q이다. => **가정이 False면 전체는 True다.**\n",
    "\n",
    "        ![이미지](../이미지/조건명제.png)\n",
    "\n",
    "\n",
    "        - 쌍방조건명제 : p,q가 명제일 때, 명제 p와 q가 모두 조건이면서 결론인 명제 (p면 q고, q면 p다.)\n",
    "        \n",
    "        ![이미지](../이미지/쌍방조건명제.PNG)\n",
    "\n",
    "        - 역, 이, 대우\n",
    "        \n",
    "        ![이미지](../이미지/역이대우.PNG)\n",
    "\n",
    "\n",
    "#### 수학적 귀납법과 증명\n",
    "\n",
    "![이미지](../이미지/수학적귀납법.PNG)\n",
    "\n",
    "![이미지](../이미지/수학적귀납법2.PNG)\n",
    "\n",
    "![이미지](../이미지/수학적귀납법3.PNG)\n",
    "\n",
    "![이미지](../이미지/수학적귀납법4.PNG)\n",
    "\n",
    "\n",
    "\n",
    "\n"
   ]
  },
  {
   "cell_type": "markdown",
   "metadata": {},
   "source": [
    "#### 2. 수와 표현\n",
    "\n",
    "![이미지](../이미지/logn.PNG)\n",
    "![이미지](../이미지/logn2.PNG)"
   ]
  },
  {
   "cell_type": "markdown",
   "metadata": {},
   "source": [
    "#### 3. 집합과 조합론\n",
    "\n",
    "- 조합론은 **경우의 수**를 따지는 문제들을 보통 말한다.\n",
    "\n",
    "- 5C2 == 10\n",
    "\n",
    "- (5)\n",
    "  (2)     = 10\n",
    "\n",
    "- 완전 검색 : 순열(nPr), 조합(nCr), 부분집합(subset)"
   ]
  },
  {
   "cell_type": "markdown",
   "metadata": {},
   "source": [
    "#### 4. 기초 수식\n",
    "\n",
    "![이미지](../이미지/기초수식.png)\n",
    "\n",
    "![이미지](../이미지/기초수식2.png)"
   ]
  },
  {
   "cell_type": "markdown",
   "metadata": {},
   "source": [
    "#### 5. 재귀\n",
    "\n",
    "- 재귀란 자기 자신을 호출하는 함수,\n",
    "\n",
    "- 종료조건, 할 일(재귀 호출), 리턴(재귀 탈출)\n",
    "- 재귀는 파서 들어가면 다시 빠져나올 수 있어야함.\n",
    "\n",
    "![이미지](../이미지/재귀이해.png)\n",
    "\n"
   ]
  },
  {
   "cell_type": "markdown",
   "metadata": {},
   "source": [
    "#### 재귀 접근 방법\n",
    "\n",
    "1. 수학적 귀납법 증명\n",
    "\n",
    "    - n이 0일 때, 문제를 풀 수 있음\n",
    "\n",
    "    - n-1에서 문재를 풀 수 있다면, n에서도 문제를 풀 수 있다.\n",
    "    \n",
    "- 위 두 가지가 사실이라면 모든 가능한 n에 대해서 문제를 풀 수 있다는 사실\n",
    "\n",
    "2. 다르게 생각하는 방법:\n",
    "\n",
    "    - 어떤 문제를 해결하려다 **부분 문제**를 만났는데, 원래 해결하려던 입력 케이스와 동일한 문제에 속하지만 **\"크기가 더 작은\" 입력 케이스를 해결**하는 것이 그 부분 문제였다!\n",
    "\n",
    "    - 즉 **부분문제가 동일한 문제**인 경우!\n",
    "\n",
    "    -   => 재귀함수 활용 (부분이 똑같은 구조 반복)\n"
   ]
  },
  {
   "cell_type": "code",
   "execution_count": 2,
   "metadata": {},
   "outputs": [
    {
     "data": {
      "text/plain": [
       "10"
      ]
     },
     "execution_count": 2,
     "metadata": {},
     "output_type": "execute_result"
    }
   ],
   "source": [
    "# 예시\n",
    "\n",
    "def sun(x):\n",
    "    if x<=0:\n",
    "        return 0\n",
    "    \n",
    "    return x + sun(x-1)\n",
    "\n",
    "sun(4)"
   ]
  },
  {
   "cell_type": "code",
   "execution_count": 3,
   "metadata": {},
   "outputs": [
    {
     "data": {
      "text/plain": [
       "55"
      ]
     },
     "execution_count": 3,
     "metadata": {},
     "output_type": "execute_result"
    }
   ],
   "source": [
    "# 피보나치 수열\n",
    "# f(n) = f(n-1) + f(n-2) / f(1) = f(2) = 1\n",
    "\n",
    "def fibo(n):\n",
    "    if n <= 2:\n",
    "        return 1\n",
    "    \n",
    "    return fibo(n-1) + fibo(n-2)\n",
    "\n",
    "fibo(10)"
   ]
  },
  {
   "cell_type": "markdown",
   "metadata": {},
   "source": [
    "#### 6. 동적 프로그래밍\n",
    "\n",
    "- Memoization : 재귀 함수에서 동일한 입력의 함수 호출이 반복적으로 일어날 때, 그 결과 값을 저장해두고 불러씀\n",
    "\n",
    "- Dynamic programming : 결과 값을 순서를 정해서 계산할 수도 있다."
   ]
  },
  {
   "cell_type": "code",
   "execution_count": null,
   "metadata": {},
   "outputs": [],
   "source": [
    "# 피보나치 + memoiziation\n",
    "\n",
    "def fibo1(n):\n",
    "    global cnt\n",
    "    global memo\n",
    "    cnt += 1\n",
    "    if n < 2:\n",
    "        return memo[n]\n",
    "    else:\n",
    "        if memo[n] == 0: # 메모가 아직 구해지지 않았으면\n",
    "            memo[n] = fibo(n-1) + fibo(n-2) \n",
    "        return memo[n] \n",
    "\n",
    "\n",
    "\n",
    "x = 30\n",
    "memo = [0] * (x+1)\n",
    "memo[0] = 0\n",
    "memo[1] = 1\n",
    "cnt = 0 # 함수 호출 갯수\n",
    "print(fibo(x), cnt)"
   ]
  },
  {
   "cell_type": "code",
   "execution_count": null,
   "metadata": {},
   "outputs": [],
   "source": [
    "# 피보나치 수 + DP\n",
    "\n",
    "def fibo2(n):\n",
    "    global cnt\n",
    "    cnt += 1\n",
    "    dp = [0] * (n+1)\n",
    "    dp[0] = 0\n",
    "    dp[1] = 1\n",
    "    for i in range(2,n+1):\n",
    "        dp[i] = dp[i-1] + dp[i-2]\n",
    "    \n",
    "    return dp[n]\n",
    "\n",
    "cnt = 0\n",
    "print(fibo2(100), cnt) "
   ]
  }
 ],
 "metadata": {
  "kernelspec": {
   "display_name": "Python 3",
   "language": "python",
   "name": "python3"
  },
  "language_info": {
   "codemirror_mode": {
    "name": "ipython",
    "version": 3
   },
   "file_extension": ".py",
   "mimetype": "text/x-python",
   "name": "python",
   "nbconvert_exporter": "python",
   "pygments_lexer": "ipython3",
   "version": "3.11.4"
  },
  "orig_nbformat": 4
 },
 "nbformat": 4,
 "nbformat_minor": 2
}
