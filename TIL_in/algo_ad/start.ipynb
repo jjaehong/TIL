{
 "cells": [
  {
   "cell_type": "markdown",
   "metadata": {},
   "source": [
    "## start"
   ]
  },
  {
   "cell_type": "markdown",
   "metadata": {},
   "source": [
    "#### sw 문제 해결\n",
    "\n",
    "![이미지](../이미지/문제해결과정.PNG)\n",
    "![이미지](../이미지/문제해결전략.PNG)"
   ]
  },
  {
   "cell_type": "markdown",
   "metadata": {},
   "source": [
    "#### 복잡도 분석\n",
    "\n",
    "- 알고리즘 효율\n",
    ": 공간적 효율성 vs 시간적 효율성\n",
    "\n",
    "    - 공간적 효율성 : 연산량 대비 얼마나 적은 메모리 공간\n",
    "\n",
    "    - 시간적 효율성 : 연산량 대비 얼마나 적은 시간\n",
    "\n",
    "- 복잡도가 높을수록 효율성은 저하된다.\n",
    "\n",
    "- 복잡도의 **점근적** 표기(limit)\n",
    "    - 단순한 함수로 표현하기\n",
    "    - big-O(최악의 경우) / big-Omega(최선의 경우) / big-theta(평균)\n",
    "    - 점근적 상한       / 점근적 하한             / 평균"
   ]
  },
  {
   "cell_type": "markdown",
   "metadata": {},
   "source": [
    "#### 비트 연산\n",
    "\n",
    "![이미지](../이미지/비트연산자1.PNG)\n",
    "![이미지](../이미지/비트연산자2.PNG)\n",
    "![이미지](../이미지/비트연산자3.PNG)"
   ]
  },
  {
   "cell_type": "code",
   "execution_count": null,
   "metadata": {
    "vscode": {
     "languageId": "plaintext"
    }
   },
   "outputs": [],
   "source": []
  },
  {
   "cell_type": "code",
   "execution_count": null,
   "metadata": {
    "vscode": {
     "languageId": "plaintext"
    }
   },
   "outputs": [],
   "source": []
  }
 ],
 "metadata": {
  "language_info": {
   "name": "python"
  },
  "orig_nbformat": 4
 },
 "nbformat": 4,
 "nbformat_minor": 2
}
