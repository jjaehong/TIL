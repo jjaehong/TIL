{
 "cells": [
  {
   "cell_type": "markdown",
   "metadata": {},
   "source": [
    "## start"
   ]
  },
  {
   "cell_type": "markdown",
   "metadata": {},
   "source": [
    "#### sw 문제 해결\n",
    "\n",
    "![이미지](../이미지/문제해결과정.PNG)\n",
    "![이미지](../이미지/문제해결전략.PNG)"
   ]
  },
  {
   "cell_type": "markdown",
   "metadata": {},
   "source": [
    "#### 복잡도 분석\n",
    "\n",
    "- 알고리즘 효율\n",
    ": 공간적 효율성 vs 시간적 효율성\n",
    "\n",
    "    - 공간적 효율성 : 연산량 대비 얼마나 적은 메모리 공간\n",
    "\n",
    "    - 시간적 효율성 : 연산량 대비 얼마나 적은 시간\n",
    "\n",
    "- 복잡도가 높을수록 효율성은 저하된다.\n",
    "\n",
    "- 복잡도의 **점근적** 표기(limit)\n",
    "    - 단순한 함수로 표현하기\n",
    "    - big-O(최악의 경우) / big-Omega(최선의 경우) / big-theta(평균)\n",
    "    - 점근적 상한       / 점근적 하한             / 평균"
   ]
  },
  {
   "cell_type": "markdown",
   "metadata": {},
   "source": [
    "#### 비트 연산\n",
    "\n",
    "![이미지](../이미지/비트연산자1.PNG)\n",
    "![이미지](../이미지/비트연산자2.PNG)\n",
    "![이미지](../이미지/비트연산자3.PNG)"
   ]
  },
  {
   "cell_type": "code",
   "execution_count": null,
   "metadata": {},
   "outputs": [],
   "source": []
  },
  {
   "cell_type": "code",
   "execution_count": null,
   "metadata": {},
   "outputs": [],
   "source": []
  },
  {
   "cell_type": "code",
   "execution_count": null,
   "metadata": {},
   "outputs": [],
   "source": []
  },
  {
   "cell_type": "markdown",
   "metadata": {},
   "source": [
    "#### 엔디안\n",
    "\n",
    "- 컴퓨터의 메모리와 같은 1차원 공간에 여러 개의 연속된 대상을 배열하는 방법을 의미하며 HW 아키텍처마다 다르다.\n",
    "\n",
    "- 주의 : 속도향상을 위해 바이트 단위와 워드 단위를 변환하여 연산할 때 올바로 이해하지 않으면 오류를 발생시킬 수 있다.\n",
    "\n",
    "- 요즘은 주로 **리틀 엔디안**으로 표준화됨.\n",
    "\n",
    "\n",
    "- 엔디안 확인 코드\n",
    "import sys\n",
    "print(sys.byteorder)"
   ]
  },
  {
   "cell_type": "code",
   "execution_count": null,
   "metadata": {},
   "outputs": [],
   "source": []
  },
  {
   "cell_type": "code",
   "execution_count": 2,
   "metadata": {},
   "outputs": [
    {
     "name": "stdout",
     "output_type": "stream",
     "text": [
      "[0, 0, 0, 1, 0, 1, 0, 1]\n"
     ]
    }
   ],
   "source": [
    "bit = [0] * 8\n",
    "a = 149\n",
    "i= 7\n",
    "\n",
    "while a > 2:\n",
    "    bit[i] = a%2\n",
    "    a//=2\n",
    "    i-=1\n",
    "\n",
    "print(bit)"
   ]
  },
  {
   "cell_type": "code",
   "execution_count": null,
   "metadata": {},
   "outputs": [],
   "source": [
    "# 음의 정수는 2의 보수로서 저장한다."
   ]
  },
  {
   "cell_type": "code",
   "execution_count": null,
   "metadata": {},
   "outputs": [],
   "source": [
    "# 연습문제 2\n",
    "# 16진수 문자로 이루어진 1차 배열이 주어질 때, 앞에서부터 7bit씩 묶어 십진수로 변환하여 출력해보자\n",
    "\n",
    "\n",
    "hex1 = \"0F97A3\"\n",
    "hex2 = \"01D06079861D79F99F\"\n",
    "\n",
    "\n",
    "def solution(hex_string):\n",
    "    # hex_string : 16진수 문자열\n",
    "    # 이걸 2진수 문자열로 바꾸면 길이 * 4\n",
    "    l = len(hex_string) * 4\n",
    "\n",
    "    # 16진수 문자열을 숫자로 바꾸기\n",
    "    x = int(hex_string, 16)\n",
    "\n",
    "    result = \"\"\n",
    "    # 7칸씩 잘라서 이진수로 만든 뒤에 이진수 출력\n",
    "    # 이진수를 10진수로 바꾸고 출력\n",
    "    for i in range(l - 1, -1, -7):\n",
    "        # 현재 위치 i에서 7개 잘라서 이진수 만들어서 출력\n",
    "        # 이진수로 바꾼 결과 문자열\n",
    "        bin_string = \"\"\n",
    "        # l-1 - 0 , l-1 - 1 , l-1 - 2, l-1 - 3, l-1 - 4, l-1 - 5 , l-1 - 6 : 1번째'\n",
    "        for j in range(7):\n",
    "            # x 의 i - j 번째 비트를 판별\n",
    "            # x & (1 << i - j)\n",
    "            if i - j < 0:  # 자를 비트가 7개 미만 남았을때\n",
    "                break\n",
    "            bin_string += \"1\" if x & (1 << i - j) else \"0\"\n",
    "            \n",
    "        print(bin_string, end=\" , \")\n",
    "        dec = int(bin_string, 2)  # 2진수 문자열 10진수로 바꾸기\n",
    "        print(dec)\n",
    "\n",
    "\n",
    "solution(hex1)\n",
    "\"\"\"\n",
    "0000111 1100101 1110100 011 \n",
    "7 101 116 3\n",
    "\"\"\"\n",
    "solution(hex2)\n",
    "\"\"\"\n",
    "0000000 1110100 0001100 0000111 1001100 0011000 0111010 1111001 1111100 1100111 11 \n",
    "0 116 12 7 76 24 58 121 124 103 3\n",
    "\"\"\"\n"
   ]
  },
  {
   "cell_type": "code",
   "execution_count": 3,
   "metadata": {},
   "outputs": [
    {
     "name": "stdout",
     "output_type": "stream",
     "text": [
      "['0', '0', '0', '0', '1', '1', '0', '1', '1', '1', '1', '0', '1', '1', '0', '0']\n",
      ",0,2\n",
      "['0', '0', '0', '0', '0', '0', '1', '0', '0', '1', '1', '0', '1', '0', '0', '1', '1', '1', '1', '1', '1', '0', '1', '0', '1', '1', '0', '0', '1', '0', '0', '1', '1', '0', '1', '0', '0', '0', '0', '0']\n",
      ",1,1,7,8,0\n"
     ]
    }
   ],
   "source": [
    "# 연습문제 3\n",
    "# 16진수 문자로 이루어진 1차 배열이 주어질 때,\n",
    "# 암호비트패턴을 찾아 차례대로 출력하시오. 암호는 연속되어 있다.\n",
    "\n",
    "pattern = {\n",
    "    \"001101\": 0,\n",
    "    \"010011\": 1,\n",
    "    \"111011\": 2,\n",
    "    \"110001\": 3,\n",
    "    \"100011\": 4,\n",
    "    \"110111\": 5,\n",
    "    \"001011\": 6,\n",
    "    \"111101\": 7,\n",
    "    \"011001\": 8,\n",
    "    \"101111\": 9,\n",
    "}\n",
    "\"000000\"\n",
    "\n",
    "hex1 = \"0DEC\"\n",
    "hex2 = \"0269FAC9A0\"\n",
    "\n",
    "\n",
    "def find_pattern(hex_string):\n",
    "    # hex_string 은 16진수 문자열\n",
    "    # 이진수 문자열로 바꾸면 길이가 4배\n",
    "    l = len(hex_string) * 4\n",
    "    x = int(hex_string, 16)  # 숫자로 바꾸기\n",
    "\n",
    "    # 숫자를 다시 이진수 문자열로 바꾸기\n",
    "    bin_string = \"\"\n",
    "\n",
    "    # i번째 비트를 검사 해서 결과가 0 => i번째 비트는 0\n",
    "    # 결과가 0이 아니면 i번째 비트는 1\n",
    "    for i in range(l - 1, -1, -1):\n",
    "        bin_string += \"1\" if x & (1 << i) else \"0\"\n",
    "\n",
    "    bin_list = list(bin_string)  # 가변 타입 리스트로 바꾸기\n",
    "    print(bin_list)\n",
    "\n",
    "    result = \"\"\n",
    "    # 뒤에서부터 검사 해서 1을 만나면 암호 해독 시작\n",
    "    # 1을 만난 순간부터 6개씩 잘라서 검사\n",
    "    for i in range(l - 1, 5, -1):\n",
    "        # 1을 만난 순간부터 6개씩 잘라서 검사\n",
    "        if bin_list[i] == \"0\":\n",
    "            continue\n",
    "\n",
    "        # 1을 만났다.\n",
    "        code = \"\".join(bin_list[i - 5:i + 1])\n",
    "\n",
    "        # 6개 잘라온 코드가 암호 표에 있는지 검사\n",
    "        dec = pattern.get(code)\n",
    "\n",
    "        if dec != None:\n",
    "            result += str(dec) + \",\"\n",
    "\n",
    "            # 암호코드 변경한 나머지 5칸에서 패턴을 또 찾지 않도록 처리\n",
    "            for j in range(i, i - 6, -1):\n",
    "                bin_list[j] = \"0\"\n",
    "\n",
    "    print(result[::-1])\n",
    "\n",
    "\n",
    "find_pattern(hex1)\n",
    "find_pattern(hex2)\n"
   ]
  }
 ],
 "metadata": {
  "kernelspec": {
   "display_name": "Python 3",
   "language": "python",
   "name": "python3"
  },
  "language_info": {
   "codemirror_mode": {
    "name": "ipython",
    "version": 3
   },
   "file_extension": ".py",
   "mimetype": "text/x-python",
   "name": "python",
   "nbconvert_exporter": "python",
   "pygments_lexer": "ipython3",
   "version": "3.9.13"
  },
  "orig_nbformat": 4
 },
 "nbformat": 4,
 "nbformat_minor": 2
}
