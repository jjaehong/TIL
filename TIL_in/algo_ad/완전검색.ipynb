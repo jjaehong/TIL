{
 "cells": [
  {
   "cell_type": "markdown",
   "metadata": {},
   "source": [
    "# 완전 검색 & 그리디"
   ]
  },
  {
   "cell_type": "markdown",
   "metadata": {},
   "source": [
    "## 1. 반복(iteration)과 재귀(recursion)\n",
    "\n",
    "- 반복과 재귀는 유사한 작업을 수행할 수 있다.\n",
    "\n",
    "- 반복은 수행하는 작업이 완료될 때 까지 계속 반복\n",
    "    \n",
    "    - 루프(for, while 구조)\n",
    "\n",
    "- 재귀는 주어진 문제의 해를 구하기 위해 동일하면서 더 작은 문제의 해를 이용하는 방법\n",
    "    \n",
    "    - 하나의 큰 문제를 해결할 수 있는(해결하기 쉬운) 더 작은 문제로 쪼개고 결과들을 결합한다.\n",
    "    \n",
    "    - 재귀 함수로 구현\n",
    "\n",
    "    - 뭔가 동일한 구조가 반복된다고 느껴지면 재귀 사용 !"
   ]
  },
  {
   "cell_type": "markdown",
   "metadata": {},
   "source": [
    "![이미지](../이미지/반복구조.PNG)"
   ]
  },
  {
   "cell_type": "code",
   "execution_count": null,
   "metadata": {},
   "outputs": [],
   "source": [
    "# 선택정렬 + 반복문\n",
    "\n",
    "def Selection_sort(A):\n",
    "\n",
    "    n = len(A)\n",
    "\n",
    "    for i in range(0,n-1):\n",
    "        min_idx = i\n",
    "        for j in range(i+1,n):\n",
    "            if A[j] < A[min_idx]:\n",
    "                min_idx = j\n",
    "                \n",
    "        A[min_idx], A[i] = A[i], A[min_idx]"
   ]
  },
  {
   "cell_type": "markdown",
   "metadata": {},
   "source": [
    "![이미지](../이미지/재귀1.PNG)\n",
    "![이미지](../이미지/재귀3.PNG)\n",
    "![이미지](../이미지/재귀4.PNG)\n"
   ]
  },
  {
   "cell_type": "code",
   "execution_count": null,
   "metadata": {},
   "outputs": [],
   "source": [
    "# 재귀 기본구조 :\n",
    "\n",
    "def backtracking():\n",
    "\n",
    "    # 종료조건\n",
    "\n",
    "    # (가지치기)\n",
    "\n",
    "    # 반복문\n",
    "\n",
    "        # (가지치기)\n",
    "\n",
    "        # 재귀들어가기 전 로직\n",
    "        # 재귀 호출\n",
    "        # 돌아와서 초기화\n",
    "    pass        \n"
   ]
  },
  {
   "cell_type": "markdown",
   "metadata": {},
   "source": [
    "![이미지](../이미지/반복재귀비교.PNG)"
   ]
  },
  {
   "cell_type": "code",
   "execution_count": null,
   "metadata": {},
   "outputs": [],
   "source": [
    "# 선택정렬 + 재귀\n",
    "\n",
    "# selection_sort(i) : i번째 자리에 놓을 리스트에서 i번째로 작은 원소 찾기\n",
    "# 리스트의 길이가 5라면??\n",
    "# selection_sort(0) : 0번 인덱스에 제일 작은 원소 놓기\n",
    "# selection_sort(1) : 1번 인덱스에 그다음으로 작은 원소를 놓기\n",
    "# selection_sort(2) : 2번 인덱스에....\n",
    "# selection_sort(3) : ...\n",
    "# selection_sort(4) : ...\n",
    "# selection_sort(5) ==> 5번 인덱스는 범위를 벗어나니까 종료\n",
    "\n",
    "# 종료 조건 // 재귀 호출\n",
    "\n",
    "def selection_sort(i, lst):\n",
    "    # 종료 조건 : i가 인덱스 범위를 벗어났을때\n",
    "    if i == len(lst):\n",
    "        return\n",
    "\n",
    "    # i번 인덱스에서 해야 할 일:\n",
    "    # 제일 작은값 찾아서 i번 인덱스에 놓기 (자리교환)\n",
    "\n",
    "    min_i = i  # 제일 작은값 인덱스\n",
    "    for j in range(i + 1, len(lst)):\n",
    "        if lst[min_i] > lst[j]:\n",
    "            # 내가 알고있던 최소값보다 j번째 위치의 원소가 작다\n",
    "            min_i = j\n",
    "\n",
    "    # 자리바꾸기\n",
    "    lst[i], lst[min_i] = lst[min_i], lst[i]\n",
    "\n",
    "    # 재귀 호출 : (i+1) 번 인덱스에 놓을 작은 원소 찾으러 ㄱㄱ\n",
    "    selection_sort(i + 1, lst)\n",
    "\n",
    "\n",
    "lst = [3, 2, 4, 5, 1]\n",
    "\n",
    "# 재귀 호출 시작 : 0번째 자리에 놓을 제일 작은 원소 찾기\n",
    "selection_sort(0, lst)\n",
    "\n",
    "print(lst)\n"
   ]
  },
  {
   "cell_type": "markdown",
   "metadata": {},
   "source": [
    "## 2. 완전 검색 기법\n",
    "\n",
    "- 많은 종류의 문제들이 특정 조건을 만족하는 경우나 요소를 찾는 것이다.\n",
    "\n",
    "- 또한, 이들은 전형적으로 **순열(permutation), 조합(combination), 그리고 부분집합(subsets)과 같은 조합적 문제들(combinatorial problem)**과 연관된다.\n",
    "\n",
    "- 완전 검색은 조합적 문제에 대한 brute-force 방법이다.\n",
    "\n"
   ]
  },
  {
   "cell_type": "markdown",
   "metadata": {},
   "source": [
    "#### 고지식한 방법(brute-force)\n",
    "\n",
    "- brute-force(무식한 힘)\n",
    "\n",
    "    - 개념 : **발생할 수 있는 모든 경우를 무식하게 탐색**한다는 의미(완전 검색)\n",
    "\n",
    "    - 장점 :\n",
    "        \n",
    "        - 대부분의 문제에 적용이 가능하며, 알고리즘을 설계하고 구현하기 쉽다.\n",
    "        - 문제에 포함된 자료(요소, 인스턴스)의 크기가 작다면 유용하다.\n",
    "\n",
    "    - 단점 : \n",
    "\n",
    "        - 알고리즘 실행시간과 메모리 효율 측면에서 비효율적이다.\n",
    "\n",
    "    - 활용 : \n",
    "        - 코테 등에서 주어진 문제를 풀 때, **우선 완전 검색으로 접근하여 해답을 도출한 후, 성능 개선을 위해 다른 알고리즘을 사용하고 해답을 확인하는 것이 바람직하다.**\n",
    "\n",
    "\n"
   ]
  },
  {
   "cell_type": "code",
   "execution_count": 5,
   "metadata": {},
   "outputs": [],
   "source": [
    "# baby-gin + brute-force\n",
    "\n",
    "def is_triple(lst):\n",
    "    return lst[0] == lst[1] and lst[1] == lst[2]\n",
    "\n",
    "\n",
    "def is_run(lst):\n",
    "    return lst[0] == lst[1] - 1 and lst[1] == lst[2] - 1\n",
    "\n",
    "\n",
    "# idx 에 놓을 숫자 찾아서 놓기\n",
    "def baby_gin(idx, used, lst):\n",
    "    # 종료 조건 : 6개 숫자 자리를 다 정해줌 ( 순열 완성 )\n",
    "    if idx == 6:\n",
    "        # 베이비진 검사\n",
    "        앞 = [lst[i] for i in used[:3]]\n",
    "        뒤 = [lst[i] for i in used[3:]]\n",
    "        if (is_run(앞) or is_triple(앞)) and (is_triple(뒤) or is_run(뒤)):\n",
    "            print(f\"베이비진!! {앞} {뒤}\")\n",
    "        return\n",
    "\n",
    "    # 6개 숫자중에 하나 골라서 idx 위치에 놓기 (이전에 고른거 빼고)\n",
    "    for i in range(6):\n",
    "        if i not in used:\n",
    "            used.append(i)\n",
    "            baby_gin(idx + 1, used, lst)\n",
    "            used.pop()\n",
    "\n",
    "\n",
    "baby_gin(0, [], [1, 2, 4, 7, 8, 3])\n",
    "# baby_gin(0, [], [6, 6, 7, 7, 6, 7])\n",
    "# baby_gin(0, [], [0, 5, 4, 0, 6, 0])\n",
    "baby_gin(0, [], [1, 0, 1, 1, 2, 3])\n"
   ]
  },
  {
   "cell_type": "code",
   "execution_count": null,
   "metadata": {},
   "outputs": [],
   "source": []
  },
  {
   "cell_type": "code",
   "execution_count": null,
   "metadata": {},
   "outputs": [],
   "source": []
  },
  {
   "cell_type": "code",
   "execution_count": null,
   "metadata": {},
   "outputs": [],
   "source": []
  },
  {
   "cell_type": "code",
   "execution_count": null,
   "metadata": {},
   "outputs": [],
   "source": []
  },
  {
   "cell_type": "code",
   "execution_count": null,
   "metadata": {},
   "outputs": [],
   "source": []
  },
  {
   "cell_type": "code",
   "execution_count": null,
   "metadata": {},
   "outputs": [],
   "source": []
  },
  {
   "cell_type": "code",
   "execution_count": null,
   "metadata": {},
   "outputs": [],
   "source": []
  },
  {
   "cell_type": "code",
   "execution_count": null,
   "metadata": {},
   "outputs": [],
   "source": []
  },
  {
   "cell_type": "code",
   "execution_count": null,
   "metadata": {},
   "outputs": [],
   "source": []
  },
  {
   "cell_type": "code",
   "execution_count": null,
   "metadata": {},
   "outputs": [],
   "source": []
  },
  {
   "cell_type": "code",
   "execution_count": null,
   "metadata": {},
   "outputs": [],
   "source": []
  },
  {
   "cell_type": "markdown",
   "metadata": {},
   "source": [
    "#### 3. 탐욕(greedy) 알고리즘"
   ]
  }
 ],
 "metadata": {
  "kernelspec": {
   "display_name": "Python 3",
   "language": "python",
   "name": "python3"
  },
  "language_info": {
   "codemirror_mode": {
    "name": "ipython",
    "version": 3
   },
   "file_extension": ".py",
   "mimetype": "text/x-python",
   "name": "python",
   "nbconvert_exporter": "python",
   "pygments_lexer": "ipython3",
   "version": "3.9.13"
  },
  "orig_nbformat": 4
 },
 "nbformat": 4,
 "nbformat_minor": 2
}
