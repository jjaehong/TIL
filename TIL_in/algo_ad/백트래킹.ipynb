{
 "cells": [
  {
   "cell_type": "markdown",
   "metadata": {},
   "source": [
    "## 1. 백트래킹(backtracking)"
   ]
  },
  {
   "cell_type": "markdown",
   "metadata": {},
   "source": [
    "- 개념\n",
    "\n",
    "    - 여러 가지 선택지(옵션)들이 존재하는 상황에서 **한 가지를 선택**한다.\n",
    "\n",
    "    - 선택이 이루어지면 **새로운 선택지들의 집합**이 생성된다.\n",
    "\n",
    "    - 이런 선택을 반복하면서 최종 상태에 도달한다.\n",
    "        - 올바른 선택을 계속하면 목표 상태(goal state)에 도달한다.\n",
    "\n",
    "- 설계 전략\n",
    "\n",
    "    - 전체 경우의 수 고려(dfs,bfs)\n",
    "\n",
    "    - **가능성 없는 경우의 수를 제거(가지치기:prunning)**\n",
    "\n",
    "- 예시 : \n",
    "\n",
    "    - 경우의 수 에서 '최소값'을 구해라!\n",
    "\n",
    "\n",
    "- 백트래킹과 깊이 우선 탐색(DFS)과의 차이\n",
    "\n",
    "    - 백트래킹 : 시간 복잡도 다양함..(최선 : 많은 경우의 수 제거! / 최악 : DFS 동일(N!))\n",
    "\n",
    "    - 깊이 우선 탐색이 모든 경로를 추적하는데 비해 백트래킹은 불필요한 경로를 조기에 차단\n",
    "\n",
    "    - 백트래킹은 최적화 문제와 결정 문제를 해결할 수 있다.\n",
    "\n",
    "        - 최적화 문제 : \n",
    "\n",
    "        - 결정 문제 : 문제의 조건을 만족하는 해가 존재하는지의 여부를 'yes' 또는 'no'가 답하는 문제\n",
    "\n",
    "            - ex 미로 찾기, n-queen, map coloring 등등"
   ]
  },
  {
   "cell_type": "markdown",
   "metadata": {},
   "source": [
    "되돌아간다 ==> 재귀.. \n",
    "                - DFS\n",
    "                - 트리 순회\n",
    "                "
   ]
  },
  {
   "cell_type": "code",
   "execution_count": 1,
   "metadata": {},
   "outputs": [
    {
     "name": "stdout",
     "output_type": "stream",
     "text": [
      "[1, 1, 1]\n",
      "[1, 1, 2]\n",
      "[1, 1, 3]\n",
      "[1, 2, 1]\n",
      "[1, 2, 2]\n",
      "[1, 2, 3]\n",
      "[1, 3, 1]\n",
      "[1, 3, 2]\n",
      "[1, 3, 3]\n",
      "[2, 1, 1]\n",
      "[2, 1, 2]\n",
      "[2, 1, 3]\n",
      "[2, 2, 1]\n",
      "[2, 2, 2]\n",
      "[2, 2, 3]\n",
      "[2, 3, 1]\n",
      "[2, 3, 2]\n",
      "[2, 3, 3]\n",
      "[3, 1, 1]\n",
      "[3, 1, 2]\n",
      "[3, 1, 3]\n",
      "[3, 2, 1]\n",
      "[3, 2, 2]\n",
      "[3, 2, 3]\n",
      "[3, 3, 1]\n",
      "[3, 3, 2]\n",
      "[3, 3, 3]\n"
     ]
    }
   ],
   "source": [
    "# {1,2,3} 집합에서 3개의 숫자를 선택하는 기본적인 예제\n",
    "\n",
    "arr = [i for i in range(1,4)]\n",
    "path = [0] * 3\n",
    "\n",
    "def backtracking(cnt):\n",
    "\n",
    "    # 종료 조건 : 숫자 3개를 골랐을 때 \n",
    "\n",
    "    if cnt == 3:\n",
    "        print(path)\n",
    "        return\n",
    "    \n",
    "    for num in arr:\n",
    "        # 들어가기 전 로직 : 경로 저장\n",
    "        path[cnt] = num\n",
    "        # 다음 재귀 함수 호출\n",
    "        backtracking(cnt+1)\n",
    "        # 돌아와서 할 로직\n",
    "        \n",
    "\n",
    "backtracking(0)"
   ]
  },
  {
   "cell_type": "code",
   "execution_count": 2,
   "metadata": {},
   "outputs": [
    {
     "name": "stdout",
     "output_type": "stream",
     "text": [
      "[1, 2, 3]\n"
     ]
    }
   ],
   "source": [
    "# {1,2,3} 집합에서 3개의 숫자를 선택하는 기본적인 예제\n",
    "# 조건 : 이미 사용한 숫자는 사용하지 않도록\n",
    "\n",
    "arr = [i for i in range(1,4)]\n",
    "path = [0] * 3\n",
    "\n",
    "def backtracking(cnt):\n",
    "\n",
    "    # 종료 조건 : 숫자 3개를 골랐을 때 \n",
    "\n",
    "    if cnt == 3:\n",
    "        print(path)\n",
    "        return\n",
    "    \n",
    "    # 반복문\n",
    "    for num in arr:\n",
    "\n",
    "        # 가지치기 : 중복된 숫자 제거\n",
    "        if num in path:\n",
    "            continue\n",
    "\n",
    "\n",
    "        # 재귀 들어가기 전 로직 : 경로 저장\n",
    "        path[cnt] = num\n",
    "        # 다음 재귀 함수 호출\n",
    "        backtracking(cnt+1)\n",
    "\n",
    "\n",
    "        # 돌아와서 할 로직 : 초기화\n",
    "        path[cnt] = 0\n",
    "\n",
    "backtracking(0)"
   ]
  },
  {
   "cell_type": "code",
   "execution_count": null,
   "metadata": {},
   "outputs": [],
   "source": [
    "# 연습문제 2 (backtracking 연습 : 꼭 풀어보기)"
   ]
  },
  {
   "cell_type": "markdown",
   "metadata": {},
   "source": [
    "## 2. 트리\n",
    "\n",
    "- cycle이 없는 연결 그래프\n",
    "    - 사이클 : 출발 후 본인에게 돌아올 길이 있음.\n",
    "    - 연결그래프 : 모든 꼭지점이 서로 갈 수 있다.\n",
    "\n",
    "- 이진 트리\n",
    "    - 자녀 노드가 둘 이하인 트리\n",
    "    \n",
    "    0. 이진 트리 종류\n",
    "        - 완전 이진 트리\n",
    "            - 마지막 레벨을 제외한 모든 레벨은 꽉 차 있어야 한다.\n",
    "            - 자미막 레벨 노드는 왼쪽부터 채워져야한다.\n",
    "        - 포화 이진 트리\n",
    "            - 모든 레벨이 꽉 차 있는 것\n",
    "        - 나머지\n",
    "    \n",
    "    1. 순회방법\n",
    "    \n",
    "    2. 트리 저장 방법"
   ]
  },
  {
   "cell_type": "code",
   "execution_count": null,
   "metadata": {},
   "outputs": [],
   "source": [
    "# 연습문제 3\n",
    "\n",
    "\n",
    "# 0. 이진 트리 저장\n",
    "\n",
    "    # 1차원 배열 저장\n",
    "\n",
    "# 1. \"연결\" 리스트로 저장 : 개발용\n",
    "class Treenode:\n",
    "    def __init__(self,value):\n",
    "        self.value = value\n",
    "        self.left = None\n",
    "        self.right = None\n",
    "\n",
    "    # 삽입 함수\n",
    "    def insert(self,childnode):\n",
    "        \n",
    "        # 왼쪽 자식이 없을 경우\n",
    "        if not self.left:\n",
    "            self.left = childnode\n",
    "            return\n",
    "        \n",
    "        # 오른쪽 자식이 없을 경우\n",
    "        if not self.right:\n",
    "            self.right = childnode\n",
    "            return\n",
    "\n",
    "        return\n",
    "    \n",
    "    # 순회\n",
    "    def preorder(self):\n",
    "\n",
    "        # 아무것도 없는 트리를 조회할 때\n",
    "        if self != None:\n",
    "            print(self.value, end=' ')\n",
    "\n",
    "            # 왼쪽 자식이 있다면 왼쪽 자식 조회\n",
    "            if self.left:\n",
    "                self.left.preorder()\n",
    "            \n",
    "            # 오른쪽 자식이 있다면 오른쪽 자식 조회\n",
    "            if self.right:\n",
    "                self.right.preorder()\n",
    "\n",
    "\n",
    "\n",
    "# 짝수번째 idx -> 홀수번째 idx 연결\n",
    "arr = [1,2,1,3,2,4,3,5,3,6]\n",
    "\n",
    "# 이진트리 만들기        \n",
    "nodes = [Treenode(i) for i in range(0,14)]\n",
    "for i in range(0,len(arr),2):\n",
    "    parentnode = arr[i]\n",
    "    childnode = arr[i+1]\n",
    "    nodes[parentnode].insert(nodes[childnode])\n",
    "\n",
    "nodes[1].preorder"
   ]
  },
  {
   "cell_type": "code",
   "execution_count": null,
   "metadata": {},
   "outputs": [],
   "source": []
  },
  {
   "cell_type": "code",
   "execution_count": null,
   "metadata": {},
   "outputs": [],
   "source": []
  },
  {
   "cell_type": "code",
   "execution_count": null,
   "metadata": {},
   "outputs": [],
   "source": []
  },
  {
   "cell_type": "code",
   "execution_count": null,
   "metadata": {},
   "outputs": [],
   "source": []
  },
  {
   "cell_type": "code",
   "execution_count": null,
   "metadata": {},
   "outputs": [],
   "source": []
  },
  {
   "cell_type": "markdown",
   "metadata": {},
   "source": [
    "![이미지](../이미지/이진탐색트리.PNG)\n",
    "\n",
    "\n",
    "![이미지](../이미지/이진힙.PNG)"
   ]
  }
 ],
 "metadata": {
  "kernelspec": {
   "display_name": "Python 3",
   "language": "python",
   "name": "python3"
  },
  "language_info": {
   "codemirror_mode": {
    "name": "ipython",
    "version": 3
   },
   "file_extension": ".py",
   "mimetype": "text/x-python",
   "name": "python",
   "nbconvert_exporter": "python",
   "pygments_lexer": "ipython3",
   "version": "3.9.13"
  },
  "orig_nbformat": 4
 },
 "nbformat": 4,
 "nbformat_minor": 2
}
