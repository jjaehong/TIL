{
 "cells": [
  {
   "cell_type": "code",
   "execution_count": null,
   "metadata": {},
   "outputs": [],
   "source": []
  },
  {
   "cell_type": "markdown",
   "metadata": {},
   "source": [
    "## CT\n",
    "- 목표 : 프로그램을 짜기 시작하기 전에, **정확한 결과**가 나올 것인지, **얼마나 빠르게 돌아갈 것인지** 미리 알 수 있을 정도로!\n",
    "    \n",
    "    \n",
    "1. 논리(hard logic) : hard logic은 직관이 아닌 정확한 논리와 검증이 필요함.\n",
    "        \n",
    "    - 명제\n",
    "        - True / False \n",
    "        - p -> q : p이면 q이다.\n",
    "    \n",
    "   \n",
    "    \n",
    "    [합성]\n",
    "        - 항진명제 : 진리값이 항상 참\n",
    "        - 모순명제 : 진리값이 항상 거짓\n",
    "        - 사건명제 : 항진명제도 모순명제도 아닌 명제\n",
    "        - 조건명제 : p -> q : p이면 q이다.\n",
    "        - 쌍방조건명제 : p,q가 명제일 때, 명제 p와 q가 모두 조건이면서 결론인 명제 / p면 q고, q면 p다.\n",
    "\n",
    "\n",
    "    \n",
    "2. 프로그래밍 언어 문법\n",
    "\n"
   ]
  },
  {
   "cell_type": "markdown",
   "metadata": {},
   "source": [
    "[연산(결합)]\n",
    "\n",
    "    - 부정(not) : ~ p\n",
    "\n",
    "    - 논리곱(and) : p,q가 명제일 때, p,q 모두 참일 때만 참이 되는 명제\n",
    "\n",
    "    - 논리합(or) : p,q가 명제일 때, p,q 모두 거짓일 때만 거짓이 되는 명제\n",
    "\n",
    "    - 배타적 논리합(xor) : p,q가 명제일 때, p,q 중 하나만 참 일때, 참이 되는 명제\n",
    "\n",
    "![이미지](../이미지/배타적논리합.PNG)\n",
    "\n",
    "\n"
   ]
  },
  {
   "cell_type": "markdown",
   "metadata": {},
   "source": [
    "[합성]\n",
    "\n",
    "    - 항진명제 : 진리값이 항상 참\n",
    "\n",
    "    - 모순명제 : 진리값이 항상 거짓\n",
    "\n",
    "    - 사건명제 : 항진명제도 모순명제도 아닌 명제\n",
    "\n",
    "    - 조건명제 : p -> q : p이면 q이다. \n",
    "![이미지](../이미지/조건명제.png)\n",
    "\n",
    "#### 가정이 False면 전체는 True다.\n",
    "\n",
    "    - 쌍방조건명제 : p,q가 명제일 때, 명제 p와 q가 모두 조건이면서 결론인 명제 / p면 q고, q면 p다.\n",
    "![이미지](../이미지/쌍방조건명제.PNG)\n",
    "\n",
    "    - 역, 이, 대우\n",
    "![이미지](../이미지/역이대우.PNG)\n",
    "\n"
   ]
  },
  {
   "cell_type": "markdown",
   "metadata": {},
   "source": [
    "#### 2. 수와 표현\n",
    "\n",
    "![이미지](../이미지/logn.PNG)\n",
    "![이미지](../이미지/logn2.PNG)"
   ]
  },
  {
   "cell_type": "markdown",
   "metadata": {},
   "source": [
    "#### 4. 기초 수식\n",
    "\n",
    "![이미지](../이미지/기초수식.png)\n",
    "\n",
    "![이미지](../이미지/기초수식2.png)"
   ]
  }
 ],
 "metadata": {
  "language_info": {
   "name": "python"
  },
  "orig_nbformat": 4
 },
 "nbformat": 4,
 "nbformat_minor": 2
}
