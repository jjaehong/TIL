{
 "cells": [
  {
   "cell_type": "markdown",
   "metadata": {},
   "source": [
    "# 3. 완전 검색 & 그리디"
   ]
  },
  {
   "cell_type": "markdown",
   "metadata": {},
   "source": [
    "## 1. 반복(iteration)과 재귀(recursion)\n",
    "\n",
    "- 반복과 재귀는 유사한 작업을 수행할 수 있다.\n",
    "\n",
    "- 반복은 수행하는 작업이 완료될 때 까지 계속 반복\n",
    "    \n",
    "    - 루프(for, while 구조)\n",
    "\n",
    "- 재귀는 주어진 문제의 해를 구하기 위해 동일하면서 더 작은 문제의 해를 이용하는 방법\n",
    "    \n",
    "    - 하나의 큰 문제를 해결할 수 있는(해결하기 쉬운) 더 작은 문제로 쪼개고 결과들을 결합한다.\n",
    "    \n",
    "    - 재귀 함수로 구현\n",
    "\n",
    "    - 문제에서 **동일한 구조가 반복**된다고 느껴지면 **재귀 사용 !** => 시간 복잡도도 생각!"
   ]
  },
  {
   "cell_type": "markdown",
   "metadata": {},
   "source": [
    "![이미지](../이미지/반복구조.PNG)"
   ]
  },
  {
   "cell_type": "code",
   "execution_count": null,
   "metadata": {},
   "outputs": [],
   "source": [
    "# 선택정렬 + 반복문\n",
    "\n",
    "def Selection_sort(A):\n",
    "\n",
    "    n = len(A)\n",
    "\n",
    "    for i in range(0,n-1):\n",
    "        min_idx = i\n",
    "        for j in range(i+1,n):\n",
    "            if A[j] < A[min_idx]:\n",
    "                min_idx = j\n",
    "                \n",
    "        A[min_idx], A[i] = A[i], A[min_idx]"
   ]
  },
  {
   "cell_type": "markdown",
   "metadata": {},
   "source": [
    "![이미지](../이미지/재귀1.PNG)\n",
    "![이미지](../이미지/재귀3.PNG)\n",
    "![이미지](../이미지/재귀4.PNG)\n"
   ]
  },
  {
   "cell_type": "code",
   "execution_count": null,
   "metadata": {},
   "outputs": [],
   "source": [
    "# 재귀 기본구조 :\n",
    "\n",
    "def backtracking():\n",
    "\n",
    "    # 종료조건\n",
    "\n",
    "    # (가지치기)\n",
    "\n",
    "    # 반복문\n",
    "\n",
    "        # (가지치기)\n",
    "\n",
    "        # 재귀들어가기 전 로직\n",
    "        # 재귀 호출\n",
    "        # 돌아와서 초기화\n",
    "    return\n"
   ]
  },
  {
   "cell_type": "markdown",
   "metadata": {},
   "source": [
    "![이미지](../이미지/반복재귀비교.PNG)"
   ]
  },
  {
   "cell_type": "code",
   "execution_count": null,
   "metadata": {},
   "outputs": [],
   "source": [
    "# 선택정렬 + 재귀\n",
    "\n",
    "# selection_sort(i) : i번째 자리에 놓을 리스트에서 i번째로 작은 원소 찾기\n",
    "# 리스트의 길이가 5라면??\n",
    "# selection_sort(0) : 0번 인덱스에 제일 작은 원소 놓기\n",
    "# selection_sort(1) : 1번 인덱스에 그다음으로 작은 원소를 놓기\n",
    "# selection_sort(2) : 2번 인덱스에....\n",
    "# selection_sort(3) : ...\n",
    "# selection_sort(4) : ...\n",
    "# selection_sort(5) ==> 5번 인덱스는 범위를 벗어나니까 종료\n",
    "\n",
    "# 종료 조건 // 재귀 호출\n",
    "\n",
    "def selection_sort(i, lst):\n",
    "    # 종료 조건 : i가 인덱스 범위를 벗어났을때\n",
    "    if i == len(lst):\n",
    "        return\n",
    "\n",
    "    # i번 인덱스에서 해야 할 일:\n",
    "    # 제일 작은값 찾아서 i번 인덱스에 놓기 (자리교환)\n",
    "\n",
    "    min_i = i  # 제일 작은값 인덱스\n",
    "    for j in range(i + 1, len(lst)):\n",
    "        if lst[min_i] > lst[j]:\n",
    "            # 내가 알고있던 최소값보다 j번째 위치의 원소가 작다\n",
    "            min_i = j\n",
    "\n",
    "    # 자리바꾸기\n",
    "    lst[i], lst[min_i] = lst[min_i], lst[i]\n",
    "\n",
    "    # 재귀 호출 : (i+1) 번 인덱스에 놓을 작은 원소 찾으러 ㄱㄱ\n",
    "    selection_sort(i + 1, lst)\n",
    "\n",
    "\n",
    "lst = [3, 2, 4, 5, 1]\n",
    "\n",
    "# 재귀 호출 시작 : 0번째 자리에 놓을 제일 작은 원소 찾기\n",
    "selection_sort(0, lst)\n",
    "\n",
    "print(lst)\n"
   ]
  },
  {
   "cell_type": "markdown",
   "metadata": {},
   "source": [
    "## 2. 완전 검색 기법\n",
    "\n",
    "- 많은 종류의 문제들이 특정 조건을 만족하는 경우나 요소를 찾는 것이다.\n",
    "\n",
    "- 또한, 이들은 전형적으로 **순열(permutation), 조합(combination), 그리고 부분집합(subsets)과 같은 조합적 문제들(combinatorial problem)**과 연관된다.\n",
    "\n",
    "- 완전 검색은 조합적 문제에 대한 brute-force 방법이다.\n",
    "\n"
   ]
  },
  {
   "cell_type": "markdown",
   "metadata": {},
   "source": [
    "#### 1. 고지식한 방법(brute-force)\n",
    "\n",
    "- brute-force(무식한 힘)\n",
    "\n",
    "    - 개념 : **발생할 수 있는 모든 경우를 무식하게 탐색**한다는 의미(완전 검색)\n",
    "\n",
    "    - 장점 :\n",
    "        \n",
    "        - 대부분의 문제에 적용이 가능하며, 알고리즘을 설계하고 구현하기 쉽다.\n",
    "        - 문제에 포함된 자료(요소, 인스턴스)의 크기가 작다면 유용하다.\n",
    "\n",
    "    - 단점 : \n",
    "\n",
    "        - 알고리즘 실행시간과 메모리 효율 측면에서 비효율적이다.\n",
    "\n",
    "    - 활용 : \n",
    "        - 코테 등에서 주어진 문제를 풀 때, **우선 완전 검색으로 접근하여 해답을 도출한 후, 성능 개선을 위해 다른 알고리즘을 사용하고 해답을 확인하는 것이 바람직하다.**\n",
    "\n",
    "\n"
   ]
  },
  {
   "cell_type": "code",
   "execution_count": 5,
   "metadata": {},
   "outputs": [],
   "source": [
    "# baby-gin + brute-force\n",
    "\n",
    "def is_triple(lst):\n",
    "    return lst[0] == lst[1] and lst[1] == lst[2]\n",
    "\n",
    "\n",
    "def is_run(lst):\n",
    "    return lst[0] == lst[1] - 1 and lst[1] == lst[2] - 1\n",
    "\n",
    "\n",
    "# idx 에 놓을 숫자 찾아서 놓기\n",
    "def baby_gin(idx, used, lst):\n",
    "    # 종료 조건 : 6개 숫자 자리를 다 정해줌 ( 순열 완성 )\n",
    "    if idx == 6:\n",
    "        # 베이비진 검사\n",
    "        앞 = [lst[i] for i in used[:3]]\n",
    "        뒤 = [lst[i] for i in used[3:]]\n",
    "        if (is_run(앞) or is_triple(앞)) and (is_triple(뒤) or is_run(뒤)):\n",
    "            print(f\"베이비진!! {앞} {뒤}\")\n",
    "        return\n",
    "\n",
    "    # 6개 숫자중에 하나 골라서 idx 위치에 놓기 (이전에 고른거 빼고)\n",
    "    for i in range(6):\n",
    "        if i not in used:\n",
    "            used.append(i)\n",
    "            baby_gin(idx + 1, used, lst)\n",
    "            used.pop()\n",
    "\n",
    "\n",
    "baby_gin(0, [], [1, 2, 4, 7, 8, 3])\n",
    "# baby_gin(0, [], [6, 6, 7, 7, 6, 7])\n",
    "# baby_gin(0, [], [0, 5, 4, 0, 6, 0])\n",
    "baby_gin(0, [], [1, 0, 1, 1, 2, 3])\n"
   ]
  },
  {
   "cell_type": "markdown",
   "metadata": {},
   "source": [
    "#### 2. 순열\n",
    "\n",
    "- 서로 다른 것들 중 몇 개를 뽑아서 **한 줄로 나열하는 것(순서 있음)**\n",
    "\n",
    "- nPr : 서로 다른 n개 중 r개를 택하는 순열\n"
   ]
  },
  {
   "cell_type": "markdown",
   "metadata": {},
   "source": [
    "- **최소 변경**을 통한 순열 생성 방법\n",
    "\n",
    "    - 각각의 순열들은 이전의 상태에서 단지 두 개의 요소들 **교환**을 통해 생성\n",
    "\n",
    "    - [*1* 2 *3*] [*3* *2* 1] [2 *3* *1*] [*2* 1 *3*] [*3* *1* 2] [1 3 2]"
   ]
  },
  {
   "cell_type": "code",
   "execution_count": 1,
   "metadata": {},
   "outputs": [],
   "source": [
    "# 순열 + 재귀\n",
    "\n",
    "def perm(i,k):\n",
    "    if i == k:\n",
    "        print(array) # 원하는 작업 수행\n",
    "\n",
    "    else:\n",
    "        for j in range(i,k):\n",
    "            p[i]"
   ]
  },
  {
   "cell_type": "code",
   "execution_count": null,
   "metadata": {},
   "outputs": [],
   "source": []
  },
  {
   "cell_type": "code",
   "execution_count": null,
   "metadata": {},
   "outputs": [],
   "source": []
  },
  {
   "cell_type": "code",
   "execution_count": null,
   "metadata": {},
   "outputs": [],
   "source": []
  },
  {
   "cell_type": "code",
   "execution_count": null,
   "metadata": {},
   "outputs": [],
   "source": []
  },
  {
   "cell_type": "markdown",
   "metadata": {},
   "source": [
    "#### 4. 조합(combination)\n",
    " \n",
    "- nCr : 서로 다른 n개의 원소 중 r개를 **순서 없이** 골라낸 것\n",
    "\n",
    "- 재귀적 표현 \n",
    "    \n",
    "    - n개 중에서 어떤 한 원소를 포함하고 (r-1)개를 선택한 경우와\n",
    "    \n",
    "    - n개 중 어떤 한 원소를 포함하지 않고 r개를 선택한 경우를 합친 경유\n",
    "\n",
    "\n",
    "![이미지](../이미지/조합%20수식.PNG)\n",
    "![이미지](../이미지/조합재귀.PNG)\n",
    "![이미지](../이미지/조합재귀2.PNG)"
   ]
  },
  {
   "cell_type": "code",
   "execution_count": 1,
   "metadata": {},
   "outputs": [
    {
     "name": "stdout",
     "output_type": "stream",
     "text": [
      "[3, 4, 5]\n",
      "[2, 4, 5]\n",
      "[1, 4, 5]\n",
      "[2, 3, 5]\n",
      "[1, 3, 5]\n",
      "[1, 2, 5]\n",
      "[2, 3, 4]\n",
      "[1, 3, 4]\n",
      "[1, 2, 4]\n",
      "[1, 2, 3]\n"
     ]
    }
   ],
   "source": [
    "# 조합 + 재귀\n",
    "\n",
    "def ncr(n,r):\n",
    "    if r ==0:\n",
    "        print(tr)\n",
    "    elif n<r:# 남은 원소보다 많은 원소를 선택해야하는 경우\n",
    "        return # 불가\n",
    "    else:\n",
    "        tr[r-1] = arr[n-1] # arr[n-1] 조합에 포합시키는 경우\n",
    "        ncr(n-1,r-1)\n",
    "        ncr(n-1,r) # arr[n-1]을 포함시키지 않는 경우\n",
    "N = 5\n",
    "R = 3 \n",
    "\n",
    "arr = [1,2,3,4,5] # 여기서 r개 뽑음\n",
    "tr = [0]*R # 완성해야할 조합\n",
    "ncr(N,R)"
   ]
  },
  {
   "cell_type": "code",
   "execution_count": 3,
   "metadata": {},
   "outputs": [
    {
     "name": "stdout",
     "output_type": "stream",
     "text": [
      "3 2 1\n",
      "4 2 1\n",
      "5 2 1\n",
      "4 3 1\n",
      "5 3 1\n",
      "5 4 1\n",
      "4 3 2\n",
      "5 3 2\n",
      "5 4 2\n",
      "5 4 3\n"
     ]
    }
   ],
   "source": [
    "# ncr2 \n",
    "# n개에서 r개를 고르는 조합, s 선택할 수 있는 구간의 시작\n",
    "\n",
    "def ncr2(n,r,s): \n",
    "    if r == 0:\n",
    "        print(*comb) # 하고싶은 연산 수행\n",
    "    \n",
    "    else:\n",
    "        for i in range(s, n-r+1):\n",
    "            comb[r-1] = arr[i]\n",
    "            ncr2(n,r-1,i+1)\n",
    "\n",
    "arr = [1,2,3,4,5]\n",
    "N = len(arr)\n",
    "R = 3\n",
    "\n",
    "comb = [0]*R\n",
    "ncr2(N,R,0)\n",
    "\n",
    "# n개 중에서 r을 고르는데, test_case마다 n과 r이 다른데??\n",
    "# 조합 + 재귀(위아래 둘 중 하나 암기) \n"
   ]
  },
  {
   "cell_type": "code",
   "execution_count": 10,
   "metadata": {},
   "outputs": [
    {
     "name": "stdout",
     "output_type": "stream",
     "text": [
      "\n",
      "\n",
      "\n",
      "\n",
      "\n",
      "\n",
      "\n",
      "\n",
      "\n",
      "\n",
      "\n",
      "\n",
      "\n",
      "\n",
      "\n",
      "\n",
      "\n",
      "\n",
      "\n",
      "\n",
      "\n",
      "\n",
      "\n",
      "\n",
      "\n",
      "\n",
      "\n",
      "\n",
      "\n",
      "\n",
      "\n",
      "\n",
      "\n",
      "\n",
      "\n",
      "\n",
      "\n",
      "\n",
      "\n",
      "\n",
      "\n",
      "\n",
      "\n"
     ]
    }
   ],
   "source": [
    "# 연습문제 3\n",
    "# 부분집합 합 문제 구현하기\n",
    "# 아래의 10개 정수 집합에 대한  모든 부분 집합 중 원소의 합이 0이 되는 부분집합을 모두 출력하시오.\n",
    "# 모두 출력 : 바이너리 카운팅, 재귀 => 두 방법 모두 가능!\n",
    "\n",
    "\n",
    "# now_sum은 j를 포함시키기 전에 이전까지의 합을 넘겨주기\n",
    "def subset(i,N,now_sum):\n",
    "\n",
    "    # 가지 치기\n",
    "\n",
    "\n",
    "\n",
    "    # 종료 조건\n",
    "\n",
    "    if i == N:\n",
    "        if now_sum == 0: \n",
    "            for j in range(N):\n",
    "                if bit[j]:\n",
    "                    print(arr[j], end = ' ')\n",
    "            print()\n",
    "    else:\n",
    "        subset(i+1,N, now_sum+arr[i])\n",
    "        subset(i+1,N, now_sum)\n",
    "    return\n",
    "\n",
    "\n",
    "\n",
    "arr = [-1,3,-9,6,7,-6,1,5,4,-2]\n",
    "N = len(arr)\n",
    "bit = [0]*N\n",
    "subset(0,N,0)\n"
   ]
  },
  {
   "cell_type": "markdown",
   "metadata": {},
   "source": [
    "#### 3. 탐욕(greedy) 알고리즘\n",
    "\n",
    "\n",
    "1. 개념\n",
    "\n",
    "- 여러 경우 중 하나를 선택할 때마다 **그 순간에 최적**이라고 생각되는 것을 선택해 나가는 방식으로 진행하여 최종적인 해답에 도달한다.\n",
    "\n",
    "- 다만 그 선택들을 계속 수집하여 최종적인 해답을 만들었다고 하여, **그것이 최적이라는 보장은 없다.**\n",
    "\n",
    "- 한번 선택된 것은 번복하지 않기에, 대부분의 탐욕 알고리즘들은 단순하며, 제한적인 문제들에 적용된다.\n",
    "\n",
    "2. 동작과정\n",
    "\n",
    "- 1. 해 선택 : 현재 상태에서 부분문제의 최적해를 구한 뒤, 이를 부분해 집합(solution set)에 추가한다.\n",
    "\n",
    "- 2. 실행 가능성 검사 : 새로운 부분 해 집합이 실행가능한지를 확인한다. 곧 문제의 제약 조건을 위반하지 않는 지를 검사한다.\n",
    "\n",
    "- 3. 해 검사 : 새로운 부분 해 집합이 문제의 해가 되는지를 확인한다. 아직 전체 문제의 해가 완성되지 않았다면 1의 해 선택부터 다시 시작한다.\n",
    "\n",
    "\n"
   ]
  },
  {
   "cell_type": "markdown",
   "metadata": {},
   "source": []
  }
 ],
 "metadata": {
  "kernelspec": {
   "display_name": "Python 3",
   "language": "python",
   "name": "python3"
  },
  "language_info": {
   "codemirror_mode": {
    "name": "ipython",
    "version": 3
   },
   "file_extension": ".py",
   "mimetype": "text/x-python",
   "name": "python",
   "nbconvert_exporter": "python",
   "pygments_lexer": "ipython3",
   "version": "3.9.13"
  },
  "orig_nbformat": 4
 },
 "nbformat": 4,
 "nbformat_minor": 2
}
