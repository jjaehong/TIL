{
 "cells": [
  {
   "cell_type": "markdown",
   "metadata": {},
   "source": [
    "## Many to many relationships 1(N:M or M:N)\n",
    "\n",
    "- 양쪽 모두에서 N:1 관계를 가짐"
   ]
  },
  {
   "cell_type": "markdown",
   "metadata": {},
   "source": [
    "#### 1. 개요 : M:N 관계의 역할과 필요성 이해하기\n",
    "\n",
    "- '병원 진료 시스템 모델 관계'를 만들며 M:N 관계의 역할과 필요성 이해하기\n",
    "\n",
    "- 환자와 의사 2개의 모델을 사용하여 모델 구조 구상하기\n",
    "\n",
    "- 제공된 **'99-mtm-practice'프로젝트**를 기반으로 진행"
   ]
  },
  {
   "cell_type": "markdown",
   "metadata": {},
   "source": [
    "#### 2. N:1의 한계\n",
    "\n",
    "1. 모델관계 설정\n",
    "\n",
    "![이미지](../이미지/의사와%20환자.PNG)\n",
    "\n",
    "\n",
    "2. 의사와 환자 데이터 생성\n",
    "\n",
    "![이미지](../이미지/의사와%20환자2.PNG)\n",
    "\n",
    "\n",
    "\n",
    "3. N:1 한계 상황\n",
    "\n",
    "![이미지](../이미지/의사와%20환자3.PNG)\n",
    "\n",
    "![이미지](../이미지/의사와%20환자4.PNG)\n",
    "\n",
    "![이미지](../이미지/의사와%20환자5.PNG)"
   ]
  },
  {
   "cell_type": "markdown",
   "metadata": {},
   "source": [
    "#### 3. 중개 모델\n",
    "\n",
    "1. 예약 모델(중개모델) 생성 및 데이터 생성\n",
    "\n",
    "![이미지](../이미지/중개모델1.PNG)\n",
    "\n",
    "![이미지](../이미지/중개모델2.PNG)\n",
    "\n",
    "2. 예약 정보 조회 + 추가 예약 생성 후 조회\n",
    "\n",
    "![이미지](../이미지/중개모델3.PNG)\n",
    "\n",
    "![이미지](../이미지/중개모델4.PNG)\n",
    "\n",
    "![이미지](../이미지/중개모델5.PNG)\n",
    "\n",
    "#### Django에서는 'Many To ManyField'로 중개모델을 자동으로 생성"
   ]
  },
  {
   "cell_type": "markdown",
   "metadata": {},
   "source": [
    "#### 4. Many To ManyField\n",
    "\n",
    "![이미지](../이미지/mtm1.PNG)\n",
    "\n",
    "![이미지](../이미지/mtm2.PNG)\n",
    "\n",
    "![이미지](../이미지/mtm3.PNG)\n",
    "\n",
    "![이미지](../이미지/mtm4.PNG)\n",
    "\n",
    "![이미지](../이미지/mtm5.PNG)\n",
    "\n",
    "![이미지](../이미지/mtm7.PNG)\n",
    "\n",
    "#### 만약 예약 정보에 증상, 예약일 등 추가 정보가 포함되어야 한다면? => 'through' argument"
   ]
  },
  {
   "cell_type": "markdown",
   "metadata": {},
   "source": []
  },
  {
   "cell_type": "markdown",
   "metadata": {},
   "source": []
  },
  {
   "cell_type": "markdown",
   "metadata": {},
   "source": [
    "![이미지](../이미지/m,n%20주의사항.PNG)"
   ]
  },
  {
   "cell_type": "markdown",
   "metadata": {},
   "source": []
  },
  {
   "cell_type": "markdown",
   "metadata": {},
   "source": []
  },
  {
   "cell_type": "markdown",
   "metadata": {},
   "source": []
  },
  {
   "cell_type": "markdown",
   "metadata": {},
   "source": [
    "![이미지](../이미지/symmetrical.PNG)\n",
    "\n",
    "- 팔로우 기능\n",
    "\n",
    "-"
   ]
  },
  {
   "cell_type": "markdown",
   "metadata": {},
   "source": [
    "#### '좋아요' 기능\n",
    "\n",
    "- Many to many relationships(N:M or M:N)\n",
    "\n",
    "1. 모델 관계 설정\n",
    "\n",
    "- Article(M) - User(N)\n",
    "\n",
    "    - 게시글은 회원으로부터 0개 이상의 좋아요를 받을 수 있고, 회원은 0개 이상의 게시글에 좋아요를 누를 수 있음\n",
    "\n",
    "![이미지](../이미지/모델관계설정2.PNG)"
   ]
  },
  {
   "cell_type": "markdown",
   "metadata": {},
   "source": [
    "![이미지](../이미지/에러메시지.PNG)\n",
    "![이미지](../이미지/에러메시지1.PNG)"
   ]
  },
  {
   "cell_type": "markdown",
   "metadata": {},
   "source": [
    "![이미지](../이미지/related_manager정리.PNG)"
   ]
  },
  {
   "cell_type": "code",
   "execution_count": null,
   "metadata": {},
   "outputs": [],
   "source": []
  }
 ],
 "metadata": {
  "language_info": {
   "name": "python"
  }
 },
 "nbformat": 4,
 "nbformat_minor": 2
}
