{
 "cells": [
  {
   "cell_type": "markdown",
   "metadata": {},
   "source": [
    "## Many to many relationships 1(N:M or M:N)\n",
    "\n",
    "- 양쪽 모두에서 N:1 관계를 가짐"
   ]
  },
  {
   "cell_type": "markdown",
   "metadata": {},
   "source": [
    "#### 1. 개요 : M:N 관계의 역할과 필요성 이해하기\n",
    "\n",
    "- '병원 진료 시스템 모델 관계'를 만들며 M:N 관계의 역할과 필요성 이해하기\n",
    "\n",
    "- 환자 - 의사 2개의 모델을 사용하여 모델 구조 구상하기\n",
    "\n",
    "- 제공된 **'99-mtm-practice'프로젝트**를 기반으로 진행"
   ]
  },
  {
   "cell_type": "markdown",
   "metadata": {},
   "source": [
    "#### 2. N:1의 한계\n",
    "\n",
    "1. 모델관계 설정\n",
    "\n",
    "![이미지](../이미지/의사와%20환자.PNG)\n",
    "\n",
    "\n",
    "2. 의사와 환자 데이터 생성\n",
    "\n",
    "![이미지](../이미지/의사와%20환자2.PNG)\n",
    "\n",
    "\n",
    "\n",
    "3. N:1 한계 상황\n",
    "\n",
    "![이미지](../이미지/의사와%20환자3.PNG)\n",
    "\n",
    "![이미지](../이미지/의사와%20환자4.PNG)\n",
    "\n",
    "![이미지](../이미지/의사와%20환자5.PNG)"
   ]
  },
  {
   "cell_type": "markdown",
   "metadata": {},
   "source": [
    "#### 3. 중개 모델\n",
    "\n",
    "1. 예약 모델(중개모델) 생성 및 데이터 생성\n",
    "\n",
    "![이미지](../이미지/중개모델1.PNG)\n",
    "\n",
    "![이미지](../이미지/중개모델2.PNG)\n",
    "\n",
    "2. 예약 정보 조회 + 추가 예약 생성 후 조회\n",
    "\n",
    "![이미지](../이미지/중개모델3.PNG)\n",
    "\n",
    "![이미지](../이미지/중개모델4.PNG)\n",
    "\n",
    "![이미지](../이미지/중개모델5.PNG)\n",
    "\n",
    "#### Django에서는 **Many To ManyField**로 중개모델을 자동으로 생성"
   ]
  },
  {
   "cell_type": "markdown",
   "metadata": {},
   "source": [
    "#### 4. Many To ManyField\n",
    "\n",
    "![이미지](../이미지/mtm1.PNG)\n",
    "\n",
    "![이미지](../이미지/mtm2.PNG)\n",
    "\n",
    "![이미지](../이미지/mtm3.PNG)\n",
    "\n",
    "![이미지](../이미지/mtm4.PNG)\n",
    "\n",
    "![이미지](../이미지/mtm5.PNG)\n",
    "\n",
    "![이미지](../이미지/mtm7.PNG)\n",
    "\n",
    "#### 만약 **예약 정보**에 증상, 예약일 등 **추가 정보**가 포함되어야 한다면? => **through** argument"
   ]
  },
  {
   "cell_type": "markdown",
   "metadata": {},
   "source": [
    "#### 5. through argument\n",
    "\n",
    "- **중개 테이블**에 **추가 데이터**를 사용해 M:N 관계를 형성하려는 경우에 사용\n",
    "\n",
    "![이미지](../이미지/through1.PNG)\n",
    "\n",
    "![이미지](../이미지/through2.PNG)\n",
    "\n",
    "![이미지](../이미지/through3.PNG)\n",
    "\n",
    "![이미지](../이미지/through4.PNG)\n",
    "\n",
    "![이미지](../이미지/through5.PNG)\n",
    "\n",
    "![이미지](../이미지/m,n%20주의사항.PNG)\n"
   ]
  },
  {
   "cell_type": "markdown",
   "metadata": {},
   "source": [
    "#### 6. Django Many To ManyField\n",
    "\n",
    "- ManyToManyField(to,**options)\n",
    "\n",
    "    - many to many 관계 설정 시 사용하는 모델 필드\n",
    "\n",
    "    - 인자 : related_name, symmetrical, through\n",
    "\n",
    "1. **related_name** arguments\n",
    "\n",
    "![이미지](../이미지/related.PNG)\n",
    "\n",
    "2. **symmetrical** arguments\n",
    "\n",
    "![이미지](../이미지/symmetrical.PNG)\n",
    "\n",
    "![이미지](../이미지/symmetrical1.PNG)\n",
    "\n",
    "- 팔로우 기능\n",
    "\n",
    "3. M:N에서의 methods\n",
    "\n",
    "![이미지](../이미지/m_nmethod.PNG)\n",
    " \n"
   ]
  },
  {
   "cell_type": "markdown",
   "metadata": {},
   "source": [
    "#### 7. '좋아요'\n",
    "\n",
    "- Many to many relationships(N:M or M:N)\n",
    "\n",
    "- Article(M) - User(N)\n",
    "\n",
    "    - 게시글은 회원으로부터 0개 이상의 좋아요를 받을 수 있고, 회원은 0개 이상의 게시글에 좋아요를 누를 수 있음\n",
    "\n",
    "1. 모델 관계 설정\n",
    "\n",
    "![이미지](../이미지/모델관계설정2.PNG)\n",
    "\n",
    "- like_users : 좋아요를 누른 유저들\n",
    "\n",
    "![이미지](../이미지/모델관계설정3.PNG)\n",
    "\n",
    "![이미지](../이미지/역참조매니저충돌.PNG)\n",
    "\n",
    "![이미지](../이미지/모델관계설정4.PNG)\n",
    "\n",
    "![이미지](../이미지/related_manager정리.PNG)\n"
   ]
  },
  {
   "cell_type": "markdown",
   "metadata": {},
   "source": [
    "#### 8. 좋아요 기능 구현\n",
    "\n",
    "![이미지](../이미지/좋아요기능구현.PNG)\n",
    "\n",
    "- 어떤 게시글에 좋아요 누를건지 pk작성\n",
    "\n",
    "![이미지](../이미지/좋아요기능구현1.PNG)\n",
    "\n",
    "- 어떤 게시글에 좋아요 누를건지 게시글.pk 불러오고\n",
    "\n",
    "- 만약 요청 유저가 '좋아요 유저 전체목록 조회'에 포함되어있다면\n",
    "    - 게시글에 좋아요 제거\n",
    "\n",
    "- 포함안되어 있으면\n",
    "    - 게시글에 좋아요 추가\n",
    "\n",
    "\n",
    "![이미지](../이미지/좋아요기능구현2.PNG)\n",
    "\n",
    "![이미지](../이미지/좋아요기능구현3.PNG)\n",
    "\n",
    "- article.like_users.all() : (게시글 기준)이(하나의) 게시글이 좋아요 누른 유저들\n",
    "- user.like_articles.all() : (유저 기준)특정(하나의) 유저가 좋아요를 누른 게시글들"
   ]
  },
  {
   "cell_type": "markdown",
   "metadata": {},
   "source": [
    "![이미지](../이미지/에러메시지.PNG)\n",
    "![이미지](../이미지/에러메시지1.PNG)"
   ]
  },
  {
   "cell_type": "markdown",
   "metadata": {},
   "source": []
  },
  {
   "cell_type": "code",
   "execution_count": null,
   "metadata": {},
   "outputs": [],
   "source": []
  }
 ],
 "metadata": {
  "language_info": {
   "name": "python"
  }
 },
 "nbformat": 4,
 "nbformat_minor": 2
}
