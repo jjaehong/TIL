{
 "cells": [
  {
   "cell_type": "markdown",
   "metadata": {},
   "source": [
    "## Many to one relationship(N:1 or 1:N)\n",
    "\n",
    "- 한 테이블의 0개 이상의 레코드가 다른 테이블의 레코드 한 개와 관련된 관계"
   ]
  },
  {
   "cell_type": "markdown",
   "metadata": {},
   "source": [
    "#### 1. 개요\n",
    "\n",
    "1. Comment(N) : Article(1)\n",
    "\n",
    "- N(0개 이상)의 댓글은 1개의 게시글에 작성될 수 있다.\n",
    "\n",
    "- N개에서 1개를 바라봄(참조함) => **N개에 외래 키 포함**\n",
    "\n",
    "\n",
    "![이미지](../이미지/테이블%20관계.PNG)\n",
    "\n",
    "- ForeignKey() : N:1 관계 설정 모델 필드"
   ]
  },
  {
   "cell_type": "markdown",
   "metadata": {},
   "source": [
    "#### 2. 댓글 모델 구현\n",
    "\n",
    "\n",
    "1. 댓글 모델 정의\n",
    "\n",
    "![이미지](../이미지/댓글모델정의1.PNG)\n",
    "\n",
    "- Comment 클래스(댓글)에서 외래 키를 갖는데, 이는 Ariticle 클래스를 외래 키를 통해 참조하고(바라본다). article 필드로 저장한다.\n",
    "\n",
    "- ForeignKey() 클래스의 인스턴스 이름은 참조하는 모델 클래스 이름의 **단수형**으로 작성하는 것을 권장 => 그 이유는 Ariticle 클래스에서 DB에 article_id로 저장되기 때문! \n",
    "\n",
    "- ForeignKey(to, on_delete)\n",
    "\n",
    "    - to : 참조하는 모델 class 이름\n",
    "\n",
    "    - on_delete : 외래 키가 참조하는 객체(1)가 사라졌을 때, 외래 키를 가진 객체(N)를 어떻게 처리할 지를 정의하는 설정(데이터 무결성)\n",
    "\n",
    "    - CASCADE : 부모 객체(참조된 객체)가 삭제됐을 때, 이를 참조하는 객체도 삭제!"
   ]
  },
  {
   "cell_type": "markdown",
   "metadata": {},
   "source": [
    "#### 3. 댓글 생성 연습\n",
    "\n",
    "1. shell_plus 실행 및 게시글 작성\n",
    "\n",
    "![이미지](../이미지/게시글생성.PNG)\n",
    "\n",
    "2. 댓글 생성\n",
    "\n",
    "- article = Article.objects.get(pk=1)\n",
    "\n",
    "![이미지](../이미지/댓글생성.PNG)\n",
    "\n",
    "- Comment.article = article(=Article.objects.get(pk=1))\n",
    "\n",
    "![이미지](../이미지/댓글생성결과.PNG)"
   ]
  },
  {
   "cell_type": "markdown",
   "metadata": {},
   "source": [
    "#### 4. 관계 모델 참조\n",
    "\n",
    "- 역참조란?\n",
    "    \n",
    "    - N:1 관계에서 **1에서 N을 참조**하거나 조회하는 것(1 -> N)\n",
    "\n",
    "    - N -> 1은 외래 키를 가지고 있어 물리적으로 참조가 가능하지만,\n",
    "    - 1 -> N에 대한 참조 방법이 존재하지 않아 별도의 역참조 이름이 필요\n",
    "    - 장고에선 'N이름_set'이라는 related manager을 제시함!\n",
    "\n",
    "    ![이미지](../이미지/역참조%20예시.PNG)\n",
    "\n",
    "    ![이미지](../이미지/relatedmanger.PNG)\n",
    "\n",
    "    \n",
    "    - N -> 1 (참조)\n",
    "    \n",
    "        - **댓글들**이 어떤 게시글에 작성되었는지를 조회 가능(N -> 1)\n",
    "\n",
    "    - 1 -> N (역참조)\n",
    "\n",
    "        - Ns = **1.N_set.all()** => 1에서 N을 참조한다.\n",
    "    \n",
    "        - **해당 게시글**에 작성된 **모든 댓글을 조회** (1 -> N)\n",
    "\n",
    "    ![이미지](../이미지/역참조연습.PNG)\n",
    "    ![이미지](../이미지/역참조연습1.PNG)\n",
    "\n"
   ]
  },
  {
   "cell_type": "markdown",
   "metadata": {},
   "source": [
    "#### 5. 댓글 CREATE\n",
    "\n",
    "![이미지](../이미지/댓글%20create.PNG)\n",
    "\n",
    "![이미지](../이미지/댓글%20create1.PNG)\n",
    "\n",
    "![이미지](../이미지/댓글%20create2.PNG)\n",
    "\n",
    "- 불필요한 정보(외래키 필드)도 출력되고 있음, 이를 제외해야함\n",
    "\n",
    "![이미지](../이미지/댓글%20create3.PNG)\n",
    "\n",
    "- 필요한 필드만 출력!\n",
    "\n",
    "- 출력에서 제외된 외래 키 데이터는 어디서 받아와야 할까?\n",
    "\n",
    "- detail 페이지의 url (path('<int:pk>/', views.detail, name='detail'))에서 해당 게시글의 pk값이 사용되고있음\n",
    "\n",
    "- 댓글의 외래 키 데이터에 대한 필요한 정보가 => **바로 게시글의 pk 값**\n",
    "\n",
    "![이미지](../이미지/댓글%20create5.PNG)\n",
    "\n",
    "- comments_create view 함수 정의 : **article 객체는 언제 저장할 수 있을까?**\n",
    "\n",
    "- **save(commit=False) : DB에 저장하지 않고 인스턴스만 반환**\n",
    "\n",
    "![이미지](../이미지/댓글%20create6.PNG)\n",
    "\n",
    "- Comment.외래키 = 게시글의 pk \n",
    "\n"
   ]
  },
  {
   "cell_type": "markdown",
   "metadata": {},
   "source": [
    "#### 6. 댓글 READ\n",
    "\n",
    "![이미지](../이미지/댓글%20read.PNG)\n",
    "\n",
    "![이미지](../이미지/댓글%20read1.PNG)\n",
    "\n",
    "\n",
    "\n",
    "\n",
    "\n"
   ]
  },
  {
   "cell_type": "markdown",
   "metadata": {},
   "source": [
    "#### 7. 댓글 DELETE\n",
    "\n",
    "![이미지](../이미지/댓글%20delete.PNG)\n",
    "\n",
    "- url : 어떤 게시글에서, 어떤 댓글을 삭제할 것인지\n",
    "\n",
    "![이미지](../이미지/댓글%20delete1.PNG)\n",
    "\n",
    "- 어떤 댓글을 삭제할 것인지 **먼저 조회 후** 조회한 댓글 삭제\n",
    "\n",
    "![이미지](../이미지/댓글%20delete2.PNG)\n",
    "\n",
    "![이미지](../이미지/댓글%20delete3.PNG)"
   ]
  },
  {
   "cell_type": "markdown",
   "metadata": {},
   "source": [
    "#### 8. 참고\n",
    "\n",
    "![이미지](../이미지/댓글이%20없는%20경우.PNG)\n",
    "\n",
    "![이미지](../이미지/댓글%20갯수%20출력.PNG)\n",
    "\n"
   ]
  },
  {
   "cell_type": "markdown",
   "metadata": {},
   "source": [
    "## Many to one relationships 2\n"
   ]
  },
  {
   "cell_type": "markdown",
   "metadata": {},
   "source": [
    "#### 1. 개요\n",
    "\n",
    "- Article(N) - User(1) \n",
    "\n",
    "    - 0개 이상의 게시글은 1명의 회원에 의해 작성될 수 있다.\n",
    "\n",
    "    - 어떤 유저가 게시글을 썼는지 알아야하므로 Article에 foreign key가 필요함\n",
    "\n",
    "- Comment(N) - User(1) \n",
    "\n",
    "    - 0개 이상의 댓글은 1명의 회원에 의해 작성될 수 있다.\n",
    "\n",
    "    - 어떤 유저가 댓글을 썼는지 알아야하므로 Comment에 foreign key가 필요함"
   ]
  },
  {
   "cell_type": "markdown",
   "metadata": {},
   "source": [
    "#### 2. Article & User\n",
    "\n",
    "1. Article - User 모델 관계 설정\n",
    "\n",
    "![이미지](../이미지/모델관계설정.PNG)\n",
    "\n",
    "- 미리 대체하기에서 custom user모델 설정한 것 참조\n",
    "\n",
    "![이미지](../이미지/user모델참조1.PNG)\n",
    "![이미지](../이미지/user모델을직접참조x1.PNG)\n",
    "\n",
    "2. Migration\n",
    "\n",
    "- python manage.py makemigrations\n",
    "\n",
    "- not null 제약조건이 있기에, 데이터 없이는 새로운 필드 추가못함\n",
    "\n",
    "- 기본값 설정 필요(or 다 지우고 다시 makemigrations)\n",
    "\n",
    "- 1을 입력하고 enter\n",
    "\n",
    "- 추가되는 외래 키 user_id에 어떤 데이터를 넣을 것인지 직접 입력해야함\n",
    "\n",
    "- 마찬가지로 1 입력하고 enter 진행\n",
    "\n",
    "- 그러면 기존에 작성된 게시글이 있다면 모두 1번 회원이 작성한 것으로 처리됨\n",
    "\n",
    "- migrate 이어서 진행"
   ]
  },
  {
   "cell_type": "markdown",
   "metadata": {},
   "source": [
    "3. 게시글 CREATE\n",
    "\n",
    "![이미지](../이미지/게시글create1.PNG)\n",
    "\n",
    "![이미지](../이미지/게시글create2.PNG)\n",
    "\n",
    "![이미지](../이미지/게시글create3.PNG)\n",
    "\n",
    "- not null 제약조건 실패 => 비어있네요\n",
    "\n",
    "![이미지](../이미지/게시글create4.PNG)\n",
    "\n",
    "- article의 user(외래키 정보) = 현재 요청(CUD 등) 유저  \n",
    "\n",
    "![이미지](../이미지/게시글create5.PNG)\n",
    "\n",
    "\n",
    "\n",
    "4. 게시글 READ\n",
    "\n",
    "![이미지](../이미지/게시글read1.PNG)\n",
    "\n",
    "\n",
    "5. 게시글 UPDATE\n",
    "\n",
    "\n",
    "![이미지](../이미지/게시글update.PNG)\n",
    "\n",
    "![이미지](../이미지/게시글update1.PNG)\n",
    "\n",
    "\n",
    "6. 게시글 DELETE\n",
    "\n",
    "![이미지](../이미지/게시글delete.PNG)\n"
   ]
  },
  {
   "cell_type": "markdown",
   "metadata": {},
   "source": [
    "#### 3. Comment & User\n",
    "\n",
    "1. Comment - User 모델 관계 설정\n",
    "\n",
    "![이미지](../이미지/모델관계설정1.PNG)\n",
    "\n",
    "- 외래키 2개\n",
    "\n",
    "    - article에 대한 외래 키\n",
    "\n",
    "    - user에 대한 외래 키\n",
    "\n",
    "2. migration\n",
    "\n",
    "    - 이전과 동일하게 기본값 설정 진행\n",
    "    "
   ]
  },
  {
   "cell_type": "markdown",
   "metadata": {},
   "source": [
    "3. 댓글 CREATE\n",
    "\n",
    "![이미지](../이미지/댓글create.PNG)\n",
    "\n",
    "4. 댓글 READ\n",
    "\n",
    "![이미지](../이미지/댓글read.PNG)\n",
    "\n",
    "5. 댓글 DELETE\n",
    "\n",
    "![이미지](../이미지/댓글delete.PNG)\n",
    "\n",
    "![이미지](../이미지/댓글delete1.PNG)\n",
    "\n",
    "6. 인증된 사용자만 댓글 작성 및 삭제\n",
    "\n",
    "![이미지](../이미지/인증된사용자만.PNG)\n",
    "\n"
   ]
  },
  {
   "cell_type": "code",
   "execution_count": null,
   "metadata": {},
   "outputs": [],
   "source": []
  }
 ],
 "metadata": {
  "language_info": {
   "name": "python"
  }
 },
 "nbformat": 4,
 "nbformat_minor": 2
}
