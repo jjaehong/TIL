{
 "cells": [
  {
   "cell_type": "markdown",
   "metadata": {},
   "source": [
    "## Many to one relationship(N:1 or 1:N)\n",
    "\n",
    "- 한 테이블의 0개 이상의 레코드가 다른 테이블의 레코드 한 개와 관련된 관계"
   ]
  },
  {
   "cell_type": "markdown",
   "metadata": {},
   "source": [
    "#### 1. 개요\n",
    "\n",
    "1. Comment(N) : Article(1)\n",
    "\n",
    "- N(0개 이상)의 댓글은 1개의 게시글에 작성될 수 있다.\n",
    "\n",
    "\n",
    "![이미지](../이미지/테이블%20관계.PNG)\n",
    "\n",
    "- ForeignKey() : N:1 관계 설정 모델 필드"
   ]
  },
  {
   "cell_type": "markdown",
   "metadata": {},
   "source": [
    "#### 2. 댓글 모델 구현\n",
    "\n",
    "\n",
    "1. 댓글 모델 정의\n",
    "\n",
    "![이미지](../이미지/댓글모델정의1.PNG)\n",
    "\n",
    "- ForeignKey() 클래스의 인스턴스 이름은 참조하는 모델 클래스 이름의 **단수형**으로 작성하는 것을 권장\n",
    "\n",
    "- ForeignKey(to, on_delete)\n",
    "\n",
    "    - to : 참조하는 모델 class 이름\n",
    "\n",
    "    - on_delete : 외래 키가 참조하는 객체(1)가 사라졌을 때, 외래 키를 가진 객체(N)를 어떻게 처리할 지를 정의하는 설정(데이터 무결성)\n",
    "\n",
    "    - CASCADE : 부모 객체(참조된 객체)가 삭제됐을 때, 이를 참조하는 객체도 삭제!"
   ]
  },
  {
   "cell_type": "markdown",
   "metadata": {},
   "source": [
    "#### 3. 댓글 생성 연습\n",
    "\n",
    "1. shell_plus 실행 및 게시글 작성\n",
    "\n",
    "![이미지](../이미지/게시글생성.PNG)\n",
    "\n",
    "2. 댓글 생성\n",
    "\n",
    "![이미지](../이미지/댓글생성.PNG)\n",
    "![이미지](../이미지/댓글생성결과.PNG)"
   ]
  },
  {
   "cell_type": "markdown",
   "metadata": {},
   "source": [
    "#### 4. 관계 모델 참조\n",
    "\n",
    "- 역참조란?\n",
    "    \n",
    "    - N:1 관계에서 1에서 N을 참조하거나 조회하는 것(1 -> N)\n",
    "\n",
    "    - N은 외래 키를 가지고 있어 물리적으로 참조가 가능하지만,\n",
    "    - 1은 N에 대한 참조 방법이 존재하지 않아 별도의 역참조 이름이 필요\n",
    "\n",
    "    ![이미지](../이미지/역참조%20예시.PNG)\n",
    "\n",
    "    ![이미지](../이미지/relatedmanger.PNG)\n",
    "    \n",
    "    - N -> 1 (참조)\n",
    "    \n",
    "        - 댓글이 어떤 게시글에 작성되었는지를 조회 가능\n",
    "\n",
    "    - 1 <- N (역참조)\n",
    "    \n",
    "        - 해당 게시글에 작성된 모든 댓글을 조회\n",
    "\n",
    "    ![이미지](../이미지/역참조연습.PNG)\n",
    "    ![이미지](../이미지/역참조연습1.PNG)\n",
    "\n"
   ]
  },
  {
   "cell_type": "markdown",
   "metadata": {},
   "source": [
    "#### 5. 댓글 CREATE\n"
   ]
  },
  {
   "cell_type": "markdown",
   "metadata": {},
   "source": [
    "N -> 1 (참조)\n",
    "- 댓글이 어떤 게시글에 작성되었는지를 조회 가능\n",
    "\n",
    "1 <- N (역참조)\n",
    "- 해당 게시글에 작성된 모든 댓글을 조회"
   ]
  }
 ],
 "metadata": {
  "language_info": {
   "name": "python"
  }
 },
 "nbformat": 4,
 "nbformat_minor": 2
}
