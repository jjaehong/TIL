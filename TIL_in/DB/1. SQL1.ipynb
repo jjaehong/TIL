{
 "cells": [
  {
   "cell_type": "markdown",
   "metadata": {},
   "source": [
    "## SQL1"
   ]
  },
  {
   "cell_type": "markdown",
   "metadata": {},
   "source": [
    "#### 1. Database\n",
    "\n",
    "1. 개념\n",
    "\n",
    "- 데이터 베이스란? : 체계적인 데이터 모음\n",
    "\n",
    "\n",
    "2. 데이터의 중요성\n",
    "\n",
    "- 데이터 시장은 계속 커지고 있고, 기업들은 데이터센터에 투자를 늘리고 있음\n",
    "\n",
    "- 따라서 데이터를 저장하고 잘 관리하여 활용할 수 있는 기술이 중요해짐\n",
    "\n",
    "\n",
    "3. 데이터 저장 방식\n",
    "\n",
    "- 1. 파일(File) 이용\n",
    "\n",
    "    - ![이미지](../이미지/)\n",
    "    \n",
    "    - 어디에서나 쉽게 사용 가능, but 데이터를 구조적으로 관리하기 어려움\n",
    "\n",
    "\n",
    "- 2. 스프레드 시트(spreadsheet) 이용\n",
    "\n",
    "    - ![이미지](../이미지/)\n",
    "\n",
    "    - **테이블의 열과 행을 사용**해 데이터를 구조적으로 관리 가능(엑셀 유사..)\n",
    "\n",
    "    - 한계 : 크기, 보안, 정확성\n",
    "\n",
    "    \n",
    "\n"
   ]
  },
  {
   "cell_type": "markdown",
   "metadata": {},
   "source": []
  },
  {
   "cell_type": "markdown",
   "metadata": {},
   "source": [
    "#### 2. 관계형 데이터베이스\n",
    "\n",
    "- 데이터베이스 역할 : 데이터를 **저장(구조적 저장)**하고 **조작(CRUD)**\n",
    "\n",
    "1. 개념\n",
    "    \n",
    "    - 데이터 간에 **관계**가 있는 데이터 항목들의 모음\n",
    "\n",
    "    - 테이블, 행, 열의 정보를 구조화하는 방식\n",
    "\n",
    "    - **서로 관련된 데이터 포인터를 저장**하고 이에 대한 **액세스**를 제공(보통 id로 연결)\n",
    "\n",
    "    ![이미지](../이미지/관계형db1.PNG)\n",
    "\n",
    "    - 이 관계로 인해 두 테이블을 사용하여 데이터를 다양한 형식으로 조회할 수 있음\n",
    "\n",
    "        - 특정 날짜에 구매한 모든 고객 조회\n",
    "\n",
    "        - 지난 달에 배송일이 지연된 고객 조회 등\n",
    "\n",
    "\n",
    "    ![이미지](../이미지/관계형db2.PNG)\n",
    "\n",
    "    - 고객 데이터 간 비교를 위해서는 어떤 값을 활용해야 할까?\n",
    "    \n",
    "    ![이미지](../이미지/관계형db3.PNG)\n",
    "\n",
    "- 누가 어떤 주문을 했는지 어떻게 식별할 수 있을까?\n",
    "\n",
    "- 직접적인 연결이 되어있는 건 아니지만 외래키를 통해서 주문테이블이 고객 테이블을 참조하고 있다!\n"
   ]
  },
  {
   "cell_type": "markdown",
   "metadata": {},
   "source": []
  },
  {
   "cell_type": "markdown",
   "metadata": {},
   "source": [
    "3. RDBMS\n",
    "\n",
    "- 관계형 데이터베이스를 관리하는 소프트웨어 프로그램(relational database)\n",
    "\n",
    "- ex) SQLite, MySQL, PostgreSQL, Oracle Database\n",
    "\n",
    "4. DBMS\n",
    "\n",
    "- 데이터 저장 및 관리를 용이하게 하는 시스템\n",
    "\n",
    "- 데이터베이스와 사용자 간의 **인터페이스 역할**\n",
    "\n",
    "- 사용자가 데이터 구성, 업데이트, **모니터링, 백업, 복구 등을 할 수 있도록 도움**\n",
    "\n",
    "\n",
    "- 데이터 베이스 정리\n",
    "\n",
    "\n",
    "\n",
    "\n"
   ]
  },
  {
   "cell_type": "markdown",
   "metadata": {},
   "source": [
    "#### 2. SQL\n",
    "\n",
    "![이미지](../이미지/sql.PNG)\n",
    "\n",
    "- 데이터베이스에 정보를 저장하고 처리하기 위한 프로그래밍 언어\n",
    "\n",
    "\n",
    "![이미지](../이미지/수행목적에 따른 SQL문(쿼리문) 4가지 유형)\n",
    "\n",
    "- 데이터 검색(조회,R)이 중요함!\n",
    "\n",
    "\n"
   ]
  },
  {
   "cell_type": "markdown",
   "metadata": {},
   "source": [
    "#### 3. DQL\n",
    "\n",
    "- data query language\n",
    "\n",
    "- SELECT문 : 테이블에서 데이터를 조회\n",
    "\n",
    "    - 이 필드를 선택한다(SELECT) 이 테이블로부터(FROM) ;\n",
    " "
   ]
  },
  {
   "cell_type": "markdown",
   "metadata": {},
   "source": [
    "#### DDL\n",
    "\n",
    "- data definition language : 데이터의 기본 구조 및 형식 변경\n",
    "\n",
    "    - ex : CREATEM, DROP, ALTER\n",
    "\n",
    "1. CREATE TABLE : 테이블 생성\n",
    "\n",
    "\n",
    "- 데이터 타입(dtype)\n",
    "\n",
    "\n",
    "- 제약 조건()\n",
    "\n",
    "    - PRIMARY KEY : 해당 필드를 기본 키로 지정\n",
    "        \n",
    "        - INT\n"
   ]
  },
  {
   "cell_type": "code",
   "execution_count": null,
   "metadata": {},
   "outputs": [],
   "source": [
    "#### ALTER : 구조를 바꾸다"
   ]
  }
 ],
 "metadata": {
  "language_info": {
   "name": "python"
  }
 },
 "nbformat": 4,
 "nbformat_minor": 2
}
