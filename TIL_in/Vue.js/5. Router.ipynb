{
 "cells": [
  {
   "cell_type": "markdown",
   "metadata": {},
   "source": [
    "## 5. Router\n",
    "\n",
    "vue는 SPA로서 페이지가 1개 인데, router는 사용자가 (1개 페이지 인데도) 마치 페이지 간 이동하는 것과 같은 경험을 제공해준다.."
   ]
  },
  {
   "cell_type": "markdown",
   "metadata": {},
   "source": [
    "#### 1. Routing\n",
    "\n",
    "1. 개요\n",
    "\n",
    "    - 네트워크에서 **경로**를 선택하는 프로세스\n",
    "\n",
    "    - 웹 애플리케이션에서 **다른 페이지 간의 전환**과 **경로를 관리**하는 기술\n",
    "\n",
    "    ![이미지](../이미지/서버routing.PNG)\n",
    "\n",
    "    ![이미지](../이미지/csrrouting.PNG)\n",
    "    \n",
    "\n",
    "2. 만약 routing이 없다면\n",
    "\n",
    "    - 유저가 URL을 통한 페이지의 변화를 감지할 수 없음\n",
    "\n",
    "    - 페이지가 무엇을 렌더링 중인지에 대한 상태를 알 수 없음\n",
    "\n",
    "        - URL이 1개이기 때문에 새로 고침 시 처음 페이지로 되돌아감\n",
    "\n",
    "        - 링크를 공유할 시 첫 페이지만 공유 가능\n",
    "\n",
    "    - 브라우저의 뒤로 가기 기능을 사용할 수 없음"
   ]
  },
  {
   "cell_type": "markdown",
   "metadata": {},
   "source": [
    "#### 2. Vue Router\n",
    "\n",
    "- Vue 공식 라우터\n",
    "\n",
    "1. Vue Router 추가\n",
    "\n",
    "    - npm create vue@latest 이후 Add Vue Router for Single Page Application development? => Yes \n",
    "\n",
    "    ![이미지](../이미지/router.PNG)\n",
    "\n",
    "    - Home, About 링크에 따라 변경되는 URL과 새로 렌더링 되는 화면\n",
    "\n",
    "\n",
    "2. Vue 프로젝트 구조 변화\n",
    "\n",
    "    1. App.vue 코드 변화\n",
    "\n",
    "    ![이미지](../이미지/routerlink.PNG)\n",
    "\n",
    "    - RouterLink\n",
    "        \n",
    "        - 페이지를 다시 로드하지 않고 URL을 변경하고 URL 생성 및 관련 로직을 처리\n",
    "        \n",
    "        - HTML의 a 태그를 렌더링\n",
    "\n",
    "    - RouterView \n",
    "\n",
    "        - URL에 해당하는 컴포넌트를 표시\n",
    "\n",
    "        - 어디에나 배치가능하여 레이아웃에 맞출 수 있음\n",
    "\n",
    "\n",
    "    2. router 폴더 생성\n",
    "\n",
    "        - index.js\n",
    "\n",
    "            - 라우팅에 관련된 정보 및 설정이 작성되는 곳\n",
    "\n",
    "            - **router에 URL과 컴포넌트를 매핑(연결)**\n",
    "\n",
    "\n",
    "    3. views 폴더 생성\n",
    "\n",
    "        - views\n",
    "            \n",
    "            - RouterView 위치에 렌더링 할 컴포넌트를 배치\n",
    "            \n",
    "            - 기존 components 폴더와 기능적으로 다른 것은 없으며 단순 분류의 의미로 구성됨\n",
    "\n",
    "            - **일반 컴포넌트와 구분하기 위해 컴포넌트 이름을 View로 끝나도록 작성하는 것을 권장**\n",
    "\n",
    "\n",
    "3. 라우팅(routing)\n",
    "\n",
    "    1. 라우팅 기본\n",
    "\n",
    "        ![이미지](../이미지/라우팅.PNG)\n",
    "\n",
    "\n",
    "    2. named routes\n",
    "\n",
    "        - 경로에 이름을 지정하는 라우팅\n",
    "            \n",
    "        ![이미지](../이미지/named%20라우팅.PNG)\n"
   ]
  },
  {
   "cell_type": "markdown",
   "metadata": {},
   "source": []
  },
  {
   "cell_type": "markdown",
   "metadata": {},
   "source": []
  },
  {
   "cell_type": "markdown",
   "metadata": {},
   "source": [
    "라우팅 기본 \n",
    "\n",
    "**주소,이름,컴포넌트** \n",
    "\n",
    "RouterLink의 **to 속성** index.js에서 정의한 주소 속성 값(path)을 사용\n",
    "\n",
    "\n",
    "라우팅의 목적 : url의 변경 / 마치 페이지를 변경한 것 처럼 "
   ]
  },
  {
   "cell_type": "markdown",
   "metadata": {},
   "source": []
  },
  {
   "cell_type": "markdown",
   "metadata": {},
   "source": []
  },
  {
   "cell_type": "markdown",
   "metadata": {},
   "source": [
    "global\n",
    "router.beforeEach\n",
    "다른 URL로 **이동하기 직전에**"
   ]
  }
 ],
 "metadata": {
  "language_info": {
   "name": "python"
  }
 },
 "nbformat": 4,
 "nbformat_minor": 2
}
