{
 "cells": [
  {
   "cell_type": "markdown",
   "metadata": {},
   "source": [
    "## 4. Component State Flow\n",
    "\n",
    "- 컴포넌트 끼리 vue 데이터 흐름(오고가는 전달)이 어떻게 하는지?"
   ]
  },
  {
   "cell_type": "markdown",
   "metadata": {},
   "source": [
    "#### 0. Props와 $emit() 개요\n",
    "\n",
    "![이미지](../이미지/props.PNG)\n",
    "\n",
    "- 부모는 자식에게 데이터를 전달(Pass Props)하며, 자식은 자신에게 일어난 일을 부모에게 알림(Emit event) \n",
    "\n",
    "1. Props\n",
    "    \n",
    "    - Props 개념 : 부모 컴포넌트로부터 자식 컴포넌트로 데이터를 전달하는데 사용되는 속성\n",
    "\n",
    "    - Props 특징\n",
    "            \n",
    "        - 부모 속성이 업데이트되면 자식으로 흐르지만 그 반대는 안됨(**단방향 하향식 바인딩 : // 부모 -> 자식**)\n",
    "\n",
    "        - 즉, 자식 컴포넌트 내부에서 props를 변경하려고 시도해서는 안되며 불가능\n",
    "                (단방향인 이유 : 하위 컴포넌트가 실수로 상위 컴포넌트의 상태를 변경하여 앱에서의 데이터의 흐름을 이해하기 어렵게 만드는 것을 방지하고자 함)\n",
    "\n",
    "        - 부모 컴포넌트에서만 변경하고 이를 내려 받는 자식 컴포넌트는 자연스럽게 갱신\n",
    "\n",
    "\n",
    "2. $emit(event, ...args) : \n",
    "    \n",
    "    - 자식 컴포넌트가 **이벤트@를 발생**시켜(응애! 소리치기) 부모 컴포넌트로 데이터를 전달하는 역할의 메서드\n",
    "\n",
    "    - 즉, 부모가 prop 데이터를 변경하도록 소리쳐야 한다.\n"
   ]
  },
  {
   "cell_type": "markdown",
   "metadata": {},
   "source": [
    "#### 1. Passing Props\n",
    "\n",
    "\n",
    "0. 사전준비\n",
    "\n",
    "\n",
    "1. App > Parent > ParentChild 컴포넌트 생성 및 등록 및 관계 작성\n",
    "\n",
    "\n",
    "2. Props 선언(**정적 prop 예시**)\n",
    "\n",
    "    - 부모 컴포넌트에서 보낸 props를 사용하기 위해서는 자식 컴포넌트에서 명시적인 props 선언이 필요\n",
    "\n",
    "    1. props 작성(부모에서 내려주기)\n",
    "\n",
    "        ![이미지](../이미지/props1.PNG)\n",
    "\n",
    "        - 부모 컴포넌트(ParentChild) -> 자식 컴포넌트(ParentGrandChild) : props 작성\n",
    "\n",
    "        - **my-msg : 자식 컴포넌트가 받을 데이터 key**\n",
    "        \n",
    "        - **\"message\" : 내려주는(출력될) 데이터 값**\n",
    "\n",
    "    2. props 선언(자식에서 받고 표현)\n",
    "\n",
    "        - 문자열 배열을 사용한 선언\n",
    "\n",
    "        - 객체를 사용한 선언\n",
    "    \n",
    "        ![이미지](../이미지/props2.PNG)\n",
    "\n",
    "        - defineProps()를 사용하여 props를 선언\n",
    "        - 객체 속성의 키 : props 이름\n",
    "        - 객체 속성의 값 : dtype에 해당하는 생성자 함수(Number,String...)\n",
    "    \n",
    "        ![이미지](../이미지/props3.PNG)\n",
    "\n",
    "        ![이미지](../이미지/props4.PNG)    "
   ]
  },
  {
   "cell_type": "markdown",
   "metadata": {},
   "source": [
    "3. 한 단계 더 prop 내려 보내기(**동적 prop 예시**)\n",
    "\n",
    "    1. ParentChild > ParentGrandChild 컴포넌트 생성 및 등록\n",
    "\n",
    "    ![이미지](../이미지/parentchild.PNG)\n",
    "\n",
    "    2. Parent => ParentChild => ParnetGrandChild\n",
    "\n",
    "    ![이미지](../이미지/props5.PNG)\n",
    "\n",
    "\n",
    "4. Props Name Casing\n",
    "\n",
    "    ![이미지](../이미지/prop_name.PNG)\n",
    "\n",
    "#### **위(부모)**에서 내려줄 땐 **kebab-case**\n",
    "#### **아래(자식)**에서 받을 땐 **camelCase**"
   ]
  },
  {
   "cell_type": "markdown",
   "metadata": {},
   "source": [
    "#### 2. Component Events\n",
    "\n",
    "\n",
    "1. 이벤트 발신 및 수신하기\n",
    "\n",
    "    ![이미지](../이미지/event발신.PNG)\n",
    "\n",
    "    - Parent <- ParentChild : someEvent 이벤트 발신\n",
    "\n",
    "    ![이미지](../이미지/event수신.PNG)\n",
    "\n",
    "    - Parent에서 v-on을 사용하여 발신된 이벤트를 수신\n",
    "    - 수신 후 처리할 로직 및 콜백함수 호출\n",
    "\n",
    "    ![이미지](../이미지/event수신1.PNG)\n",
    "\n",
    "\n",
    "2. emit Event선언\n",
    "\n",
    "    ![이미지](../이미지/emit선언.PNG)\n",
    "\n",
    "    - defineEmits()를 사용하여 명시적으로 발신할 **이벤트 선언**\n",
    "\n",
    "    - script에서 $emit 메서드를 접근할 수 없기 때문에 defineEmits()는 **$emit 대신 사용할 수 있는 동등한 함수를 반환**\n",
    "\n",
    "    - 이벤트 선언 방식으로 추가 버튼 작성 및 결과 확인\n",
    "\n",
    "\n",
    "3. Event 인자\n",
    "\n",
    "    ![이미지](../이미지/event인자.PNG)\n",
    "    \n",
    "    - ParentChild에서 **이벤트를 발신**하여 Parent로 **추가 인자 전달**하기\n",
    "\n",
    "    - emit 이벤트 선언\n",
    "    - emit메서드(emitArgs) 반환\n",
    "    - emitArgs를 버튼과 연결\n",
    "\n",
    "    ![이미지](../이미지/event인자2.PNG)\n",
    "\n",
    "    - ParentChild에서 발신한 이벤트를 Parent에서 **수신**\n",
    "    \n",
    "    ![이미지](../이미지/event인자3.PNG)\n",
    "\n",
    "\n",
    "4. Event 세부사항\n",
    "\n",
    "    ![이미지](../이미지/emit세부사항.PNG)\n",
    "\n",
    "#### **아레(자식)**에서 보낼 때 **camelCase**\n",
    "#### **위(부모)**에서 받을 때 **kebab-case**"
   ]
  },
  {
   "cell_type": "markdown",
   "metadata": {},
   "source": [
    "#### 3. emit Event 실습\n",
    "\n",
    "- 실습 1 : 최하단 컴포넌트 ParentGrantChild -> Parent 컴포넌트의 name 변수 변경 요청하기\n",
    "\n",
    "    ![이미지](../이미지/emit실습.PNG)\n",
    "\n",
    "    - 이름변경 요청 이벤트 발신\n",
    "\n",
    "    ![이미지](../이미지/emit실습1.PNG)\n",
    "\n",
    "    ![이미지](../이미지/emit실습2.PNG)\n",
    "\n",
    "    - ParentChild.vue에서 이벤트 수신 후 이름변경 요청하는 Parent로 이벤트 발신\n",
    "\n",
    "    ![이미지](../이미지/emit실습3.PNG)\n",
    "\n",
    "    - 이벤트 수신 후 이름 변수 변경 메서드 호출\n",
    "\n",
    "    - 해당 변수를 prop으로 받는 모든 곳에서 자동 업데이트\n",
    "\n",
    "    ![이미지](../이미지/emit실습4.PNG)\n",
    "\n"
   ]
  },
  {
   "cell_type": "markdown",
   "metadata": {},
   "source": [
    "#### 4. 참고\n",
    "\n",
    "![이미지](../이미지/정적동적prop.PNG)"
   ]
  },
  {
   "cell_type": "markdown",
   "metadata": {},
   "source": [
    "#### 5. 강사님 예시\n",
    "\n",
    "- input을 활용한 prop & emit 예제"
   ]
  },
  {
   "cell_type": "markdown",
   "metadata": {},
   "source": []
  },
  {
   "cell_type": "markdown",
   "metadata": {},
   "source": [
    "## 5-3\n",
    "\n",
    "삭제할 건데.. 무슨 카드를 삭제할거야? 어떻게 식별할거야?\n",
    "\"id\"로!\n",
    "\n",
    "let id = 0\n",
    "\n",
    "\n",
    "id 속성도 추가"
   ]
  },
  {
   "cell_type": "markdown",
   "metadata": {},
   "source": []
  },
  {
   "cell_type": "markdown",
   "metadata": {},
   "source": []
  }
 ],
 "metadata": {
  "language_info": {
   "name": "python"
  }
 },
 "nbformat": 4,
 "nbformat_minor": 2
}
