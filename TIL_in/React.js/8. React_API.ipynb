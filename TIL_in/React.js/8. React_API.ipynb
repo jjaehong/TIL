{
 "cells": [
  {
   "cell_type": "markdown",
   "metadata": {},
   "source": [
    "## React API"
   ]
  },
  {
   "cell_type": "markdown",
   "metadata": {},
   "source": [
    "#### 1. 개발환경 설정\n",
    "\n",
    "1. 프로젝트 만들기\n",
    "\n",
    "    - npx create-react-app api-integrate\n",
    "\n",
    "2. axios 라이브러리 설치(API 호출)\n",
    "\n",
    "    - cd ~\n",
    "\n",
    "    - npm i axios\n",
    "\n",
    "\n",
    "3. axios 정리\n",
    "\n",
    "    - REST API 사용할 때, 하고 싶은 작업에 따라 다른 메서드 요청을 할 수 있음.\n",
    "\n",
    "    - GET(R), POST(C), PUT(U), DELETE(D), PATCH, HEAD"
   ]
  },
  {
   "cell_type": "markdown",
   "metadata": {},
   "source": [
    "#### 2. API 요청방법(with axios)\n",
    "\n",
    "1. 기본 문법\n",
    "\n",
    "```js\n",
    "import axios from 'axios';\n",
    "\n",
    "// CRUD\n",
    "axios.get('/users/1');\n",
    "\n",
    "axios.post('URL 주소', {\n",
    "  username: 'blabla',\n",
    "  name: 'blabla'\n",
    "});\n",
    "\n",
    "```\n",
    "\n",
    "\n",
    "2. useState와 UseEffect로 데이터 로딩하기\n",
    "\n",
    "- useState 를 사용하여 요청 상태를 관리하고, useEffect 를 사용하여 컴포넌트가 렌더링되는 시점에 요청을 시작하는 작업을 해보겠습니다.\n",
    "\n",
    "- 요청에 대한 상태를 관리 할 때에는 다음과 같이 총 3가지 상태를 관리해주어야합니다.\n",
    "\n",
    "    1. 요청의 결과\n",
    "    2. 로딩 상태\n",
    "    3. 에러"
   ]
  },
  {
   "cell_type": "markdown",
   "metadata": {},
   "source": []
  },
  {
   "cell_type": "markdown",
   "metadata": {},
   "source": []
  },
  {
   "cell_type": "markdown",
   "metadata": {},
   "source": []
  },
  {
   "cell_type": "markdown",
   "metadata": {},
   "source": []
  }
 ],
 "metadata": {
  "language_info": {
   "name": "python"
  }
 },
 "nbformat": 4,
 "nbformat_minor": 2
}
