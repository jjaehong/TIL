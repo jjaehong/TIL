{
 "cells": [
  {
   "cell_type": "markdown",
   "metadata": {},
   "source": [
    "## State & Hooks"
   ]
  },
  {
   "cell_type": "markdown",
   "metadata": {},
   "source": [
    "#### 1. State 개념 및 특징\n",
    "\n",
    "1. \n",
    "\n",
    "- 리액트 컴포넌트의 상태, 리액트 컴포넌트의 변경 가능한 데이터\n",
    "\n",
    "- 자바스크립트 객체이다. \n",
    "\n",
    "\n",
    "\n",
    "#### 2. useState\n",
    "\n",
    "- state는 직접적인 변경이 불가능하다. 따라서 state를 변경하고자 할 때는 setState()라는 함수를 사용한다. "
   ]
  },
  {
   "cell_type": "markdown",
   "metadata": {},
   "source": []
  },
  {
   "cell_type": "markdown",
   "metadata": {},
   "source": []
  },
  {
   "cell_type": "markdown",
   "metadata": {},
   "source": []
  }
 ],
 "metadata": {
  "language_info": {
   "name": "python"
  }
 },
 "nbformat": 4,
 "nbformat_minor": 2
}
