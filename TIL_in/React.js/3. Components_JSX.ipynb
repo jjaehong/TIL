{
 "cells": [
  {
   "cell_type": "markdown",
   "metadata": {},
   "source": [
    "- 학습목표\n",
    "\n",
    "- 컴포넌트, jsx, props, state 등 이들의 기능과 리액트 개발자로서 사용할 수 있어야함.\n",
    "\n",
    "- 리액트 애플리케이션에서 데이터 출력과 같이 데이터를 사용하는 방법도 배움\n",
    "\n",
    "- 버튼 클릭과 같은 유저 이벤트에 반응할 수 있도록 리액트 애플리케이션을 상호작용하게 만드는 방법\n",
    "\n",
    "-  상태(state)라는 중요한 개념을 배움. 상태는 고정적인 웹사이트를 역동적인 웹사이트로 변형하는데 중요함."
   ]
  },
  {
   "cell_type": "markdown",
   "metadata": {},
   "source": [
    "## 3. 컴포넌트(component) "
   ]
  },
  {
   "cell_type": "markdown",
   "metadata": {},
   "source": [
    "#### 1. 컴포넌트 개념과 특징\n",
    "\n",
    "![이미지](../이미지/컴포넌트%20트리.png)\n",
    "\n",
    "- 컴포넌트는 잠재적으로 **재사용이 가능한 구성요소**로, 개발자가 생성하고 차후 혼합하여 전반적인 UI를 구축할 수 있다.\n",
    "\n",
    "- 결국 React 애플리케이션은 **컴포넌트를 결합**하여 만들어진 것임\n",
    "\n",
    "- **따라서 주요 빌딩 블록들을 컴포넌트화한 후 계속 재사용하면서 코드가 간결해지고 이해하기 쉬워지고 개발자간 협업이 쉬워짐(과정의 단순화)**\n",
    "\n",
    "- 버튼, input 도 컴포넌트화 가능\n",
    "\n",
    "\n",
    "#### 2. JSX\n",
    "\n",
    "- 자바스크립트 문법 확장자(JavaScript Syntax Extension)\n",
    "\n",
    "- HTML + JS\n",
    "\n",
    "- JSX로 인해 보다 편리하게 UI를 설명할 수 있음\n",
    "\n",
    "- JSX 안에 자바스크립트 값 사용하기 : **{자바스크립트}**\n",
    "\n",
    "- jsx는 브라우저에서 지원되지 않는 파일 확장자임.(브라우저는 JS만 지원)\n",
    "\n",
    "    - jsx가 작동할 수 있는 이유는 리액트 프로젝트에서 이 특별한 확장자를 지원하기 때문입니다. 이 확장자는 개발 서버가 실행될 때 백그라운드에서 실행되는 빌드 프로세스에게 해당 파일이 JSX 코드를 포함하고 있다는 것을 알려줍니다. 이후 JSX는 브라우저에 도달하기 전에 개발 서버에서 변환됨. 브라우저에서 사용 가능한 코드로 변환됨\n",
    "\n",
    "    - 따라서 jsx는 브라우저나 \"표준 자바스크립트\"와는 무관하며, 단순히 선택한 프로젝트 설정의 코드 빌드 프로세스의 요구 사항에 의존합니다\n",
    "\n",
    "    - UI 렌더링 흐름도 : App.js -> index.js -> (렌더링) -> index.html -> (UI) \n",
    "\n",
    "\n",
    "#### 3. React Component \n",
    "\n",
    "1. 컴포넌트 기반 구조\n",
    "\n",
    "    - 작은 컴포넌트들이 모여서 하나의 컴포넌트를 구성하고 이러한 컴포넌트들이 모여서 전체 페이지를 구성\n",
    "\n",
    "\n",
    "2. JS 함수와 비슷함.\n",
    "\n",
    "    - 속성들을 입력으로 받아서 그에 맞는 리액트 엘리먼트를 생성하여 리턴함\n",
    "\n",
    "    - props -> (컴포넌트) -> 엘리먼트 -> (렌더링) -> DOM\n",
    "\n",
    "\n",
    "3. 리액트 컴포넌트로 인식되기 위한 2가지 조건\n",
    "\n",
    "    1. 함수의 제목이 대문자로 시작 : function App() {}\n",
    "\n",
    "        - 리액트에 내장된 컴포넌트가 아니라 개발자가 만든 커스텀 컴포넌트라는 것을 알리기 위해서\n",
    "\n",
    "        - 내장 컴포넌트 예시 : div, p, header\n",
    "\n",
    "    2. 함수에서 렌더링 가능한 값이 반환되어야함 : return ()\n",
    "\n",
    "\n",
    "#### 4. 구현\n",
    "\n",
    "![이미지](../이미지/커스텀컴포넌트.png)\n",
    "\n"
   ]
  },
  {
   "cell_type": "code",
   "execution_count": null,
   "metadata": {
    "vscode": {
     "languageId": "javascript"
    }
   },
   "outputs": [],
   "source": [
    "// 컴포넌트 & 동적 출력 구현\n",
    "// 페이지를 새로고침 할 때마다 3개의 단어 중 하나의 단어를 랜덤으로 출력했으면 좋겠다 !\n",
    "\n",
    "\n",
    "// App.jsx\n",
    "\n",
    "// 문자열로 src 부르면 배포과정에서 문제생김\n",
    "// 따라서 변수로 import 해온다음 변수로 src에 할당함.\n",
    "import reactImg from 'src/assets/react-core-concepts.png'\n",
    "\n",
    "const reactDescriptions = ['Fundamental', 'Crucial', 'Core'];\n",
    "\n",
    "function genRandomInt(max) {\n",
    "  return Math.floor(Math.random() * (max + 1));\n",
    "}\n",
    "\n",
    "function Header() {\n",
    "\n",
    "  // 로직 변수에 저장\n",
    "  const description = reactDescriptions[genRandomInt(2)]\n",
    "\n",
    "  return (\n",
    "    <header>\n",
    "      {/* src={} : 동적 HTML 속성 설정 */}\n",
    "      <img src={reactImg} alt=\"Stylized atom\" />\n",
    "      <h1>React Essentials</h1>\n",
    "      <p>\n",
    "        {/* 중괄호 안에 JS 사용함! */}\n",
    "        {description} React concepts you will need for almost any app you are going to build!\n",
    "      </p>\n",
    "    </header>\n",
    "  );\n",
    "}\n",
    "\n",
    "function App() {\n",
    "  return (\n",
    "    <div>\n",
    "      {/* 컴포넌트 구현 */}\n",
    "      <Header />\n",
    "      <main>\n",
    "        <h2>Time to get started!</h2>\n",
    "      </main>\n",
    "    </div>\n",
    "  );\n",
    "}\n",
    "\n",
    "export default App;"
   ]
  },
  {
   "cell_type": "markdown",
   "metadata": {},
   "source": [
    "#### 1. 함수 컴포넌트\n",
    "\n",
    "\n",
    "#### 2. 클래스 컴포넌트\n",
    "\n"
   ]
  },
  {
   "cell_type": "markdown",
   "metadata": {},
   "source": [
    "\n",
    "\n",
    "\n",
    "- CSS style 지정 : className\n",
    "\n",
    "    - inline 지정\n",
    "\n",
    "    - "
   ]
  },
  {
   "cell_type": "code",
   "execution_count": null,
   "metadata": {
    "vscode": {
     "languageId": "javascript"
    }
   },
   "outputs": [],
   "source": [
    "\n",
    "\n",
    "import React from 'react';\n",
    "import Hello from './Hello';\n",
    "import './App.css';\n",
    "\n",
    "\n",
    "function App() {\n",
    "  const name = 'react';\n",
    "\n",
    "  // inline으로 css지정\n",
    "  const style = {\n",
    "    backgroundColor: 'black',\n",
    "    color: 'aqua',\n",
    "    fontSize: 24, // 기본 단위 px\n",
    "    padding: '1rem' // 다른 단위 사용 시 문자열로 설정\n",
    "  }\n",
    "\n",
    "  return (\n",
    "    <>\n",
    "      <Hello />\n",
    "      <div style={style}>{name}</div>\n",
    "\n",
    "      {/* App.css로 css 지정 */}\n",
    "      <div className=\"gray-box\"></div>\n",
    "    </>\n",
    "  );\n",
    "}\n",
    "\n",
    "export default App;"
   ]
  },
  {
   "cell_type": "code",
   "execution_count": null,
   "metadata": {
    "vscode": {
     "languageId": "javascript"
    }
   },
   "outputs": [],
   "source": [
    "// app.css에 넣어서 지정"
   ]
  },
  {
   "cell_type": "markdown",
   "metadata": {},
   "source": []
  },
  {
   "cell_type": "markdown",
   "metadata": {},
   "source": [
    "#### 참고\n",
    "\n",
    "index.html에는 html 코드는 찾아볼 수 없음. 그 이유는 화면에 옮기는 것은 리액트의 담당임. index.html에서\n"
   ]
  }
 ],
 "metadata": {
  "language_info": {
   "name": "python"
  }
 },
 "nbformat": 4,
 "nbformat_minor": 2
}
