{
 "cells": [
  {
   "cell_type": "markdown",
   "metadata": {},
   "source": [
    "## 3. 컴포넌트(component) "
   ]
  },
  {
   "cell_type": "markdown",
   "metadata": {},
   "source": [
    "#### 1. 함수 컴포넌트\n",
    "\n",
    "\n",
    "#### 2. 클래스 컴포넌트\n",
    "\n"
   ]
  },
  {
   "cell_type": "markdown",
   "metadata": {},
   "source": [
    "\n",
    "- JSX 안에 자바스크립트 값 사용하기 : **{자바스크립트}**\n",
    "\n",
    "- CSS style 지정 : className\n",
    "\n",
    "    - inline 지정\n",
    "\n",
    "    - "
   ]
  },
  {
   "cell_type": "code",
   "execution_count": null,
   "metadata": {
    "vscode": {
     "languageId": "javascript"
    }
   },
   "outputs": [],
   "source": [
    "\n",
    "\n",
    "import React from 'react';\n",
    "import Hello from './Hello';\n",
    "import './App.css';\n",
    "\n",
    "\n",
    "function App() {\n",
    "  const name = 'react';\n",
    "\n",
    "  // inline으로 css지정\n",
    "  const style = {\n",
    "    backgroundColor: 'black',\n",
    "    color: 'aqua',\n",
    "    fontSize: 24, // 기본 단위 px\n",
    "    padding: '1rem' // 다른 단위 사용 시 문자열로 설정\n",
    "  }\n",
    "\n",
    "  return (\n",
    "    <>\n",
    "      <Hello />\n",
    "      <div style={style}>{name}</div>\n",
    "\n",
    "      {/* App.css로 css 지정 */}\n",
    "      <div className=\"gray-box\"></div>\n",
    "    </>\n",
    "  );\n",
    "}\n",
    "\n",
    "export default App;"
   ]
  },
  {
   "cell_type": "code",
   "execution_count": null,
   "metadata": {
    "vscode": {
     "languageId": "javascript"
    }
   },
   "outputs": [],
   "source": [
    "// app.css에 넣어서 지정"
   ]
  },
  {
   "cell_type": "markdown",
   "metadata": {},
   "source": []
  },
  {
   "cell_type": "markdown",
   "metadata": {},
   "source": []
  }
 ],
 "metadata": {
  "language_info": {
   "name": "python"
  }
 },
 "nbformat": 4,
 "nbformat_minor": 2
}
