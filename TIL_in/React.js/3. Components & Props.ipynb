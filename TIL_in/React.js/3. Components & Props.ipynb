{
 "cells": [
  {
   "cell_type": "markdown",
   "metadata": {},
   "source": [
    "#### 학습목표\n",
    "\n",
    "- 컴포넌트, jsx, props, state 등 이들의 기능과 리액트 개발자로서 사용할 수 있어야함.\n",
    "\n",
    "- 리액트 애플리케이션에서 데이터 출력과 같이 데이터를 사용하는 방법도 배움\n",
    "\n",
    "- 버튼 클릭과 같은 유저 이벤트에 반응할 수 있도록 리액트 애플리케이션을 상호작용하게 만드는 방법\n",
    "\n",
    "-  상태(state)라는 중요한 개념을 배움. 상태는 고정적인 웹사이트를 역동적인 웹사이트로 변형하는데 중요함."
   ]
  },
  {
   "cell_type": "markdown",
   "metadata": {},
   "source": [
    "## 3. 컴포넌트(component) "
   ]
  },
  {
   "cell_type": "markdown",
   "metadata": {},
   "source": [
    "#### 1. 컴포넌트 개념과 특징\n",
    "\n",
    "![이미지](../이미지/컴포넌트%20트리.png)\n",
    "\n",
    "- 컴포넌트는 잠재적으로 **재사용이 가능한 구성요소**로, 개발자가 생성하고 **차후 혼합**하여 전반적인 UI를 구축할 수 있다.\n",
    "\n",
    "- 결국 React 애플리케이션은 **작은 컴포넌트들을 결합**하여 만들어진 것임\n",
    "\n",
    "- **따라서 주요 빌딩 블록들을 컴포넌트화한 후 계속 재사용하면서 코드가 간결해지고 이해하기 쉬워지고 개발자간 협업이 쉬워짐(과정의 단순화)**\n",
    "\n",
    "- 버튼, input 도 컴포넌트화 가능\n",
    "\n",
    "\n",
    "#### 2. JSX\n",
    "\n",
    "- 자바스크립트 문법 확장자(JavaScript Syntax Extension)\n",
    "\n",
    "- HTML + JS\n",
    "\n",
    "- JSX로 인해 보다 편리하게 UI를 설명할 수 있음\n",
    "\n",
    "- JSX 안에 자바스크립트 값 사용하기 : **{자바스크립트}**\n",
    "\n",
    "- jsx는 브라우저에서 지원되지 않는 파일 확장자임.(브라우저는 JS만 지원)\n",
    "\n",
    "    - 그럼에도 jsx가 작동할 수 있는 이유는 리액트 프로젝트에서 이 특별한 확장자를 지원하기 때문입니다. 이 확장자는 개발 서버가 실행될 때 백그라운드에서 실행되는 빌드 프로세스에게 해당 파일이 JSX 코드를 포함하고 있다는 것을 알려줍니다. 이후 JSX는 브라우저에 도달하기 전에 리액트 개발 서버에서 브라우저에서 사용 가능한 코드로 변환됨.\n",
    "\n",
    "    - 따라서 jsx는 브라우저나 \"표준 자바스크립트\"와는 무관하며, 단순히 선택한 프로젝트 설정의 코드 빌드 프로세스의 요구 사항에 의존합니다\n",
    "\n",
    "    - UI 렌더링 흐름도 : App.js -> index.js -> (렌더링) -> index.html -> (UI) \n",
    "\n",
    "\n",
    "#### 3. React Component \n",
    "\n",
    "1. 컴포넌트 기반 구조\n",
    "\n",
    "    - 작은 컴포넌트들이 모여서 하나의 컴포넌트를 구성하고 이러한 컴포넌트들이 모여서 전체 페이지를 구성\n",
    "\n",
    "\n",
    "2. JS 함수와 비슷함.\n",
    "\n",
    "    - 속성들을 입력으로 받아서 그에 맞는 리액트 엘리먼트를 생성하여 리턴함\n",
    "\n",
    "    - props -> (컴포넌트) -> 엘리먼트 -> (렌더링) -> DOM\n",
    "\n",
    "\n",
    "3. 리액트 컴포넌트로 인식되기 위한 2가지 조건\n",
    "\n",
    "    1. 함수의 제목이 대문자로 시작 : function **A**pp() {}\n",
    "\n",
    "        - 리액트에 내장된 컴포넌트가 아니라 개발자가 만든 커스텀 컴포넌트라는 것을 알리기 위해서\n",
    "\n",
    "        - 내장 컴포넌트 예시 : div, p, header\n",
    "\n",
    "    2. 함수에서 렌더링 가능한 값이 반환되어야함 : return ()\n",
    "\n",
    "4. 컴포넌트 종류\n",
    "\n",
    "    - 스스로 닫히는 컴포넌트 : <Player/>\n",
    "\n",
    "    - 열린, 닫힌 컴포넌트 : <Player> <Player/>\n",
    "\n",
    "        - 컴포넌트 시작과 종료 태그 사이에 데이터를 전달할 때\n",
    "        - 특수한 자식 속성 사용시"
   ]
  },
  {
   "cell_type": "code",
   "execution_count": null,
   "metadata": {
    "vscode": {
     "languageId": "javascript"
    }
   },
   "outputs": [],
   "source": [
    "// 컴포넌트 & 동적 출력 구현\n",
    "// 페이지를 새로고침 할 때마다 3개의 단어 중 하나의 단어를 랜덤으로 출력했으면 좋겠다 !\n",
    "\n",
    "\n",
    "// App.jsx\n",
    "\n",
    "// 문자열로 src 부르면 나중에 배포과정에서 문제생김\n",
    "// 따라서 변수로 import 해온다음 변수로 src에 할당함.\n",
    "import reactImg from 'src/assets/react-core-concepts.png'\n",
    "\n",
    "const reactDescriptions = ['Fundamental', 'Crucial', 'Core'];\n",
    "\n",
    "function genRandomInt(max) {\n",
    "  return Math.floor(Math.random() * (max + 1));\n",
    "}\n",
    "\n",
    "function Header() {\n",
    "\n",
    "  const description = reactDescriptions[genRandomInt(2)]\n",
    "\n",
    "  return (\n",
    "    <header>\n",
    "      {/* src={} : 동적 HTML 속성 설정 */}\n",
    "      <img src={reactImg} alt=\"Stylized atom\" />\n",
    "      <h1>React Essentials</h1>\n",
    "      <p>\n",
    "        {/* 중괄호 안에 JS 사용함! */}\n",
    "        {description} React concepts you will need for almost any app you are going to build!\n",
    "      </p>\n",
    "    </header>\n",
    "  );\n",
    "}\n",
    "\n",
    "function App() {\n",
    "  return (\n",
    "    <div>\n",
    "      {/* 컴포넌트 구현 */}\n",
    "      <Header />\n",
    "      <main>\n",
    "        <h2>Time to get started!</h2>\n",
    "      </main>\n",
    "    </div>\n",
    "  );\n",
    "}\n",
    "\n",
    "export default App;"
   ]
  },
  {
   "cell_type": "markdown",
   "metadata": {},
   "source": [
    "#### 5. Props(속성) \n",
    "\n",
    "- 컴포넌트는 한번 만들어놓으면 재사용할 수 있는 장점이 있다.\n",
    "- 하지만 컴포넌트는 프레임(틀)이므로 같은 형태이지만, 다른 내용의 컴포넌트를 만들수는 없다.\n",
    "- 컴포넌트에 props(속성)를 전달해주면서 같은 프레임의 다양한 항목(내용)의 엘리먼트들을 보여줄 수 있다.\n",
    "- 예를 들어 카드 컴포넌트를 재사용하면서 props를 다르게 주면서 다양한 항목들을 보여줄 수 있다.\n",
    "\n",
    "\n",
    "1. Props 개념\n",
    "\n",
    "    ![이미지](../이미지/pce.png)\n",
    "\n",
    "    - 컴포넌트에 전달할 다양한 정보를 담고 있는 **JS 객체(키-값 형태)**, 데이터가 객체상태로 컴포넌트에 전달됨\n",
    "\n",
    "    - props -> (컴포넌트) -> 엘리먼트 -> (렌더링) -> DOM\n",
    "\n",
    "    - props는 데이터를 컴포넌트로 전달하고 그 데이터를 컴포넌트에서 사용할 수 있게함. \n",
    "\n",
    "    - props의 목표는 컴포넌트를 계속 재사용하게 하는 것이지만, props를 다르게 주면서 재사용할 때마다 다른 react element를 생성함 => 재사용!\n",
    "\n",
    "2. props 특징\n",
    "\n",
    "    ![이미지](../이미지/리액트props.png)\n",
    "\n",
    "    - props의 값으로 문자열(string), 숫자, 객체, 배열로 전달할 수도 있음. 즉, 실제로 필요한 모든 것이 전달 가능함.\n",
    "\n",
    "    - 이처럼 데이터가 리액트 컴포넌트 함수로 전달되면 이 데이터를 props라는 매개변수로 받아서 사용하기 시작하면 됨\n",
    "\n",
    "    - 이를 볼 때 props의 장점은 한 개의 컴포넌트로 다양한 항목을 보게할 수 있음. props 덕분에 컴포넌트를 재사용할 수 있음(프레임은 같으나 내용은 다르게!)\n"
   ]
  },
  {
   "cell_type": "code",
   "execution_count": null,
   "metadata": {
    "vscode": {
     "languageId": "javascript"
    }
   },
   "outputs": [],
   "source": [
    "// Props 이해하기 & 컴포넌트 분리하기\n",
    "\n",
    "// App.jsx\n",
    "\n",
    "import ComponentImg from \"./assets/components.png\";\n",
    "import Header from \"./components/Header\";\n",
    "import { CORE_CONCEPTS } from \"./data\";\n",
    "\n",
    "// 1. App의 return에서 props(객체)로 데이터 전달한 것이\n",
    "// 2. 컴포넌트에 key로 받아서 들어오고 리액트 element를 생성함.\n",
    "function CoreConcept(props) {\n",
    "  return (\n",
    "    <li>\n",
    "      <img src={props.image} alt={props.title} />\n",
    "      <h3>{props.title}</h3>\n",
    "      <p>{props.content}</p>\n",
    "    </li>\n",
    "  );\n",
    "}\n",
    "\n",
    "// 구조 분해 할당\n",
    "// function CoreConcept({image, title, content}) {\n",
    "//   return (\n",
    "//     <li>\n",
    "//       <img src={image} alt={title} />\n",
    "//       <h3>{title}</h3>\n",
    "//       <p>{content}</p>\n",
    "//     </li>\n",
    "//   );\n",
    "// }\n",
    "\n",
    "function App() {\n",
    "  return (\n",
    "    <div>\n",
    "      {/* 컴포넌트 분리하기 */}\n",
    "      <Header />\n",
    "      <main>\n",
    "        {/* Props 이해 */}\n",
    "        <section id=\"core-concepts\">\n",
    "          <h2>Core Concepts</h2>\n",
    "          <ul>\n",
    "            {/* 1. 직접 입력하기 */}\n",
    "            <CoreConcept\n",
    "              title={\"Components\"}\n",
    "              content=\"The core UI building block - compose the user interface by combining multiple components.\"\n",
    "              image={ComponentImg}\n",
    "            />\n",
    "            {/* 2. 데이터 받고 변수 저장한 것 활용 */}\n",
    "            <CoreConcept\n",
    "              title={CORE_CONCEPTS[1].title}\n",
    "              content={CORE_CONCEPTS[1].content}\n",
    "              image={CORE_CONCEPTS[1].image}\n",
    "            />\n",
    "            {/* 3. spread(...) 활용 : 객체에서 나머지 불러오기 */}\n",
    "            <CoreConcept {...CORE_CONCEPTS[2]} />\n",
    "            <CoreConcept {...CORE_CONCEPTS[3]} />\n",
    "          </ul>\n",
    "        </section>\n",
    "        <h2>Time to get started!</h2>\n",
    "      </main>\n",
    "    </div>\n",
    "  );\n",
    "}\n",
    "\n",
    "export default App;\n"
   ]
  },
  {
   "cell_type": "code",
   "execution_count": null,
   "metadata": {
    "vscode": {
     "languageId": "javascript"
    }
   },
   "outputs": [],
   "source": [
    "// 컴포넌트 분리하기\n",
    "// Header.jsx\n",
    "\n",
    "import reactImg from \"../assets/react-core-concepts.png\";\n",
    "\n",
    "const reactDescriptions = [\"Fundamental\", \"Crucial\", \"Core\"];\n",
    "\n",
    "function genRandomInt(max) {\n",
    "  return Math.floor(Math.random() * (max + 1));\n",
    "}\n",
    "\n",
    "function Header() {\n",
    "  const description = reactDescriptions[genRandomInt(2)];\n",
    "\n",
    "  return (\n",
    "    <header>\n",
    "      <img src={reactImg} alt=\"Stylized atom\" />\n",
    "      <h1>React Essentials</h1>\n",
    "      <p>\n",
    "        {description} React concepts you will need for almost any app you are\n",
    "        going to build!\n",
    "      </p>\n",
    "    </header>\n",
    "  );\n",
    "}\n",
    "\n",
    "export default Header"
   ]
  },
  {
   "cell_type": "markdown",
   "metadata": {},
   "source": [
    "3. children prop(자녀 속성)\n",
    "\n",
    "- children prop은 리액트에 내장된 prop으로서, **children prop은 컴포넌트의 열림과 닫힘 태그 사이**에 있는 어떤 내용이든 전달받는다.\n",
    "\n",
    "- **컴포넌트의 열림과 닫힘 태그 사이에** 무언가를 전달하면 리액트가 출력할 위치를 모르기 때문에 자동적으로 안에 담긴 내용이 출력되지 않는다. => 이 때 children prop 사용\n"
   ]
  },
  {
   "cell_type": "code",
   "execution_count": null,
   "metadata": {
    "vscode": {
     "languageId": "javascript"
    }
   },
   "outputs": [],
   "source": [
    "// children prop\n",
    "\n",
    "// App.jsx\n",
    "\n",
    "<section id=\"examples\">\n",
    "  <h2>Examples</h2>\n",
    "  {/* 내장 함수(메뉴) */}\n",
    "  <menu>\n",
    "    {/* 열린 컴포넌트, 닫힌 컴포넌트 */}\n",
    "    <TabButton>Components</TabButton>\n",
    "    <TabButton>JSX</TabButton>\n",
    "    <TabButton>Props</TabButton>\n",
    "    <TabButton>State</TabButton>\n",
    "  </menu>\n",
    "</section>"
   ]
  },
  {
   "cell_type": "code",
   "execution_count": null,
   "metadata": {
    "vscode": {
     "languageId": "javascript"
    }
   },
   "outputs": [],
   "source": [
    "// children prop\n",
    "\n",
    "// TabButton.jsx\n",
    "\n",
    "function TabButton(props) {\n",
    "  return (\n",
    "    <li>\n",
    "      <button>{props.children}</button>\n",
    "    </li>\n",
    "  );\n",
    "}\n",
    "\n",
    "export default TabButton;"
   ]
  },
  {
   "cell_type": "markdown",
   "metadata": {},
   "source": [
    "#### 6. Handling Event(이벤트 처리)\n",
    "\n",
    "\n",
    "0. 들어가며\n",
    "\n",
    "    - dynamic content : 동적으로 나타나는 내용\n",
    "    - 탭버튼을 클릭 이벤트를 발생시키면 그때서야 내용이 나타나는 것을 구현하고 싶다. \n",
    "    - 커스텀 컴포넌트에 값으로서의 함수를 prop에 설정하는 패턴을 통해 데이터를 업데이트 할 수 있음\n",
    "\n",
    "\n",
    "1. 이벤트 핸들러 개념\n",
    "\n",
    "    - 이벤트 : 브라우저에서 어떤 사건(사용자가 클릭할 때, 스크롤 할 때, 입력할 때 둥)이 발생했을 때 상호작용으로 인해 일어나는 사건을 의미함.\n",
    "\n",
    "    - 예시 : onClick, onSubmit, onChange 등등\n",
    "\n",
    "\n",
    "2. React 이벤트 핸들러 활용방식\n",
    "\n",
    "    - on뭐시기={콜백함수} : 리액트가 콜백함수 나중에 실행\n",
    "\n",
    "    - on뭐시기={() => 콜백함수(인자)} : 콜백함수를 직접 실행시키는 대신에 화살표 함수를 간접 실행시켜 인자(데이터)를 콜백함수에 전달함!"
   ]
  },
  {
   "cell_type": "code",
   "execution_count": null,
   "metadata": {
    "vscode": {
     "languageId": "javascript"
    }
   },
   "outputs": [],
   "source": [
    "// 6. 이벤트 핸들링\n",
    "\n",
    "// TabButton.jsx\n",
    "\n",
    "function TabButton({children, onClick}) {\n",
    "\n",
    "  return (\n",
    "    <li>\n",
    "      {/* 여기서 핸들클릭을 실행해서는 안됨 : onClick={clickHandler()} => 괄호추가 X  */}\n",
    "      {/* 괄호를 추가하면 사용자가 버튼을 누를 때 이 함수를 즉시 실행하게되는데 이는 onClick에 전달되는 값이기 때문에 해서는 안됨  */}\n",
    "      {/* 즉 버튼을 누르면 리액트에서 실행해야됨. 나중에 언젠가 실행됨 */}\n",
    "      <button onClick={onClick}>{children}</button>\n",
    "    </li>\n",
    "  );\n",
    "}\n",
    "\n",
    "export default TabButton;"
   ]
  },
  {
   "cell_type": "code",
   "execution_count": null,
   "metadata": {
    "vscode": {
     "languageId": "javascript"
    }
   },
   "outputs": [],
   "source": [
    "// 6. 이벤트 핸들링\n",
    "\n",
    "// App.js\n",
    "\n",
    "function clickHandler(selectedButton) {\n",
    "  // selectedButton => 'components', 'jsx', 'props', 'state'\n",
    "\n",
    "  console.log(selectedButton)\n",
    "}\n",
    "\n",
    "<section id=\"examples\" >\n",
    "<h2>Examples</h2>\n",
    "<menu>\n",
    "  {/* onClick에 clickHandler를 직접 실행시키는 대신에, onClick에 화살표 함수를 실행시킴 */}\n",
    "  {/* 이를 통해 익명의 화살표 함수가 onClick에 값으로 실행되며 화살표 안의 함수(clickHandler)는 실행되지 않음!*/}\n",
    "  {/* 즉, 화살표 함수로 간접실행시켜 인자를 clickHandler 함수에 전달함! */}\n",
    "  {/* 따라서 리액트에서 이벤트에 따라 실행되는 함수를 정의하고 싶은데 어떻게 불려질지 그리고 어떤 인수를 실행할지를 통제하고 싶을 때 자주 사용하는 패턴임*/}\n",
    "  <TabButton onClick={() => clickHandler('components')} >Components</TabButton>\n",
    "  <TabButton onClick={() => clickHandler('jsx')} >JSX</TabButton>\n",
    "  <TabButton onClick={() =>clickHandler('props')} >Props</TabButton>\n",
    "  <TabButton onClick={() =>clickHandler('state')} >State</TabButton>\n",
    "</menu>\n",
    "\n",
    "</section>"
   ]
  },
  {
   "cell_type": "markdown",
   "metadata": {},
   "source": [
    "#### 7. 참고\n",
    "\n",
    "1. DataGrid\n",
    "\n",
    "- 사이트 : mui.com/ => MUI X\n",
    "\n",
    "- React에 grid system 활용(스프레드시트와 유사하게 표기)\n",
    "\n",
    "- 데이터 값을 화면에 뿌려주는 도구\n",
    "\n",
    "\n",
    "![이미지](../이미지/datagrid.PNG)"
   ]
  },
  {
   "cell_type": "markdown",
   "metadata": {},
   "source": [
    "\n",
    "\n",
    "\n",
    "- CSS style 지정 : className\n",
    "\n",
    "    - inline 지정\n",
    "\n",
    "    - "
   ]
  },
  {
   "cell_type": "code",
   "execution_count": null,
   "metadata": {
    "vscode": {
     "languageId": "javascript"
    }
   },
   "outputs": [],
   "source": [
    "\n",
    "\n",
    "import React from 'react';\n",
    "import Hello from './Hello';\n",
    "import './App.css';\n",
    "\n",
    "\n",
    "function App() {\n",
    "  const name = 'react';\n",
    "\n",
    "  // inline으로 css지정\n",
    "  const style = {\n",
    "    backgroundColor: 'black',\n",
    "    color: 'aqua',\n",
    "    fontSize: 24, // 기본 단위 px\n",
    "    padding: '1rem' // 다른 단위 사용 시 문자열로 설정\n",
    "  }\n",
    "\n",
    "  return (\n",
    "    <>\n",
    "      <Hello />\n",
    "      <div style={style}>{name}</div>\n",
    "\n",
    "      {/* App.css로 css 지정 */}\n",
    "      <div className=\"gray-box\"></div>\n",
    "    </>\n",
    "  );\n",
    "}\n",
    "\n",
    "export default App;"
   ]
  },
  {
   "cell_type": "code",
   "execution_count": null,
   "metadata": {
    "vscode": {
     "languageId": "javascript"
    }
   },
   "outputs": [],
   "source": [
    "// app.css에 넣어서 지정"
   ]
  },
  {
   "cell_type": "markdown",
   "metadata": {},
   "source": []
  },
  {
   "cell_type": "markdown",
   "metadata": {},
   "source": [
    "#### 참고\n",
    "\n",
    "index.html에는 html 코드는 찾아볼 수 없음. 그 이유는 화면에 옮기는 것은 리액트의 담당임. index.html에서\n"
   ]
  }
 ],
 "metadata": {
  "language_info": {
   "name": "python"
  }
 },
 "nbformat": 4,
 "nbformat_minor": 2
}
