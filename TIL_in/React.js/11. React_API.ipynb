{
 "cells": [
  {
   "cell_type": "markdown",
   "metadata": {},
   "source": [
    "## 11. React API\n",
    "\n",
    "![이미지](../이미지/서버중심관리.png)\n",
    "\n",
    "- **리액트 프로젝트 코드는 결국 방문자의 브라우저 안에서 실행**되기에 프로젝트를 구축할 때, **데이터를 서버 중심(중앙서버)으로 관리**함.\n",
    "\n",
    "- 클라이언트들은 서로 상호작용할 수 없고, 데이터를 주고 받을 수도 없기에 중앙DB서버를 통해서 상호작용한다. 로컬 임시 데이터를 활용하는 것에 그치지 않고 중앙 서버를 사용해 소통할 수 있는 앱 구축\n",
    "\n",
    "- 따라서 이번 섹션에서는 **백엔드,DB 연결방법과 fetch로 데이터 가져오기와 HTTP 요청 보내기**를 다룸!(리액트 앱이 중앙서버와 어떻게 데이터를 주고받는지!)"
   ]
  },
  {
   "cell_type": "markdown",
   "metadata": {},
   "source": [
    "#### 1. Backend, DB와 React 소통\n",
    "\n",
    "![이미지](../이미지/클라와서버.png)\n",
    "\n",
    "- 프론트와 백엔드를 연결하기 위해 HTTP 요청을 사용함.(데이터 CRUD 요청)\n",
    "\n",
    "- 다만 보안 때문에 백엔드가 허용하거나 수락한 것만 보낼 수 있다는 것임. 백엔드가 특정 요청을 거부하면 요청은 불가능함\n",
    "\n",
    "![이미지](../이미지/리액트짱.png)"
   ]
  },
  {
   "cell_type": "markdown",
   "metadata": {},
   "source": [
    "#### 1. 개발환경 설정\n",
    "\n",
    "1. 프로젝트 만들기\n",
    "\n",
    "    - npx create-react-app api-integrate\n",
    "\n",
    "2. axios 라이브러리 설치(API 호출)\n",
    "\n",
    "    - cd ~\n",
    "\n",
    "    - npm i axios\n",
    "\n",
    "\n",
    "3. axios 정리\n",
    "\n",
    "    - REST API 사용할 때, 하고 싶은 작업에 따라 다른 메서드 요청을 할 수 있음.\n",
    "\n",
    "    - GET(R), POST(C), PUT(U), DELETE(D), PATCH, HEAD"
   ]
  },
  {
   "cell_type": "markdown",
   "metadata": {},
   "source": [
    "#### 2. API 요청방법(with axios)\n",
    "\n",
    "1. 기본 문법\n",
    "\n",
    "```js\n",
    "import axios from 'axios';\n",
    "\n",
    "// CRUD\n",
    "axios.get('/users/1');\n",
    "\n",
    "axios.post('URL 주소', {\n",
    "  username: 'blabla',\n",
    "  name: 'blabla'\n",
    "});\n",
    "\n",
    "```\n",
    "\n",
    "\n",
    "2. useState와 UseEffect로 데이터 로딩하기\n",
    "\n",
    "- useState 를 사용하여 요청 상태를 관리하고, useEffect 를 사용하여 컴포넌트가 렌더링되는 시점에 요청을 시작하는 작업을 해보겠습니다.\n",
    "\n",
    "- 요청에 대한 상태를 관리 할 때에는 다음과 같이 총 3가지 상태를 관리해주어야합니다.\n",
    "\n",
    "    1. 요청의 결과(data state)\n",
    "    2. 로딩 상태(loading state)\n",
    "    3. 에러(error state)"
   ]
  },
  {
   "cell_type": "markdown",
   "metadata": {},
   "source": [
    "내장 fetch() 함수\n",
    "- 브라우저가 직접 제공하는 내장 함수\n",
    "- HTTP요청을 다른 서버들로 보내는데 사용\n",
    "- fetch가 기본적으로 원하는 것 : 요청을 보내려는 서버의 URL\n",
    "- fetch는 HTTP 요청을 보낸 후 프로미스(Promise)를 반환한다. 나중에 JS 값으로 다른 값에 사용됨\n",
    "- 그러니까 프로미스는 JS 객체이며 해당 state에 따라 각 다른 값을 산출해낸다. 그리고 그 값들에 접근하려면 fetch로 불러온 결과로 메소드들을 한데 묶을 수 있다. \n",
    "- 예를 들어 then 메서드 추가하고 함수를 전달하여 정의하면 이 프로미스가 해결되고 Response를 받고나서 한 번 실행된다.(딱 한번만 실행할 때 : fetch('url').then)\n",
    "\n",
    "![이미지](../이미지/fetch.png)\n",
    "\n",
    "- 최근에는 await 키워드를 사용해서 이 responses들에 접근 할 수 있고 구문도 더 가독성있게 만들어준다. 하지만 이게 가능한 건 오직 이 함수에서 이 코드가 비동기(async)로 실행될 때이다. 컴포넌트 함수들에게는 허용되지 않음\n",
    "\n",
    "async function await\n",
    "\n",
    "\n",
    "\n",
    "![이미지](../이미지/async%20await.png)"
   ]
  },
  {
   "cell_type": "markdown",
   "metadata": {},
   "source": [
    "- JS의 프로미스(Promise) 객체는 비동기 작업의 최종 완료 또는 실패를 나타내는 Array나 Object처럼 독자적인 객체라고 보면 된다. 비동기 작업이 끝날 때까지 결과를 기다리는 것이 아니라, 결과를 제공하겠다는 '약속'을 반환한다는 의미에서 Promise라 명명 지어졌다고 한다.\n",
    "\n",
    "```js\n",
    "// 프로미스 객체를 반환하는 함수 생성\n",
    "function myPromise() {\n",
    "  return new Promise((resolve, reject) => {\n",
    "    if (/* 성공 조건 */) {\n",
    "      resolve(/* 결과 값 */);\n",
    "    } else {\n",
    "      reject(/* 에러 값 */);\n",
    "    }\n",
    "  });\n",
    "}\n",
    "\n",
    "// 프로미스 객체를 반환하는 함수 사용\n",
    "myPromise()\n",
    "    .then((result) => {\n",
    "      // 성공 시 실행할 콜백 함수\n",
    "    })\n",
    "    .catch((error) => {\n",
    "      // 실패 시 실행할 콜백 함수\n",
    "    });\n",
    "```\n",
    "\n",
    "\n",
    "#### async await\n",
    "https://velog.io/@khy226/%EB%8F%99%EA%B8%B0-%EB%B9%84%EB%8F%99%EA%B8%B0%EB%9E%80-Promise-asyncawait-%EA%B0%9C%EB%85%90\n",
    "\n",
    "- async : function 앞에  async가 붙은 함수는 반드시 Promise 객체를 반환하고, 프라미스가 아닌 것은 Promise 객체로 감싸 반환한다.\n",
    "\n",
    "- await : Promise가 처리될 때 까지 기다리는 역할. 그리고 결과는 그 이후 반환된다. 즉, 프라미스가 처리될 때까지 함수 실행을 기다리게 만든 후 프로미스가 처리되면 실행이 재개된다.\n",
    "\n",
    "\n",
    "#### async await 에러 제어\n",
    "\n",
    "- await가 던진 에러는 throw가 던진 에러를 잡을 때처럼 try..catch를 사용해 잡을 수 있다.\n",
    "\n",
    "```js\n",
    "async function f() {\n",
    "\n",
    "  try {\n",
    "    let response = await fetch('http://유효하지-않은-주소');\n",
    "  } catch(err) {\n",
    "    alert(err); // TypeError: failed to fetch\n",
    "  }\n",
    "}\n",
    "\n",
    "f();\n",
    "```\n",
    "\n"
   ]
  },
  {
   "cell_type": "markdown",
   "metadata": {},
   "source": []
  },
  {
   "cell_type": "markdown",
   "metadata": {},
   "source": [
    "#### POST 요청"
   ]
  },
  {
   "cell_type": "markdown",
   "metadata": {},
   "source": []
  },
  {
   "cell_type": "markdown",
   "metadata": {},
   "source": []
  },
  {
   "cell_type": "markdown",
   "metadata": {},
   "source": []
  },
  {
   "cell_type": "markdown",
   "metadata": {},
   "source": []
  },
  {
   "cell_type": "markdown",
   "metadata": {},
   "source": []
  },
  {
   "cell_type": "markdown",
   "metadata": {},
   "source": []
  },
  {
   "cell_type": "markdown",
   "metadata": {},
   "source": []
  }
 ],
 "metadata": {
  "language_info": {
   "name": "python"
  }
 },
 "nbformat": 4,
 "nbformat_minor": 2
}
