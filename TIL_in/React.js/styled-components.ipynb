{
 "cells": [
  {
   "cell_type": "markdown",
   "metadata": {},
   "source": [
    "## styled-components\n",
    "\n",
    "- CSS in JS : JS 안에 CSS 작성하는 것"
   ]
  },
  {
   "cell_type": "markdown",
   "metadata": {},
   "source": [
    "#### 1. Tagged Template Literal(` ${} `)\n",
    "\n",
    "- 만약에, 우리가 Template Literal 을 사용 할 때 ${} 안에 일반 문자열 / 숫자가 아닌 객체를 넣는다면 어떻게 될까요? (함수 or 객체)\n",
    "\n",
    "- styled-components 에서는 TTL을 사용해서 컴포넌트의 props 를 읽어오기도 함."
   ]
  },
  {
   "cell_type": "markdown",
   "metadata": {},
   "source": [
    "#### 2. styled-components 사용하기\n",
    "\n",
    "1. 설치하기\n",
    "\n",
    "- $ npx create-react-app styling-with-styled-components\n",
    "- $ cd styling-with-styled-components\n",
    "- $ yarn add styled-components"
   ]
  },
  {
   "cell_type": "markdown",
   "metadata": {},
   "source": []
  }
 ],
 "metadata": {
  "language_info": {
   "name": "python"
  }
 },
 "nbformat": 4,
 "nbformat_minor": 2
}
