{
 "cells": [
  {
   "cell_type": "markdown",
   "metadata": {},
   "source": [
    "#### Element(엘리먼트)\n",
    "\n",
    "1. Element 정의 및 특징\n",
    "\n",
    "- 리액트 앱의 가장 작은 빌딩 블록들\n",
    "\n",
    "- 화면에 나타나는 내용을 기술하는 자바스크립트 객체로서, 컴포넌트 유형과 속성(props) 등의 정보를 포함하고 있는 **JS 객체 형태**로 존재\n",
    "\n",
    "- 리액트 엘리먼트는 불변성을 가지기에 엘리먼트 생성 후에는 자식이나 속성을 바꿀 수 없다.\n",
    "\n",
    "- 렌더링된 엘리먼트 업데이트하기\n",
    "\n",
    "    - 엘리먼트는 한 번 생성되면 바꿀 수 없기 때문에 엘리먼트를 업데이트하기 위해서는 다시 생성해야함\n",
    "\n",
    "    - 기존 엘리먼트를 변경하는 것이 아니라 새로운 엘리먼트를 생성해서 바꿔치기 하는 것\n",
    "\n",
    "![이미지](../이미지/pce.png)\n",
    "\n",
    "- 컴포넌트에 속성(props)르"
   ]
  },
  {
   "cell_type": "code",
   "execution_count": null,
   "metadata": {
    "vscode": {
     "languageId": "plaintext"
    }
   },
   "outputs": [],
   "source": []
  },
  {
   "cell_type": "markdown",
   "metadata": {},
   "source": [
    "리액트 엘리먼트의 불변성 : 엘리먼트 생성 후에는 children이나 attributes를 바꿀 수 없다. \n",
    "\n",
    "![이미지](../이미지/virtualdom.webp)\n",
    "\n",
    "\n",
    "리액트 엘리먼트 렌더링 : virtual DOM -> 실제 DOM\n",
    "\n",
    "\n",
    "리액트 엘리먼트의 불변성 때문에 엘리먼트를 업데이트 하기 위해서는 새로 만들어야 한다는 중요한 사실이 있습니다. "
   ]
  },
  {
   "cell_type": "markdown",
   "metadata": {},
   "source": []
  },
  {
   "cell_type": "markdown",
   "metadata": {},
   "source": [
    "#### React Component \n",
    "\n",
    "1. 컴포넌트 기반 구조\n",
    "\n",
    "- 작은 컴포넌트들이 모여서 하나의 컴포넌트를 구성하고 이러한 컴포넌트들이 모여서 전체 페이지를 구성\n",
    "\n",
    "\n",
    "2. JS 함수와 비슷함.\n",
    "\n",
    "- 속성들을 입력으로 받아서 그에 맞는 리액트 엘리먼트를 생성하여 리턴함.\n",
    "\n",
    "- props -> (컴포넌트) -> 엘리먼트 -> (렌더링) -> DOM\n",
    "\n",
    "\n"
   ]
  },
  {
   "cell_type": "markdown",
   "metadata": {},
   "source": []
  },
  {
   "cell_type": "markdown",
   "metadata": {},
   "source": []
  }
 ],
 "metadata": {
  "language_info": {
   "name": "python"
  }
 },
 "nbformat": 4,
 "nbformat_minor": 2
}
