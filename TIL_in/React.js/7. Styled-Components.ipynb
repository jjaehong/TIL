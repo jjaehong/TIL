{
 "cells": [
  {
   "cell_type": "markdown",
   "metadata": {},
   "source": [
    "## 7. Styled-Components\n",
    "\n",
    "- 설치 : npm install styled-components"
   ]
  },
  {
   "cell_type": "markdown",
   "metadata": {},
   "source": [
    "#### 1. styled-components 패키지 개념\n",
    "\n",
    "- vanilla css 를 기반으로 하는 하나의 해결책 중 하나로 리액트 프로젝트에서 사용가능함.\n",
    "\n",
    "- css 규칙이나 스타일을 별도의 css파일이나 인라인 스타일로 정의하지 않고, 대신에 해당 패키지의 도움을 받아 생성된 특별한 컴포넌트 내에서 정의하는 것이다.\n",
    "\n",
    "- styled-components 에서는 템플릿 리터럴을 사용해서 컴포넌트의 props 를 읽어오기도 함."
   ]
  },
  {
   "cell_type": "markdown",
   "metadata": {},
   "source": [
    "#### 2. 사용 규칙?\n",
    "\n",
    "- import {styled} from 'styled-components'\n",
    "\n",
    "- styled. 입력 후 매핑되는 태그 찾기\n",
    "\n",
    "- styled.div`\n",
    "\n",
    "`(백틱)\n",
    "\n",
    "- 이는 태그를 개별 컴포넌트로 만들고 어떤 스타일이든 적용하고 싶은 스타일을 가지는 컴포넌트로 만든다.\n",
    "\n",
    "- 이제 템플릿 리터럴(``)이 div에 적용하고 싶은 모든 스타일을 포함해야 하는 것이다. 이로써 문자열을 깨지 않고 여러 라인의 코드를 적을 수 있다는 것이 장점이다.\n",
    "\n",
    "- 그리고 변수에 할당하면 그 변수는 컴포넌트가 되어 return()안에 태그들을 적절히 감싸며 정의된 css 스타일을 입힐 수 있다. "
   ]
  },
  {
   "cell_type": "markdown",
   "metadata": {},
   "source": [
    "- styled.div로 스타일한 컴포넌트들은 children 속성을 사용하지 않기에 열린,닫힌 컴포넌트 사이에 내용을 둘러쌀 수 있다.\n",
    "\n",
    "- 그러나 추가적으로 styled.component에 설정한 모든 속성을 해당 컴포넌트의 기본 jsx 요소로 전달한다. 따라서 styled.label은 시스템 내부에서 동적 css 스타일링이 \n",
    "\n",
    "\n",
    "- styeld components는 변수?를 컴포넌트화하여 재사용할 수 있는 작은 wrapper들을 만드는 것이다!\n",
    "- styled components의 도움을 통해 build한 작은 wrapper들을 얻는 것이다. "
   ]
  },
  {
   "cell_type": "markdown",
   "metadata": {},
   "source": [
    "#### 3. 동적 및 조건적 스타일링(with Styled-Components)\n",
    "\n",
    "- styled-components를 활용하여 동적인 스타일링을 하고싶다.\n",
    "\n",
    "\n",
    "1. 컴포넌트와 prop\n",
    "\n",
    "    ![이미지](../이미지/스타일컴포넌트작동0.png)\n",
    "    \n",
    "    ![이미지](../이미지/스타일컴포넌트작동.png)\n",
    "\n",
    "    - styled 컴포넌트에 미리 조건적 렌더링으로 작성된 변수를 prop으로 준다,\n",
    "\n",
    "2. 스타일 컴포넌트 백틱(``) 사이 동적 문자열 생성\n",
    "\n",
    "- `${(props) => {props.invalid ? '빨강' : '기본색상' }} `\n",
    "\n",
    "    ![이미지](../이미지/스타일컴포넌트작동1.png)\n",
    "\n",
    "    - 동적 값을 주입하면 이러한 tagged template 함수는 주입된 값을 인자로 받는다. \n",
    "\n",
    "    - 이 값들은 최종적으로 styled components 패키지에 의해 정의된 label/input 함수에서 수집되어 실행되고 styled components 패키지에서 처리한다. \n",
    "\n",
    "    - 따라서 이것은 styled components 패키지에 의해서 최종적으로 실행되는 함수가 될 것이다. \n",
    "\n",
    "3. styled components로 속성 삽입 시 주의 사항\n",
    "\n",
    "    1. 기본적 내장 속성과 충돌하지 않도록 하는 것\n",
    "\n",
    "        - $ 기호 사용 : 자바스크립트에서 허용되지만 내장 속성과 충돌하지 않음\n",
    "\n",
    "        ![이미지](../이미지/스타일컴포넌트작동2.png)\n",
    "\n",
    "        ![이미지](../이미지/스타일컴포넌트작동3.png)\n",
    "\n",
    "4. 정리\n",
    "\n",
    "- 동적 스타일을 label과 input에 적용하기 위하여 styled components를 활용하고 있음\n"
   ]
  },
  {
   "cell_type": "markdown",
   "metadata": {},
   "source": [
    "#### 4. Styled Components: 가상 선택자, 중첩 규칙 & 미디어 쿼리\n",
    "\n",
    "\n",
    "\n",
    "1. '&' 기호\n",
    "\n",
    "    ![이미지](../이미지/스타일컴포넌트.png)\n",
    "\n",
    "    ![이미지](../이미지/미디어쿼리.png)\n",
    "\n",
    "    - 개념 : styled component에 &내의 규칙들이 이 헤더 내의 어느 이미지 요소에나 영향을 미친다는 것을 보여준다.\n",
    "\n",
    "    - 이 예시에서는 이 헤더 내의 어떤 img든 타겟할 수 있다.\n",
    "\n",
    "    - media 쿼리 : 반응형 레이아웃을 위한 코드\n",
    "\n",
    "\n",
    "2. hover 스타일\n",
    "\n",
    "    ![이미지](../이미지/hover.png)\n",
    "\n",
    "    - 버튼 위에 마우스를 둘 때 : 클릭 생기는 것"
   ]
  },
  {
   "cell_type": "markdown",
   "metadata": {},
   "source": [
    "#### 5. 재사용 컴포넌트 생성 및 컴포넌트 조합\n",
    "\n",
    "\n",
    "![이미지](../이미지/인풋레이블.png)\n",
    "\n",
    "- input style과 label style을 조합하여 따로 컴포넌트(input.jsx)로 만들어서 사용할거야!\n",
    "\n",
    "- input.jsx에 input 스타일과 label 스타일을 넣었음. 그리고 export 하기 위해 customInput 컴포넌트를 만듬\n",
    "\n",
    "- 재사용 컴포넌트를 만드는 이유? : 리액트 개발자로서 항상 재사용 가능한 컴포넌트를 외부로 분리할 수 있는 기회를 찾아줘야 한다. 이러한 컴포넌트는 애플리케이션의 다른 부분에서 필요한 특정 스타일이 적용된 경우가 많다.\n"
   ]
  },
  {
   "cell_type": "markdown",
   "metadata": {},
   "source": [
    "#### 6. styled components 정리\n",
    "\n",
    "![이미지](../이미지/스타일컴포넌트장단점.png)\n",
    "\n",
    "1. 장점 \n",
    "\n",
    "    - 상대적으로 빠르고 쉽게 애플리케이션에 추가할 수 있음\n",
    "    - 컴포넌트를 다루는 개념과 아이디어가 거의 동일하기에 리액트라고 생각하면 됨\n",
    "    - 스타일이 자동으로 범위가 지정된다는 것이다.\n",
    "\n",
    "\n",
    "2. 단점\n",
    "\n",
    "    - CSS코드를 알아야함\n",
    "    - 컴포넌트 옆이나 컴포넌트와 동일한 파일에 정의되어 있기에 리액트와 css 코드 사이에 강한 분리가 없다\n",
    "    - 생성한 버튼이나 입력 컴포넌트와 같은 비교적 작은 래퍼(wrapper) 컴포넌트가 많이 생기는 경향이 있음\n",
    "        - 이는 컴포넌트의 재사용을 위한 것으로 꼭 나쁜것만은 아님\n",
    "\n"
   ]
  }
 ],
 "metadata": {
  "language_info": {
   "name": "python"
  }
 },
 "nbformat": 4,
 "nbformat_minor": 2
}
