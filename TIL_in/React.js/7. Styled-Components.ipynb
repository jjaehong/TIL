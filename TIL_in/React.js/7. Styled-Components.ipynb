{
 "cells": [
  {
   "cell_type": "markdown",
   "metadata": {},
   "source": [
    "## 7. Styled-Components\n",
    "\n",
    "- 설치 : npm install styled-components"
   ]
  },
  {
   "cell_type": "markdown",
   "metadata": {},
   "source": [
    "#### 1. styled-components 패키지 개념\n",
    "\n",
    "- vanilla css 를 기반으로 하는 하나의 해결책 중 하나로 리액트 프로젝트에서 사용가능함.\n",
    "\n",
    "- css 규칙이나 스타일을 별도의 css파일이나 인라인 스타일로 정의하지 않고, 대신에 해당 패키지의 도움을 받아 생성된 특별한 컴포넌트 내에서 정의하는 것이다.\n",
    "\n",
    "- styled-components 에서는 템플릿 리터럴을 사용해서 컴포넌트의 props 를 읽어오기도 함.\n",
    "\n"
   ]
  },
  {
   "cell_type": "markdown",
   "metadata": {},
   "source": [
    "#### 2. 사용 규칙?\n",
    "\n",
    "- import {styled} from 'styled-components'\n",
    "\n",
    "- styled. 입력 후 매핑되는 태그 찾기\n",
    "\n",
    "- styled.div`\n",
    "\n",
    "\n",
    "`(백틱)\n",
    "\n",
    "- 이는 태그를 개별 컴포넌트로 만들고 어떤 스타일이든 적용하고 싶은 스타일을 가지는 컴포넌트로 만든다.\n",
    "\n",
    "- 이제 템플릿 리터럴(``)이 div에 적용하고 싶은 모든 스타일을 포함해야 하는 것이다. 이로써 문자열을 깨지 않고 여러 라인의 코드를 적을 수 있다는 것이 장점이다.\n",
    "\n",
    "- 그리고 변수에 할당하면 그 변수는 컴포넌트가 되어 return()안에 태그들을 적절히 감싸며 정의된 css 스타일을 입힐 수 있다. "
   ]
  },
  {
   "cell_type": "markdown",
   "metadata": {},
   "source": [
    "- styled.div로 스타일한 컴포넌트들은 children 속성을 사용하지 않기에 열린,닫힌 컴포넌트 사이에 내용을 둘러쌀 수 있다.\n",
    "\n",
    "- 그러나 추가적으로 styled.component에 설정한 모든 속성을 해당 컴포넌트의 기본 jsx 요소로 전달한다. 따라서 styled.label은 시스템 내부에서 동적 css 스타일링이 \n",
    "\n",
    "\n",
    "- styeld components는 변수?를 컴포넌트화하여 재사용할 수 있는 작은 wrapper들을 만드는 것이다!\n",
    "- styled components의 도움을 통해 build한 작은 wrapper들을 얻는 것이다. "
   ]
  },
  {
   "cell_type": "markdown",
   "metadata": {},
   "source": [
    "#### 3. 동적 및 조건적 스타일링(with Styled-Components)"
   ]
  },
  {
   "cell_type": "markdown",
   "metadata": {},
   "source": []
  },
  {
   "cell_type": "markdown",
   "metadata": {},
   "source": []
  },
  {
   "cell_type": "markdown",
   "metadata": {},
   "source": []
  }
 ],
 "metadata": {
  "language_info": {
   "name": "python"
  }
 },
 "nbformat": 4,
 "nbformat_minor": 2
}
