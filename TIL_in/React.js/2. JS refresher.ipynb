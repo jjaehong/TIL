{
 "cells": [
  {
   "cell_type": "markdown",
   "metadata": {},
   "source": [
    "#### input\n",
    "\n",
    "\n",
    "1. value 속성(값 속성) : 입력창에서 보이는 값을 설정한다. 이 값을 수정하려고 하면 수정이 안됨. 여기에 설정되어 있는 값이 변경하려는 내용을 계속 덮어쓰기 때문이다.\n",
    "\n",
    "2. onChange\n",
    "\n",
    "3. 양방향 바인딩\n",
    "\n",
    "    - 입력값의 변화에 반응하고 변경된 값을 다시 입력값에 전달하는 방식\n",
    "    - 입력값에서 값을 빼내어(onChange) 다른 값을 다시 value 속성에 전달\n",
    "\n",
    "    - 아래 코드 해석\n",
    "        - onChange와 개별의 상태를 통제함으로써 사용자가 입력 필드에 작성한 값에 접근함.\n",
    "        - 이 변경된 값이 입력 필드에 다시 보여짐으로써 해당 값에 접근이 가능해짐."
   ]
  },
  {
   "cell_type": "code",
   "execution_count": null,
   "metadata": {
    "vscode": {
     "languageId": "javascript"
    }
   },
   "outputs": [],
   "source": [
    "// App.jsx\n",
    "\n",
    "import Player from \"./components/Player\";\n",
    "\n",
    "function App() {\n",
    "  return (\n",
    "    <main>\n",
    "      <div id=\"game-container\">\n",
    "        <ol id=\"players\">\n",
    "          <Player initialName={\"Player 1\"} symbol={\"X\"} />\n",
    "          <Player initialName={\"Player 2\"} symbol={\"O\"} />\n",
    "        </ol>\n",
    "        GAME BOARD\n",
    "      </div>\n",
    "      LOG\n",
    "    </main>\n",
    "  );\n",
    "}\n",
    "\n",
    "export default App;\n"
   ]
  },
  {
   "cell_type": "code",
   "execution_count": null,
   "metadata": {
    "vscode": {
     "languageId": "javascript"
    }
   },
   "outputs": [],
   "source": [
    "// Player.jsx\n",
    "\n",
    "import { useState } from \"react\";\n",
    "\n",
    "export default function Player({ initialName, symbol }) {\n",
    "\n",
    "  const [isEditing, setIsEditing] = useState(false);\n",
    "  const [playerName, setPlayerName] = useState(initialName);  \n",
    "\n",
    "  function handleEditClick() {\n",
    "    // toggle : 따라서 상태 변경 시 이전의 상태 값에 기반하여 변경하는 경우 새로운 함수를 보내기!\n",
    "    setIsEditing((editing) => !editing);\n",
    "    // setIsEditing(!isEditing);\n",
    "  }\n",
    "\n",
    "  let editablePlayerName = <span className=\"player-name\">{playerName}</span>\n",
    "  // let btnCaption = 'Edit'\n",
    "\n",
    "  function handleChange(event) {\n",
    "    setPlayerName(event.target.value);\n",
    "  }\n",
    "\n",
    "\n",
    "  if (isEditing) {\n",
    "    editablePlayerName = <input type=\"text\" required value={playerName} onChange={handleChange}/>\n",
    "    // btnCaption= \"Save\"\n",
    "  }\n",
    "\n",
    "  return (\n",
    "    <li>\n",
    "      <span className=\"player\">\n",
    "        {editablePlayerName}\n",
    "        <span className=\"player-symbol\">{symbol}</span>\n",
    "      </span>\n",
    "      <button onClick={handleEditClick}>{isEditing ? 'Save' : 'Edit'}</button>\n",
    "    </li>\n",
    "  );\n",
    "}\n"
   ]
  },
  {
   "cell_type": "markdown",
   "metadata": {},
   "source": [
    "#### 토글\n",
    "\n",
    "- setIsEditing(!isEditing)\n",
    "\n",
    "- setIsEditing(wasEditing => !wasEditing) : 상태를 이전 값에 기반하여 변경할 경우 함수를 하나 전달해야하는데, 해당 상태 변경 함수로 보내야 한다.\n",
    "\n",
    "- 반환하고자 하는 새로운 상태값으로 보내면 안된다.\n",
    "\n"
   ]
  }
 ],
 "metadata": {
  "language_info": {
   "name": "python"
  }
 },
 "nbformat": 4,
 "nbformat_minor": 2
}
