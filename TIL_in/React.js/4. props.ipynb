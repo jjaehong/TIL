{
 "cells": [
  {
   "cell_type": "markdown",
   "metadata": {},
   "source": [
    "## Props"
   ]
  },
  {
   "cell_type": "markdown",
   "metadata": {},
   "source": [
    "#### 1. Props 개념\n",
    "\n",
    "1. 개념 및 특징\n",
    "\n",
    "- 컴포넌트에 전달할 다양한 정보를 담고 있는 JS **객체(키-값 형태)**, 데이터가 객체로 저장되어 전달됨\n",
    "\n",
    "- 컴포넌트에 어떤 데이터를 전달하고 전달된 데이터에 따라 다른 모습의 엘리먼트를 화면에 렌더링하고 싶을 때, 해당 데이터를 props에 넣어 전달하는 것\n",
    "\n",
    "- 읽기 전용(read_only) == props의 값을 변경할 수 없다!\n",
    "\n",
    "- 즉, 모든 리액트 컴포넌트의 props는 직접 바뀔 수 없고, 같은 props가 들어오면 항상 같은 엘리먼트를 리턴해야 한다"
   ]
  },
  {
   "cell_type": "markdown",
   "metadata": {},
   "source": []
  },
  {
   "cell_type": "markdown",
   "metadata": {},
   "source": []
  },
  {
   "cell_type": "markdown",
   "metadata": {},
   "source": []
  },
  {
   "cell_type": "markdown",
   "metadata": {},
   "source": []
  }
 ],
 "metadata": {
  "language_info": {
   "name": "python"
  }
 },
 "nbformat": 4,
 "nbformat_minor": 2
}
