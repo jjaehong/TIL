{
 "cells": [
  {
   "cell_type": "markdown",
   "metadata": {},
   "source": [
    "## 4. State & Hooks\n",
    "\n",
    "- React에서 일반적인 변수로는 UI를 업데이트 할 수 없음(let,const)\n",
    "- 그러므로 컴포넌트 함수가 재실행되어야 한다는 것을 React에게 알려줄 방법을 찾아야함.\n",
    "- 이는 바로 state(상태)임!"
   ]
  },
  {
   "cell_type": "code",
   "execution_count": null,
   "metadata": {},
   "outputs": [],
   "source": []
  },
  {
   "cell_type": "markdown",
   "metadata": {},
   "source": [
    "#### 1. State 개념 및 특징\n",
    "\n",
    "1. \n",
    "\n",
    "- 리액트 컴포넌트의 상태, 리액트 컴포넌트의 변경 가능한 데이터\n",
    "\n",
    "- 자바스크립트 객체이다. \n",
    "\n",
    "\n",
    "\n",
    "#### 2. useState\n",
    "\n",
    "- state는 직접적인 변경이 불가능하다. 따라서 state를 변경하고자 할 때는 setState()라는 함수를 사용한다. "
   ]
  },
  {
   "cell_type": "markdown",
   "metadata": {},
   "source": []
  },
  {
   "cell_type": "markdown",
   "metadata": {},
   "source": []
  },
  {
   "cell_type": "markdown",
   "metadata": {},
   "source": []
  }
 ],
 "metadata": {
  "language_info": {
   "name": "python"
  }
 },
 "nbformat": 4,
 "nbformat_minor": 2
}
