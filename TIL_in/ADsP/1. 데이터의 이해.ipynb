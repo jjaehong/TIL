{
 "cells": [
  {
   "cell_type": "markdown",
   "metadata": {},
   "source": [
    "## 1과목. 데이터 이해"
   ]
  },
  {
   "cell_type": "markdown",
   "metadata": {},
   "source": [
    "#### 1. 데이터의 이해\n",
    "\n",
    "![이미지](../이미지/데이터의%20정의%20및%20유형.png)\n",
    "\n",
    "\n",
    "#### 2. 암묵지와 형식지\n",
    "\n",
    "![이미지](../이미지/암묵지와%20형식지.png)\n",
    "\n",
    "![이미지](../이미지/암묵지형식지전환.png)\n",
    "\n",
    "- 'ㄱ'과 'ㄴ' 사이에 표연이 있다!\n",
    "- 공통화의 ㄱ와 내면화의 ㄴ사이에 표출화와 연결화가 있다.\n",
    "- 다른사람에게 지식을 전달하고(공통화), 교본으로 만들고(표출화), 새로운 내용을 추가하여(연결화), 지식 습득의 재료로 사용하는 것(내면화)이 지식경영에서는 굉장히 중요한 상호 작용이 된다."
   ]
  },
  {
   "cell_type": "markdown",
   "metadata": {},
   "source": []
  },
  {
   "cell_type": "markdown",
   "metadata": {},
   "source": []
  },
  {
   "cell_type": "markdown",
   "metadata": {},
   "source": []
  },
  {
   "cell_type": "markdown",
   "metadata": {},
   "source": []
  },
  {
   "cell_type": "markdown",
   "metadata": {},
   "source": []
  }
 ],
 "metadata": {
  "language_info": {
   "name": "python"
  }
 },
 "nbformat": 4,
 "nbformat_minor": 2
}
