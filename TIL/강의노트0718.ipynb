{
 "cells": [
  {
   "cell_type": "markdown",
   "metadata": {},
   "source": [
    "## 데이터 타입(type)\n",
    "- 값의 종류와 그 값에 적용 가능한 연산과 동작을 결정하는 속성\n",
    "\n",
    "- Numeric type : int, float\n",
    "\n",
    "- Sequence types : list, tuple, range\n",
    "\n",
    "- Text Sequence type : str(문자열)\n",
    "\n",
    "- Set types : set\n",
    "\n",
    "- Mapping types : dict\n",
    "\n",
    "- 기타 : None. Boolean, Functions\n"
   ]
  },
  {
   "cell_type": "markdown",
   "metadata": {},
   "source": [
    "1. int : 정수 자료형\n",
    "\n",
    "- 2진수(binary) : 0b\n",
    "- 8진수(octal) : 0o\n",
    "- 16진수(hexadecimal) : 0x\n",
    "\n"
   ]
  },
  {
   "cell_type": "code",
   "execution_count": 2,
   "metadata": {},
   "outputs": [
    {
     "name": "stdout",
     "output_type": "stream",
     "text": [
      "0b1100\n",
      "0o14\n",
      "0xc\n"
     ]
    }
   ],
   "source": [
    "print(bin(12)) # 2**0, 2**1, 2**2, 2**3\n",
    "print(oct(12)) # 8**0, 8**1\n",
    "print(hex(12))"
   ]
  },
  {
   "cell_type": "markdown",
   "metadata": {},
   "source": [
    "2. float : 실수 자료형\n",
    "- 프로그래밍 언어에서 float는 실수에 대한 <span style='color : red'>근삿값</span>\n",
    "- 지수 표현 \n",
    "\n"
   ]
  },
  {
   "cell_type": "code",
   "execution_count": 11,
   "metadata": {},
   "outputs": [
    {
     "name": "stdout",
     "output_type": "stream",
     "text": [
      "True\n",
      "3.14\n",
      "314.0\n",
      "0.6667\n"
     ]
    }
   ],
   "source": [
    "# 실수 연산 시 두 수의 차이가 작은지 확인\n",
    "\n",
    "a = 3.2 - 3.1\n",
    "b = 1.2 - 1.1\n",
    "\n",
    "# math 모듈 활용\n",
    "import math\n",
    "print(math.isclose(a, b))\n",
    "\n",
    "# 지수(제곱수) 표현\n",
    "print(314e-2)  # 314 * 0.01\n",
    "print(3.14e2)  # 3.14 * 100\n",
    "\n",
    "# 소수점 표현(f-string)\n",
    "number = 2/3\n",
    "print(f'{number:.4f}')"
   ]
  },
  {
   "cell_type": "markdown",
   "metadata": {},
   "source": [
    "## Sequence Types 특징\n",
    "- 여러 개의 값들을 <span style = 'color : red'>순서대로 나열</span>하여 저장하는 자료형\n",
    "- (str, list, tuple, range) \n",
    "\n",
    "1. 순서(sequence)\n",
    "- 값들이 순서대로 저장\n",
    "\n",
    "2. 인덱싱(indexing [ ])\n",
    "- 각 값에 고유한 인덱스(번호)를 가지고 있으며, 인덱스를 사용하여 특정위치의 값을 선택하거나 수정할 수 있음\n",
    "\n",
    "3. 슬라이싱(Slicing : )\n",
    "- 인덱스의 범위를 조절해 부분적인 값을 추출할 수 있음\n",
    "\n",
    "4. 길이(length)\n",
    "- len()함수를 사용하여 저장된 값의 개수(길이)를 구할 수 있음\n",
    "- ~ 요소의 개수를 구해라\n",
    "\n",
    "5. 반복(Iteration)\n",
    "- 반복문을 사용하여 저장된 값들을 반복적으로 처리할 수 있음\n"
   ]
  },
  {
   "cell_type": "code",
   "execution_count": 1,
   "metadata": {},
   "outputs": [
    {
     "ename": "TypeError",
     "evalue": "'str' object does not support item assignment",
     "output_type": "error",
     "traceback": [
      "\u001b[1;31m---------------------------------------------------------------------------\u001b[0m",
      "\u001b[1;31mTypeError\u001b[0m                                 Traceback (most recent call last)",
      "Cell \u001b[1;32mIn[1], line 5\u001b[0m\n\u001b[0;32m      1\u001b[0m \u001b[39m# str(문자열)\u001b[39;00m\n\u001b[0;32m      2\u001b[0m \u001b[39m# 문자들의 순서가 있는 변경 불가능한 시퀀스 자료형\u001b[39;00m\n\u001b[0;32m      4\u001b[0m string \u001b[39m=\u001b[39m \u001b[39m'\u001b[39m\u001b[39mhello\u001b[39m\u001b[39m'\u001b[39m\n\u001b[1;32m----> 5\u001b[0m string[\u001b[39m0\u001b[39;49m] \u001b[39m=\u001b[39m \u001b[39m'\u001b[39m\u001b[39mz\u001b[39m\u001b[39m'\u001b[39m\n\u001b[0;32m      6\u001b[0m \u001b[39mprint\u001b[39m(string)\n",
      "\u001b[1;31mTypeError\u001b[0m: 'str' object does not support item assignment"
     ]
    }
   ],
   "source": [
    "# str(문자열)\n",
    "# 문자들의 순서가 있는 변경 불가능한 시퀀스 자료형\n",
    "\n",
    "string = 'hello'\n",
    "string[0] = 'z'\n",
    "print(string)"
   ]
  },
  {
   "cell_type": "code",
   "execution_count": 11,
   "metadata": {},
   "outputs": [
    {
     "name": "stdout",
     "output_type": "stream",
     "text": [
      "Debugging roaches 13 living room fucking\n",
      "        hi\n",
      "    hi    \n",
      "3.1416\n"
     ]
    }
   ],
   "source": [
    "# 알고리즘 출력 시\n",
    "\n",
    "# f-string(최신)\n",
    "# 문자열에 f 또는 F 접두어를 붙이고 표현식을 {expression}로\n",
    "# 작성하여 문자열에 파이썬 표현식의 값을 삽입할 수 있음\n",
    "\n",
    "bugs = \"roaches\"\n",
    "counts = 13\n",
    "area = \"living room\"\n",
    "print(f\"Debugging {bugs} {counts} {area} fucking\")\n",
    "\n",
    "# f-string 응용\n",
    "greeting = \"hi\"\n",
    "print(f\"{greeting:>10}\")  # 왼쪽으로부터 10칸 띄어서\n",
    "print(f\"{greeting:^10}\")  # 오른쪽으로부터 10칸 띄어서\n",
    "print(f\"{3.141592:.4f}\")  # 소숫점 4번째 자리까지 보여주기\n",
    "\n",
    "# # format()\n",
    "# print('Debugging {} {} {}'.format(bugs, counts, area))\n",
    "# print('Debugging %s %d %s' %(bugs, counts, area))"
   ]
  },
  {
   "cell_type": "code",
   "execution_count": 26,
   "metadata": {},
   "outputs": [
    {
     "data": {
      "text/plain": [
       "'hello'"
      ]
     },
     "execution_count": 26,
     "metadata": {},
     "output_type": "execute_result"
    }
   ],
   "source": [
    "str = 'hello'\n",
    "str[::1]"
   ]
  },
  {
   "cell_type": "code",
   "execution_count": 5,
   "metadata": {},
   "outputs": [
    {
     "name": "stdout",
     "output_type": "stream",
     "text": [
      "5\n",
      "신라텐세\n",
      "w\n",
      "[69, 'gg', 3, 'python', ['hello', 'world', '신라텐세']]\n"
     ]
    }
   ],
   "source": [
    "# 리스트 표현\n",
    "# 여러 개의 값을 순서대로 저장하는 **변경 가능한** 시퀀스 자료형\n",
    "\n",
    "my_list_1 = []\n",
    "my_list_2 = [1, \"a\", 3, \"b\", 5]\n",
    "my_list_3 = [1, 2, 3, \"python\", [\"hello\", \"world\", \"신라텐세\"]]\n",
    "\n",
    "print(len(my_list_3))\n",
    "print(my_list_3[4][-1])\n",
    "print(my_list_3[-1][1][0])\n",
    "\n",
    "my_list_3[0] = 69\n",
    "my_list_3[1] = 'gg'\n",
    "print(my_list_3)\n"
   ]
  },
  {
   "cell_type": "code",
   "execution_count": 19,
   "metadata": {},
   "outputs": [
    {
     "name": "stdout",
     "output_type": "stream",
     "text": [
      "(1,)\n"
     ]
    }
   ],
   "source": [
    "# 튜플\n",
    "# 여러개의 값을 순서대로 저장하는 **변경 불가능한** 시퀀스 자료형\n",
    "# 개발자가 직접 사용하기보다 '파이썬 내부 동작'에서 주로 사용되기에 신경 안써도됨\n",
    "my_tuple_1 = ()\n",
    "my_tuple_2 = (1,)\n",
    "my_tuple_3 = (1, \"a\", 2)\n",
    "\n",
    "print(my_tuple_2)"
   ]
  },
  {
   "cell_type": "code",
   "execution_count": 20,
   "metadata": {},
   "outputs": [
    {
     "name": "stdout",
     "output_type": "stream",
     "text": [
      "[0, 1, 2, 3, 4]\n",
      "[1, 2, 3, 4, 5, 6, 7, 8, 9]\n"
     ]
    }
   ],
   "source": [
    "# range\n",
    "# 연속된 정수 시퀀스를 생성하는 변경 불가능한 자료형\n",
    "# 주로 반복문과 함께 사용 예정\n",
    "\n",
    "my_range_1 = range(5)  # 5번 연속\n",
    "my_range_2 = range(1, 10)  # 1~9까지\n",
    "\n",
    "print(list(my_range_1))\n",
    "print(list(my_range_2))"
   ]
  },
  {
   "cell_type": "code",
   "execution_count": 38,
   "metadata": {},
   "outputs": [
    {
     "name": "stdout",
     "output_type": "stream",
     "text": [
      "{'apple': 12, 'banana': [1, 2, 3]}\n",
      "{'apple': 12, 'banana': 28, 'grapes': 'tastes good', '멜론': 16}\n",
      "dict_keys(['apple', 'banana', 'grapes', '멜론'])\n",
      "dict_values([12, 28, 'tastes good', 16])\n",
      "['수박', 'banana', 'grapes', '멜론']\n"
     ]
    }
   ],
   "source": [
    "# 딕셔너리(dict)\n",
    "# key : value 쌍으로 이루어진 **순서와 중복이 없는 변경 가능한** 자료형\n",
    "# key는 변경 불가능한 자료형만 사용 가능\n",
    "# value는 모든 자료형 사용 가능\n",
    "# 중괄호 표기 {}\n",
    "\n",
    "my_dict_1 = {} \n",
    "my_dict_2 = {\"key\": \"value\"}\n",
    "my_dict_3 = {\"apple\": 12, \"banana\": [1, 2, 3]}\n",
    "print(my_dict_3)\n",
    "\n",
    "# 값 추가 & 변경 \n",
    "my_dict_3[\"grapes\"] = \"tastes good\"\n",
    "my_dict_3[\"banana\"] = 28\n",
    "my_dict_3.update({'멜론' : 16})\n",
    "print(my_dict_3)\n",
    "\n",
    "# key 추출, value 추출\n",
    "keys = my_dict_3.keys()\n",
    "values = my_dict_3.values()\n",
    "print(keys)\n",
    "print(values)\n",
    "\n",
    "\n",
    "# 딕셔너리 in 리스트\n",
    "fruits1 = [] # 딕셔너리에서 다른 타입으로 바꾸면 key 값만 추출된다.\n",
    "for i in my_dict_3:\n",
    "    fruits1.append(i)\n",
    "    fruits1[0] = '수박'\n",
    "print(fruits1)\n",
    "\n"
   ]
  },
  {
   "cell_type": "code",
   "execution_count": 39,
   "metadata": {},
   "outputs": [
    {
     "name": "stdout",
     "output_type": "stream",
     "text": [
      "{1, 2}\n",
      "{1, 2, 3, 6, 9}\n",
      "{1, 2}\n",
      "{3}\n"
     ]
    }
   ],
   "source": [
    "# 세트 표현\n",
    "# **순서와 중복이 없는** 변경가능한 자료형\n",
    "# 중괄호 표기{}\n",
    "\n",
    "my_set1 = set()\n",
    "my_set2 = {1, 1, 1, 1, 2}\n",
    "print(my_set2)\n",
    "\n",
    "my_set_1 = {1, 2, 3}\n",
    "my_set_2 = {3, 6, 9}\n",
    "\n",
    "# 합집합\n",
    "print(my_set_1 | my_set_2)\n",
    "\n",
    "# 차집합\n",
    "print(my_set_1 - my_set_2)\n",
    "\n",
    "# 교집합\n",
    "print(my_set_1 & my_set_2)"
   ]
  },
  {
   "cell_type": "code",
   "execution_count": 22,
   "metadata": {},
   "outputs": [
    {
     "name": "stdout",
     "output_type": "stream",
     "text": [
      "None\n"
     ]
    }
   ],
   "source": [
    "# None 표현\n",
    "# 파이썬에서 '값이 없음'을 표현하는 자료형(null)\n",
    "\n",
    "variable = None\n",
    "print(variable)"
   ]
  },
  {
   "cell_type": "code",
   "execution_count": null,
   "metadata": {},
   "outputs": [],
   "source": [
    "# Boolean\n",
    "# 참(True)과 거짓(False)을 표현하는 자료형\n",
    "# 비교/논리 연산의 평가 결과로 사용\n",
    "# 주로 조건/반복문과 함께 사용"
   ]
  },
  {
   "cell_type": "markdown",
   "metadata": {},
   "source": [
    "#### 컬렉션 정리\n",
    "\n",
    "- str : 변경 X, 순서 O\n",
    "\n",
    "- list : 변경 O, 순서 O\n",
    "\n",
    "- tuple : 변경 X, 순서 O\n",
    "\n",
    "- set : 변경 O, 순서 X\n",
    "\n",
    "- dict : 변경 O, 순서 X"
   ]
  },
  {
   "cell_type": "code",
   "execution_count": null,
   "metadata": {},
   "outputs": [],
   "source": [
    "# 불변과 가변\n",
    "my_str = \"hello\"\n",
    "# my_str[0] = 'z' # string은 변경이 불가능하다.\n",
    "\n",
    "my_list = [1, 2, 3]\n",
    "my_list[0] = 100\n",
    "# list는 변경이 가능하다.\n",
    "\n",
    "print(my_list)"
   ]
  },
  {
   "cell_type": "code",
   "execution_count": 27,
   "metadata": {},
   "outputs": [
    {
     "name": "stdout",
     "output_type": "stream",
     "text": [
      "True\n",
      "False\n"
     ]
    }
   ],
   "source": [
    "# 연산자\n",
    "\n",
    "# == 와 is의 차이\n",
    "\n",
    "a = [1, 2, 3]\n",
    "b = [1, 2, 3]\n",
    "\n",
    "print(a == b) # 실제로 같은 값인지?(동등성)\n",
    "print(a is b) # is는 메모리가 같은 주소를 참조하냐?(식별성)"
   ]
  },
  {
   "cell_type": "code",
   "execution_count": 28,
   "metadata": {},
   "outputs": [
    {
     "name": "stdout",
     "output_type": "stream",
     "text": [
      "True\n",
      "True\n"
     ]
    }
   ],
   "source": [
    "a = [1, 2, 3]\n",
    "b = a  # 같은 주소를 참조한다.\n",
    "\n",
    "print(a == b)\n",
    "print(a is b)"
   ]
  },
  {
   "cell_type": "code",
   "execution_count": 31,
   "metadata": {},
   "outputs": [
    {
     "name": "stdout",
     "output_type": "stream",
     "text": [
      "True\n",
      "False\n",
      "False\n",
      "True\n",
      "False\n",
      "True\n"
     ]
    }
   ],
   "source": [
    "# 논리연산자\n",
    "\n",
    "# 논리곱 and => 둘 다 True이어야 True\n",
    "print(True and True) \n",
    "print(5 == 1 and True)\n",
    "print(False and False)\n",
    "\n",
    "# 논리합 or => 둘 다 False이어야 False\n",
    "print(True or False)\n",
    "print(5==1 or 4>7)\n",
    "\n",
    "# 논리부정 not => 단일 피연산자를 부정\n",
    "print(not 5==1)\n"
   ]
  },
  {
   "cell_type": "code",
   "execution_count": 46,
   "metadata": {},
   "outputs": [
    {
     "name": "stdout",
     "output_type": "stream",
     "text": [
      "b\n",
      "0\n",
      "a\n",
      "3\n",
      "b\n",
      "0\n",
      "3\n",
      "False\n",
      "True\n"
     ]
    }
   ],
   "source": [
    "#### 단축평가\n",
    "# 논리 연산에서 두 번째 피 연산자를 평가하지 않고 결과를 결정하는 동작\n",
    "# 뒤에꺼 안봐도 결과를 알겠다..\n",
    "# 단축평가 이유 : 코드 실행을 최적화하고, 불필요한 연산을 피할 수 있도록 함\n",
    "\n",
    "# and : 'F' and (T/F) => F  \n",
    "# 앞의 것이 False면 뒤에 것 보지도 않고 결과 False\n",
    "\n",
    "# or : 'T' or (T/F) => T\n",
    "# 앞의 것이 True면 뒤에 것 보지도 않고 결과 True\n",
    "\n",
    "vowels = 'aeiou'\n",
    "\n",
    "print('a' and 'b') # True and True이면 \"뒤의 것\"을 평가해야 전체 표현식 T/F를 결정할 수 있기에.. b로 출력됨\n",
    "print(0 and 'a') # False and ~ 은 전체 표현식이 False이므로 앞이 출력\n",
    "print('0' and 'a') # '0'은 문자열이므로 True / T & T -> 뒤\n",
    "print(3 or '5') # T or -> T / 앞\n",
    "print(0 or 'b') # F or T -> T / 뒤\n",
    "print(0 and 3) # F and T\n",
    "print(0 or 3) # F or T\n",
    "\n",
    "print(('a' and 'b') in vowels) # 먼저 ('a' and 'b') 출력하고 그 값이 vowels에 있느냐?\n",
    "print(('a' or '3') in vowels)"
   ]
  }
 ],
 "metadata": {
  "kernelspec": {
   "display_name": "Python 3",
   "language": "python",
   "name": "python3"
  },
  "language_info": {
   "codemirror_mode": {
    "name": "ipython",
    "version": 3
   },
   "file_extension": ".py",
   "mimetype": "text/x-python",
   "name": "python",
   "nbconvert_exporter": "python",
   "pygments_lexer": "ipython3",
   "version": "3.11.4"
  },
  "orig_nbformat": 4
 },
 "nbformat": 4,
 "nbformat_minor": 2
}
