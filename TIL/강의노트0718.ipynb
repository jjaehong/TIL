{
 "cells": [
  {
   "cell_type": "markdown",
   "metadata": {},
   "source": [
    "### 6. 연산자\n",
    "- 관계연산자 > 논리연산자 (우선계산)\n",
    "- not > and, or (우선계산)\n",
    "\n",
    "① 관계 연산자 => T/F 판단\n",
    "- 값을 비교하는 연산\n",
    "- ex) ==, !=, >, < 등\n",
    "\n",
    "\n",
    "② 논리 연산자 => T/F 판단\n",
    "- 선택의 문제에서 특정조건을 만족하는지를 검사하기 위한 조건식을 만들 때 사용\n",
    "- ex) and, or, not\n",
    "\n",
    "③ 비트 연산자 => T/F 판단\n",
    "- 비트 기반의 연산(2진수)\n",
    "- ex) &, |, ^, ~, <<, >>\n"
   ]
  },
  {
   "cell_type": "markdown",
   "metadata": {},
   "source": [
    "### 7. 연산자의 우선순위\n",
    " \n",
    "- 괄호 > 제곱 > 부호(+,-) > 곱,나누기 > 더하기 > 빼기 \n",
    "- 산술 연산이 비트 연산보다 우선``\n",
    "- 관계 연산이 논리 연산보다 우선"
   ]
  }
 ],
 "metadata": {
  "language_info": {
   "name": "python"
  },
  "orig_nbformat": 4
 },
 "nbformat": 4,
 "nbformat_minor": 2
}
