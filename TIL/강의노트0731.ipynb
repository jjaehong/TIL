{
 "cells": [
  {
   "cell_type": "code",
   "execution_count": null,
   "metadata": {},
   "outputs": [],
   "source": []
  },
  {
   "cell_type": "code",
   "execution_count": null,
   "metadata": {},
   "outputs": [],
   "source": []
  },
  {
   "cell_type": "code",
   "execution_count": null,
   "metadata": {},
   "outputs": [],
   "source": []
  },
  {
   "cell_type": "code",
   "execution_count": null,
   "metadata": {},
   "outputs": [],
   "source": []
  },
  {
   "cell_type": "code",
   "execution_count": null,
   "metadata": {},
   "outputs": [],
   "source": []
  },
  {
   "cell_type": "code",
   "execution_count": null,
   "metadata": {},
   "outputs": [],
   "source": []
  },
  {
   "cell_type": "code",
   "execution_count": null,
   "metadata": {},
   "outputs": [],
   "source": [
    "# max, min 원리\n",
    "\n",
    "T = int(input(\"ㄴㅁㄹㄴ : \"))  # 테스트케이스 개수\n",
    "\n",
    "for tc in range(1, T+1):\n",
    "    N = int(input())  # 1개의 테스트케이스 안에 N번 실행\n",
    "    arr = list(map(int, input().split())) # 타이핑 해라!\n",
    "\n",
    "    max_v = arr[0] # 1 # -float('inf')\n",
    "    min_v = 1000000  # float('inf')\n",
    "\n",
    "    for i in range(1, N): # max_v를 arr[0]으로 시작했기에 1부터 시작\n",
    "        if max_v < arr[i]:\n",
    "            max_v = arr[i]\n",
    "        if min_v > arr[i]:\n",
    "            min_v = arr[i]\n",
    "\n",
    "    answer = max_v - min_v\n",
    "\n",
    "    print(f'#{tc} {answer}')\n",
    "\n",
    "# T = int(input())\n",
    "# for tc in range(1, T+1):\n",
    "#     N = int(input())\n",
    "#     arr = list(map(int, input().split()))\n",
    "#\n",
    "#     maxi = 1\n",
    "#     mini = 1000000\n",
    "#\n",
    "#     for i in range(0, N):\n",
    "#         if maxi < arr[i]:\n",
    "#             maxi = arr[i]\n",
    "#         if mini > arr[i]:\n",
    "#             mini = arr[i]\n",
    "#\n",
    "#     answer = maxi - mini\n",
    "#\n",
    "#     print(f'#{tc} {answer}')"
   ]
  },
  {
   "cell_type": "code",
   "execution_count": null,
   "metadata": {},
   "outputs": [],
   "source": [
    "T = int(input())\n",
    "for tc in range(1, T+1):\n",
    "    N, M = map(int, input().split())\n",
    "    arr = list(map(int, input().split()))\n",
    "\n",
    "    # (정수의 개수, 구간의 개수)\n",
    "\n",
    "    maxi = 1\n",
    "    mini = 10000\n",
    "\n",
    "\n",
    "    for i in range(0, N):\n",
    "\n",
    "        for j in range(2,M):\n",
    "            pass"
   ]
  }
 ],
 "metadata": {
  "language_info": {
   "name": "python"
  },
  "orig_nbformat": 4
 },
 "nbformat": 4,
 "nbformat_minor": 2
}
