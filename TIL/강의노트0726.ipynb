{
 "cells": [
  {
   "cell_type": "markdown",
   "metadata": {},
   "source": [
    "## 클래스\n",
    "\n",
    "#### 절차 지향 프로그래밍\n",
    "- 프로그램을 '데이터'와 '절차'로 구성하는 방식의 프로그래밍 패러다임\n",
    "\n",
    "- \"데이터\"와 해당 데이터를 처리하는 \"함수(절차)\"가 분리되어 있으며, <span style = \"color : red\">함수 호출의 흐름이 중요</span>\n",
    "\n",
    "- 코드의 순차적인 흐름과 함수 호출에 의해 프로그램이 진행\n",
    "\n",
    "![이미지](이미지/절차지향.PNG)"
   ]
  },
  {
   "cell_type": "markdown",
   "metadata": {},
   "source": [
    "## 1. 객체지향 프로그래밍(object oriented programming)\n",
    "- 데이터와 해당 데이터를 조작하는 <span style = \"color : red\">메서드를 하나의 객체로 묶어 관리</span>하는 방식의 프로그래밍 패러다임 <span style = \"color : red\">(데이터가 중심이 된 사고방식)</span>\n",
    "\n",
    "- 절차지향 : 함수가 -> 데이터를 호출한다.\n",
    "- 객체지향 : 데이터(객체)가 -> 메서드를 호출한다.\n",
    "- 주객전도 느낌 \n",
    "\n",
    "![이미지](이미지/절차지향%20객체지향%20비교.PNG)\n",
    "![이미지](이미지/절차지향%20객체지향%20비교2.PNG)"
   ]
  },
  {
   "cell_type": "markdown",
   "metadata": {},
   "source": [
    "#### 클래스\n",
    "- 파이썬에서 **타입**을 표현하는 방법\n",
    "\n",
    "- 객체를 생성하기 위한 **설계도(틀)**, 청사진(blueprint) => 객체를 찍어내는 틀\n",
    "- **데이터와 기능을 함께 묶는** 방법을 제공\n",
    "\n",
    "\n",
    "## 2. 객체\n",
    "- 클래스에서 정의한 것들을 토대로 메모리에 할당된 것\n",
    "\n",
    "- **속성과 행동**으로 구성된 모든 것\n",
    "\n",
    "![이미지](이미지/객체%20예시.PNG)\n",
    "![이미지](이미지/클래스와%20객체.PNG)\n",
    "- 인스턴스는 어떤 클래스의 인스턴스인지 명확히 해줘야 한다!\n",
    "\n",
    "- 클래스를 만든다 == 데이터 타입(list 등)을 만든다.\n",
    "\n",
    "- 우리가 사용해왔던 데이터 타입은 사실 모두 클래스였다."
   ]
  },
  {
   "cell_type": "markdown",
   "metadata": {},
   "source": [
    "#### 우리가 사용해왔던 데이터 타입은 사실 모두 클래스였다\n",
    "\n",
    "- 123, 900, 5 => int타입(클래스)의 객체(인스턴스)\n",
    "\n",
    "- '1', 'hello', '파이썬' => string타입(클래스)의 객체(인스턴스) \n",
    "\n",
    "- [], [1,2,3], ['hi'] => list타입(클래스)의 객체(인스턴스)\n",
    "\n",
    "#### 인스턴스와 메서드\n",
    "\n",
    "- \"hello\".upper() : 문자열.대문자로() / 객체.행동() / 인스턴스.메서드()\n",
    "\n",
    "- [1,2,3].sort() : 리스트.정렬해() / 객체.행동() / 인스턴스.메서드()\n"
   ]
  },
  {
   "cell_type": "markdown",
   "metadata": {},
   "source": [
    "#### 객체(object)의 특징\n",
    "- 타입(type) : 어떤 연산자(operator)와 조작(method)이 가능한가?\n",
    "- 속성(attribute) : 어떤 상태(데이터)를 가지는가?\n",
    "- 조작법(method) : 어떤 행위(함수)를 할 수 있는가?\n",
    "\n",
    "- 파이썬에서는...\n",
    "\n",
    "![이미지](이미지/파이썬객체클래스.PNG)"
   ]
  },
  {
   "cell_type": "markdown",
   "metadata": {},
   "source": [
    "## 3. 클래스"
   ]
  },
  {
   "cell_type": "code",
   "execution_count": 3,
   "metadata": {},
   "outputs": [
    {
     "name": "stdout",
     "output_type": "stream",
     "text": [
      "IU가 노래합니다.\n",
      "BTS가 노래합니다.\n",
      "red\n",
      "red\n"
     ]
    }
   ],
   "source": [
    "# 클래스 구조\n",
    "\n",
    "# 클래스 정의\n",
    "class Person:\n",
    "    pass\n",
    "\n",
    "# 인스턴스 생성\n",
    "iu = Person()\n",
    "\n",
    "# 메서드 호출\n",
    "iu.메서드()\n",
    "\n",
    "# 속성(변수) 접근\n",
    "iu.attribute"
   ]
  },
  {
   "cell_type": "code",
   "execution_count": 17,
   "metadata": {},
   "outputs": [
    {
     "name": "stdout",
     "output_type": "stream",
     "text": [
      "red\n",
      "85\n",
      "85\n",
      "red\n"
     ]
    }
   ],
   "source": [
    "# 클래스 구조 예시 1\n",
    "\n",
    "# 클래스 정의\n",
    "class Person1:\n",
    "\n",
    "    # 클래스 속성(변수) :  클래스로 생성된 모든 인스턴스들이 **공유**하는 변수 => 모든 객체의 attribute 지정\n",
    "    blood_color ='red'\n",
    "    country = 'KOREA'\n",
    "    count = 0\n",
    "    working_hard = 0\n",
    "\n",
    "    # 생성자 메서드 / 개발자가 직접 호출 X => 컴퓨터가 자동 호출 / 인스턴스 생성과 필요한 **초기값** 설정\n",
    "    def __init__(self, name, appearance, attrativeness, singing, dancing): # __init__ : 객체 초기화 / self : '자기자신' 인자\n",
    "        self.name = name # 인스턴스 변수 : 인스턴스(객체)마다 독립적인 값을 가지며\n",
    "        self.appearance = appearance # 인스턴스가 생성될 때마다 초기화됨\n",
    "        self.attractiveness = attrativeness\n",
    "        self.singing = singing\n",
    "        self.dancing = dancing\n",
    "        Person1.count +=1\n",
    "\n",
    "    # 인스턴스 메서드 / 각각의 인스턴스 변수에 접근하고 수정하는 등의 작업 수행 / 객체의 고유한 속성값을 사용\n",
    "    \n",
    "    def singing_up(self):\n",
    "        pass\n",
    "        if working_hard == 15:\n",
    "            self.singing += 2\n",
    "\n",
    "        return f'{self.name}가 노래합니다.'\n",
    "    \n",
    "    def dancing_up(self):\n",
    "        pass\n",
    "        if working_hard == 10:\n",
    "            self.dancing += 2\n",
    "\n",
    "        return \n",
    "\n",
    "# 인스턴스 생성 / 인스턴스 객체가 생성되고 **독립적인** 이름 공간을 생성 / \n",
    "singer1 = Person1('IU', 85, 90, 95, 80) # 각각의 인스턴스는 독립된 공간이다.\n",
    "singer2 = Person1('BTS', 81, 92, 88, 95)\n",
    "\n",
    "# method 호출(클래스, 인스턴스)\n",
    "# print(singer1.singing_up()) \n",
    "# print(singer2.singing_up())\n",
    "\n",
    "# 속성(변수) 접근(클래스, 인스턴스)\n",
    "# print(singer1.blood_color) # 그러나 같은 곳을 참조하기에 클래스는 같다.\n",
    "# print(singer2.blood_color)\n",
    "print(Person1.blood_color) # 클래스 변수에는 인스턴스로 접근하지 말고 가급적이면 클래스 이름을 통해 접근\n",
    "\n",
    "\n",
    "\n",
    "# 인스턴스 변수\n",
    "print(singer1.appearance)\n",
    "\n",
    "# 클래스/인스턴스 변수 추출\n",
    "print(singer1.appearance)\n",
    "print(singer1.blood_color)\n",
    "\n",
    "# 클래스 변수와 인스턴스 변수 변경\n",
    "Person1.blood_color = 'black' # 클래스 변수변경\n",
    "singer1.working_hard = 2\n",
    "singer2.working_hard = 6\n",
    "\n"
   ]
  },
  {
   "cell_type": "markdown",
   "metadata": {},
   "source": [
    "#### 인스턴스와 클래스 간의 이름 공간(namespace)\n",
    "\n",
    "- 클래스를 정의하면, 클래스와 해당하는 이름 공간 생성\n",
    "- 인스턴스를 만들면, 인스턴스 객체가 생성되고 <span style = \"color : red\">독립적인 이름 공간</span> 생성\n",
    "- 클래스를 정의하면, 클래스와 해당하는 이름 공간 생성\n",
    "\n",
    "![이미지](이미지/클래스%20이름공간.PNG)"
   ]
  },
  {
   "cell_type": "code",
   "execution_count": 13,
   "metadata": {},
   "outputs": [
    {
     "name": "stdout",
     "output_type": "stream",
     "text": [
      "unknown\n",
      "unknown\n",
      "kim\n",
      "unknown\n",
      "unknown\n",
      "kim\n"
     ]
    }
   ],
   "source": [
    "## 예시 2\n",
    "# 각각의 인스턴스는 독립적이다.\n",
    "# 인스턴스에서 특정 속성에 접근하면, instance -> class 순서로 탐색\n",
    "\n",
    "\n",
    "# 예시 2 : 클래스(초기값 설정 x, )\n",
    "class Person2:\n",
    "    name = 'unknown' # 클래스 속성\n",
    "\n",
    "    def talk(self): # 인스턴스 메서드\n",
    "        print(self.name)\n",
    "\n",
    "p1 = Person2()\n",
    "p1.talk() # unknown 출력 # 인스턴스 이름 공간이 비어있음. 그래서 class의 이름공간 탐색\n",
    "\n",
    "\n",
    "# p2 인스턴스 변수 설정 전/후\n",
    "p2 = Person2()\n",
    "p2.talk() # unknown\n",
    "p2.name = 'kim' # name 변수 설정 => 인스턴스 이름공간 생성\n",
    "p2.talk() # kim\n",
    "\n",
    "print(Person2.name)\n",
    "print(p1.name)\n",
    "print(p2.name)\n"
   ]
  },
  {
   "cell_type": "markdown",
   "metadata": {},
   "source": [
    "![이미지](이미지/이름공간1.PNG)\n",
    "![이미지](이미지/이름공간2.PNG)"
   ]
  },
  {
   "cell_type": "markdown",
   "metadata": {},
   "source": [
    "#### 독립적인 이름공간을 가지는 이점\n",
    "=> p1과 p2가 **독립적인** 이름공간을 가짐\n",
    "\n",
    "- 각 인스턴스는 독립적인 메모리 공간을 가지며, 클래스와 다른 인스턴스 간에는 서로의 데이터나 상태에 직접적인 접근이 불가능\n",
    "\n",
    "- 객체지향 프로그래밍의 중요한 특성 중 하나로, 클래스와 인스턴스를 모듈화하고 각각의 객체가 독립적으로 동작하도록 보장\n",
    "\n",
    "- 이를 통해 클래스와 인스턴스는 다른 객체들과의 상호작용에서 서로 충돌이나 영향을 주지 않으면서 독립적으로 동작할 수 있음\n",
    "\n",
    "=> 코드의 가독성, 유지보수성, 재사용성을 높이는데 도움을 줌"
   ]
  },
  {
   "cell_type": "markdown",
   "metadata": {},
   "source": [
    "## 4. 메서드\n",
    "\n",
    "#### 메서드 종류\n",
    "- 인스턴스 메서드 : 인스턴스.메서드\n",
    "- 클래스 메서드 : 클래스.메서드\n",
    "- 정적 메서드"
   ]
  },
  {
   "cell_type": "markdown",
   "metadata": {},
   "source": [
    "#### 1) 인스턴스 메서드(self)\n",
    "- 클래스로부터 생성된 각 인스턴스에서 호출할 수 있는 메서드\n",
    "- -> 인스턴스의 상태를 조작하거나 동작을 수행\n",
    "\n",
    "![이미지](이미지/인스턴스%20메서드%20구조.PNG)"
   ]
  },
  {
   "cell_type": "markdown",
   "metadata": {},
   "source": [
    "##### self가 맨 앞에 나오는 이유\n",
    "- 인스턴스 메서드의 첫번째 매개변수가 반드시 인스턴스 자기 자신인 이유 : \n",
    "- self(자기자신)를 활용하여 다른 인스턴스 변수나 함수를 가져다가 쓰기위해 "
   ]
  },
  {
   "cell_type": "markdown",
   "metadata": {},
   "source": [
    "#### 2) 생성자 메서드(self, ~)\n",
    "- 인스턴스 객체가 생성될 때 자동으로 호출되는 메서드\n",
    "\n",
    "- 인스턴스 변수들의 초기값을 설정\n",
    "\n",
    "![이미지](이미지/생성자%20메서드.PNG)\n",
    "\n",
    "#### 3) 클래스 메서드(cls)\n",
    "- 클래스가 호출하는 메서드\n",
    "\n",
    "- 클래스 변수를 조작하거나 클래스 레벨의 동작을 수행\n",
    "\n",
    "![이미지](이미지/클래스%20매서드0.PNG)"
   ]
  },
  {
   "cell_type": "code",
   "execution_count": 11,
   "metadata": {},
   "outputs": [
    {
     "name": "stdout",
     "output_type": "stream",
     "text": [
      "인구수는 4입니다.\n",
      "<__main__.Person3 object at 0x000002CA5F94A610>\n",
      "당신은 여자입니다.\n"
     ]
    }
   ],
   "source": [
    "# 예시 3\n",
    "\n",
    "class Person3:\n",
    "    count = 0\n",
    "\n",
    "    def __init__(self,name,gender):\n",
    "        self.name = name\n",
    "        self.gender = gender\n",
    "        Person3.count += 1\n",
    "    \n",
    "    @classmethod\n",
    "    def number_of_population(cls):\n",
    "        print(f'인구수는 {cls.count}입니다.')\n",
    "    \n",
    "    @staticmethod\n",
    "    def gender_division(x): \n",
    "        if  == 'M':\n",
    "            print(\"당신은 남자입니다.\")\n",
    "        else:\n",
    "            print(\"당신은 여자입니다.\")\n",
    "\n",
    "p1 = Person3('jjaehong', 'M')\n",
    "p2 = Person3(\"hyunjji\", 'W')\n",
    "p3 = Person3('masseung', 'M') \n",
    "p4 = Person3('RRWA', 'M')\n",
    "\n",
    "Person3.number_of_population()\n",
    "print(p1)\n",
    "Person3.gender_division(p1)"
   ]
  },
  {
   "cell_type": "markdown",
   "metadata": {},
   "source": [
    "#### 정적(스태틱) 메서드\n",
    "- 클래스와 인스턴스와 **상관없이** 독립적으로 동작하는 메서드\n",
    "\n",
    "- 주로 클래스와 관련이 있지만 인스턴스와 상호작용이 필요하지 않은 경우에 사용\n",
    "\n",
    "![이미지](이미지/스태틱메서드%20구조.PNG)"
   ]
  },
  {
   "cell_type": "markdown",
   "metadata": {},
   "source": [
    "![이미지](이미지/메서드%20정리.PNG)\n",
    "![이미지](이미지/메서드%20정리예시.PNG)\n",
    "\n",
    "- 클래스가 할 수 있는 일 :\n",
    "- 클래스는 모든 메서드를 호출할 수 있으나, 클래스는 클래스 메서드와 스태틱 메서드만 사용하도록 하자.\n",
    "- 인스턴스는 인스턴스 메서드가 사용하도록 놔둬!"
   ]
  },
  {
   "cell_type": "markdown",
   "metadata": {},
   "source": [
    "![이미지](이미지/매직%20메서드.PNG)\n",
    "\n",
    "##### 비교 연산자\n",
    "- __lt__ : less than : <\n",
    "- __le__ : less than or equal to : <=\n",
    "- __eq__ : equal : ==\n",
    "- __gt__ : greater than : >\n",
    "- __ge__ : greater than or equal to : >="
   ]
  }
 ],
 "metadata": {
  "kernelspec": {
   "display_name": "Python 3",
   "language": "python",
   "name": "python3"
  },
  "language_info": {
   "codemirror_mode": {
    "name": "ipython",
    "version": 3
   },
   "file_extension": ".py",
   "mimetype": "text/x-python",
   "name": "python",
   "nbconvert_exporter": "python",
   "pygments_lexer": "ipython3",
   "version": "3.9.13"
  },
  "orig_nbformat": 4
 },
 "nbformat": 4,
 "nbformat_minor": 2
}
