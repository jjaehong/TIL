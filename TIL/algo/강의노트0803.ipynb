{
 "cells": [
  {
   "cell_type": "markdown",
   "metadata": {},
   "source": [
    "#### 부분집합 합(sum)\n",
    "\n",
    "- 완전검색기법으로 풀기 : 모든 부분집합을 생성한 후, 각 부분집합의 합을 계산\n",
    "\n",
    "- 부분집합의 수(공집합 포함) : 집합의 원소가 n개 일 때 => 2**n\n",
    "\n",
    "        ex) {1,2,3,4} -> {i}가 포함될 지, 안될 지 => 2 * 2 * 2 * 2   "
   ]
  },
  {
   "cell_type": "markdown",
   "metadata": {},
   "source": [
    "#### bit 연산자\n",
    "\n",
    "- 1 => True\n",
    "- 0 => False\n",
    "\n",
    "![이미지](../이미지/빗트1.PNG)\n",
    "![이미지](../이미지/비트2.PNG)\n",
    "- & : 두 개의 비트가 모두 1이어야만 True / 하나라도 0이면 False\n",
    "- | : 둘 중 하나라도 1이면 True\n",
    "\n",
    "\n",
    "- << (왼쪽 shift) : 각각의 자리를 원본손실 없이 왼쪽으로 민다.\n",
    "- >> (오른쪽 shift)\n",
    "\n",
    "![이미지](../이미지/비트연산자.PNG)\n",
    "\n",
    "\n",
    "\n",
    "- << 연산자\n",
    "    - x << n : x에 2를 n번 곱했다.\n",
    "    - 1 << n  => 2**n \n",
    "    - 1을 왼쪽으로 n번 이동\n",
    "    - 즉 원소가 n개일 경우 모든 부분집합의 수를 의미함\n",
    "\n",
    "- >> 연산자 \n",
    "    - 1 >> n  => (1/2)**n\n",
    "\n",
    "- & 연산자\n",
    "    i & (1 << j) i의 j 번째 비트가 1인지 아닌지 검사\n"
   ]
  },
  {
   "cell_type": "code",
   "execution_count": 1,
   "metadata": {},
   "outputs": [
    {
     "name": "stdout",
     "output_type": "stream",
     "text": [
      "\n",
      "3, \n",
      "6, \n",
      "3, 6, \n",
      "7, \n",
      "3, 7, \n",
      "6, 7, \n",
      "3, 6, 7, \n",
      "1, \n",
      "3, 1, \n",
      "6, 1, \n",
      "3, 6, 1, \n",
      "7, 1, \n",
      "3, 7, 1, \n",
      "6, 7, 1, \n",
      "3, 6, 7, 1, \n",
      "5, \n",
      "3, 5, \n",
      "6, 5, \n",
      "3, 6, 5, \n",
      "7, 5, \n",
      "3, 7, 5, \n",
      "6, 7, 5, \n",
      "3, 6, 7, 5, \n",
      "1, 5, \n",
      "3, 1, 5, \n",
      "6, 1, 5, \n",
      "3, 6, 1, 5, \n",
      "7, 1, 5, \n",
      "3, 7, 1, 5, \n",
      "6, 7, 1, 5, \n",
      "3, 6, 7, 1, 5, \n",
      "4, \n",
      "3, 4, \n",
      "6, 4, \n",
      "3, 6, 4, \n",
      "7, 4, \n",
      "3, 7, 4, \n",
      "6, 7, 4, \n",
      "3, 6, 7, 4, \n",
      "1, 4, \n",
      "3, 1, 4, \n",
      "6, 1, 4, \n",
      "3, 6, 1, 4, \n",
      "7, 1, 4, \n",
      "3, 7, 1, 4, \n",
      "6, 7, 1, 4, \n",
      "3, 6, 7, 1, 4, \n",
      "5, 4, \n",
      "3, 5, 4, \n",
      "6, 5, 4, \n",
      "3, 6, 5, 4, \n",
      "7, 5, 4, \n",
      "3, 7, 5, 4, \n",
      "6, 7, 5, 4, \n",
      "3, 6, 7, 5, 4, \n",
      "1, 5, 4, \n",
      "3, 1, 5, 4, \n",
      "6, 1, 5, 4, \n",
      "3, 6, 1, 5, 4, \n",
      "7, 1, 5, 4, \n",
      "3, 7, 1, 5, 4, \n",
      "6, 7, 1, 5, 4, \n",
      "3, 6, 7, 1, 5, 4, \n",
      "\n"
     ]
    }
   ],
   "source": [
    "# 비트 연산자로 부분집합 생성\n",
    "\n",
    "arr = [3, 6, 7, 1, 5, 4]\n",
    "\n",
    "n = len(arr)  # n : 집합의 원소의 개수\n",
    "\n",
    "# arr 의 부분집합의 개수 2^6 == 1 << 6 == 1 * 2^6\n",
    "# 3 << 4 == 3 * 2^4\n",
    "\n",
    "# 모든 부분집합을 검사\n",
    "for i in range(1 << n):  # 부분집합의 개수만큼 반복 / 1 << n == 1 * 2**n\n",
    "    # i번째 부분집합을 검사\n",
    "    # i번째 부분집합이 n개의 원소중에 j번째 원소를 포함하는지\n",
    "    for j in range(n):  # 원소의 개수가 n => n번 검사\n",
    "        if i & (1 << j):  # 부분집합 i가 j번째 원소를 포함 했는지 검사\n",
    "            print(arr[j], end=\", \")  # j번 원소 출력\n",
    "    print()\n",
    "print()\n",
    "\n",
    "# 컴퓨터는 모든 숫자를 비트로 인식한다.\n",
    "# n = 6 / 1 << n : 컴퓨터가 인식하는 비트(2진수) 내에 1이 6칸 이동하기 때문에 64가 된다.\n",
    "# i = 0 ~ 63 / i & (1 << j)\n",
    "# i가 0 ~ 63 까지 도는데 컴퓨터는 사실 6칸의 비트(2진수)로 인식하고 있다.\n",
    "# 6칸의 비트(2진수) 0 ~ 63(i) 를 돌면서 1을 j 번 만큼 밀었을 때 i와 j가 같으면 출력\n",
    "# 결론적으로 arr의 길이만큼의 비트(2진수)를 구성하고\n",
    "# 비트 안에서 0 ~ 63 까지 2진수로 돌면서\n",
    "# 그 값이 1을 j번 미는 것과 같으면(부분집합에 포함) 출력\n",
    "\n",
    "# i = 0 공집합 / i = 1(10진수) = 1(2진수) = 3(arr) / i = 2(10진수) = 10(2진수) = 6(arr)\n",
    "# i = 3(10진수) = 11(2진수) = 3, 6(arr) / i = 4(10진수) = 100(2진수) = 7(arr)\n",
    "# i = 5(10진수) = 101(2진수) = 3, 7(arr) / i = 6(10진수) = 110(2진수) = 6, 7(arr) ......"
   ]
  },
  {
   "cell_type": "code",
   "execution_count": 39,
   "metadata": {},
   "outputs": [
    {
     "name": "stdout",
     "output_type": "stream",
     "text": [
      "0\n",
      "1\n",
      "1\n"
     ]
    }
   ],
   "source": [
    "# 연습문제 2\n",
    "'''\n",
    "3\n",
    "19 6 16 19 15 16 8 13 16 10\n",
    "-20 -6 -13 3 -19 -9 19 -3 9 4\n",
    "7 7 19 1 -18 5 -9 -11 19 18\n",
    "\n",
    "0\n",
    "1\n",
    "1\n",
    "'''\n",
    "\n",
    "\n",
    "T = int(input())\n",
    "for tc in range(1, T+1):\n",
    "    subset = list(map(int, input().split()))\n",
    "\n",
    "    n = len(subset)\n",
    "    \n",
    "    answer = 0\n",
    "    for i in range(1, 1<<n):\n",
    "\n",
    "        sum = 0 # for문 돌면서 sum 초기화\n",
    "        for j in range(n):\n",
    "            if i & (1<<j):\n",
    "                sum += subset[j]\n",
    "                \n",
    "        if sum == 0:\n",
    "            answer = 1\n",
    "\n",
    "    print(answer)"
   ]
  },
  {
   "cell_type": "markdown",
   "metadata": {},
   "source": [
    "## 검색(Search)\n",
    "\n",
    "- 저장되어 있는 자료 중에서 원하는 항목을 찾는 작업\n",
    "- 탐색 키를 가진 항목을 찾는 것\n",
    "\n",
    "- 검색종류\n",
    "    - 순차 검색\n",
    "    - **이진 검색**\n",
    "    - 해쉬(hash)"
   ]
  },
  {
   "cell_type": "markdown",
   "metadata": {},
   "source": [
    "#### 순차검색\n",
    "\n",
    "- 일렬로 되어있는 자료를 순서대로 검색하는 방법 \n",
    "    - 가장 간단하고 직관적인 검색방법이지만 검색 대상 수가 많을 때는 비효율적임\n",
    "    - 순차구조로 구현된 자료구조에서 원하는 항목을 찾을 때 유용함\n",
    "    \n",
    "\n",
    "- 2가지 경우:\n",
    "    - 정렬되어 있지 않은 경우\n",
    "    - 정렬되어 있는 경우\n"
   ]
  },
  {
   "cell_type": "markdown",
   "metadata": {},
   "source": [
    "\n",
    "#### 1) 정렬되어 있지 않은 경우\n",
    "\n",
    "- 검색 과정:\n",
    "    - 첫 번째 원소부터 순서대로 검색 대상과 키 값이 같은 원소가 있는지 비교하며 찾는다.\n",
    "    - 키 값이 동일한 원소를 찾으면 그 원소의 인덱스를 반환\n",
    "    - 자료구조의 마지막에 이를 때까지 검색 대상을 찾지 못하면 검색 실패\n",
    "\n",
    "- 시간복잡도 : O(n) "
   ]
  },
  {
   "cell_type": "markdown",
   "metadata": {},
   "source": [
    "#### 2) 정렬되어 있는 경우\n"
   ]
  },
  {
   "cell_type": "markdown",
   "metadata": {},
   "source": [
    "- 검색 과정:\n",
    "    - 자료가 오름차순으로 정렬된 상태에서 검색 실시 가정\n",
    "    - 자료를 순차적으로 검색하면서 키 값을 비교하여, 원소의 키 값이 검색 대상의 키 값보다 크면 찾는 원소가 없다는 것이므로 더 이상 검색하지 않고 검색을 종료한다.\n",
    "\n",
    "- 시간복잡도 : O(n)"
   ]
  },
  {
   "cell_type": "markdown",
   "metadata": {},
   "source": [
    "#### <span style = 'color : red'>이진 검색(Binary Search)</span>\n",
    "\n",
    "- <span style = 'color : red'>자료의 **가운데**에 있는 항목의 키 값과 비교</span>하여 다음 검색의 위치를 결정하고 검색을 계속 진행하는 방법 \n",
    "    - 목적 키를 찾을 때까지 이진검색을 순환적으로 반복 수행함으로써 검색 범위를 반으로 줄여가면서 보다 빠르게 검색을 수행함.\n",
    "\n",
    "\n",
    "- 이진 검색을 하기 위해서는 <span style = 'color : red'>자료가 **정렬된 상태**</span>여야 한다.\n",
    "\n",
    "\n",
    "- 검색과정\n",
    "    - 1. 자료의 **중앙**에 있는 원소를 고른다.\n",
    "    - 2. 중앙 원소의 값과 찾고자 하는 목표 값을 **비교**한다.\n",
    "    - 3. 목표 값이 중앙 원소의 값보다 작으면 자\n",
    "    - 4. 찾고자 하는 값을 찾을 때까지 1~3 과정 반복\n",
    "\n",
    "![이미지](../이미지/이진검색.PNG)        \n",
    "\n",
    "![이미지](../이미지/이진검색2.PNG)"
   ]
  },
  {
   "cell_type": "code",
   "execution_count": null,
   "metadata": {},
   "outputs": [],
   "source": [
    "# 이진 검색 구현\n",
    "# 그림과 코드를 자유자재로 표현할 수 있어야 한다.\n",
    "# 정말 자주 쓰니까 중요하다!\n",
    "\n",
    "def binarysearch(a,N,key):\n",
    "    start = 0 # 가운데를 찍기 위해 인덱스 범위 지정\n",
    "    end = N-1 # N은 원소의 개수\n",
    "    while start <= end: # 탐색 구간이 하나라도 존재한다면, 원소가 한개 이상이면 탐색 실시\n",
    "        middle = (start + end)//2 # 가운데 찍기\n",
    "        if a[middle] == key: # 검색 성공\n",
    "            return True\n",
    "        elif a[middle] > key:\n",
    "            end = middle - 1\n",
    "        else:\n",
    "            start = middle + 1\n",
    "    return False # 검색 실패\n",
    "\n"
   ]
  },
  {
   "cell_type": "code",
   "execution_count": null,
   "metadata": {},
   "outputs": [],
   "source": [
    "# 이진 검색 구현(재귀함수 활용)\n",
    "\n",
    "def binarysearch2(a, low, high, key):\n",
    "    if low > high: # 재귀함수 : 종료조건 필수\n",
    "        return False\n",
    "    else:\n",
    "        middle = (low + high) //2\n",
    "        if key == a[middle]:\n",
    "            return True\n",
    "        elif key < a[middle]:\n",
    "            return binarysearch2(a,low,middle-1,key)\n",
    "        elif key > a[middle]:\n",
    "            return binarysearch2(a,middle+1,high,key)\n"
   ]
  },
  {
   "cell_type": "markdown",
   "metadata": {},
   "source": [
    "#### 인덱스"
   ]
  }
 ],
 "metadata": {
  "kernelspec": {
   "display_name": "Python 3",
   "language": "python",
   "name": "python3"
  },
  "language_info": {
   "codemirror_mode": {
    "name": "ipython",
    "version": 3
   },
   "file_extension": ".py",
   "mimetype": "text/x-python",
   "name": "python",
   "nbconvert_exporter": "python",
   "pygments_lexer": "ipython3",
   "version": "3.11.4"
  },
  "orig_nbformat": 4
 },
 "nbformat": 4,
 "nbformat_minor": 2
}
