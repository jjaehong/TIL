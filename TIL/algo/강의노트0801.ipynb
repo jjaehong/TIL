{
 "cells": [
  {
   "cell_type": "markdown",
   "metadata": {},
   "source": [
    "## 1. 완전 검색(Exaustive Search)\n",
    "\n",
    "- 완전 검색 방법은 문제의 해법으로 **생각할 수 있는 모든 경우의 수를 나열**해보고 확인하는 기법이다.\n",
    "\n",
    "- 모든 경우의 수를 테스트한 후, 최종 해법을 도출하기에 **수행속도는 느리지만, 해답을 찾아낼 확률이 큼**\n",
    "\n",
    "- 일반적으로 **경우의 수가 상대적으로 작을 때 유용**하다.\n",
    "\n",
    "- **완전 검색으로 시작해라!** : 자격검정평가 등에서 문제를 풀 때, 우선 완전 검색으로 접근하여 해답을 도출한 후, 성능 개선을 위해 다른 알고리즘을 사용하고 해답을 확인하는 것이 바람직"
   ]
  },
  {
   "cell_type": "markdown",
   "metadata": {},
   "source": [
    "#### 순열\n",
    "\n",
    "- 서로 다른 것들 중 몇 개를 뽑아서 한 줄로 나열하는 것\n",
    "\n",
    "- nPr\n",
    "\n",
    "- nPn = n! \n",
    "\n",
    "- 중첩 for문을 여러 개 사용하여 구현 가능"
   ]
  },
  {
   "cell_type": "markdown",
   "metadata": {},
   "source": [
    "#### 2. 탐욕 알고리즘(greedy)\n",
    "\n",
    "- 최적해를 구하는 데 사용되는 근시안적인 방법\n",
    "\n",
    "- 여러 경우 중 하나를 결정해야 할 때마다 그 순간에 최적이라고 생각되는 것을 선택해 나가는 방식으로 진행하여 최종적인 해답에 도달한다. 다만 지역적으로는 최적이지만 최종적인 해답에서 최적이라는 보장은 없다.\n",
    "\n",
    "- 일반적으로, 머릿속에 떠오르는 생각을 검증없이 바로 구현하면 greedy 접근이 된다.(충동성)\n",
    "\n",
    "\n",
    "- 동작과정\n",
    "\n",
    "① 해 선택 : 현재 상태에서 부분 문제의 최적 해 구하기, 이후 부분해 집합에 추가 \n",
    "\n",
    "② 실행 가능성 검사 : 새로운 부분해 집합이 실행 가능한지 확인 / 즉, 문제의 제약조건 위반여부 검사\n",
    " \n",
    "③ 해 검사 : 새로운 부분해 집합이 문제의 해가 되는지를 확인 / 전체 문제의 해가 완성될때까지 반복\n",
    "\n"
   ]
  },
  {
   "cell_type": "code",
   "execution_count": 5,
   "metadata": {},
   "outputs": [
    {
     "name": "stdout",
     "output_type": "stream",
     "text": [
      "baby-gin\n"
     ]
    }
   ],
   "source": [
    "# baby-gin\n",
    "# 0~9 사이의 숫자 카드에서 임의의 카드 6장 뽑았을 때, \n",
    "# 6장이 run과 triplet로만 구성된 경우를 baby-gin으로 부른다.\n",
    "\n",
    "\n",
    "# 완전 검색(모든 경우의 수 생각)\n",
    "\n",
    "# 6개 숫자 나열 => 순열 생성\n",
    "# 앞의 3자리와 뒤의 3자리를 잘라, run과 triplet 여부를 테스트 => baby-gin 판단\n",
    "\n",
    "\n",
    "# 그리디\n",
    "# 6개 숫자는 6자리의 정수 값으로 입력된다.\n",
    "# counts 배열의 각 원소를 체크하여 run과 triplet 및 baby-gin 여부 판단(counting정렬 사용)\n",
    "\n",
    "num = 456789\n",
    "c = [0]*12\n",
    "\n",
    "for i in range(6):\n",
    "    c[num % 10] += 1 # 각 자리수 추출 후 각 자리수 갯수 세기\n",
    "    num = num//10\n",
    "    \n",
    "i = 0\n",
    "tri = run = 0\n",
    "while i < 10:\n",
    "    if c[i] >= 3: # triplete 조사 후 데이터 삭제\n",
    "        c[i] -= 3\n",
    "        tri += 1\n",
    "        continue\n",
    "    \n",
    "    if c[i] >= 1 and c[i+1] >= 1 and c[i+2] >= 1: # run 조사 후 데이터 삭제\n",
    "        c[i] -= 1\n",
    "        c[i+1] -= 1\n",
    "        c[i+2] -= 1\n",
    "        run += 1\n",
    "        continue\n",
    "    i += 1\n",
    "if run + tri == 2: print(\"baby-gin\")\n",
    "else : print('lose') \n",
    "\n",
    "    \n",
    "\n"
   ]
  }
 ],
 "metadata": {
  "kernelspec": {
   "display_name": "Python 3",
   "language": "python",
   "name": "python3"
  },
  "language_info": {
   "codemirror_mode": {
    "name": "ipython",
    "version": 3
   },
   "file_extension": ".py",
   "mimetype": "text/x-python",
   "name": "python",
   "nbconvert_exporter": "python",
   "pygments_lexer": "ipython3",
   "version": "3.9.13"
  },
  "orig_nbformat": 4
 },
 "nbformat": 4,
 "nbformat_minor": 2
}
