{
 "cells": [
  {
   "cell_type": "markdown",
   "metadata": {},
   "source": [
    "## 패턴매칭"
   ]
  },
  {
   "cell_type": "markdown",
   "metadata": {},
   "source": [
    "#### 패턴 매칭에 사용되는 알고리즘들\n",
    "\n",
    "- 고지식한 패턴 검색 알고리즘\n",
    "\n",
    "- 카프-라빈 알고리즘\n",
    "\n",
    "- KMP 알고리즘\n",
    "\n",
    "- 보이어-무어 알고리즘\n"
   ]
  },
  {
   "cell_type": "markdown",
   "metadata": {},
   "source": [
    "#### **고지식한 알고리즘**\n",
    "\n",
    "- 본문 문자열을 처음부터 끝까지 차례대로 순회하면서 패턴 내의 문자들을 일일이 비교하는 방식으로 동작\n",
    "\n",
    "![이미지](../이미지/고지식한알고.PNG)\n",
    "\n",
    "```python\n",
    "for i : 0 -> n-m # 구간 시작\n",
    "    for j: -> m-1 # 구간 내부\n",
    "\n",
    "\n",
    "```\n",
    "\n",
    "과제 : while과 이중 for문으로 둘다 구현해보자"
   ]
  },
  {
   "cell_type": "code",
   "execution_count": null,
   "metadata": {},
   "outputs": [],
   "source": [
    "text = 'This is a book~!' # 전체 텍스트\n",
    "pattern = 'is' # 찾을 패턴\n",
    "\n",
    "\n",
    "ti = 0\n",
    "pi = 0\n",
    "while ti < len(text) and pi < len(pattern): # 인덱스들이 텍스트, 패턴에서 벗어나면 안되지!\n",
    "    if text[ti] != pattern[ti]: # 텍스트와 패턴이 다르면 \n",
    "        ti = ti-1\n",
    "        pi = - 1\n",
    "\n"
   ]
  },
  {
   "cell_type": "markdown",
   "metadata": {},
   "source": [
    "#### KMP 알고리즘\n",
    "\n",
    "- 고지식한 패턴검색처럼 다시 처음부터 검사하는 것이 아니라\n",
    "- 불일치가 난 곳부터 다시 검사\n"
   ]
  },
  {
   "cell_type": "markdown",
   "metadata": {},
   "source": [
    "#### 보이어-무어 알고리즘"
   ]
  }
 ],
 "metadata": {
  "language_info": {
   "name": "python"
  },
  "orig_nbformat": 4
 },
 "nbformat": 4,
 "nbformat_minor": 2
}
