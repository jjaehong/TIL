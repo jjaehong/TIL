{
 "cells": [
  {
   "cell_type": "markdown",
   "metadata": {},
   "source": [
    "## 스택2"
   ]
  },
  {
   "cell_type": "markdown",
   "metadata": {},
   "source": [
    " #### 1. 계산기 1\n",
    "\n",
    "- 문자열로 된 계산식이 주어질 때, 스택을 이용하여 이 계산식의 값을 계산할 수 있다.\n",
    "\n",
    "- 문자열 **수식 계산**의 일반적 방법\n",
    "\n",
    "    step1 : 중위 표기법의 수식을 후위 표기법으로 변경한다.(스택 이용) \n",
    "    \n",
    "    => 왜? 후위표기법은 괄호를 없애주기에 편리해짐\n",
    "    \n",
    "    step2 : 후위 표기법의 수식을 스택을 이용하여 계산한다.\n",
    "\n",
    "    - 중위표기법(infix notation)\n",
    "        - a+b\n",
    "\n",
    "    - 후위표기법(postfix notation)\n",
    "        - ab+"
   ]
  },
  {
   "cell_type": "markdown",
   "metadata": {},
   "source": [
    "#### step1. 중위표기법 -> 후위표기법 **변환**방법 1\n",
    "- 수식의 각 연산자에 대해서 우선순위에 따라 괄호를 사용하여 다시 표현한다.\n",
    "- 각 연산자를 그에 대응하는 오른쪽 괄호의 뒤로 이동시킨다.\n",
    "- 괄호를 제거한다."
   ]
  },
  {
   "cell_type": "markdown",
   "metadata": {},
   "source": [
    "#### step1. 중위 표기법 -> 후위 표기법 **변환** 알고리즘(스택이용)2\n",
    "\n",
    "① 입력 받은 중위 표기식에서 토큰을 읽는다.\n",
    "\n",
    "② 토큰이 피연산자이면 토큰을 출력한다.\n",
    "\n",
    "③ \n",
    "- 토큰이 연산자(괄호포함)일 때, 이 토큰이 스택의 top에 저장되어 있는 연산자보다 우선순위가 높으면 스택에 push하고,\n",
    "- 그렇지 않다면 스택의 top의 연산자의 우선순위가 토큰의 우선순위보다 작을 때까지 스택에서 pop한 후 토큰의 연산자를 push한다.\n",
    "- 만약 top에 연산자가 없으면 push한다.\n",
    "\n",
    "④ 토큰이 오른쪽 괄호 ')'이면 스택 top에 왼쪽 괄호 '('가 올 때까지 스택에 pop 연산을 수행하고 pop한 연산자를 출력한다. 왼쪽 괄호를 만나면 pop만 하고 출력하지는 않는다.  \n",
    "\n",
    "⑤ 중위표기식에 더 읽을 것이 없다면 중지하고, 더 읽을 것이 있다면 1부터 다시 반복한다.\n",
    "\n",
    "⑥ 스택에 남아있는 연산자를 모두 pop하여 출력한다. \n",
    "\n",
    " - 스택 밖의 왼쪽 괄호는 우선 순위가 가장 높으며, 스택 안의 왼쪽 괄호는 우선 순위가 가장 낮다."
   ]
  },
  {
   "cell_type": "code",
   "execution_count": null,
   "metadata": {},
   "outputs": [],
   "source": [
    "# 계산기 1 : 중위표기법 -> 후위표기법\n"
   ]
  },
  {
   "cell_type": "markdown",
   "metadata": {},
   "source": [
    "#### 2. 계산기 2\n",
    "- step2. 후위 표기법의 수식을 스택을 이용하여 **계산**\n",
    "\n",
    "① 피연산자를 만나면 스택에 push한다. \n",
    "\n",
    "② 연산자를 만나면 필요한 만큼의 피연산자를 스택에서 pop하여 연산하고, 연산결과를 다시 스택에 push한다.\n",
    "\n",
    "③ 수식이 끝나면, 마지막으로 스택을 pop하여 출력한다."
   ]
  },
  {
   "cell_type": "code",
   "execution_count": null,
   "metadata": {},
   "outputs": [],
   "source": [
    "# forth \n",
    "# 계산기 2 : 후위표기법 -> 계산\n",
    "\n",
    "# 후위표기법의 결과를 계산할 함수\n",
    "def get_result(postfix):\n",
    "    stack = []\n",
    "\n",
    "    # 후위표기식에서 글자 하나씩 떼오기\n",
    "    for c in postfix:\n",
    "\n",
    "        # '.'을 만나면 숫자 출력\n",
    "        if c == '.':\n",
    "            if len(stack) == 1:\n",
    "                return stack.pop()\n",
    "            else:\n",
    "                return 'error'\n",
    "        \n",
    "        # 피연산자를 만나면 스택에 넣기\n",
    "        elif c not in '+-/*':\n",
    "            stack.append(int(c)) # 타입 조심\n",
    "        \n",
    "        # 연산자를 만나면 스택에서 연산에 필요한 만큼 꺼내서 계산\n",
    "        # 계산한 결과를 다음 연산에 쓰기 위해서 push\n",
    "        else:\n",
    "            if len(stack) >= 2:\n",
    "\n",
    "                # 오른쪽이 먼저\n",
    "                right = stack.pop()\n",
    "                # 왼쪽이 나중에\n",
    "                left = stack.pop()\n",
    "\n",
    "                # 연산자의 종류에 따라서 계산\n",
    "                if c == '+':\n",
    "                    result = left + right\n",
    "                elif c == '-':\n",
    "                    result = left - right\n",
    "                elif c == '/':\n",
    "                    result = left // right\n",
    "                elif c == '*':\n",
    "                    result = left * right\n",
    "            else:\n",
    "                return 'error'\n",
    "\n",
    "            # 결과에 넣고\n",
    "            stack.append(result)\n",
    "\n",
    "    return stack.pop()\n",
    "\n",
    "\n",
    "T = int(input())\n",
    "for tc in range(1,T+1):\n",
    "    line = input().split()\n",
    "\n",
    "    print(f'#{tc} {get_result(line)}')\n",
    "\n"
   ]
  },
  {
   "cell_type": "markdown",
   "metadata": {},
   "source": [
    "## <span style = 'color : red'>백트래킹(backtracking)</span>\n",
    "\n",
    "- 해를 찾는 도중에 **'막히면'**(즉, 해가 아니면) 되돌아가서 다시 해를 찾아가는 기법이다.\n",
    "\n",
    "- 백트래킹은 최적화 문제와 결정 문제를 해결할 수 있다.\n",
    "\n",
    "#### 백트래킹 기법\n",
    "- 어떤 노드의 **유망성을 점검**한 후에 유망(promising)하지 않다고 결정되면, 그 노드의 부모로 되돌아가(backtracking) 다음 자식 노드로 감.\n",
    "\n",
    "- 어떤 노드를 방문했을 때, 그 노드를 포함한 경로가 해답이 될 수 없으면 그 노드는 유망하지 않다고 하며, 반대로 해답의 가능성이 있으면 유망하다고 한다.\n",
    "\n",
    "- 가지치기(pruning): 유망하지 않는 노드가 포함되는 경로는 더 이상 고려하지 않는다.\n",
    "\n",
    "\n",
    "#### 백트래킹 알고리즘 절차\n",
    "1. 상태 공간 트리의 깊이우선검색(DFS) 실시\n",
    "\n",
    "2. 각 노드가 유망한지를 점검함 => 후보군\n",
    "\n",
    "3. 만일 그 노드가 유망하지 않으면, 그 노드의 부모 노드로 돌아가서 검색을 계속함. => 조기차단 가능\n",
    "\n",
    "\n",
    "\n",
    "![이미지](../이미지/백트래킹과dfs.PNG)\n",
    "\n",
    "- DFS : 모든 경우의 수 고려\n",
    "- 백트래킹 : "
   ]
  },
  {
   "cell_type": "markdown",
   "metadata": {},
   "source": [
    "#### 1. 결정문제\n",
    "- 문제의 조건을 만족하는 해가 존재하는지의 여부를 'yes' 또는 'no'가 답하는 문제\n",
    "\n",
    "- 미로 찾기\n",
    "\n",
    "- n-Queen 문제\n",
    "\n",
    "- Map coloring\n",
    "\n",
    "- 부분 집합의 합(subset sum) 문제 등"
   ]
  },
  {
   "cell_type": "code",
   "execution_count": null,
   "metadata": {},
   "outputs": [],
   "source": [
    "# 미로찾기\n",
    "\n",
    "# 입구와 출구가 주어진 미로에서 입구부터 출구까지의 경로를 찾는 문제\n",
    "# 이동방향은 4방향으로 제한\n",
    "\n"
   ]
  },
  {
   "cell_type": "code",
   "execution_count": null,
   "metadata": {},
   "outputs": [],
   "source": [
    "# n-Queen"
   ]
  }
 ],
 "metadata": {
  "language_info": {
   "name": "python"
  },
  "orig_nbformat": 4
 },
 "nbformat": 4,
 "nbformat_minor": 2
}
