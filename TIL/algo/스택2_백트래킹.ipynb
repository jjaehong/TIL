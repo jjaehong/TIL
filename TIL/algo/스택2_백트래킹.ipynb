{
 "cells": [
  {
   "cell_type": "markdown",
   "metadata": {},
   "source": [
    "## 스택2"
   ]
  },
  {
   "cell_type": "markdown",
   "metadata": {},
   "source": [
    "#### 계산기 1\n",
    "\n",
    "- 문자열로 된 계산식이 주어질 때, 스택을 이용하여 이 계산식의 값을 계산할 수 있다.\n",
    "\n",
    "- 문자열 **수식 계산**의 일반적 방법\n",
    "\n",
    "    step1 : 중위 표기법의 수식을 후위 표기법으로 변경한다.(스택이용) \n",
    "    \n",
    "    => 왜? 후위표기법은 괄호를 없애주기에 편리해짐\n",
    "    \n",
    "    step2 : 후위 표기법의 수식을 스택을 이용하여 계산한다.\n",
    "\n",
    "    - 중위표기법(infix notation)\n",
    "        - a+b\n",
    "\n",
    "    - 후위표기법(postfix notation)\n",
    "        - ab+"
   ]
  },
  {
   "cell_type": "markdown",
   "metadata": {},
   "source": [
    "#### step1. 중위 표기법 -> 후위 표기법 변환 알고리즘(스택이용)2\n",
    "\n",
    "① 입력 받은 중위 표기식에서 토큰을 읽는다.\n",
    "\n",
    "② 토큰이 피연산자이면 토큰을 출력한다.\n",
    "\n",
    "③ \n",
    "- 토큰이 연산자(괄호포함)일 때, 이 토큰이 스택의 top에 저장되어 있는 연산자보다 우선순위가 높으면 스택에 push하고,\n",
    "- 그렇지 않다면 스택의 top의 연산자의 우선순위가 토큰의 우선순위보다 작을 때까지 스택에서 pop한 후 토큰의 연산자를 push한다.\n",
    "\n",
    "④ 토큰이 오른쪽 괄호 ')'이면 스택 top에 왼쪽 괄호 '('가 올 때까지\n",
    "\n",
    "⑤\n",
    "\n",
    "⑥"
   ]
  },
  {
   "cell_type": "code",
   "execution_count": null,
   "metadata": {},
   "outputs": [],
   "source": []
  },
  {
   "cell_type": "markdown",
   "metadata": {},
   "source": [
    "#### 계산기 2"
   ]
  },
  {
   "cell_type": "code",
   "execution_count": null,
   "metadata": {},
   "outputs": [],
   "source": []
  },
  {
   "cell_type": "markdown",
   "metadata": {},
   "source": [
    "## <span style = 'color : red'>백트래킹(backtracking)</span>\n",
    "\n",
    "- 해를 찾는 도중에 **'막히면'**(즉, 해가 아니면) 되돌아가서 다시 해를 찾아가는 기법이다.\n",
    "\n",
    "- 백트래킹은 최적화 문제와 결정 문제를 해결할 수 있다.\n",
    "\n",
    "#### 백트래킹 기법\n",
    "- 어떤 노드의 **유망성을 점검**한 후에 유망(promising)하지 않다고 결정되면, 그 노드의 부모로 되돌아가(backtracking) 다음 자식 노드로 감.\n",
    "\n",
    "- 어떤 노드를 방문했을 때, 그 노드를 포함한 경로가 해답이 될 수 없으면 그 노드는 유망하지 않다고 하며, 반대로 해답의 가능성이 있으면 유망하다고 한다.\n",
    "\n",
    "- 가지치기(pruning): 유망하지 않는 노드가 포함되는 경로는 더 이상 고려하지 않는다.\n",
    "\n",
    "\n",
    "#### 백트래킹 알고리즘 절차\n",
    "1. 상태 공간 트리의 깊이우선검색(DFS) 실시\n",
    "\n",
    "2. 각 노드가 유망한지를 점검함 => 후보군\n",
    "\n",
    "3. 만일 그 노드가 유망하지 않으면, 그 노드의 부모 노드로 돌아가서 검색을 계속함. => 조기차단 가능\n",
    "\n",
    "\n",
    "\n",
    "![이미지](../이미지/백트래킹과dfs.PNG)\n",
    "\n",
    "- DFS : 모든 경우의 수 고려\n",
    "- 백트래킹 : "
   ]
  },
  {
   "cell_type": "markdown",
   "metadata": {},
   "source": [
    "#### 1. 결정문제\n",
    "- 문제의 조건을 만족하는 해가 존재하는지의 여부를 'yes' 또는 'no'가 답하는 문제\n",
    "\n",
    "- 미로 찾기\n",
    "\n",
    "- n-Queen 문제\n",
    "\n",
    "- Map coloring\n",
    "\n",
    "- 부분 집합의 합(subset sum) 문제 등"
   ]
  },
  {
   "cell_type": "code",
   "execution_count": null,
   "metadata": {},
   "outputs": [],
   "source": [
    "# 미로찾기\n",
    "\n",
    "# 입구와 출구가 주어진 미로에서 입구부터 출구까지의 경로를 찾는 문제\n",
    "# 이동방향은 4방향으로 제한\n",
    "\n"
   ]
  },
  {
   "cell_type": "code",
   "execution_count": null,
   "metadata": {},
   "outputs": [],
   "source": [
    "# n-Queen"
   ]
  }
 ],
 "metadata": {
  "language_info": {
   "name": "python"
  },
  "orig_nbformat": 4
 },
 "nbformat": 4,
 "nbformat_minor": 2
}
