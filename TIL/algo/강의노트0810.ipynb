{
 "cells": [
  {
   "cell_type": "markdown",
   "metadata": {},
   "source": [
    "## <span style = \"color : red\">DFS(깊이우선탐색)</span>"
   ]
  },
  {
   "cell_type": "markdown",
   "metadata": {},
   "source": [
    "- 비선형구조인 **그래프 구조**는 그래프로 표현된 **모든 자료를 빠짐없이 검색**하는 것이 중요함.\n",
    "\n",
    "- 두 가지 방법\n",
    "    - 깊이 우선 탐색(Depth First Search, DFS) <= Stack\n",
    "    \n",
    "    - 너비 우선 탐색(Breath First Search, BFS) <= Queue"
   ]
  },
  {
   "cell_type": "markdown",
   "metadata": {},
   "source": [
    "#### DFS\n",
    "\n",
    "- 가장 마지막에 만났던 갈림길의 정점으로 되돌아가서 다시 깊이 우선 탐색을 반복해야 하므로 **후입선출 구조의 Stack 사용**\n",
    "\n",
    "- 과정 설명\n",
    "    - 시작 정점의 한 방향으로 갈 수 있는 경로가 있는 곳까지 깊이 탐색해 가다가\n",
    "\n",
    "    - 더 이상 갈곳이 없게 되면, 가장 마지막에 만났던 갈림길 간선이 있는 정점으로 되돌아와서\n",
    "\n",
    "    - 다른 방향의 정점으로 탐색을 계속 반복하여\n",
    "    \n",
    "    - 결국 모든 정점을 방문하는 순회방법\n",
    "\n",
    "- 구현 설명 \n",
    "\n",
    "- v는 방문한 정점 / w는 방문할 정점 / stack은 방문한 정점(v)을 담아두는 곳 => 돌아올 때 대비\n",
    "\n",
    "    1. 시작 정점 v를 결정하여 방문한다.\n",
    "\n",
    "    2. 정점 v에 인접한 정점 중에서\n",
    "    \n",
    "        ① 방문하지 않은 정점 w가 있으면, 정점 v를 스택에 push하고 정점 w를 방문한다. 그리고 w를 v로 하여 다시 2. 를 반복한다.     \n",
    "        \n",
    "        ② 방문하지 않은 정점이 없으면, 탐색의 방향을 바꾸기 위해서 스택에서 pop하여 받은 가장 마지막 방문 정점을 v로 하여 다시 2. 를 반복한다.\n",
    "\n",
    "    3. 스택이 공백이 될 때까지 2. 를 반복한다.\n",
    "        \n",
    "        => 더 이상 남은 갈림길이 없을 때 까지\n",
    "\n",
    "- 목표 : 빠짐없이 중복없이 방문하자!\n",
    "\n",
    "        \n",
    "\n",
    "\n"
   ]
  },
  {
   "cell_type": "code",
   "execution_count": null,
   "metadata": {},
   "outputs": [],
   "source": [
    "# 연습문제 3(DFS)\n",
    "# 시작 정점을 1로 시작하고, 모든 정점의 깊이 우선 탐색 경로를 출력하시오.\n",
    "# 초기화\n",
    "visited = [] # 방문한 곳 체크\n",
    "stack = [] # 다시 돌아갈 곳 \n",
    "\n",
    "\n",
    "\n",
    "\n",
    "\n"
   ]
  },
  {
   "cell_type": "markdown",
   "metadata": {},
   "source": []
  }
 ],
 "metadata": {
  "kernelspec": {
   "display_name": "Python 3",
   "language": "python",
   "name": "python3"
  },
  "language_info": {
   "codemirror_mode": {
    "name": "ipython",
    "version": 3
   },
   "file_extension": ".py",
   "mimetype": "text/x-python",
   "name": "python",
   "nbconvert_exporter": "python",
   "pygments_lexer": "ipython3",
   "version": "3.9.13"
  },
  "orig_nbformat": 4
 },
 "nbformat": 4,
 "nbformat_minor": 2
}
