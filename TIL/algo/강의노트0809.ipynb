{
 "cells": [
  {
   "cell_type": "markdown",
   "metadata": {},
   "source": [
    "## 스택(stack)\n",
    "\n",
    "- 물건을 쌓아 올리듯 자료를 쌓아 올린 형태의 자료구조 \n",
    "\n",
    "- 스택에 저장된 자료는 <span style = \"color :red\">선형구조</span>를 갖는다.\n",
    "    - 선형구조 : 자료 간의 관계가 1대1의 관계를 갖는다.\n",
    "    - 비선형구조 : 자료 간의 관계가 1대 N의 관계를 갖는다.(예: 트리)\n",
    "\n",
    "- 스택에 자료를 삽입하거나 스택에서 자료를 꺼낼 수 있다.\n",
    "\n",
    "- <span style = \"color :red\">후입선출(LIFO)</span> : 마지막에 삽입한 자료를 가장 먼저 꺼낸다."
   ]
  },
  {
   "cell_type": "markdown",
   "metadata": {},
   "source": [
    "- 자료구조 : 자료를 선형으로 저장할 저장소\n",
    "    - 스택에서 마지막 삽입된 원소의 위치를 **top**라 부른다\n",
    "    - <span style = \"color :red\">top의 위치는 자료를 꺼내오거나 삽입하는 기준이 됨</span>\n",
    "    \n",
    "\n",
    "- 연산\n",
    "    - 삽입 : **push** => 저장소에 자료를 저장한다.\n",
    "    - 삭제 : **pop** => 저장소에서 자료를 삽입한 역순으로 꺼낸다.(삭제o)\n",
    "    - 공백여부 확인 : isEmpty\n",
    "    - 스택 top에 있는 item(원소) 확인만함(삭제x) => peek\n"
   ]
  },
  {
   "cell_type": "markdown",
   "metadata": {},
   "source": [
    "![이미지](../이미지/스택의%20삽입삭제.PNG)"
   ]
  },
  {
   "cell_type": "code",
   "execution_count": 3,
   "metadata": {},
   "outputs": [],
   "source": [
    "# push 알고리즘\n",
    "\n",
    "def push(item, size):\n",
    "    global top\n",
    "    top += 1\n",
    "    if top == size:\n",
    "        print('overflow!') # 스택 오버플로우 => 디버깅목적 : 스택이 가득찼다.\n",
    "    else:\n",
    "        stack[top] = item # top이 가리키는 곳에 저장\n",
    "\n",
    "\n",
    "size = 10 # 스택의 크기\n",
    "stack = [0] * size\n",
    "top = -1 # 초기화\n",
    "\n",
    "push(10,size)\n",
    "top += 1        # \n",
    "stack[top] = 20 # "
   ]
  },
  {
   "cell_type": "code",
   "execution_count": 4,
   "metadata": {},
   "outputs": [
    {
     "name": "stdout",
     "output_type": "stream",
     "text": [
      "20\n",
      "10\n"
     ]
    }
   ],
   "source": [
    "# pop 알고리즘\n",
    "\n",
    "def pop():\n",
    "    global top\n",
    "    if top == -1:\n",
    "        print('underflow')\n",
    "        return 0\n",
    "    else:\n",
    "        top -= 1\n",
    "        return stack[top+1]\n",
    "    \n",
    "print(pop())\n",
    "\n",
    "if top > -1:\n",
    "    top -= 1\n",
    "    print(stack[top+1])"
   ]
  },
  {
   "cell_type": "code",
   "execution_count": 8,
   "metadata": {},
   "outputs": [
    {
     "name": "stdout",
     "output_type": "stream",
     "text": [
      "[0, 1, 2, 3, 4, 5, 6, 7, 8, 9]\n",
      "9 8 7 6 5 4 3 2 1 0 \n",
      "[]\n"
     ]
    }
   ],
   "source": [
    "# 스택 사용(파이썬의 메서드)\n",
    "\n",
    "stack = []\n",
    "\n",
    "def py_push(item):\n",
    "    stack.append(item)\n",
    "\n",
    "def py_pop():\n",
    "    if len(stack) == 0:\n",
    "        # underflow\n",
    "        return # return 하고 아무것도 안쓰면.. 함수 종료시키기\n",
    "    else:\n",
    "        return stack.pop()\n",
    "\n",
    "for i in range(10):\n",
    "    py_push(i)\n",
    "\n",
    "print(stack)\n",
    "\n",
    "for i in range(10):\n",
    "    print(py_pop(), end= \" \")\n",
    "\n",
    "print()\n",
    "print(stack)"
   ]
  },
  {
   "cell_type": "code",
   "execution_count": 11,
   "metadata": {},
   "outputs": [
    {
     "name": "stdout",
     "output_type": "stream",
     "text": [
      "[0, 1, 2, 3, 4, 5, 6, 7, 8, 9]\n",
      "9 8 7 6 5 4 3 2 1 0 \n",
      "[0, 1, 2, 3, 4, 5, 6, 7, 8, 9] -1\n",
      "[100, 1, 2, 3, 4, 5, 6, 7, 8, 9] 0\n"
     ]
    }
   ],
   "source": [
    "# 스택 사용(인덱스)\n",
    "\n",
    "top = -1 # 원소를 마지막으로 삽입한 **위치**, -1은 비어있다는 뜻\n",
    "size = 10\n",
    "stack = [0] * size\n",
    "\n",
    "def my_push(item):\n",
    "    global top\n",
    "    top += 1\n",
    "    if top == size:\n",
    "        print('overflow')\n",
    "    else:\n",
    "        stack[top] = item\n",
    "\n",
    "def my_pop():\n",
    "    global top\n",
    "    if top == -1:\n",
    "        print('underflow')\n",
    "        return \n",
    "    else:\n",
    "        top -= 1\n",
    "        return stack[top+1] # 근데 왜 +1임?\n",
    "\n",
    "def peek():\n",
    "    # top이 -1이면 원소가 없다.\n",
    "    if top > -1:\n",
    "        return stack[top]\n",
    "\n",
    "for i in range(10):\n",
    "    my_push(i)\n",
    "\n",
    "print(stack)\n",
    "\n",
    "for i in range(10):\n",
    "    print(my_pop(), end=\" \")\n",
    "\n",
    "print()\n",
    "print(stack, top)\n",
    "\n",
    "my_push(100)\n",
    "\n",
    "print(stack,top)\n",
    "\n",
    "# 위의 결과와의 차이\n",
    "# top이라는 index를 기준으로 \n",
    "# 따라서 아래의 데이터들은 의미가 없는 데이터이다.\n"
   ]
  },
  {
   "cell_type": "code",
   "execution_count": 2,
   "metadata": {},
   "outputs": [
    {
     "name": "stdout",
     "output_type": "stream",
     "text": [
      "3\n",
      "2\n"
     ]
    }
   ],
   "source": [
    "# 연습문제 1\n",
    "# 스택 구현(실제 사용)\n",
    "\n",
    "stack = [0] * 10\n",
    "top = -1\n",
    "\n",
    "top += 1        # push(1)\n",
    "stack[top] = 1\n",
    "top += 1        # push(2)\n",
    "stack[top] = 2\n",
    "top += 1        # push(3)\n",
    "stack[top] = 3\n",
    "\n",
    "print(stack[top]) # pop()\n",
    "top -= 1\n",
    "top -= 1\n",
    "print(stack[top+1])"
   ]
  },
  {
   "cell_type": "markdown",
   "metadata": {},
   "source": [
    "#### 스택의 응용1 : 괄호검사\n",
    "- 왜해? : 문법오류 검사할 때\n",
    "\n",
    "![이미지](../이미지/괄호검사.PNG)\n",
    "\n",
    "● 괄호 종류 : [], {}, ()\n",
    "\n",
    "● 조건\n",
    "1. 왼쪽 괄호의 개수와 오른쪽 괄호의 개수가 같아야 한다.\n",
    "    - ex : (a(b) \n",
    "2. 같은 괄호에서 왼쪽 괄호는 오른쪽 괄호보다 먼저 나와야 한다.\n",
    "    - ex : a(b)c)\n",
    "3. 괄호 사이에는 포함관계만 존재한다.\n",
    "    - ex : a{b(c[d]e}f)\n",
    "\n",
    "오류:\n",
    "1. 문자열 끝까지 조사한 후에도, 스택에 괄호 남아있음 -> 조건 1 위배\n",
    "2. 닫는 괄호가 나왔는데, 스택이 비어있음(여는 괄호가 없음)\n",
    "3. 여는 괄호 (pop())가 다른 경우(??)\n",
    "4. 괄호 짝이 맞는지 검사"
   ]
  },
  {
   "cell_type": "code",
   "execution_count": 12,
   "metadata": {},
   "outputs": [
    {
     "ename": "SyntaxError",
     "evalue": "invalid syntax (3372194839.py, line 4)",
     "output_type": "error",
     "traceback": [
      "\u001b[1;36m  Cell \u001b[1;32mIn[12], line 4\u001b[1;36m\u001b[0m\n\u001b[1;33m    for tc in range(1,T)\u001b[0m\n\u001b[1;37m                        ^\u001b[0m\n\u001b[1;31mSyntaxError\u001b[0m\u001b[1;31m:\u001b[0m invalid syntax\n"
     ]
    }
   ],
   "source": [
    "# 괄호(bracket)검사\n",
    "\n",
    "T = int(input())\n",
    "for tc in range(1,T+1):\n",
    "    row = input() # 괄호의 짝이 맞는지 검사할 문자열\n",
    "\n",
    "    stack = [] # 스택\n",
    "\n",
    "    answer = 1 # 1이면 괄호가 제대로 되어있음, 0이면 괄호가 제대로 안되어있음.\n",
    "\n",
    "    # 괄호 검사\n",
    "\n",
    "    # row에서 한글자씩 떼어와서 검사\n",
    "\n",
    "    # 떼어낸 한 글자가 만약 여는 괄호다? => 스택에 삽입\n",
    "\n",
    "    # 떼어낸 글자가 닫는 괄호다 => 스택에서 하나 꺼내온 다음에\n",
    "\n",
    "    # 짝이 맞는지 검사 => 괄호의 종류가 다르면 오류!!\n",
    "\n",
    "    # 꺼내오기 전에 스택이 비어있나 확인, 비어있으면 오류!!\n",
    "\n",
    "\n",
    "    # 모든 글자 검사가 끝난 후에 스택이 비어있지 않으면 오류!!\n",
    "\n",
    "    print(f' #{tc} {answer}')\n",
    "\n",
    "\n"
   ]
  },
  {
   "cell_type": "markdown",
   "metadata": {},
   "source": [
    "#### 스택의 응용2 : function call\n",
    "- 프로그램에서의 함수 호출과 복귀에 따른 수행순서를 관리\n",
    "\n",
    "![이미지](../이미지/함수호출복귀.PNG)\n",
    "\n",
    "\n",
    "\n",
    "\n"
   ]
  },
  {
   "cell_type": "code",
   "execution_count": 18,
   "metadata": {},
   "outputs": [
    {
     "name": "stdout",
     "output_type": "stream",
     "text": [
      "10\n",
      "9\n",
      "8\n",
      "7\n",
      "6\n",
      "5\n",
      "4\n",
      "3\n",
      "2\n",
      "1\n",
      "0 : 끝\n",
      "1\n",
      "2\n",
      "3\n",
      "4\n",
      "5\n",
      "6\n",
      "7\n",
      "8\n",
      "9\n",
      "10\n"
     ]
    }
   ],
   "source": [
    "# 함수 호출과 복귀\n",
    "\n",
    "def funfun(n):\n",
    "\n",
    "    # 재귀함수..\n",
    "\n",
    "    # 1. 종료 조건\n",
    "    if n == 0:\n",
    "        print(f'{n} : 끝')\n",
    "        return\n",
    "\n",
    "    # 2. 재귀 호출\n",
    "    else:\n",
    "        print(n)\n",
    "        funfun(n-1)\n",
    "        print(n)\n",
    "\n",
    "funfun(10)\n",
    "\n",
    "# 가장 처음에 실행했던 함수가 하단, 가장 최근 실행함수는 상단이다.\n",
    "# 다시 꺼낼때는 후입선출로 상단에 있는 것부터 꺼내게 된다."
   ]
  },
  {
   "cell_type": "markdown",
   "metadata": {},
   "source": [
    "#### 재귀호출\n",
    "- 자기 자신을 호출하여 순환 수행되는 것\n",
    "- 재귀호출은 1000 이상 넘어가면 실행안됨.\n",
    "- 쓰고싶으면 쓰되, 너무 많이 실행될 것 같으면 쓰면 안됨\n"
   ]
  },
  {
   "cell_type": "code",
   "execution_count": null,
   "metadata": {},
   "outputs": [],
   "source": [
    "# 재귀 호출 : 피보나치 수열\n",
    "\n",
    "def fibo(n):\n",
    "    if n < 2:\n",
    "        return n\n",
    "    else:\n",
    "        return fibo(n-1) + fibo(n-2)"
   ]
  },
  {
   "cell_type": "markdown",
   "metadata": {},
   "source": [
    "#### memoization\n",
    "- 앞서 만든 피보나치 수를 구하는 함수를 재귀함수로 구현한 알고리즘은 엄청난 중복호출이 존재한다는 문제점이 있다.\n",
    "\n",
    "- 메모이제이션은 '메모리에 넣기'라는 의미, 컴퓨터 프로그램을 실행할 때 이전에 계산한 값을 메모리에 저장해서 매번 다시 계산하지 않도록 하여 전체적인 실행속도를 빠르게 하는 기술이다. 동적계획법의 핵심\n",
    "\n",
    "- 즉, 실행시간은 단축시켜주지만 메모리 사용량을 높인다.. 잡아먹는다.\n",
    "\n",
    "![이미지](../이미지/memoiz.PNG)"
   ]
  },
  {
   "cell_type": "code",
   "execution_count": null,
   "metadata": {},
   "outputs": [],
   "source": [
    "# "
   ]
  }
 ],
 "metadata": {
  "kernelspec": {
   "display_name": "Python 3",
   "language": "python",
   "name": "python3"
  },
  "language_info": {
   "codemirror_mode": {
    "name": "ipython",
    "version": 3
   },
   "file_extension": ".py",
   "mimetype": "text/x-python",
   "name": "python",
   "nbconvert_exporter": "python",
   "pygments_lexer": "ipython3",
   "version": "3.9.13"
  },
  "orig_nbformat": 4
 },
 "nbformat": 4,
 "nbformat_minor": 2
}
