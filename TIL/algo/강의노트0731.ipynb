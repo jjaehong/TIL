{
 "cells": [
  {
   "cell_type": "markdown",
   "metadata": {},
   "source": [
    "## 알고리즘\n",
    "\n",
    "- 유한한 단계를 통해 문제를 해결하기 위한 절차나 방법이다. 주로 컴퓨터가 어떤 일을 수행하기 위한 단계적 방법을 말한다.  \n",
    "\n",
    "- 훈련 : \n",
    "    - 그림 그려보기\n",
    "\n",
    "    - 식으로 표현하기\n",
    "\n",
    "    - 둘이 번갈아가면서 표현 가능해야함\n",
    "\n",
    "#### 알고리즘 표현\n",
    "\n",
    "- 의사코드(슈도코드, Pseudocode) : \n",
    "    - 일반적인 언어로 코드를 흉내내어 표현 \n",
    "    - 특정언어로 프로그램을 작성하기 전 알고리즘을 대략적으로 모델링 하는데에 쓰임.\n",
    "\n",
    "- 순서도 : 그림으로 구조화\n",
    "    - 프로그램의 진행흐름을 순서에따라 여러가지 기호나 문자로 나타낸 도표\n",
    "    - 프로그램을 작성하기 전에 프로그램의 전체적인 흐름과 과정 파악을 위해 필수적으로 거쳐야 하는 작업\n",
    "#### 알고리즘의 성능 측정\n",
    "\n",
    "① 정확성 : 정확도(정답)\n",
    "\n",
    "② <span style = 'color : red'>작업량</span> : 더 적은 연산(효율적 코드) ==> 시간 복잡도\n",
    "- 실제 걸리는 시간을 측정\n",
    "- 실행되는 명령문의 개수를 계산\n",
    "- 빅-오(O) 표기법 : 시간 복잡도 함수 중에서 가장 큰 영향력을 주는 n에 대한 항만을 표시\n",
    "\n",
    "![이미지](../이미지/빅오.PNG)\n",
    "\n",
    "![이미지](../이미지/빅오%20시간복잡도비교.PNG)\n",
    "\n",
    "\n",
    "③ 메모리 사용량 : 더 적은 메모리 사용(효율적 코드)\n",
    "\n",
    "④ 단순성 : 가시성\n",
    "\n",
    "⑤ 최적성 : 더 이상 개선 불가할 정도로 최적화"
   ]
  },
  {
   "cell_type": "markdown",
   "metadata": {},
   "source": [
    "## 정렬\n",
    "\n",
    "- 2개 이상의 자료를 특정 기준에 의해 작은 값부터 큰 값(오름차순(asc)), 혹은 내림차순(desc)의 순서대로 재배열하는 것\n",
    "\n",
    "- 키 : 자료의 정렬하는 기준이 되는 특정 값 ex) max_v, min_v"
   ]
  },
  {
   "cell_type": "markdown",
   "metadata": {},
   "source": [
    "#### 1. 버블 정렬(bubble sort)\n",
    "\n",
    "- **인접한 두 개의 원소를 비교**하며 **자리를 계속 교환**하면서 맨 마지막 자리까지 이동한다.\n",
    "\n",
    "\n",
    "- 시간 복잡도\n",
    "    - O(n**2)  <= n * (n-1) * (n-2)... 3 * 2 * 1 (첫번째 패스, 두번째 패스... n번째 패스)"
   ]
  },
  {
   "cell_type": "code",
   "execution_count": 1,
   "metadata": {},
   "outputs": [
    {
     "ename": "SyntaxError",
     "evalue": "'return' outside function (4035739245.py, line 8)",
     "output_type": "error",
     "traceback": [
      "\u001b[1;36m  Cell \u001b[1;32mIn[1], line 8\u001b[1;36m\u001b[0m\n\u001b[1;33m    return\u001b[0m\n\u001b[1;37m    ^\u001b[0m\n\u001b[1;31mSyntaxError\u001b[0m\u001b[1;31m:\u001b[0m 'return' outside function\n"
     ]
    }
   ],
   "source": [
    "# 버블 정렬 예시\n",
    "\n",
    "def BubbleSort(a,N): # 정렬할 리스트, N 원소 수\n",
    "    for i in range(N-1, 0, -1):\n",
    "        for j in range(0,i): # 왼쪽 원소의 인덱스\n",
    "            if a[j] > a[j+1]:\n",
    "                a[j], a[j+1] = a[j+1], a[j]\n",
    "\n",
    "\n",
    "print()\n"
   ]
  },
  {
   "cell_type": "markdown",
   "metadata": {},
   "source": [
    "#### 2. 선택정렬(중요)\n",
    "- 주어진 자료들 중 가장 작은 값의 원소부터 차례대로 선택하여 위치를 교환하는 방식\n",
    "- 버블정렬과 비교해보고 구분 필요 !\n",
    "\n",
    "- 정렬 과정\n",
    "    - 주어진 리스트 중에서 최소값을 찾는다.\n",
    "    - 최소값을 리스트의 맨 앞에 위치한 값과 교환한다.\n",
    "    - 미정렬 리스트에서 최소값을 찾는다.\n",
    "    - 리스트의 맨 앞에 위치한 값과 교환한다.\n",
    "\n",
    "- 시간 복잡도 : O(n**2)"
   ]
  },
  {
   "cell_type": "code",
   "execution_count": null,
   "metadata": {},
   "outputs": [],
   "source": [
    "def SelectionSort(a,N):\n",
    "    for i in range(N-1): # 0 -> N-2\n",
    "        minidx = i\n",
    "        for j in range(i+1, N):\n",
    "            if a[minidx] > a[j]:\n",
    "                minidx = j\n",
    "        a[i], a[minidx] = a[minidx], a[i]\n"
   ]
  },
  {
   "cell_type": "code",
   "execution_count": null,
   "metadata": {},
   "outputs": [],
   "source": [
    "# max, min 원리\n",
    "\n",
    "T = int(input(\"ㄴㅁㄹㄴ : \"))  # 테스트케이스 개수\n",
    "\n",
    "for tc in range(1, T+1):\n",
    "    N = int(input())  # 1개의 테스트케이스 안에 N번 실행\n",
    "    arr = list(map(int, input().split())) # 타이핑 해라!\n",
    "\n",
    "    max_v = arr[0] # 내가 지금까지 알고 있었던 최댓값 # 1 # -float('inf')\n",
    "    min_v = 1000000 # 내가 지금까지 알고 있었던 최솟값 # float('inf')\n",
    "\n",
    "    for i in range(1, N): # max_v를 arr[0]으로 시작했기에 1부터 시작\n",
    "        if max_v < arr[i]:\n",
    "            max_v = arr[i]\n",
    "        if min_v > arr[i]:\n",
    "            min_v = arr[i]\n",
    "\n",
    "    answer = max_v - min_v\n",
    "\n",
    "    print(f'#{tc} {answer}')\n",
    "\n",
    "# T = int(input())\n",
    "# for tc in range(1, T+1):\n",
    "#     N = int(input())\n",
    "#     arr = list(map(int, input().split()))\n",
    "#\n",
    "#     maxi = 1\n",
    "#     mini = 1000000\n",
    "#\n",
    "#     for i in range(0, N):\n",
    "#         if maxi < arr[i]:\n",
    "#             maxi = arr[i]\n",
    "#         if mini > arr[i]:\n",
    "#             mini = arr[i]\n",
    "#\n",
    "#     answer = maxi - mini\n",
    "#\n",
    "#     print(f'#{tc} {answer}')"
   ]
  },
  {
   "cell_type": "code",
   "execution_count": 9,
   "metadata": {},
   "outputs": [
    {
     "name": "stdout",
     "output_type": "stream",
     "text": [
      "#1 21\n"
     ]
    }
   ],
   "source": [
    "# 구간합(subsum)\n",
    "\n",
    "T = int(input())\n",
    "for tc in range(1, T+1):\n",
    "    N, M = map(int, input().split()) # N = 정수의 개수 / M = 구간의 개수\n",
    "    arr = list(map(int, input().split()))\n",
    "\n",
    "    # 구간합의 최대, 최솟값 => 최대,최소는 초기값을 잘 구해야함! \n",
    "    max_sum = 1\n",
    "    min_sum = 10000\n",
    "\n",
    "    # 구간합을 구하자(뒤쪽은 구간합을 M개 고를 수 없을 수 있으니까)   \n",
    "    for i in range(N-(M-1)): # 구간합의 시작위치를 i라고 할 때, <N-(M-1)>번까지 시작위치로 할 수 있음\n",
    "        sub_sum = 0\n",
    "        for j in range(M): # 시작위치(i)에서 M개까지의 합을 구함.\n",
    "            sub_sum = sub_sum + arr[i+j] # 시작위치 + 구간개수\n",
    "\n",
    "        # 구간합을 구하고나서 최대값 최소값 홧인\n",
    "        max_sum = sub_sum if sub_sum > max_sum else max_sum\n",
    "        min_sum = sub_sum if sub_sum < min_sum else min_sum\n",
    "\n",
    "print(f'#{T} {max_sum - min_sum}')"
   ]
  },
  {
   "cell_type": "code",
   "execution_count": 12,
   "metadata": {},
   "outputs": [
    {
     "name": "stdout",
     "output_type": "stream",
     "text": [
      "0\n",
      "1\n",
      "2\n"
     ]
    }
   ],
   "source": [
    "for i in range(3):\n",
    "    print(i)"
   ]
  },
  {
   "cell_type": "markdown",
   "metadata": {},
   "source": [
    "#### 3. 카운팅 정렬\n",
    "\n",
    "- 항목들의 순서를 결정하기 위해 **집합에 각 항목이 몇 개씩 있는지 세는 작업**을 하여, 선형시간에 정렬하는 **효율적인 알고리즘**\n",
    "\n",
    "\n",
    "- 제한사항\n",
    "    - 정수나 정수로 표현할 수 있는 자료에 대해서만 적용 가능\n",
    "\n",
    "\n",
    "- 시간 복잡도\n",
    "    - O(n+k) : n은 리스트 길이, k는 정수의 최대값 -> 리스트 안의 숫자에 따라서도 변할 수 있다!\n",
    "    - n은 데이터 크기 / k는 counts의 크기\n",
    "\n",
    "\n",
    "#### 카운팅 정렬 과정\n",
    "\n",
    "- 1단계 : 0 배열 만들기\n",
    "\n",
    "- 2단계 : \n",
    "\n",
    "- 3단계 : \n",
    "\n",
    "누적합"
   ]
  },
  {
   "cell_type": "code",
   "execution_count": 1,
   "metadata": {},
   "outputs": [
    {
     "name": "stdout",
     "output_type": "stream",
     "text": [
      "[0, 1, 1, 1, 2, 3, 4, 4]\n"
     ]
    }
   ],
   "source": [
    "# 오름차순 카운팅 정렬 예시 1\n",
    "\n",
    "def counting_sort_asc(A,B,K):\n",
    "    # A : 정렬 대상(0 to k)\n",
    "    # B : 정렬 결과\n",
    "    # K : 정렬대상 중 최댓값 (숫자 수를 세야하는데 배열의 크기)\n",
    "    # C : 카운트 배열(원소의 개수를 세주고, 자리를 정해준다.)\n",
    "\n",
    "    C = [0] * (K+1)   # counts[i] => i의 등장횟수\n",
    "    print(C)          # counts[1] => A안에 1이 몇개 있는지?\n",
    "\n",
    "\n",
    "    # 1. 각 원소의 등장 횟수를 세준다.\n",
    "    for i in range(len(A)):\n",
    "        C[A[i]] += 1    # A[i]의 등장 횟수를 하나씩 증가 시켜 주면 된다.\n",
    "\n",
    "    # 2. 각 원소의 등장횟수를 계산해서 각 원소가 들어갈 자리의 위치를 구해 준다.\n",
    "    for i in range(1, len(C)):\n",
    "        # i는 i보다 작은수가 몇개 있는지를 알면 그 뒤부터 나온다는 거를 알기 때문에\n",
    "        C[i] = C[i] + C[i - 1]\n",
    "\n",
    "    # 3. 뒤에서부터 A를 확인하면서 자리를 확인하고 채워준다.\n",
    "    # 뒤에서부터 확인화는 이유는 안정 정렬(원래 배열의 순서 보장)\n",
    "    # 자리를 채워 줄때마다 1씩 감소시켜줘야한다. (자리 중복을 피하기 위해서)\n",
    "\n",
    "    for i in range(len(B)-1, -1, -1):  # 7 6 5 4 3 2 1 0\n",
    "        # C[A[i]] => A[i]가 들어갈 자리를 가리키고 있다.(들어가기전에 1빼고)\n",
    "        C[A[i]] =  C[A[i]] - 1\n",
    "        # 자리에 A[i]를 넣어주면 된다.\n",
    "        B[C[A[i]]] = A[i]\n",
    "\n",
    "nums = [0,4,1,3,1,2,4,1]\n",
    "\n",
    "\n",
    "result_asc = [0] * 8\n",
    "counting_sort_asc(nums,result_asc,max(nums))\n",
    "print(result_asc)"
   ]
  },
  {
   "cell_type": "code",
   "execution_count": null,
   "metadata": {},
   "outputs": [],
   "source": [
    "# 내림차순 카운팅 정렬\n",
    "\n",
    "def count_sort_dec(A,B,K):\n",
    "    C = [0] * (k + 1)\n",
    "    # 1. 원소의 등장 횟수를 센다.\n",
    "    for i in range(len(A)):\n",
    "        C[A[i]] += 1\n",
    "    # ----------------------\n",
    "    # 2. 자리를 계산하는데 ... 내림차순\n",
    "    # ----------------------\n",
    "    for i in range(len(C) - 2, -1, -1):\n",
    "        C[i] += C[i + 1]\n",
    "\n",
    "    # 3 . 뒤에서부터 원소의 자리를 찾아주면 된다.\n",
    "    for i in range(len(B) - 1, -1, -1):\n",
    "        C[A[i]] -= 1\n",
    "        B[C[A[i]]] = A[i]"
   ]
  },
  {
   "cell_type": "code",
   "execution_count": null,
   "metadata": {},
   "outputs": [],
   "source": [
    "# 카운팅 정렬 + dict\n",
    "\n",
    "def counting_sort_asc(A, B, K):\n",
    "\n",
    "    C = [0] * (K + 1)\n",
    "\n",
    "\n",
    "    # 1. 각 원소의 등장 횟수를 세준다.\n",
    "    for i in range(len(A)):\n",
    "        C[A[i][\"num\"]] += 1\n",
    "\n",
    "    # 2. 각 원소의 등장횟수를 계산해서 각 원소가 들어갈 자리의 위치를 구해 준다.\n",
    "    for i in range(1, len(C)):\n",
    "        C[i] += C[i - 1]\n",
    "\n",
    "    # 3. 뒤에서부터 A를 확인하면서 자리를 확인하고 채워 준다.\n",
    "    for i in range(len(B) - 1, -1, -1):\n",
    "        C[A[i][\"num\"]] -= 1\n",
    "        B[C[A[i][\"num\"]]] = A[i]\n",
    "\n",
    "\n",
    "nums_dict = [\n",
    "    {\"name\": \"김\", \"num\": 0},\n",
    "    {\"name\": \"승\", \"num\": 4},\n",
    "    {\"name\": \"이\", \"num\": 1},\n",
    "    {\"name\": \"강\", \"num\": 3},\n",
    "    {\"name\": \"신\", \"num\": 1},\n",
    "    {\"name\": \"홍\", \"num\": 2},\n",
    "    {\"name\": \"양\", \"num\": 4},\n",
    "    {\"name\": \"박\", \"num\": 1},\n",
    "]\n",
    "\n",
    "result_asc = [0] * 8\n",
    "\n",
    "counting_sort_asc(nums_dict, result_asc, max(nums_dict))\n",
    "\n",
    "print(result_asc)"
   ]
  },
  {
   "cell_type": "code",
   "execution_count": null,
   "metadata": {},
   "outputs": [],
   "source": []
  },
  {
   "cell_type": "code",
   "execution_count": null,
   "metadata": {},
   "outputs": [],
   "source": []
  },
  {
   "cell_type": "code",
   "execution_count": null,
   "metadata": {},
   "outputs": [],
   "source": [
    "# 숫자카드\n",
    "\n",
    "T = int(input())  # 테스트케이스 개수\n",
    "\n",
    "for tc in range(1, T+1):\n",
    "    N = int(input())  # 1개의 테스트케이스 안에 N번 실행\n",
    "    numbers = input()\n",
    "\n",
    "    # 카운트배열 사용.. 등장하는 숫자의 범위가 0~9\n",
    "    # count[i]가 의미하는 것은 numbers에서 숫자 i가 등장한 횟수\n",
    "    counts = [0] * 10\n",
    "\n",
    "    for num in numbers:\n",
    "        counts[int(num)] += 1 # num이 등장한 횟수만큼 1씩 증가\n",
    "\n",
    "    # 최대 개수\n",
    "    max_count = 0\n",
    "\n",
    "    # 가장 큰 수\n",
    "    max_num = 0\n",
    "\n",
    "    # 0~9까지 숫자들 중에서 가장 자주 등장한 숫자가 무엇인가??\n",
    "    # 그리고 등장한 횟수가 같다면 그 중에 가장 큰 거 골라서 출력\n",
    "\n",
    "    for i in range(10): # 카드의 수가 0~9까지이기에 10\n",
    "        if counts[i] >= max_count: # 등호를 붙이는 이유 : 카드의 개수가 동일할 수도 있자나..\n",
    "            # 숫자 i가 지금까지 내가 알고있던 최대 횟수보다 많으면\n",
    "            # 최대값 갱신\n",
    "            max_count = counts[i]\n",
    "            # 최대 등장횟수를 가진 숫자 i 구하기\n",
    "            max_num = i\n",
    "\n",
    "    print(f'#{tc} {max_num} {max_count}')"
   ]
  },
  {
   "cell_type": "code",
   "execution_count": 2,
   "metadata": {},
   "outputs": [
    {
     "ename": "ValueError",
     "evalue": "invalid literal for int() with base 10: ''",
     "output_type": "error",
     "traceback": [
      "\u001b[1;31m---------------------------------------------------------------------------\u001b[0m",
      "\u001b[1;31mValueError\u001b[0m                                Traceback (most recent call last)",
      "Cell \u001b[1;32mIn[2], line 5\u001b[0m\n\u001b[0;32m      3\u001b[0m T \u001b[39m=\u001b[39m \u001b[39m10\u001b[39m\n\u001b[0;32m      4\u001b[0m \u001b[39mfor\u001b[39;00m tc \u001b[39min\u001b[39;00m \u001b[39mrange\u001b[39m(\u001b[39m1\u001b[39m,T\u001b[39m+\u001b[39m\u001b[39m1\u001b[39m):\n\u001b[1;32m----> 5\u001b[0m     dump \u001b[39m=\u001b[39m \u001b[39mint\u001b[39;49m(\u001b[39minput\u001b[39;49m())\n\u001b[0;32m      6\u001b[0m     box \u001b[39m=\u001b[39m \u001b[39mlist\u001b[39m(\u001b[39mmap\u001b[39m(\u001b[39mint\u001b[39m, \u001b[39minput\u001b[39m()\u001b[39m.\u001b[39msplit()))\n\u001b[0;32m      9\u001b[0m     \u001b[39mwhile\u001b[39;00m dump \u001b[39m>\u001b[39m \u001b[39m0\u001b[39m : \u001b[39m# 조건식이 True일때 계속 실행한다. while문이 왜 밖에 이\u001b[39;00m\n",
      "\u001b[1;31mValueError\u001b[0m: invalid literal for int() with base 10: ''"
     ]
    }
   ],
   "source": [
    "# flatten\n",
    "\n",
    "T = 10\n",
    "for tc in range(1,T+1):\n",
    "    dump = int(input())\n",
    "    box = list(map(int, input().split()))\n",
    "    \n",
    "    while dump > 0 : # 조건식이 True일 때, 계속 실행한다. / while문이 왜 밖에 있어? ==> 한번 dump하고 또 dump해야하자너\n",
    "        max_idx, min_idx = 0, 0 # 제일 높은, 낮은 상자가 위치가 어디인데? => ***위치를 알면*** 그것에 대한 값도 구할 수 있으므로\n",
    "        max_height, min_height = 1, 100 # 지금 가장 높은 상자, 낮은 상자의 높이의 최대, 최소값(초기 설정 값)\n",
    "\n",
    "        # 1. 최대 최소 구하기\n",
    "        for idx in range(100): # 리스트 idx == 가로 길이 100\n",
    "\n",
    "            if max_height < box[idx]: \n",
    "                max_height = box[idx] # 박스 최대 높이(값)\n",
    "                max_idx = idx         # 박스 최대값의 좌표(위치)     \n",
    "\n",
    "            if min_height > box[idx]: \n",
    "                min_height = box[idx] # 박스 최소 높이(값)\n",
    "                min_idx = idx         # 박스 최소값의 좌표(위치)\n",
    "\n",
    "        # 2. dump\n",
    "        box[max_idx] -= 1 \n",
    "        box[min_idx] += 1\n",
    "\n",
    "        if box[max_idx] - box[min_idx] <= 1:\n",
    "            break    \n",
    "\n",
    "        dump -= 1\n",
    "\n",
    "    # 평탄화 작업 끝!!\n",
    "    # 옮기기 전 높이 !=  옮긴 후 높이\n",
    "    # 마지막 부분에서 최대값과 최소값을 한번 더 구해줘야한다.\n",
    "\n",
    "\n",
    "    max_height = 0\n",
    "    min_height = 100\n",
    "\n",
    "    for i in range(100):\n",
    "        if max_height < box[i]:\n",
    "            max_height = box[i]\n",
    "        \n",
    "        if min_height > box[i]:\n",
    "            min_height = box[i]\n",
    "\n",
    "    print(f'#{tc} {max_height - min_height}') \n",
    "\n",
    "\n"
   ]
  },
  {
   "cell_type": "code",
   "execution_count": null,
   "metadata": {},
   "outputs": [],
   "source": []
  }
 ],
 "metadata": {
  "kernelspec": {
   "display_name": "Python 3",
   "language": "python",
   "name": "python3"
  },
  "language_info": {
   "codemirror_mode": {
    "name": "ipython",
    "version": 3
   },
   "file_extension": ".py",
   "mimetype": "text/x-python",
   "name": "python",
   "nbconvert_exporter": "python",
   "pygments_lexer": "ipython3",
   "version": "3.9.13"
  },
  "orig_nbformat": 4
 },
 "nbformat": 4,
 "nbformat_minor": 2
}
