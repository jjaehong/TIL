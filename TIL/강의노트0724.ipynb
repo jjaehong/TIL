{
 "cells": [
  {
   "cell_type": "markdown",
   "metadata": {},
   "source": [
    "## Data Structure(자료구조)\n",
    "\n",
    "#### 데이터 구조\n",
    "- 여러 데이터를 효과적으로 사용, 관리하기 위한 구조(str, list, dict 등)\n",
    "- 데이터 구조 활용 : 문자열, 리스트, 딕셔너리 등 각 데이터 구조의 메서드를 호출하여 다양한 기능을 활용하기\n",
    "\n",
    "![이미지](이미지/자료구조.PNG)"
   ]
  },
  {
   "cell_type": "markdown",
   "metadata": {},
   "source": [
    "#### 메서드(method)\n",
    "\n",
    "- 객체에 속한 함수 -> 객체(object)의 상태를 조작하거나 동작을 수행\n",
    "- 메서드는 클래스(class)내부에 정의되는 '함수'\n",
    "- 클래스는 **데이터 타입을 표현하는 방법**이다.\n",
    "\n",
    "- => 메서드는 클래스에 속해 있는 함수이며, 각 데이터 타입별로 다양한 기능을 가진 메서드가 존재한다."
   ]
  },
  {
   "cell_type": "code",
   "execution_count": 88,
   "metadata": {},
   "outputs": [
    {
     "name": "stdout",
     "output_type": "stream",
     "text": [
      "Help on class list in module builtins:\n",
      "\n",
      "class list(object)\n",
      " |  list(iterable=(), /)\n",
      " |  \n",
      " |  Built-in mutable sequence.\n",
      " |  \n",
      " |  If no argument is given, the constructor creates a new empty list.\n",
      " |  The argument must be an iterable if specified.\n",
      " |  \n",
      " |  Methods defined here:\n",
      " |  \n",
      " |  __add__(self, value, /)\n",
      " |      Return self+value.\n",
      " |  \n",
      " |  __contains__(self, key, /)\n",
      " |      Return key in self.\n",
      " |  \n",
      " |  __delitem__(self, key, /)\n",
      " |      Delete self[key].\n",
      " |  \n",
      " |  __eq__(self, value, /)\n",
      " |      Return self==value.\n",
      " |  \n",
      " |  __ge__(self, value, /)\n",
      " |      Return self>=value.\n",
      " |  \n",
      " |  __getattribute__(self, name, /)\n",
      " |      Return getattr(self, name).\n",
      " |  \n",
      " |  __getitem__(...)\n",
      " |      x.__getitem__(y) <==> x[y]\n",
      " |  \n",
      " |  __gt__(self, value, /)\n",
      " |      Return self>value.\n",
      " |  \n",
      " |  __iadd__(self, value, /)\n",
      " |      Implement self+=value.\n",
      " |  \n",
      " |  __imul__(self, value, /)\n",
      " |      Implement self*=value.\n",
      " |  \n",
      " |  __init__(self, /, *args, **kwargs)\n",
      " |      Initialize self.  See help(type(self)) for accurate signature.\n",
      " |  \n",
      " |  __iter__(self, /)\n",
      " |      Implement iter(self).\n",
      " |  \n",
      " |  __le__(self, value, /)\n",
      " |      Return self<=value.\n",
      " |  \n",
      " |  __len__(self, /)\n",
      " |      Return len(self).\n",
      " |  \n",
      " |  __lt__(self, value, /)\n",
      " |      Return self<value.\n",
      " |  \n",
      " |  __mul__(self, value, /)\n",
      " |      Return self*value.\n",
      " |  \n",
      " |  __ne__(self, value, /)\n",
      " |      Return self!=value.\n",
      " |  \n",
      " |  __repr__(self, /)\n",
      " |      Return repr(self).\n",
      " |  \n",
      " |  __reversed__(self, /)\n",
      " |      Return a reverse iterator over the list.\n",
      " |  \n",
      " |  __rmul__(self, value, /)\n",
      " |      Return value*self.\n",
      " |  \n",
      " |  __setitem__(self, key, value, /)\n",
      " |      Set self[key] to value.\n",
      " |  \n",
      " |  __sizeof__(self, /)\n",
      " |      Return the size of the list in memory, in bytes.\n",
      " |  \n",
      " |  append(self, object, /)\n",
      " |      Append object to the end of the list.\n",
      " |  \n",
      " |  clear(self, /)\n",
      " |      Remove all items from list.\n",
      " |  \n",
      " |  copy(self, /)\n",
      " |      Return a shallow copy of the list.\n",
      " |  \n",
      " |  count(self, value, /)\n",
      " |      Return number of occurrences of value.\n",
      " |  \n",
      " |  extend(self, iterable, /)\n",
      " |      Extend list by appending elements from the iterable.\n",
      " |  \n",
      " |  index(self, value, start=0, stop=9223372036854775807, /)\n",
      " |      Return first index of value.\n",
      " |      \n",
      " |      Raises ValueError if the value is not present.\n",
      " |  \n",
      " |  insert(self, index, object, /)\n",
      " |      Insert object before index.\n",
      " |  \n",
      " |  pop(self, index=-1, /)\n",
      " |      Remove and return item at index (default last).\n",
      " |      \n",
      " |      Raises IndexError if list is empty or index is out of range.\n",
      " |  \n",
      " |  remove(self, value, /)\n",
      " |      Remove first occurrence of value.\n",
      " |      \n",
      " |      Raises ValueError if the value is not present.\n",
      " |  \n",
      " |  reverse(self, /)\n",
      " |      Reverse *IN PLACE*.\n",
      " |  \n",
      " |  sort(self, /, *, key=None, reverse=False)\n",
      " |      Sort the list in ascending order and return None.\n",
      " |      \n",
      " |      The sort is in-place (i.e. the list itself is modified) and stable (i.e. the\n",
      " |      order of two equal elements is maintained).\n",
      " |      \n",
      " |      If a key function is given, apply it once to each list item and sort them,\n",
      " |      ascending or descending, according to their function values.\n",
      " |      \n",
      " |      The reverse flag can be set to sort in descending order.\n",
      " |  \n",
      " |  ----------------------------------------------------------------------\n",
      " |  Class methods defined here:\n",
      " |  \n",
      " |  __class_getitem__(...) from builtins.type\n",
      " |      See PEP 585\n",
      " |  \n",
      " |  ----------------------------------------------------------------------\n",
      " |  Static methods defined here:\n",
      " |  \n",
      " |  __new__(*args, **kwargs) from builtins.type\n",
      " |      Create and return a new object.  See help(type) for accurate signature.\n",
      " |  \n",
      " |  ----------------------------------------------------------------------\n",
      " |  Data and other attributes defined here:\n",
      " |  \n",
      " |  __hash__ = None\n",
      "\n"
     ]
    }
   ],
   "source": [
    "help(list) # 알고보니 list도 클래스였다.."
   ]
  },
  {
   "cell_type": "markdown",
   "metadata": {},
   "source": [
    "#### 메서드 호출 방법\n",
    "\n",
    "![이미지](이미지/메서드%20호출.PNG)\n",
    "\n"
   ]
  },
  {
   "cell_type": "markdown",
   "metadata": {},
   "source": [
    "#### 시퀀스 데이터 구조(sequence types)\n",
    "- 여러 개의 값들을 순서대로 나열하여 저장하는 자료형(str, list, tuple, range)"
   ]
  },
  {
   "cell_type": "markdown",
   "metadata": {},
   "source": [
    "#### 1. 문자열\n",
    "![이미지](이미지/문자열조회.PNG)\n",
    "\n",
    "- is~는 T/F 리턴 => ~ 여부\n"
   ]
  },
  {
   "cell_type": "code",
   "execution_count": 89,
   "metadata": {},
   "outputs": [
    {
     "name": "stdout",
     "output_type": "stream",
     "text": [
      "2\n",
      "-1\n",
      "2\n"
     ]
    },
    {
     "ename": "ValueError",
     "evalue": "substring not found",
     "output_type": "error",
     "traceback": [
      "\u001b[1;31m---------------------------------------------------------------------------\u001b[0m",
      "\u001b[1;31mValueError\u001b[0m                                Traceback (most recent call last)",
      "Cell \u001b[1;32mIn[89], line 8\u001b[0m\n\u001b[0;32m      6\u001b[0m \u001b[39m# .index(x)\u001b[39;00m\n\u001b[0;32m      7\u001b[0m \u001b[39mprint\u001b[39m(\u001b[39m'\u001b[39m\u001b[39mbanana\u001b[39m\u001b[39m'\u001b[39m\u001b[39m.\u001b[39mindex(\u001b[39m'\u001b[39m\u001b[39mn\u001b[39m\u001b[39m'\u001b[39m))\n\u001b[1;32m----> 8\u001b[0m \u001b[39mprint\u001b[39m(\u001b[39m'\u001b[39;49m\u001b[39mbanana\u001b[39;49m\u001b[39m'\u001b[39;49m\u001b[39m.\u001b[39;49mindex(\u001b[39m'\u001b[39;49m\u001b[39mz\u001b[39;49m\u001b[39m'\u001b[39;49m))\n",
      "\u001b[1;31mValueError\u001b[0m: substring not found"
     ]
    }
   ],
   "source": [
    "# .find(x)\n",
    "print('banana'.find('n'))\n",
    "print('banana'.find('z'))\n",
    "\n",
    "\n",
    "# .index(x)\n",
    "print('banana'.index('n'))\n",
    "print('banana'.index('z'))\n"
   ]
  },
  {
   "cell_type": "code",
   "execution_count": 5,
   "metadata": {},
   "outputs": [
    {
     "name": "stdout",
     "output_type": "stream",
     "text": [
      "True\n",
      "True\n",
      "True\n",
      "False\n"
     ]
    }
   ],
   "source": [
    "# .isupper(x) / .islower(x) / .isalpha(x)\n",
    "# .is~ => T/F 리턴\n",
    "\n",
    "string1 = 'HELLO'\n",
    "string2 = 'hello'\n",
    "string3 = 'hel123'\n",
    "\n",
    "print(string1.isupper()) # 모두 대문자냐?\n",
    "print(string2.islower()) # 모두 소문자냐?\n",
    "print(string3.islower())\n",
    "print(string3.isalpha()) # 모두 알파벳이냐?"
   ]
  },
  {
   "cell_type": "markdown",
   "metadata": {},
   "source": [
    "#### <span style = \"color : red\">문자열 조작 메서드</span>(새 문자열 반환)\n",
    "\n",
    "![이미지](이미지/문자열조작.PNG)\n",
    "\n",
    "- [, count] 등 : 선택인자"
   ]
  },
  {
   "cell_type": "code",
   "execution_count": 91,
   "metadata": {},
   "outputs": [
    {
     "name": "stdout",
     "output_type": "stream",
     "text": [
      "Hello, Python!\n"
     ]
    }
   ],
   "source": [
    "# .replace(old, new[, count])\n",
    "# [, count] : 선택인자 -> old에서 new로 몇개 바꿀건데?\n",
    "\n",
    "text = 'Hello, world!'\n",
    "new_text = text.replace('world', 'Python')\n",
    "print(new_text)"
   ]
  },
  {
   "cell_type": "code",
   "execution_count": 15,
   "metadata": {},
   "outputs": [
    {
     "data": {
      "text/plain": [
       "\"what the fuck, it's fuck crazy hell moments\""
      ]
     },
     "execution_count": 15,
     "metadata": {},
     "output_type": "execute_result"
    }
   ],
   "source": [
    "x = \"what the hell, it's hell crazy hell moments\"\n",
    "x.replace(\"hell\", \"fuck\", 2)"
   ]
  },
  {
   "cell_type": "code",
   "execution_count": 92,
   "metadata": {},
   "outputs": [
    {
     "name": "stdout",
     "output_type": "stream",
     "text": [
      "  H ell   o, w o r ld!   \n",
      "Hello, world!\n"
     ]
    }
   ],
   "source": [
    "# .strip([chars])\n",
    "\n",
    "print('  H ell   o, w o r ld!   ')\n",
    "text1 = '  H ell   o, w o r ld!   '\n",
    "new_text = text.strip()\n",
    "print(new_text)\n"
   ]
  },
  {
   "cell_type": "code",
   "execution_count": 93,
   "metadata": {},
   "outputs": [
    {
     "name": "stdout",
     "output_type": "stream",
     "text": [
      "['Hello', 'world!', 'im^coming']\n"
     ]
    }
   ],
   "source": [
    "### .split(sep = None, maxsplit = -1) : 분리시키기\n",
    "\n",
    "# 문자열.split(sep='구분자', maxsplit=분할횟수)\n",
    "# 문자열.split(sep, maxsplit) 함수는 문자열을 maxsplit 횟수만큼 sep의 구분자를 기준으로 문자열을 구분하여 잘라서 리스트로 만들어 줍니다.\n",
    "\n",
    "text2 = 'Hello^world!^im^coming'\n",
    "print(text2.split('^', 2))"
   ]
  },
  {
   "cell_type": "code",
   "execution_count": 94,
   "metadata": {},
   "outputs": [
    {
     "name": "stdout",
     "output_type": "stream",
     "text": [
      "Hello--world!\n"
     ]
    }
   ],
   "source": [
    "### '구분자'.join([iterable]) : 이어주기\n",
    "\n",
    "# split과 반대\n",
    "words = ['Hello', 'world!']\n",
    "text3 = '--'.join(words)\n",
    "print(text3)"
   ]
  },
  {
   "cell_type": "code",
   "execution_count": 95,
   "metadata": {},
   "outputs": [
    {
     "name": "stdout",
     "output_type": "stream",
     "text": [
      "Hello, world\n",
      "Hello, World\n",
      "HELLO, WORLD\n",
      "HeLlo, WorlD\n",
      "Hezlo, WorlD\n"
     ]
    }
   ],
   "source": [
    "text4 = 'hElLO, wORLd'\n",
    "\n",
    "print(text4.capitalize()) # capitalize()는 단어 첫글자만 대문자\n",
    "print(text4.title()) # title()은 공백 기준으로 첫 글자만 대문자\n",
    "print(text4.upper())\n",
    "print(text4.swapcase()) # swapcase()는 대소문자 서로 변경\n",
    "\n",
    "# 이어서 사용 예시\n",
    "\n",
    "new_text = text4.swapcase().replace('L', 'z')\n",
    "print(new_text)"
   ]
  },
  {
   "cell_type": "markdown",
   "metadata": {},
   "source": [
    "#### <span style = \"color : red\">리스트 메서드</span> \n",
    "\n",
    "![이미지](이미지/리스트%20추가.PNG)"
   ]
  },
  {
   "cell_type": "code",
   "execution_count": 97,
   "metadata": {},
   "outputs": [],
   "source": [
    "#### append(x)\n",
    "\n",
    "list1 = [1,2,3]"
   ]
  },
  {
   "cell_type": "code",
   "execution_count": 105,
   "metadata": {},
   "outputs": [
    {
     "name": "stdout",
     "output_type": "stream",
     "text": [
      "[1, 2, 3, 4, 5]\n",
      "[1, 2, 3, 4, 4, 5, 6]\n"
     ]
    }
   ],
   "source": [
    "#### .append(x) \n",
    "# object를 그대로 맨 뒤에 추가\n",
    "list1 = [1,2,3,4]\n",
    "list1.append(5)\n",
    "print(list1)\n",
    "\n",
    "#### .extend(iterable)\n",
    "# iterable 객체의 요소를 list에 추가함 \n",
    "list2 = [1,2,3,4]\n",
    "list2.extend([4,5,6])\n",
    "print(list2)"
   ]
  },
  {
   "cell_type": "code",
   "execution_count": null,
   "metadata": {},
   "outputs": [],
   "source": [
    "# .append 와 extend 차이\n",
    "numbers = [1,2,3]\n",
    "numbers2 = [4,5,6]\n",
    "\n",
    "\n",
    "# numbers.append(numbers2)\n",
    "# print(numbers) # [1, 2, 3, [4,5,6]]\n",
    "\n",
    "print(numbers.extend(numbers2))\n",
    "print(numbers) #[1,2,3,4,5,6]"
   ]
  },
  {
   "cell_type": "code",
   "execution_count": 111,
   "metadata": {},
   "outputs": [
    {
     "name": "stdout",
     "output_type": "stream",
     "text": [
      "[1, 5, 2, 3, 4]\n",
      "[1, 2, 3, 4]\n",
      "1\n"
     ]
    }
   ],
   "source": [
    "# .insert(i,x)\n",
    "# i 인덱스 위치에 x 삽입\n",
    "list1 = [1,2,3,4]\n",
    "list1.insert(1,5)\n",
    "print(list1)\n",
    "\n",
    "\n",
    "# remove(x)\n",
    "# x와 일치하는 첫 항목 삭제\n",
    "list1.remove(5)\n",
    "print(list1)\n",
    "\n",
    "# .index(x, start, end)\n",
    "index = list1.index(2)\n",
    "print(index) # 실수 주의 !!"
   ]
  },
  {
   "cell_type": "code",
   "execution_count": 15,
   "metadata": {},
   "outputs": [
    {
     "name": "stdout",
     "output_type": "stream",
     "text": [
      "5\n",
      "1\n",
      "[2, 3, 4]\n"
     ]
    }
   ],
   "source": [
    "#### .pop(i)\n",
    "# 리스트에서 지정한 인덱스의 항목을 제거하고 반환, 작성하지 않을 경우 마지막 항목을 제거\n",
    "# 반환이기에 복사본 출력 -> 무엇이 삭제됐는지 알 수 있음 -> 알고리즘 활용시 유용\n",
    "\n",
    "my_list = [1,2,3,4,5]\n",
    "\n",
    "item1 = my_list.pop()\n",
    "item2 = my_list.pop(0)\n",
    "\n",
    "print(item1)\n",
    "print(item2)\n",
    "print(my_list)"
   ]
  },
  {
   "cell_type": "markdown",
   "metadata": {},
   "source": [
    "![이미지](이미지/리스트%20탐색.PNG)"
   ]
  },
  {
   "cell_type": "code",
   "execution_count": 114,
   "metadata": {},
   "outputs": [
    {
     "name": "stdout",
     "output_type": "stream",
     "text": [
      "{1, 2, 3}\n",
      "4\n"
     ]
    }
   ],
   "source": [
    "# .count(x)\n",
    "# 항목 x 빈도수 반환 => 복사본 출력\n",
    "list2 = [1,1,1,1,2,3,2,2,]\n",
    "print(set(list2))\n",
    "print(list2.count(1)) "
   ]
  },
  {
   "cell_type": "code",
   "execution_count": 115,
   "metadata": {},
   "outputs": [
    {
     "name": "stdout",
     "output_type": "stream",
     "text": [
      "[2, 3, 4, 6, 8, 12, 43, 7856]\n",
      "[7856, 43, 12, 8, 6, 4, 3, 2]\n"
     ]
    }
   ],
   "source": [
    "### .sort(x)\n",
    "# 원본 리스트를 오름차순으로 정렬(반환 x) => 복사본이 아닌 원본이 변경\n",
    "my_list3 = [8,6,4,2,3,7856,43,12]\n",
    "my_list3.sort()\n",
    "print(my_list3)\n",
    "\n",
    "\n",
    "# 내림차순\n",
    "my_list3.sort(reverse=True)\n",
    "print(my_list3) "
   ]
  },
  {
   "cell_type": "code",
   "execution_count": 118,
   "metadata": {},
   "outputs": [
    {
     "name": "stdout",
     "output_type": "stream",
     "text": [
      "None\n",
      "[2, 3, 4, 6, 8, 12, 43, 7856]\n",
      "[2, 3, 4, 6, 8, 12, 43, 7856]\n"
     ]
    }
   ],
   "source": [
    "\n",
    "# sort 메서드\n",
    "print(my_list3.sort()) # None => 복사본을 만들지 않고 원본을 수정함\n",
    "print(my_list3)\n",
    "\n",
    "# sorted 내장함수\n",
    "print(sorted(my_list3)) # 복사본을 만듦."
   ]
  },
  {
   "cell_type": "code",
   "execution_count": 37,
   "metadata": {},
   "outputs": [
    {
     "name": "stdout",
     "output_type": "stream",
     "text": [
      "[1, 2, 3, 4, 5, 6]\n",
      "['a', 'b', 'n', 'w', 'z', '가', '다', '하']\n",
      "['A', 'a', 'b', 'c']\n",
      "('c', 3)\n",
      "('b', 10)\n",
      "('a', 5)\n",
      "('A', 8)\n",
      "[('c', 3), ('a', 5), ('A', 8), ('b', 10)]\n",
      "[('c', 3), ('a', 5), ('A', 8), ('b', 10)]\n"
     ]
    }
   ],
   "source": [
    "# sorted()의 결과는 리스트로 나온다.\n",
    "\n",
    "tup = (3,4,5,6,2,1)\n",
    "print(sorted(tup))\n",
    "\n",
    "string1 = \"하가다anbwz\"\n",
    "print(sorted(string1)) \n",
    "\n",
    "dic = {\"c\" : 3, \"b\" : 10, \"a\" : 5, \"A\" : 8}\n",
    "print(sorted(dic)) # 그냥 정렬하면 키 값만 꺼내옴\n",
    "\n",
    "# ex) 딕셔너리를 정렬하고 싶은데 키가 아니라 값을 기준으로 정렬하고 싶다.\n",
    "# \"c\" : 3, \"a\" : 5, \"b\" :10\n",
    "\n",
    "def sort_key(item):\n",
    "    # 키뿐만 아니라 value 또한 정렬하고 싶기에 \n",
    "    print(item)\n",
    "    return item[1] # 정렬기준을 return / [0]: key기준 정렬 / [1]: value기준 정렬\n",
    "\n",
    "print(sorted(dic.items(),key=sort_key)) # key 인자는 정렬방법을 서술할 함수\n",
    "print(sorted(dic.items(), key = lambda item: item[1]))"
   ]
  },
  {
   "cell_type": "code",
   "execution_count": 120,
   "metadata": {},
   "outputs": [
    {
     "name": "stdout",
     "output_type": "stream",
     "text": [
      "[9, 1, 8, 2, 3, 1]\n"
     ]
    }
   ],
   "source": [
    "### .reverse()\n",
    "# 역순으로 변경(정렬 X) => 거꾸로 나열\n",
    "\n",
    "my_list4 = [1,3,2,8,1,9]\n",
    "my_list4.reverse()\n",
    "print(my_list4)"
   ]
  },
  {
   "cell_type": "code",
   "execution_count": 21,
   "metadata": {},
   "outputs": [
    {
     "name": "stdout",
     "output_type": "stream",
     "text": [
      "[100, 2, 3]\n",
      "[1, 2, 3]\n"
     ]
    }
   ],
   "source": [
    "numbers = [1,2,3]\n",
    "\n",
    "# 1. 할당\n",
    "list1 = numbers\n",
    "\n",
    "# 2. 슬라이싱\n",
    "list2 = numbers[:]\n",
    "\n",
    "\n",
    "# quiz\n",
    "numbers[0] = 100\n",
    "print(list1)\n",
    "print(list2)\n"
   ]
  },
  {
   "cell_type": "code",
   "execution_count": null,
   "metadata": {},
   "outputs": [],
   "source": [
    "# isdecimal() ⊂ isdigit() ⊂ isnumeric()"
   ]
  }
 ],
 "metadata": {
  "kernelspec": {
   "display_name": "Python 3",
   "language": "python",
   "name": "python3"
  },
  "language_info": {
   "codemirror_mode": {
    "name": "ipython",
    "version": 3
   },
   "file_extension": ".py",
   "mimetype": "text/x-python",
   "name": "python",
   "nbconvert_exporter": "python",
   "pygments_lexer": "ipython3",
   "version": "3.9.13"
  },
  "orig_nbformat": 4
 },
 "nbformat": 4,
 "nbformat_minor": 2
}
