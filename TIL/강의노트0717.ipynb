{
 "cells": [
  {
   "cell_type": "markdown",
   "metadata": {},
   "source": [
    "# 프로그래밍이란?\n",
    "\n",
    "- 명령어들의 집합"
   ]
  },
  {
   "cell_type": "markdown",
   "metadata": {},
   "source": [
    "- 프로그래밍 핵심 : 새 연산을 정의하고 조합해 유용한 작업을 수행하는 것\n",
    "\n",
    "- <span style='color:red'>'문제를 해결'</span>하는 매우 강력한 방법 "
   ]
  },
  {
   "cell_type": "markdown",
   "metadata": {},
   "source": [
    "# 파이썬\n",
    "\n",
    "\n",
    "## 표현식과 값\n",
    "1. 표현식(Expression) \n",
    "- 값, 변수, 연산자 등을 조합하여 계산되고 결과를 내는 코드 구조\n",
    "- 표현식이 평가되어 값이 반환됨\n",
    "- ex) 'hello' / greeting = 'hi' / 5*21 - 4\n",
    "\n",
    "\n",
    "2. 평가(Evaluate)\n",
    "- 표현식이나 문장을 실행하여 그 결과를 계싼하고 값을 결정하는 과정\n",
    "- 표현식이나 문장을 <span style='color:red'>순차적으로</span> 평가하여 프로그램의 동작을 결정\n",
    "\n",
    "3. 문장(statement)\n",
    "- 실행 가능한 동작을 기술하는 코드\n",
    "- ex) 조건문, 반복문, 함수 정의 등"
   ]
  },
  {
   "cell_type": "markdown",
   "metadata": {},
   "source": [
    "## 타입(Type)\n",
    "- 값이 **어떤 종류의 데이터**인지, 어떻게 해석되고 처리되어야 하는지를 정의\n",
    "\n",
    "<span style='color : red'> 1. 데이터 타입</span>\n",
    "- Numeric type : int, float\n",
    "\n",
    "- Sequence types : list, tuple, range\n",
    "\n",
    "- Text Sequence type : str(문자열)\n",
    "\n",
    "- Set types : set\n",
    "\n",
    "- Mapping types : dict\n",
    "\n",
    "- 기타 : None. Boolean, Functions"
   ]
  },
  {
   "cell_type": "markdown",
   "metadata": {},
   "source": [
    "#### 연산자 우선순위\n",
    "| 우선순위 | 연산자         | 연산                   |\n",
    "|:----:|:-----------:|:--------------------:|\n",
    "| 높음   | **          | 지수                   |\n",
    "|      | -           | 음수 부호                |\n",
    "|      | *, /, //, % | 곱셈, 나눗셈, 정수 나눗셈, 나머지 |\n",
    "| 낮음   | +, -        | 덧셈, 뺄셈               |\n",
    "\n",
    "\n"
   ]
  },
  {
   "cell_type": "markdown",
   "metadata": {},
   "source": [
    "## 변수와 메모리(\"값이 저장되는 법\")\n",
    "\n",
    "1. 변수(variable)\n",
    "- 값을 변수에 할당한다/ 값이 변수에 담겨있다.\n",
    "\n",
    "2. 변수, 값, 메모리\n",
    "- 거리에 집 주소 있듯이..\n",
    "메모리의 모든 위치에는 그 위치를 고유하게 식별하는\n",
    "메모리 주소가 존재\n",
    "\n",
    "- 객체(object)\n",
    ": 타입을 갖는 메모리 주소 내 값\n",
    "\"값이 들어있는 상자\"\n",
    "degree = 36.5"
   ]
  },
  {
   "cell_type": "code",
   "execution_count": null,
   "metadata": {},
   "outputs": [],
   "source": [
    "# 키워드가 궁금해?\n",
    "import keyword\n",
    "\n",
    "print(keyword.kwlist)\n",
    "print()"
   ]
  },
  {
   "cell_type": "markdown",
   "metadata": {},
   "source": [
    "![이미지](/변수재할당.PNG)\n",
    "\n",
    "#### 실행해보기\n",
    "number = 10\n",
    "double = 2 * number\n",
    "print(double)\n",
    "number = 5\n",
    "print(double)"
   ]
  },
  {
   "cell_type": "markdown",
   "metadata": {},
   "source": [
    "## 파이썬 Style Guide\n",
    "- 보기 편하게 바꿔라(상대방 배려)\n",
    "\n",
    "### 변수명 설정\n",
    "- 변수명은 무엇을 위한 변수인지 직관적인 이름을 가져아 함\n",
    "- is_변수 : True/False로 나뉨\n",
    "- 대문자 => 고정값(시간 예시)\n",
    "\n",
    "seconds = 60 => SECONDS\n",
    "\n",
    "minute = 60 => MINUTE\n",
    "\n",
    "hours = 24 => HOURS\n",
    "\n"
   ]
  },
  {
   "cell_type": "markdown",
   "metadata": {},
   "source": [
    "## 파이썬반 불안요소\n",
    "\n",
    "불안감..\n",
    "-> java 해야되나?, 다른 언어 뭐해야되나?\n",
    "-> 흔드는 외부요인들(출처가 불명확한..)\n",
    "\n",
    "# <span style='color : red'>**1 가지 메인 언어를 잘해놔야합니다.**</span>\n",
    "\n",
    "실제 데이터들\n",
    "파이썬을 잘하는 학생들은 다양한 분야에서\n",
    "다양한 프로그래밍언어를 사용하여 사회생활\n",
    "\n",
    "파이썬 -> 파이썬 사용 기업? : NO\n",
    "내가 원하는 기업에서 사용하는 언어와 툴이 있음..\n",
    "\n",
    "면접관 입장 : 파이썬으로 이정도의 문제해결력? 이해도?\n",
    "-> 다른 프로그래밍언어 똑같이 금방 이해하고 다루겠다.\n",
    "\n",
    "파이썬으로 알고리즘을 푸는건\n",
    "다른 언어로 푸는것보다 조금이라도\n",
    "유리한 위치에서 시작하는 것이다.\n",
    "\n",
    "우리는 파이썬을 배우고 있지만\n",
    "프로그래밍 언어 전반에 관해 배우고 있는 것!\n",
    "\n",
    "능력있는 시니어 개발자 : 한 언어에 대해 굉장한 이해도를 갖고 있다면, 다른 언어로 이동할 때 스무스하게 이동함."
   ]
  },
  {
   "cell_type": "markdown",
   "metadata": {},
   "source": [
    "# 자습노트\n",
    "\n",
    "### 1. escape sequence : \\\n",
    "\n",
    "print(\"ssdafaf \\\"asaff.\")\n",
    "\n",
    "print(\"죽는날 까지 하늘을 우러러\\n한점 부끄럼이 없기를\\n잎새에 이는 바람에도\\n나는 괴로워 했다.\")\n"
   ]
  },
  {
   "cell_type": "markdown",
   "metadata": {},
   "source": [
    "### 2. 문자열 포맷팅\n",
    "- 문자열 내에 사용된 문자열 표시 유형(문자열 포맷 코드)을 특정 값으로 변경하는 기법\n",
    "\n",
    "ⓐ %-포맷팅\n",
    "- % : 문자 자체를 출력\n",
    "- %d : 10진 정수로 출력\n",
    "\n",
    "ex) print(\"%d 점은 상위 %d%%에 속합니다.\" %(98,1))\n",
    "\n",
    "ⓑ str.format() 함수\n",
    "\n",
    "ex) print(\"이름: {}, 나이: {} 세\".format(\"홍길동\", 20))"
   ]
  },
  {
   "cell_type": "markdown",
   "metadata": {},
   "source": [
    "### 3. 변수 (변수명 = 값)\n",
    "- 어떠한 값을 저장하는 그릇\n",
    "\n",
    "\n",
    "### 4. Bool\n",
    "- 참, 거짓을 판단하는 표현식에 사용하는 자료형\n",
    "- True 와 False 값을 가짐\n",
    "- 관계 연산자, 논리 연산자를 사용하는 표현식이 Bool값 반환\n",
    "\n",
    "ex) 관계연산\n",
    "num1,num2 = 10, 20\n",
    "num1 < num2\n",
    "num1 > num2\n",
    "\n",
    "ex) 논리연산\n",
    "under18 = False\n",
    "male = True\n",
    "under18 and male\n",
    "\n",
    "if under18:\n",
    "    print(\"미성년자입니다.\")\n",
    "else:\n",
    "    print(\"성년입니다.\")"
   ]
  },
  {
   "cell_type": "markdown",
   "metadata": {},
   "source": [
    "### 5. 다른 자료형\n",
    "\n",
    "tuple() => 수정 불가\n",
    "\n",
    "list[] => 수정 가능\n",
    "\n",
    "set{} => 중복 허용 X\n",
    "\n",
    "dictionary{} => {key : value}\n",
    "\n",
    "None =>  null 객체상태를 표현함(객체가 존재하지 않는 상태 표현)\n",
    "\n",
    "- 어떤 변수에 어떤 값도 저장하고 싶지 않을 때 사용"
   ]
  }
 ],
 "metadata": {
  "kernelspec": {
   "display_name": "Python 3",
   "language": "python",
   "name": "python3"
  },
  "language_info": {
   "codemirror_mode": {
    "name": "ipython",
    "version": 3
   },
   "file_extension": ".py",
   "mimetype": "text/x-python",
   "name": "python",
   "nbconvert_exporter": "python",
   "pygments_lexer": "ipython3",
   "version": "3.9.13"
  },
  "orig_nbformat": 4
 },
 "nbformat": 4,
 "nbformat_minor": 2
}
