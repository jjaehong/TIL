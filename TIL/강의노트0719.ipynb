{
 "cells": [
  {
   "cell_type": "markdown",
   "metadata": {},
   "source": [
    "# 함수(function)\n",
    "- 특정 작업을 수행하기 위한 재사용 가능한 코드 묶음\n",
    "- 함수 사용 이유 : 재사용성이 높아지고, 코드의 가독성과 유지보수성 향상\n",
    "\n",
    "#### 내장 함수\n",
    "- 파이썬이 기본적으로 제공하는 함수(별도의 import 없이 바로 사용가능)\n",
    "\n",
    "ex) 파이썬 자습서 : https://docs.python.org/ko/3/tutorial/index.html \n",
    "- abs() : 절댓값 만들기\n",
    "- map(function, iterable) : (함수, 반복가능한 객체) : 순회 가능한 데이터구조(iterable)의 모든 요소에 함수를 적용하고, 그 결과를 map object로 반환\n",
    "- zip(*iterables) : 임의의 iterable을 모아 튜플을 원소로 하는 zip object를 반환\n",
    "- lambda()\n",
    "\n",
    "\n",
    "#### 함수 호출\n",
    "- 함수를 실행하기 위해 함수의 이름을 사용하여 해당 함수의 코드 블록을 실행하는 것\n",
    "\n",
    "\n",
    "#### 함수 구조\n",
    "![이미지](이미지/함수구조.png)\n",
    "\n",
    "- input = parameter = 매개변수 \n",
    "- output = return value = 반환값 \n",
    "\n"
   ]
  },
  {
   "cell_type": "code",
   "execution_count": 27,
   "metadata": {},
   "outputs": [
    {
     "name": "stdout",
     "output_type": "stream",
     "text": [
      "hello,jjaehong\n",
      "happy to meet you\n"
     ]
    }
   ],
   "source": [
    "# 함수 정의\n",
    "def greet(name, happy): # 함수 정의 : def 키워드 / 함수 이름 /(매개변수,파라미터)/ :\n",
    "    \"\"\" 입력된 이름 값에   \n",
    "    인사를 하는 메세지를 만드는 함수\n",
    "    \"\"\"\n",
    "    message = 'hello,' + name + '\\n' + happy # # 함수 body : 함수가 실행될 때 수행되는 코드를 정의\n",
    "    return message # 반환 값 : return 키워드 이후 반환값 명시 /return문은 함수의 실행을 종료하고, 결과를 호출부분으로 반환\n",
    "\n",
    "\n",
    "# 함수 호출\n",
    "result = greet('jjaehong', 'happy to meet you') # 함수의 이름과 필요한 인자(argument)를 전달\n",
    "print(result) # 전달된 인자는 함수 정의 시 작성한 매개변수에 대입됨\n",
    "\n",
    "# 만약 반환 값이 없다면 return이 0이라면, result = None이 된다."
   ]
  },
  {
   "cell_type": "markdown",
   "metadata": {},
   "source": [
    "#### 매개변수와 인자\n",
    "- 매개변수(parameter) : 함수를 **정의**할 때, 함수가 받을 값을 나타내는 변수 / x 변수\n",
    "- 인자(argument) : 함수를 **호출**할 때, 실제로 전달되는 값 / x에 뭐 넣을건데?\n",
    "\n",
    "- ex) 위의 함수에서 name => 매개변수 // jjaehong => 인자"
   ]
  },
  {
   "cell_type": "markdown",
   "metadata": {},
   "source": [
    "#### 인자(arg)의 종류\n",
    "\n",
    "1. 위치 인자(positioned argument)\n",
    "\n",
    "2. 기본 인자 값(default argument)\n",
    "\n",
    "3. 키워드 인자(keywords argument)"
   ]
  },
  {
   "cell_type": "code",
   "execution_count": 10,
   "metadata": {},
   "outputs": [
    {
     "name": "stdout",
     "output_type": "stream",
     "text": [
      "안녕하세요, 현지님!, 24살이시군요!!\n"
     ]
    }
   ],
   "source": [
    "# 위치 인자(positional arguments)\n",
    "# 함수 호출 시 인자의 위치에 따라 전달되는 인자\n",
    "def greeting(name, age):\n",
    "    print(f'안녕하세요, {name}님!, {age}살이시군요!!')\n",
    "\n",
    "greeting('현지', 24) # 위치 인자는 함수 호출 시 반드시 값을 전달해야함"
   ]
  },
  {
   "cell_type": "code",
   "execution_count": 29,
   "metadata": {},
   "outputs": [
    {
     "name": "stdout",
     "output_type": "stream",
     "text": [
      "안녕하세요, Bravo님!, 30살이시군요!!\n",
      "안녕하세요, Charile님!, 45살이시군요!!\n"
     ]
    }
   ],
   "source": [
    "# 기본 인자 값(Default Argument Values)\n",
    "\n",
    "def greeting(name, age = 30): # 기본값 설정\n",
    "    print(f'안녕하세요, {name}님!, {age}살이시군요!!')\n",
    "\n",
    "greeting('Bravo') # 함수 호출 시 인자를 전달하지 않으면, 기본값이 매개변수에 할당됨\n",
    "greeting('Charile', 45) "
   ]
  },
  {
   "cell_type": "code",
   "execution_count": 30,
   "metadata": {},
   "outputs": [
    {
     "name": "stdout",
     "output_type": "stream",
     "text": [
      "안녕하세요, jjaehong님!, 27살이시군요!!\n"
     ]
    }
   ],
   "source": [
    "# 키워드 인자(keyword Argumnets)\n",
    "# 함수 호출 시 인자의 이름과 함께 값을 전달하는 인자\n",
    "# 매개변수와 인자를 일치시키지 않고, 특정 매개변수에 값을 할당할 수 있음\n",
    "def greeting(name, age):\n",
    "    print(f'안녕하세요, {name}님!, {age}살이시군요!!')\n",
    "\n",
    "greeting(name = 'jjaehong', age = 27) # 단, 키워드 인자는 위치인자 뒤에 위치해야함."
   ]
  },
  {
   "cell_type": "code",
   "execution_count": 14,
   "metadata": {},
   "outputs": [
    {
     "name": "stdout",
     "output_type": "stream",
     "text": [
      "(1, 2, 3, 5)\n",
      "합계는 : 11\n"
     ]
    }
   ],
   "source": [
    "# 임의의 인자 목록(*) => 매개변수를 몇 개 쓸지 모르니까 임의의 인자쓰고,,호출 시 여러 개의 인자를 마음껏 사용가능\n",
    "# arbitrary argument lists\n",
    "# 정해지지 않은 개수의 인자를 처리하는 인자(리스트, 등등)\n",
    "# 함수 정의 시 매개변수 앞에 '*'를 붙여 사용하며, 여러 개의 인자를 tuple로 처리\n",
    "def calculate_sum(*args):\n",
    "    print(args)\n",
    "    total = sum(args)\n",
    "    print(f'합계는 : {total}')\n",
    "\n",
    "calculate_sum(1,2,3,5)"
   ]
  },
  {
   "cell_type": "code",
   "execution_count": 15,
   "metadata": {},
   "outputs": [
    {
     "name": "stdout",
     "output_type": "stream",
     "text": [
      "{'name': 'Delta', 'age': 20}\n"
     ]
    }
   ],
   "source": [
    "# 임의의 키워드 인자 목록(**)\n",
    "# 함수 정의 시 매개변수 앞에 '**'를 붙여 사용하며, 여러 개의 인자를 dictionary로 묶어 처리\n",
    "\n",
    "def info(**kwargs):\n",
    "    print(kwargs)\n",
    "\n",
    "info(name = 'Delta', age = 20)"
   ]
  },
  {
   "cell_type": "markdown",
   "metadata": {},
   "source": [
    "#### 함수 인자 권장 작성순서\n",
    "\n",
    "![이미지](이미지/함수인자.png)"
   ]
  },
  {
   "cell_type": "markdown",
   "metadata": {},
   "source": [
    "#### 함수와 범위(scope)\n",
    "\n",
    "![이미지](이미지/함수scope.PNG)\n",
    "- 함수 내(local)에서는 바깥 scope의 변수에 접근 가능하나 수정은 할 수 없음\n",
    "\n",
    "#### 변수 수명주기(life cycle)\n",
    "- 1. local scope : 지역 범위(현재 작업 중인 범위) /  함수가 호출될 때 생성되고, 함수가 종료될 때까지 유지  \n",
    "- 2. Enclosed scope : 지역 범위 한 단계 위 범위 \n",
    "- 3. global scope 최상단에 위치한 범위 / 모듈이 호출된 시점 이후 혹은 인터프리터가 끝날 때까지 유지\n",
    "- 4. built-in scope : 모든 것을 담고 있는 가장 큰 범위 / 파이썬이 실행된 이후부터 영원히 유지"
   ]
  },
  {
   "cell_type": "code",
   "execution_count": 37,
   "metadata": {},
   "outputs": [
    {
     "name": "stdout",
     "output_type": "stream",
     "text": [
      "10 2 500\n",
      "10 2 3\n",
      "1 2\n"
     ]
    }
   ],
   "source": [
    "#### LEGB rule 예시\n",
    "\n",
    "# 변수가 상위 scope로는 찾으러 갈 순 있으나, 하위 scope로는 찾으러 가진 않음\n",
    "# 함수 내에서는 바깥 scope의 변수에 접근 가능하나 수정은 할 수 없음\n",
    "\n",
    "a = 1 # global scope\n",
    "b = 2\n",
    "\n",
    "\n",
    "def enclosed():\n",
    "    a = 10\n",
    "    c = 3\n",
    "\n",
    "    def local(c):\n",
    "        print(a, b, c)  # a는 상위scope 출력, b를 출력하기 위해 더 상위scope로 감, c는 ?\n",
    "\n",
    "    local(500) # local을 실행. c = 500\n",
    "    print(a, b, c)  # a는\n",
    "\n",
    "\n",
    "enclosed()\n",
    "print(a, b)  # a,b는 global 영역에서 찾음"
   ]
  },
  {
   "cell_type": "code",
   "execution_count": 48,
   "metadata": {},
   "outputs": [
    {
     "name": "stdout",
     "output_type": "stream",
     "text": [
      "함수 실행 : num을 20으로 바꿨다\n",
      "10\n"
     ]
    }
   ],
   "source": [
    "# global 키워드\n",
    "# 변수의 스코프를 전역 범위로 지정하기 위해 사용\n",
    "# global이 필요한 경우 : 변경 불가능한 것들을 변경할 때 - 숫자(?), string, tuple\n",
    "# global 키워드 필요 없는 경우 : list나 dict 등 변경가능한 것들을 변경할 때\n",
    "\n",
    "\n",
    "# myfunc 안의 num은 20/ global의 num은 10\n",
    "num = 10\n",
    "\n",
    "def myfunc():\n",
    "    num = 20\n",
    "    print(\"함수 실행 : num을 20으로 바꿨다\")\n",
    "\n",
    "myfunc()\n",
    "\n",
    "print(num)"
   ]
  },
  {
   "cell_type": "code",
   "execution_count": 47,
   "metadata": {},
   "outputs": [
    {
     "name": "stdout",
     "output_type": "stream",
     "text": [
      "함수 실행 : num을 20으로 바꿨다\n",
      "20\n"
     ]
    }
   ],
   "source": [
    "# myfunc안에 global을 씀으로써 수정함.\n",
    "num = 10\n",
    "def myfunc():\n",
    "    global num\n",
    "    num = 20\n",
    "    print(\"함수 실행 : num을 20으로 바꿨다\")\n",
    "\n",
    "myfunc()\n",
    "\n",
    "print(num)\n"
   ]
  },
  {
   "cell_type": "markdown",
   "metadata": {},
   "source": [
    "##### ※ global 키워드는 가급적 사용하지 않는 것을 권장(실무에서)\n",
    "=> 알고리즘 쓸때는 편함 ㅋㅋ\n",
    "##### ※ 함수로 값을 바꾸고자 한다면 항상 인자로 넘기고 함수의 반환 값을 사용하는 것을 권장"
   ]
  },
  {
   "cell_type": "markdown",
   "metadata": {},
   "source": [
    "#### 재귀함수\n",
    "- **함수 내부에서 자기 자신을 호출하는 함수**\n",
    "- 특정 알고리즘 식을 표현할 때 변수의 사용이 줄어들며, 코드의 가독성이 높아짐\n",
    "- 무한호출 발생가능성... => 1개 이상의 base case(종료되는 상황)가 존재하고, 종료에 수렴하도록 작성\n",
    "\n",
    "![이미지](이미지/팩토리얼.PNG)\n",
    "![이미지](이미지/팩토리얼2.PNG)``\n",
    "\n",
    "- ※ 재귀함수는\n",
    "- 1. 종료조건을 명확히\n",
    "- 2. 반복되는 호출이 종료 조건을 향하도록"
   ]
  },
  {
   "cell_type": "code",
   "execution_count": 23,
   "metadata": {},
   "outputs": [
    {
     "name": "stdout",
     "output_type": "stream",
     "text": [
      "24\n"
     ]
    }
   ],
   "source": [
    "def factorial(n):\n",
    "    if n == 0:\n",
    "        return 1\n",
    "    return n*factorial(n-1)\n",
    "\n",
    "result = factorial(4)\n",
    "print(result)"
   ]
  },
  {
   "cell_type": "markdown",
   "metadata": {},
   "source": [
    "#### 유용한 내장함수\n",
    "\n",
    "##### map(function, iterable) : (함수, 반복가능한 객체)\n",
    "- 순회 가능한 데이터구조(iterable)의 모든 요소에 함수를 적용하고, 그 결과를 map object로 반환\n",
    "\n"
   ]
  },
  {
   "cell_type": "code",
   "execution_count": 3,
   "metadata": {},
   "outputs": [
    {
     "name": "stdout",
     "output_type": "stream",
     "text": [
      "<map object at 0x000001B2A30CAB60>\n",
      "['1', '2', '3']\n",
      "[1, 8, 27]\n"
     ]
    }
   ],
   "source": [
    "# map(적용시킬 함수,iterable) 효과\n",
    "# 반복연산을 수행해주는 파이썬 내장함수(for문 비슷)\n",
    "# iterable을 받아서 각 요소에 함수를 적용해줌\n",
    "\n",
    "numbers = [1,2,3]\n",
    "\n",
    "result = map(str, numbers)\n",
    "result2 = list(map(lambda x:x**3,numbers))\n",
    "print(result)\n",
    "print(list(result))\n",
    "print(result2)"
   ]
  },
  {
   "cell_type": "code",
   "execution_count": 52,
   "metadata": {},
   "outputs": [
    {
     "name": "stdout",
     "output_type": "stream",
     "text": [
      "['1', '2', '3']\n"
     ]
    }
   ],
   "source": [
    "# 위의 map과 동일한 효과\n",
    "numbers = [1,2,3]\n",
    "\n",
    "result = []\n",
    "for number in numbers:\n",
    "    result.append(str(number))\n",
    "\n",
    "print(result)"
   ]
  },
  {
   "cell_type": "code",
   "execution_count": 1,
   "metadata": {},
   "outputs": [
    {
     "name": "stdout",
     "output_type": "stream",
     "text": [
      "[2, 4, 6, 8, 10]\n"
     ]
    }
   ],
   "source": [
    "# filter(조건함수,iterable)\n",
    "# 특정 조건으로 걸러진 요소들로 iterable 객체를 만들어서 리턴해준다.\n",
    "\n",
    "target = [1, 2, 3, 4, 5, 6, 7, 8, 9, 10]\n",
    "result = filter(lambda x : x%2==0, target)\n",
    "print(list(result))"
   ]
  },
  {
   "cell_type": "code",
   "execution_count": 61,
   "metadata": {},
   "outputs": [
    {
     "name": "stdout",
     "output_type": "stream",
     "text": [
      "<zip object at 0x0000018C3EC83640>\n",
      "[('재홍', 27, '전주'), ('찰리', 25, '뉴욕'), ('알파', 63, '파리')]\n"
     ]
    }
   ],
   "source": [
    "# zip(*iterables)\n",
    "# 임의의 iterable을 모아 튜플을 원소로 하는 zip object를 반환\n",
    "\n",
    "names = ['재홍','찰리', '알파']\n",
    "ages = [27,25,63]\n",
    "cities = ['전주', '뉴욕', '파리']\n",
    "\n",
    "informations = zip(names,ages,cities)\n",
    "    \n",
    "print(informations)\n",
    "print(list(informations))"
   ]
  },
  {
   "cell_type": "code",
   "execution_count": null,
   "metadata": {},
   "outputs": [],
   "source": []
  },
  {
   "cell_type": "markdown",
   "metadata": {},
   "source": [
    "#### lambda 함수\n",
    "- 이름 없이 정의되고 사용되는 익명 함수\n",
    "\n",
    "![이미지](이미지/lambda1.PNG)\n",
    "![이미지](이미지/lambda2.PNG)"
   ]
  },
  {
   "cell_type": "code",
   "execution_count": 63,
   "metadata": {},
   "outputs": [
    {
     "name": "stdout",
     "output_type": "stream",
     "text": [
      "[2, 4, 6, 8, 10]\n"
     ]
    }
   ],
   "source": [
    "# map + lambda\n",
    "numbers =[1,2,3,4,5]\n",
    "result = list(map(lambda x: x * 2, numbers))\n",
    "print(result)"
   ]
  },
  {
   "cell_type": "code",
   "execution_count": 64,
   "metadata": {},
   "outputs": [
    {
     "name": "stdout",
     "output_type": "stream",
     "text": [
      "[1, 2, 3, 4, 5, 1, 2, 3, 4, 5]\n"
     ]
    }
   ],
   "source": [
    "numbers =[1,2,3,4,5]\n",
    "print(numbers*2)"
   ]
  },
  {
   "cell_type": "markdown",
   "metadata": {},
   "source": [
    "#### 패킹 & 언패킹\n",
    "\n",
    "![이미지](이미지/패킹언패킹.PNG)"
   ]
  },
  {
   "cell_type": "code",
   "execution_count": null,
   "metadata": {},
   "outputs": [],
   "source": [
    "# 패킹\n",
    "numbers = [1,2,3,4,5]\n",
    "a, b, *c = numbers\n",
    "\n",
    "print(a,b,c)"
   ]
  },
  {
   "cell_type": "markdown",
   "metadata": {},
   "source": [
    "#### 모듈(module) => 파일\n",
    "- 한 **파일**로 묶인 변수와 함수의 모음\n",
    "- 특정한 기능을 하는 코드가 작성된 파이썬 파일(.py)\n",
    "- ex) math : 수학 관련 변수,함수 모듈\n",
    "\n",
    "#### 패키지(package) => 폴더\n",
    "- 관련된 모듈들을 하나의 **디렉토리**의 모아놓은 것\n",
    "- 사용 목적 : 모듈들의 이름공간은 구분하여 충돌을 방지\n",
    "- 모듈들을 효율적으로 관리하고 재사용할 수 있도록 돕는 역할\n",
    "- 내부 패키지 : import해서 사용\n",
    "\n",
    "#### 외부패키지 사용\n",
    "- pip install 패키지명\n",
    "- pip 이후 import\n",
    "- http://pypi.org/"
   ]
  },
  {
   "cell_type": "code",
   "execution_count": 33,
   "metadata": {},
   "outputs": [],
   "source": [
    "# 외부 패키지 예시 : requests\n",
    "# pip install requests\n",
    "import requests\n",
    "import pprint\n",
    "\n",
    "# url = 'url주소'\n",
    "# response =  requests.get(url).json"
   ]
  },
  {
   "cell_type": "code",
   "execution_count": 29,
   "metadata": {},
   "outputs": [
    {
     "name": "stdout",
     "output_type": "stream",
     "text": [
      "3.141592653589793\n",
      "4.0\n",
      "Help on built-in module math:\n",
      "\n",
      "NAME\n",
      "    math\n",
      "\n",
      "DESCRIPTION\n",
      "    This module provides access to the mathematical functions\n",
      "    defined by the C standard.\n",
      "\n",
      "FUNCTIONS\n",
      "    acos(x, /)\n",
      "        Return the arc cosine (measured in radians) of x.\n",
      "        \n",
      "        The result is between 0 and pi.\n",
      "    \n",
      "    acosh(x, /)\n",
      "        Return the inverse hyperbolic cosine of x.\n",
      "    \n",
      "    asin(x, /)\n",
      "        Return the arc sine (measured in radians) of x.\n",
      "        \n",
      "        The result is between -pi/2 and pi/2.\n",
      "    \n",
      "    asinh(x, /)\n",
      "        Return the inverse hyperbolic sine of x.\n",
      "    \n",
      "    atan(x, /)\n",
      "        Return the arc tangent (measured in radians) of x.\n",
      "        \n",
      "        The result is between -pi/2 and pi/2.\n",
      "    \n",
      "    atan2(y, x, /)\n",
      "        Return the arc tangent (measured in radians) of y/x.\n",
      "        \n",
      "        Unlike atan(y/x), the signs of both x and y are considered.\n",
      "    \n",
      "    atanh(x, /)\n",
      "        Return the inverse hyperbolic tangent of x.\n",
      "    \n",
      "    cbrt(x, /)\n",
      "        Return the cube root of x.\n",
      "    \n",
      "    ceil(x, /)\n",
      "        Return the ceiling of x as an Integral.\n",
      "        \n",
      "        This is the smallest integer >= x.\n",
      "    \n",
      "    comb(n, k, /)\n",
      "        Number of ways to choose k items from n items without repetition and without order.\n",
      "        \n",
      "        Evaluates to n! / (k! * (n - k)!) when k <= n and evaluates\n",
      "        to zero when k > n.\n",
      "        \n",
      "        Also called the binomial coefficient because it is equivalent\n",
      "        to the coefficient of k-th term in polynomial expansion of the\n",
      "        expression (1 + x)**n.\n",
      "        \n",
      "        Raises TypeError if either of the arguments are not integers.\n",
      "        Raises ValueError if either of the arguments are negative.\n",
      "    \n",
      "    copysign(x, y, /)\n",
      "        Return a float with the magnitude (absolute value) of x but the sign of y.\n",
      "        \n",
      "        On platforms that support signed zeros, copysign(1.0, -0.0)\n",
      "        returns -1.0.\n",
      "    \n",
      "    cos(x, /)\n",
      "        Return the cosine of x (measured in radians).\n",
      "    \n",
      "    cosh(x, /)\n",
      "        Return the hyperbolic cosine of x.\n",
      "    \n",
      "    degrees(x, /)\n",
      "        Convert angle x from radians to degrees.\n",
      "    \n",
      "    dist(p, q, /)\n",
      "        Return the Euclidean distance between two points p and q.\n",
      "        \n",
      "        The points should be specified as sequences (or iterables) of\n",
      "        coordinates.  Both inputs must have the same dimension.\n",
      "        \n",
      "        Roughly equivalent to:\n",
      "            sqrt(sum((px - qx) ** 2.0 for px, qx in zip(p, q)))\n",
      "    \n",
      "    erf(x, /)\n",
      "        Error function at x.\n",
      "    \n",
      "    erfc(x, /)\n",
      "        Complementary error function at x.\n",
      "    \n",
      "    exp(x, /)\n",
      "        Return e raised to the power of x.\n",
      "    \n",
      "    exp2(x, /)\n",
      "        Return 2 raised to the power of x.\n",
      "    \n",
      "    expm1(x, /)\n",
      "        Return exp(x)-1.\n",
      "        \n",
      "        This function avoids the loss of precision involved in the direct evaluation of exp(x)-1 for small x.\n",
      "    \n",
      "    fabs(x, /)\n",
      "        Return the absolute value of the float x.\n",
      "    \n",
      "    factorial(n, /)\n",
      "        Find n!.\n",
      "        \n",
      "        Raise a ValueError if x is negative or non-integral.\n",
      "    \n",
      "    floor(x, /)\n",
      "        Return the floor of x as an Integral.\n",
      "        \n",
      "        This is the largest integer <= x.\n",
      "    \n",
      "    fmod(x, y, /)\n",
      "        Return fmod(x, y), according to platform C.\n",
      "        \n",
      "        x % y may differ.\n",
      "    \n",
      "    frexp(x, /)\n",
      "        Return the mantissa and exponent of x, as pair (m, e).\n",
      "        \n",
      "        m is a float and e is an int, such that x = m * 2.**e.\n",
      "        If x is 0, m and e are both 0.  Else 0.5 <= abs(m) < 1.0.\n",
      "    \n",
      "    fsum(seq, /)\n",
      "        Return an accurate floating point sum of values in the iterable seq.\n",
      "        \n",
      "        Assumes IEEE-754 floating point arithmetic.\n",
      "    \n",
      "    gamma(x, /)\n",
      "        Gamma function at x.\n",
      "    \n",
      "    gcd(*integers)\n",
      "        Greatest Common Divisor.\n",
      "    \n",
      "    hypot(...)\n",
      "        hypot(*coordinates) -> value\n",
      "        \n",
      "        Multidimensional Euclidean distance from the origin to a point.\n",
      "        \n",
      "        Roughly equivalent to:\n",
      "            sqrt(sum(x**2 for x in coordinates))\n",
      "        \n",
      "        For a two dimensional point (x, y), gives the hypotenuse\n",
      "        using the Pythagorean theorem:  sqrt(x*x + y*y).\n",
      "        \n",
      "        For example, the hypotenuse of a 3/4/5 right triangle is:\n",
      "        \n",
      "            >>> hypot(3.0, 4.0)\n",
      "            5.0\n",
      "    \n",
      "    isclose(a, b, *, rel_tol=1e-09, abs_tol=0.0)\n",
      "        Determine whether two floating point numbers are close in value.\n",
      "        \n",
      "          rel_tol\n",
      "            maximum difference for being considered \"close\", relative to the\n",
      "            magnitude of the input values\n",
      "          abs_tol\n",
      "            maximum difference for being considered \"close\", regardless of the\n",
      "            magnitude of the input values\n",
      "        \n",
      "        Return True if a is close in value to b, and False otherwise.\n",
      "        \n",
      "        For the values to be considered close, the difference between them\n",
      "        must be smaller than at least one of the tolerances.\n",
      "        \n",
      "        -inf, inf and NaN behave similarly to the IEEE 754 Standard.  That\n",
      "        is, NaN is not close to anything, even itself.  inf and -inf are\n",
      "        only close to themselves.\n",
      "    \n",
      "    isfinite(x, /)\n",
      "        Return True if x is neither an infinity nor a NaN, and False otherwise.\n",
      "    \n",
      "    isinf(x, /)\n",
      "        Return True if x is a positive or negative infinity, and False otherwise.\n",
      "    \n",
      "    isnan(x, /)\n",
      "        Return True if x is a NaN (not a number), and False otherwise.\n",
      "    \n",
      "    isqrt(n, /)\n",
      "        Return the integer part of the square root of the input.\n",
      "    \n",
      "    lcm(*integers)\n",
      "        Least Common Multiple.\n",
      "    \n",
      "    ldexp(x, i, /)\n",
      "        Return x * (2**i).\n",
      "        \n",
      "        This is essentially the inverse of frexp().\n",
      "    \n",
      "    lgamma(x, /)\n",
      "        Natural logarithm of absolute value of Gamma function at x.\n",
      "    \n",
      "    log(...)\n",
      "        log(x, [base=math.e])\n",
      "        Return the logarithm of x to the given base.\n",
      "        \n",
      "        If the base not specified, returns the natural logarithm (base e) of x.\n",
      "    \n",
      "    log10(x, /)\n",
      "        Return the base 10 logarithm of x.\n",
      "    \n",
      "    log1p(x, /)\n",
      "        Return the natural logarithm of 1+x (base e).\n",
      "        \n",
      "        The result is computed in a way which is accurate for x near zero.\n",
      "    \n",
      "    log2(x, /)\n",
      "        Return the base 2 logarithm of x.\n",
      "    \n",
      "    modf(x, /)\n",
      "        Return the fractional and integer parts of x.\n",
      "        \n",
      "        Both results carry the sign of x and are floats.\n",
      "    \n",
      "    nextafter(x, y, /)\n",
      "        Return the next floating-point value after x towards y.\n",
      "    \n",
      "    perm(n, k=None, /)\n",
      "        Number of ways to choose k items from n items without repetition and with order.\n",
      "        \n",
      "        Evaluates to n! / (n - k)! when k <= n and evaluates\n",
      "        to zero when k > n.\n",
      "        \n",
      "        If k is not specified or is None, then k defaults to n\n",
      "        and the function returns n!.\n",
      "        \n",
      "        Raises TypeError if either of the arguments are not integers.\n",
      "        Raises ValueError if either of the arguments are negative.\n",
      "    \n",
      "    pow(x, y, /)\n",
      "        Return x**y (x to the power of y).\n",
      "    \n",
      "    prod(iterable, /, *, start=1)\n",
      "        Calculate the product of all the elements in the input iterable.\n",
      "        \n",
      "        The default start value for the product is 1.\n",
      "        \n",
      "        When the iterable is empty, return the start value.  This function is\n",
      "        intended specifically for use with numeric values and may reject\n",
      "        non-numeric types.\n",
      "    \n",
      "    radians(x, /)\n",
      "        Convert angle x from degrees to radians.\n",
      "    \n",
      "    remainder(x, y, /)\n",
      "        Difference between x and the closest integer multiple of y.\n",
      "        \n",
      "        Return x - n*y where n*y is the closest integer multiple of y.\n",
      "        In the case where x is exactly halfway between two multiples of\n",
      "        y, the nearest even value of n is used. The result is always exact.\n",
      "    \n",
      "    sin(x, /)\n",
      "        Return the sine of x (measured in radians).\n",
      "    \n",
      "    sinh(x, /)\n",
      "        Return the hyperbolic sine of x.\n",
      "    \n",
      "    sqrt(x, /)\n",
      "        Return the square root of x.\n",
      "    \n",
      "    tan(x, /)\n",
      "        Return the tangent of x (measured in radians).\n",
      "    \n",
      "    tanh(x, /)\n",
      "        Return the hyperbolic tangent of x.\n",
      "    \n",
      "    trunc(x, /)\n",
      "        Truncates the Real x to the nearest Integral toward 0.\n",
      "        \n",
      "        Uses the __trunc__ magic method.\n",
      "    \n",
      "    ulp(x, /)\n",
      "        Return the value of the least significant bit of the float x.\n",
      "\n",
      "DATA\n",
      "    e = 2.718281828459045\n",
      "    inf = inf\n",
      "    nan = nan\n",
      "    pi = 3.141592653589793\n",
      "    tau = 6.283185307179586\n",
      "\n",
      "FILE\n",
      "    (built-in)\n",
      "\n",
      "\n"
     ]
    }
   ],
   "source": [
    "# .(dot) : 점의 왼쪽 객체에서 점의 오른쪽 이름을 찾아라\n",
    "import math as m  # 모듈 가져오기\n",
    "from math import pi, sqrt\n",
    "print(m.pi)       # 모듈 사용하기\n",
    "print(m.sqrt(16)) # 점의 왼쪽 객체에서 점의 오른쪽 이름을 찾아라!\n",
    "help(m)\n",
    "\n",
    "# 만약 서로 다른 모듈이 같은 이름의 함수를 제공할 경우 문제 발생"
   ]
  },
  {
   "cell_type": "markdown",
   "metadata": {},
   "source": [
    "#### 사용자 정의 모듈 -> 직접 정의한 모듈 사용하기\n",
    "![이미지](이미지/사용자정의모듈.PNG)\n"
   ]
  },
  {
   "cell_type": "markdown",
   "metadata": {},
   "source": [
    "#### 파이썬 표준 라이브러리\n",
    "- 파이썬 언어와 함께 제공되는 다양한 모듈과 패키지의 모음\n",
    "[google로 들어가기](https://docs.python.org/ko/3/library/index.html)"
   ]
  }
 ],
 "metadata": {
  "kernelspec": {
   "display_name": "Python 3",
   "language": "python",
   "name": "python3"
  },
  "language_info": {
   "codemirror_mode": {
    "name": "ipython",
    "version": 3
   },
   "file_extension": ".py",
   "mimetype": "text/x-python",
   "name": "python",
   "nbconvert_exporter": "python",
   "pygments_lexer": "ipython3",
   "version": "3.11.4"
  },
  "orig_nbformat": 4
 },
 "nbformat": 4,
 "nbformat_minor": 2
}
