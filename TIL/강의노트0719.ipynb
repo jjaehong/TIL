{
 "cells": [
  {
   "cell_type": "markdown",
   "metadata": {},
   "source": [
    "# 함수(function)\n",
    "- 특정 작업을 수행하기 위한 재사용 가능한 코드 묶음\n",
    "- 함수 사용 이유 : 재사용성이 높아지고, 코드의 가독성과 유지보수성 향상\n",
    "\n",
    "#### 내장 함수\n",
    "- 파이썬이 기본적으로 제공하는 함수(별도의 import 없이 바로 사용가능)\n",
    "\n",
    "ex) 파이썬 자습서 : https://docs.python.org/ko/3/tutorial/index.html \n",
    "- abs() : 절댓값 만들기\n",
    "- map(function, iterable) : (함수, 반복가능한 객체) : 순회 가능한 데이터구조(iterable)의 모든 요소에 함수를 적용하고, 그 결과를 map object로 반환\n",
    "- zip(*iterables) : 임의의 iterable을 모아 튜플을 원소로 하는 zip object를 반환\n",
    "- lambda 함수\n",
    "\n",
    "\n",
    "#### 함수 호출\n",
    "- 함수를 실행하기 위해 함수의 이름을 사용하여 해당 함수의 코드 블록을 실행하는 것\n",
    "\n",
    "\n",
    "#### 함수 구조\n",
    "![이미지](이미지/함수구조.png)\n",
    "\n",
    "- input = parameter = 매개변수 \n",
    "- output = return value = 반환값 \n",
    "\n"
   ]
  },
  {
   "cell_type": "code",
   "execution_count": 27,
   "metadata": {},
   "outputs": [
    {
     "name": "stdout",
     "output_type": "stream",
     "text": [
      "hello,jjaehong\n"
     ]
    }
   ],
   "source": [
    "# 함수 정의\n",
    "def greet(name): # 함수 정의 : def 키워드 / 함수 이름 /(매개변수,파라미터)/ :\n",
    "    \"\"\" 입력된 이름 값에   \n",
    "    인사를 하는 메세지를 만드는 함수\n",
    "    \"\"\"\n",
    "    message = 'hello,' + name # # 함수 body : 함수가 실행될 때 수행되는 코드를 정의\n",
    "    return message # return 키워드 / 함수의 실행을 종료하고, 결과를 호출부분으로 반환\n",
    "\n",
    "\n",
    "# 함수 호출\n",
    "result = greet('jjaehong') # 함수의 이름과 필요한 인자(argument)를 전달\n",
    "print(result) # 전달된 인자는 함수 정의 시 작성한 매개변수에 대입됨\n",
    "\n",
    "# 만약 반환 값이 없다면 return이 0이라면, result = None이 된다."
   ]
  },
  {
   "cell_type": "markdown",
   "metadata": {},
   "source": [
    "#### 매개변수와 인자\n",
    "- 매개변수(parameter) : 함수를 **정의**할 때, 함수가 받을 값을 나타내는 변수\n",
    "- 인자(argument) : 함수를 **호출**할 때, 실제로 전달되는 값\n",
    "\n",
    "- ex) 위의 함수에서 name => 매개변수 // jjaehong => 인자"
   ]
  },
  {
   "cell_type": "markdown",
   "metadata": {},
   "source": [
    "#### 인자(arg)의 종류\n",
    "\n",
    "1. 위치 인자(positioned argument)\n",
    "\n",
    "2. 기본 인자 값(default argument)\n",
    "\n",
    "3. 키워드 인자(keywords argument)"
   ]
  },
  {
   "cell_type": "code",
   "execution_count": 28,
   "metadata": {},
   "outputs": [
    {
     "name": "stdout",
     "output_type": "stream",
     "text": [
      "안녕하세요, Alice님!, 25살이시군요!!\n"
     ]
    }
   ],
   "source": [
    "# 위치 인자(positional arguments)\n",
    "# 함수 호출 시 인자의 위치에 따라 전달되는 인자\n",
    "def greeting(name, age):\n",
    "    print(f'안녕하세요, {name}님!, {age}살이시군요!!')\n",
    "\n",
    "greeting('Alice', 25) # 위치 인자는 함수 호출 시 반드시 값을 전달해야함"
   ]
  },
  {
   "cell_type": "code",
   "execution_count": 29,
   "metadata": {},
   "outputs": [
    {
     "name": "stdout",
     "output_type": "stream",
     "text": [
      "안녕하세요, Bravo님!, 30살이시군요!!\n",
      "안녕하세요, Charile님!, 45살이시군요!!\n"
     ]
    }
   ],
   "source": [
    "# 기본 인자 값(Default Argument Values)\n",
    "\n",
    "def greeting(name, age = 30): # 기본값 설정\n",
    "    print(f'안녕하세요, {name}님!, {age}살이시군요!!')\n",
    "\n",
    "greeting('Bravo') # 함수 호출 시 인자를 전달하지 않으면, 기본값이 매개변수에 할당됨\n",
    "greeting('Charile', 45) "
   ]
  },
  {
   "cell_type": "code",
   "execution_count": 30,
   "metadata": {},
   "outputs": [
    {
     "name": "stdout",
     "output_type": "stream",
     "text": [
      "안녕하세요, jjaehong님!, 27살이시군요!!\n"
     ]
    }
   ],
   "source": [
    "# 키워드 인자(keyword Argumnets)\n",
    "# 함수 호출 시 인자의 이름과 함께 값을 전달하는 인자\n",
    "# 매개변수와 인자를 일치시키지 않고, 특정 매개변수에 값을 할당할 수 있음\n",
    "def greeting(name, age):\n",
    "    print(f'안녕하세요, {name}님!, {age}살이시군요!!')\n",
    "\n",
    "greeting(name = 'jjaehong', age = 27) # 단, 키워드 인자는 위치인자 뒤에 위치해야함."
   ]
  },
  {
   "cell_type": "code",
   "execution_count": 31,
   "metadata": {},
   "outputs": [
    {
     "name": "stdout",
     "output_type": "stream",
     "text": [
      "(1, 2, 3, 4, 5)\n"
     ]
    }
   ],
   "source": [
    "# 임의의 인자 목록(*) => 매겨변수를 몇 개 쓸지 모르니까 임의의 인자쓰고,,호출 시 여러 개의 인자를 마음껏 사용가능\n",
    "# arbitrary argument\n",
    "# 정해지지 않은 개수의 인자를 처리하는 인자(리스트, 등등)\n",
    "# 함수 정의 시 매개변수 앞에 '*'를 붙여 사용하며, 여러 개의 인자를 tuple로 처리\n",
    "def calculate_sum(*args):\n",
    "    print(args)\n",
    "\n",
    "calculate_sum(1,2,3,4,5)"
   ]
  },
  {
   "cell_type": "code",
   "execution_count": 32,
   "metadata": {},
   "outputs": [
    {
     "name": "stdout",
     "output_type": "stream",
     "text": [
      "{'name': 'Delta', 'age': '20'}\n"
     ]
    }
   ],
   "source": [
    "# 임의의 키워드 인자 목록(**)\n",
    "# 함수 정의 시 매개변수 앞에 '**'를 붙여 사용하며, 여러 개의 인자를 dictionary로 묶어 처리\n",
    "\n",
    "def info(**kwargs):\n",
    "    print(kwargs)\n",
    "\n",
    "info(name = 'Delta', age = '20')"
   ]
  },
  {
   "cell_type": "markdown",
   "metadata": {},
   "source": [
    "#### 함수 인자 권장 작성순서\n",
    "\n",
    "![이미지](이미지/함수인자.png)"
   ]
  },
  {
   "cell_type": "markdown",
   "metadata": {},
   "source": [
    "#### 함수와 범위(scope)\n",
    "\n",
    "![이미지](이미지/함수scope.PNG)\n",
    "- 함수 내에서는(local) 바깥 scope의 변수에 접근 가능하나 수정은 할 수 없음"
   ]
  },
  {
   "cell_type": "code",
   "execution_count": 37,
   "metadata": {},
   "outputs": [
    {
     "name": "stdout",
     "output_type": "stream",
     "text": [
      "10 2 500\n",
      "10 2 3\n",
      "1 2\n"
     ]
    }
   ],
   "source": [
    "# 변수가 상위 scope로는 찾으러 갈 순 있으나, 하위 scope로는 찾으러 가진 않음\n",
    "# 함수 내에서는 바깥 scope의 변수에 접근 가능하나 수정은 할 수 없음\n",
    "\n",
    "a = 1 # global scope\n",
    "b = 2\n",
    "\n",
    "\n",
    "def enclosed():\n",
    "    a = 10\n",
    "    c = 3\n",
    "\n",
    "    def local(c):\n",
    "        print(a, b, c)  # a는 상위scope 출력, b를 출력하기 위해 더 상위scope로 감, c는 ?\n",
    "\n",
    "    local(500) # local을 실행. c = 500\n",
    "    print(a, b, c)  # a는\n",
    "\n",
    "\n",
    "enclosed()\n",
    "print(a, b)  # a,b는 global 영역에서 찾음"
   ]
  },
  {
   "cell_type": "code",
   "execution_count": 48,
   "metadata": {},
   "outputs": [
    {
     "name": "stdout",
     "output_type": "stream",
     "text": [
      "함수 실행 : num을 20으로 바꿨다\n",
      "10\n"
     ]
    }
   ],
   "source": [
    "# global 키워드\n",
    "# 변수의 스코프를 전역 범위로 지정하기 위해 사용\n",
    "# global이 필요한 경우 : 변경 불가능한 것들을 변경할 때\n",
    "# global 키워드 필요 없는 경우 : list나 dict 등 변경가능한 것들을 변경할 때\n",
    "\n",
    "\n",
    "# myfunc 안의 num은 20/ global의 num은 10\n",
    "num = 10\n",
    "\n",
    "def myfunc():\n",
    "    num = 20\n",
    "    print(\"함수 실행 : num을 20으로 바꿨다\")\n",
    "\n",
    "myfunc()\n",
    "\n",
    "print(num)"
   ]
  },
  {
   "cell_type": "code",
   "execution_count": 47,
   "metadata": {},
   "outputs": [
    {
     "name": "stdout",
     "output_type": "stream",
     "text": [
      "함수 실행 : num을 20으로 바꿨다\n",
      "20\n"
     ]
    }
   ],
   "source": [
    "# myfunc안에 global을 씀으로써 수정함.\n",
    "num = 10\n",
    "def myfunc():\n",
    "    global num\n",
    "    num = 20\n",
    "    print(\"함수 실행 : num을 20으로 바꿨다\")\n",
    "\n",
    "myfunc()\n",
    "\n",
    "print(num)\n"
   ]
  },
  {
   "cell_type": "markdown",
   "metadata": {},
   "source": [
    "##### ※ global 키워드는 가급적 사용하지 않는 것을 권장(실무에서)\n",
    "=> 알고리즘 쓸때는 편함 ㅋㅋ\n",
    "##### ※ 함수로 값을 바꾸고자 한다면 항상 인자로 넘기고 함수의 반환 값을 사용하는 것을 권장"
   ]
  },
  {
   "cell_type": "markdown",
   "metadata": {},
   "source": [
    "#### 재귀함수\n",
    "- **함수 내부에서 자기 자신을 호출하는 함수**\n",
    "- 특정 알고리즘 식을 표현할 때 변수의 사용이 줄어들며, 코드의 가독성이 높아짐\n",
    "- 무한호출 발생가능성... => 1개 이상의 base case(종료되는 상황)가 존재하고, 수렴하도록 작성\n",
    "\n",
    "![이미지](이미지/팩토리얼.PNG)\n",
    "![이미지](이미지/팩토리얼2.PNG)\n",
    "\n",
    "- ※ 재귀함수는\n",
    "- 1. 종료조건을 명확히\n",
    "- 2. 반복되는 호출이 종료 조건을 향하도록"
   ]
  },
  {
   "cell_type": "markdown",
   "metadata": {},
   "source": [
    "#### 유용한 내장함수\n",
    "\n",
    "##### map(function, iterable) : (함수, 반복가능한 객체)\n",
    "- 순회 가능한 데이터구조(iterable)의 모든 요소에 함수를 적용하고, 그 결과를 map object로 반환\n",
    "\n"
   ]
  },
  {
   "cell_type": "code",
   "execution_count": 53,
   "metadata": {},
   "outputs": [
    {
     "name": "stdout",
     "output_type": "stream",
     "text": [
      "<map object at 0x0000018C3D9210D0>\n",
      "['1', '2', '3']\n"
     ]
    }
   ],
   "source": [
    "# map(,) 효과\n",
    "numbers = [1,2,3]\n",
    "\n",
    "result = map(str, numbers)\n",
    "print(result)\n",
    "print(list(result))"
   ]
  },
  {
   "cell_type": "code",
   "execution_count": 52,
   "metadata": {},
   "outputs": [
    {
     "name": "stdout",
     "output_type": "stream",
     "text": [
      "['1', '2', '3']\n"
     ]
    }
   ],
   "source": [
    "# 위의 map과 동일한 효과\n",
    "numbers = [1,2,3]\n",
    "\n",
    "result = []\n",
    "for number in numbers:\n",
    "    result.append(str(number))\n",
    "\n",
    "print(result)"
   ]
  },
  {
   "cell_type": "code",
   "execution_count": 61,
   "metadata": {},
   "outputs": [
    {
     "name": "stdout",
     "output_type": "stream",
     "text": [
      "<zip object at 0x0000018C3EC83640>\n",
      "[('재홍', 27, '전주'), ('찰리', 25, '뉴욕'), ('알파', 63, '파리')]\n"
     ]
    }
   ],
   "source": [
    "# zip(*iterables)\n",
    "# 임의의 iterable을 모아 튜플을 원소로 하는 zip object를 반환\n",
    "\n",
    "names = ['재홍','찰리', '알파']\n",
    "ages = [27,25,63]\n",
    "cities = ['전주', '뉴욕', '파리']\n",
    "\n",
    "informations = zip(names,ages,cities)\n",
    "    \n",
    "print(informations)\n",
    "print(list(informations))"
   ]
  },
  {
   "cell_type": "markdown",
   "metadata": {},
   "source": [
    "#### lambda 함수\n",
    "- 이름 없이 정의되고 사용되는 익명 함수\n",
    "\n",
    "![이미지](이미지/lambda1.PNG)\n",
    "![이미지](이미지/lambda2.PNG)"
   ]
  },
  {
   "cell_type": "code",
   "execution_count": 63,
   "metadata": {},
   "outputs": [
    {
     "name": "stdout",
     "output_type": "stream",
     "text": [
      "[2, 4, 6, 8, 10]\n"
     ]
    }
   ],
   "source": [
    "# map + lambda\n",
    "numbers =[1,2,3,4,5]\n",
    "result = list(map(lambda x: x * 2, numbers))\n",
    "print(result)"
   ]
  },
  {
   "cell_type": "code",
   "execution_count": 64,
   "metadata": {},
   "outputs": [
    {
     "name": "stdout",
     "output_type": "stream",
     "text": [
      "[1, 2, 3, 4, 5, 1, 2, 3, 4, 5]\n"
     ]
    }
   ],
   "source": [
    "numbers =[1,2,3,4,5]\n",
    "print(numbers*2)"
   ]
  },
  {
   "cell_type": "code",
   "execution_count": 10,
   "metadata": {},
   "outputs": [
    {
     "name": "stdout",
     "output_type": "stream",
     "text": [
      "1 2 [3, 4, 5]\n"
     ]
    }
   ],
   "source": [
    "numbers = [1,2,3,4,5]\n",
    "a, b, *c = numbers\n",
    "\n",
    "print(a,b,c)"
   ]
  },
  {
   "cell_type": "markdown",
   "metadata": {},
   "source": [
    "#### 패킹 & 언패킹\n",
    "\n",
    "![이미지](이미지/패킹언패킹.PNG)"
   ]
  },
  {
   "cell_type": "markdown",
   "metadata": {},
   "source": [
    "#### 모듈(module) => 파일\n",
    "- 한 파일로 묶인 변수와 함수의 모음\n",
    "- 특정한 기능을 하는 코드가 작성된 파이썬 파일(.py)\n",
    "- ex) math : 수학 관련 변수,함수 모듈\n",
    "\n",
    "#### 패키지(package) => 폴더\n",
    "- 관련된 모듈들을 하나의 디렉토리의 모아놓은 것\n",
    "- 사용 목적 : 모듈들의 이름공간은 구분하여 충돌을 방지\n",
    "- 모듈들을 효율적으로 관리하고 재사용할 수 있도록 돕는 역할\n",
    "\n",
    "#### 외부패키지 사용\n",
    "- pip install 패키지명\n",
    "- pip 이후 import\n",
    "- http://pypi.org/"
   ]
  },
  {
   "cell_type": "code",
   "execution_count": 67,
   "metadata": {},
   "outputs": [
    {
     "name": "stdout",
     "output_type": "stream",
     "text": [
      "3.141592653589793\n",
      "4.0\n"
     ]
    }
   ],
   "source": [
    "# .(dot) : 점의 왼쪽 객체에서 점의 오른쪽 이름을 찾아라\n",
    "import math as m  # 모듈 가져오기\n",
    "from math import pi, sqrt\n",
    "print(m.pi)       # 모듈 사용하기\n",
    "print(m.sqrt(16)) # 점의 왼쪽 객체에서 점의 오른쪽 이름을 찾아라!\n",
    "\n",
    "# 만약 서로 다른 모듈이 같은 이름의 함수를 제공할 경우 문제 발생"
   ]
  },
  {
   "cell_type": "markdown",
   "metadata": {},
   "source": [
    "#### 사용자 정의 모듈 -> 직접 정의한 모듈 사용하기\n",
    "![이미지](이미지/사용자정의모듈.PNG)\n"
   ]
  },
  {
   "cell_type": "markdown",
   "metadata": {},
   "source": [
    "#### 파이썬 표준 라이브러리\n",
    "- 파이썬 언어와 함께 제공되는 다양한 모듈과 패키지의 모음\n",
    "[google로 들어가기](https://docs.python.org/ko/3/library/index.html)"
   ]
  }
 ],
 "metadata": {
  "kernelspec": {
   "display_name": "Python 3",
   "language": "python",
   "name": "python3"
  },
  "language_info": {
   "codemirror_mode": {
    "name": "ipython",
    "version": 3
   },
   "file_extension": ".py",
   "mimetype": "text/x-python",
   "name": "python",
   "nbconvert_exporter": "python",
   "pygments_lexer": "ipython3",
   "version": "3.9.13"
  },
  "orig_nbformat": 4
 },
 "nbformat": 4,
 "nbformat_minor": 2
}
