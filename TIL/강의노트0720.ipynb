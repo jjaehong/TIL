{
 "cells": [
  {
   "cell_type": "markdown",
   "metadata": {},
   "source": [
    "## 제어문(control statement)\n",
    "- 코드의 실행 흐름을 제어하는 데 사용되는 구문\n",
    "- **조건**에 따라 코드블록을 실행하거나 **반복적**으로 코드를 실행"
   ]
  },
  {
   "cell_type": "markdown",
   "metadata": {},
   "source": [
    "### 1. 조건문(conditional statement) => if / elif / else\n",
    "if 표현식:\n",
    "    코드블록\n",
    "elif 표현식:\n",
    "    코드블록\n",
    "else:\n",
    "    코드블록\n",
    "\n",
    "- 주어진 조건식을 평가하여 해당 조건이 참(True)인 경우에만 코드블록을 실행하거나 건너뜀\n",
    "- 복수 조건문 예시 : 조건식을 동시에 검사하는 것이 아니라 **순차적으로** 아래로 내려오면서 비교\n",
    "- 중첩 조건문 예시 : \n"
   ]
  },
  {
   "cell_type": "code",
   "execution_count": null,
   "metadata": {},
   "outputs": [],
   "source": [
    "# 조건문 예시 : 홀수, 짝수\n",
    "n = int(input(\"숫자를 입력하세요. : \"))\n",
    "\n",
    "if n > 0:\n",
    "    if n % 2 == 1:\n",
    "        print(f\" {n}는 홀수다.\")\n",
    "    else:\n",
    "        print(f\" {n}은 짝수다.\")\n",
    "\n",
    "str = \"\"\n",
    "\n",
    "str = \"짝수\" if n % 2 == 0 else \"홀수\"\n",
    "print(str)\n",
    "\n"
   ]
  },
  {
   "cell_type": "markdown",
   "metadata": {},
   "source": [
    "### 2. 반복문(loop statement) => for / while\n",
    "- 주어진 코드 블록을 여러 번 반복해서 실행하는 구문\n",
    "\n",
    "① 특정 작업을 반복적으로 수행 => 종료조건이 없어도 됨 => for\n",
    "\n",
    "② 주어진 조건이 참인 동안 반복해서 실행 => 종료조건이 있어야 함 => while\n"
   ]
  },
  {
   "cell_type": "markdown",
   "metadata": {},
   "source": [
    "#### for\n",
    "- for 변수 in 반복가능한 객체:\n",
    "-    코드 블록\n",
    "\n",
    "- iterable의 요소를 하나씩 순회하며 반복\n",
    "- iterable의 하나의 항목이 반복변수에 할당되고 코드블록을 실행,\n",
    "- 그 다음 항목들도 하나씩 순서대로 코드블록 실행, 이러한 과정을 마지막 항목까지 반복\n",
    "- 종료조건 없음\n",
    "- 반복가능한 객체(iterable) : 반복문에서 순회 가능한 객체\n",
    "- ex) sequnce(리스트, 문자열, range), dict, set 등등\n",
    "- ex) 인덱스로 리스트 접근해야할 때, range(len(변수)):로 접근\n"
   ]
  },
  {
   "cell_type": "code",
   "execution_count": null,
   "metadata": {},
   "outputs": [],
   "source": [
    "# for + if\n",
    "fruits = [\"apple\", \"banana\", \"coconut\"]\n",
    "\n",
    "for item in fruits:\n",
    "    if item == \"apple\":\n",
    "        print(item)\n",
    "    elif item == \"grapes\":\n",
    "        print(item)\n",
    "\n",
    "# 3의 배수 표현\n",
    "for i in range(3, 27, 3):\n",
    "    print(f'{i}, ', end=\"\")\n",
    "\n",
    "# 인덱스로 리스트 순회 / print 위치 차이 분별\n",
    "# 리스트의 요소가 아닌 인덱스로 접근하여 해당 요소들을 변경하기\n",
    "numbers = [4, 6, 10, -8, 5]\n",
    "\n",
    "for i in range(len(numbers)):\n",
    "    numbers[i] = numbers[i] * 2\n",
    "    print(numbers)\n",
    "print(numbers)\n",
    "\n",
    "tests = lambda numbers : numbers*2\n",
    "result = list(map(tests, numbers))\n",
    "print(result)"
   ]
  },
  {
   "cell_type": "code",
   "execution_count": null,
   "metadata": {},
   "outputs": [],
   "source": [
    "# 중첩된 반복문 **\n",
    "# print가 호출되는 횟수 =>  len(outers) * len(inners)\n",
    "\n",
    "outers = ['A','B']\n",
    "inners = ['c','d']\n",
    "\n",
    "for outer in outers:\n",
    "    for inner in inners:\n",
    "        print(outer, inner) # 바깥쪽 for문 1번 돌고, 안쪽 for문 다 돌아야함/ 그리고 바깥쪽 2번째 for문"
   ]
  },
  {
   "cell_type": "code",
   "execution_count": null,
   "metadata": {},
   "outputs": [],
   "source": [
    "# 중첩리스트 순회**\n",
    "# 안쪽 리스트 요소에 접근하려면 바깥 리스트를 순회하면서 중첩 반복을 사용해 각 안쪽 반복을 순회\n",
    "\n",
    "elements = [['A','B'],['c','d']]\n",
    "\n",
    "for elem in elements:\n",
    "    print(elem)"
   ]
  },
  {
   "cell_type": "code",
   "execution_count": null,
   "metadata": {},
   "outputs": [],
   "source": [
    "elements = [['A','B'],['c','d']]\n",
    "\n",
    "for elem in elements:\n",
    "    for item in elem:\n",
    "        print(item)"
   ]
  },
  {
   "cell_type": "markdown",
   "metadata": {},
   "source": [
    "#### while\n",
    "while 조건식:\n",
    "    코드 블록\n",
    "\n",
    "- 주어진 조건식이 참(True)인 동안 코드를 반복해서 실행\n",
    "- **조건식이 거짓(False)가 될 때까지 반복**\n",
    "- 반드시 **종료조건** 필요!, 종료조건에 다가가도록 하기 => 아니면 무한루프에 빠질 수 있음"
   ]
  },
  {
   "cell_type": "code",
   "execution_count": null,
   "metadata": {},
   "outputs": [],
   "source": [
    "number = int(input('양의 정수 입력 : '))\n",
    "\n",
    "while number <= 0:\n",
    "    if number < 0:\n",
    "        print('음수를 입력함')\n",
    "    else:\n",
    "        print('0은 양의 정수가 아니야')\n",
    "    number = int(input('양의 정수 입력 : '))\n",
    "\n",
    "print('좋았어! 영차!')"
   ]
  },
  {
   "cell_type": "markdown",
   "metadata": {},
   "source": [
    "![이미지](이미지/적절한반복문.PNG)"
   ]
  },
  {
   "cell_type": "markdown",
   "metadata": {},
   "source": [
    "#### 반복 제어 => break, continue\n",
    "- for문과 while문은 매 반복마다 본문 내 모든 코드를 실행하지만 **때때로 일부만 실행**하는 것이 필요할 때가 있음\n",
    "- break : 반복을 즉시 **중지**\n",
    "- continue : 다음 반복으로 **건너뜀**"
   ]
  },
  {
   "cell_type": "code",
   "execution_count": 15,
   "metadata": {},
   "outputs": [
    {
     "name": "stdout",
     "output_type": "stream",
     "text": [
      "프로그램 종료\n"
     ]
    }
   ],
   "source": [
    "# break <- while\n",
    "\n",
    "number = int(input('양의 정수를 입력'))\n",
    "\n",
    "while number <=0:\n",
    "    if number == -9999:\n",
    "        print('프로그램 종료')\n",
    "        break  # 즉시 정지\n",
    "\n",
    "    if number < 0:\n",
    "        print('음수 입력했네?')\n",
    "    else:\n",
    "        print('0은 양의 정수가 아니야')"
   ]
  },
  {
   "cell_type": "code",
   "execution_count": 19,
   "metadata": {},
   "outputs": [
    {
     "name": "stdout",
     "output_type": "stream",
     "text": [
      "첫번째 짝수를 찾았습니다 :  6\n"
     ]
    }
   ],
   "source": [
    " # for - break(짝수 찾기)\n",
    "\n",
    "numbers = [1,3,5,6,7,9,10,11]\n",
    "found_even = False\n",
    "\n",
    "for num in numbers: # for문 요소 하나씩 꺼내는데\n",
    "    if num % 2 == 0: # 짝수냐?\n",
    "        print('첫번째 짝수를 찾았습니다 : ', num)\n",
    "        found_even = True\n",
    "        break # 원하는 걸(짝수) 얻었으니 끝내!"
   ]
  },
  {
   "cell_type": "code",
   "execution_count": 20,
   "metadata": {},
   "outputs": [
    {
     "name": "stdout",
     "output_type": "stream",
     "text": [
      "a\n",
      "p\n",
      "p\n",
      "l\n",
      "e\n",
      "이 단어 안에는 b가 없습니다.\n"
     ]
    }
   ],
   "source": [
    "# for + else\n",
    "string1 = \"apple\"\n",
    "string2 = \"banana\"\n",
    "\n",
    "for c in string1: \n",
    "    # apple 문자열을 순회하면서 알파벳 b가 있으면 b!룰 출력한 다음 반복문을 종료\n",
    "    print(c)\n",
    "    if c == \"b\":\n",
    "        print(\"b!\")\n",
    "        break\n",
    "else:\n",
    "    print(\"이 단어 안에는 b가 없습니다.\")\n",
    "\n",
    "# else문은 반복문을 끝까지(중간에 종료없이) 실행한 이후에 실행됩니다.\n",
    "# 반복문이 break문으로 종료될 때는 else문이 실행되지 않습니다.\n",
    "# break를 통해 중간에 종료되지 않은 경우만 else문이 실행된다.\n",
    "\n",
    "# 반복문이 중간에 종료된 적이 있는지를 검사할 때 유용하게 사용"
   ]
  },
  {
   "cell_type": "code",
   "execution_count": 29,
   "metadata": {},
   "outputs": [
    {
     "name": "stdout",
     "output_type": "stream",
     "text": [
      "{'minseok': 100, 'gildong': 80, 'jaedong': 70}\n",
      "minseok\n",
      "100\n",
      "100\n",
      "gildong\n",
      "80\n",
      "80\n",
      "jaedong\n",
      "70\n",
      "70\n",
      "minseok : 100 100\n",
      "gildong : 80 80\n",
      "jaedong : 70 70\n",
      "===================================\n",
      "70\n",
      "70\n",
      "70\n",
      "100\n",
      "80\n",
      "70\n",
      "minseok : 100\n",
      "gildong : 80\n",
      "jaedong : 70\n"
     ]
    }
   ],
   "source": [
    "# for + dict\n",
    "scores = {}\n",
    "scores.update({\"minseok\" : 100, \"gildong\" : 80, \"jaedong\" : 70})\n",
    "print(scores)\n",
    "\n",
    "# 1. 기본적으로 key만 가져감\n",
    "for name in scores:\n",
    "    print(name) # key 뽑기\n",
    "    print(scores[name]) # value 뽑기\n",
    "    print(scores.get(name)) # .get : key로 value 뽑기\n",
    "\n",
    "for name in scores:\n",
    "    print(f\"{name} : {scores[name]} {scores.get(name)}\")\n",
    "\n",
    "print(\"===================================\")\n",
    "\n",
    "# 2. key 뽑기\n",
    "for name in scores.keys(): \n",
    "    print(score)\n",
    "\n",
    "# 3. value 뽑기\n",
    "for score in scores.values():\n",
    "    print(score)\n",
    "\n",
    "# 4.\n",
    "for key, value in scores.items(): \n",
    "    print(f\"{key} : {value}\")"
   ]
  },
  {
   "cell_type": "code",
   "execution_count": null,
   "metadata": {},
   "outputs": [],
   "source": [
    "# continue - 홀수만 출력하기\n",
    "\n",
    "numbers = [1,2,3,4,5,6,7,8,9,10]\n",
    "\n",
    "for num in numbers:\n",
    "    if num % 2 == 0: # 짝수일 때 건너뛰어!\n",
    "        continue # 현재 반복문의 남은 코드를 건너뛰고 다음 반복으로 건너뜀\n",
    "print(num)\n",
    "\n"
   ]
  },
  {
   "cell_type": "markdown",
   "metadata": {},
   "source": [
    "#### list comprehension\n",
    "- 간결하고 효율적인 **리스트 생성** 방법\n",
    "\n",
    "```python \n",
    "1. []\n",
    "2. map + list\n",
    "3. [expression for 변수 in iterable]\n",
    "4. list(expression for 변수 in iterable)\n",
    "```"
   ]
  },
  {
   "cell_type": "code",
   "execution_count": null,
   "metadata": {},
   "outputs": [],
   "source": []
  },
  {
   "cell_type": "code",
   "execution_count": null,
   "metadata": {},
   "outputs": [],
   "source": [
    "# 홀수만 들어있는 리스트 만들기(1~10)\n",
    "\n",
    "#1 일반적인 방법\n",
    "new_list = []\n",
    "for i in range(10):\n",
    "    if i % 2 == 1:\n",
    "        new_list.append(i)\n",
    "    else:\n",
    "        new_list.append(str(i))\n",
    "print(new_list)\n",
    "\n",
    "\n",
    "#2 list comprehension\n",
    "new_list2 = [i for i in range(10) if i % 2 == 1]\n",
    "print(new_list2)\n",
    "\n",
    "new_list3 = [i if i%2 == 1 else str(i) for i in range(10)]\n",
    "print(new_list3)"
   ]
  },
  {
   "cell_type": "code",
   "execution_count": null,
   "metadata": {},
   "outputs": [],
   "source": [
    "# 리스트를 생성하는 3가지 방법 비교\n",
    "# 정수 1,2,3을 가지는 새로운 리스트 만들기\n",
    "# 성능은 뭐가 더 좋아여? => \n",
    "\n",
    "numbers = ['1','2','3']\n",
    "\n",
    "# 1. for loop\n",
    "new_numbers = []\n",
    "for number in numbers:\n",
    "    new_numbers.append(int(number))\n",
    "print(new_numbers) # [1,2,3]\n",
    "\n",
    "# 2. map\n",
    "new_numbers2 = list(map(int,numbers))\n",
    "print(new_numbers2)\n",
    "\n",
    "# 3. list comprehension\n",
    "new_numbers3 = [int(number) for number in numbers]\n",
    "print(new_numbers3)\n"
   ]
  },
  {
   "cell_type": "markdown",
   "metadata": {},
   "source": [
    "#### pass\n",
    "- 아무런 동작도 수행하지 않고 넘어가는 역할\n",
    "- 문법적으로 문장이 필요하지만 프로그램 실행에는 영향을 주지않아야 할 때 사용\n",
    "\n",
    "- pass 예시\n",
    "① 코드 작성 중 미완성 부분\n",
    "② 조건문에서 아무런 동작을 수행하지 않아야 할 때\n",
    "③ 무한 루프에서 조건이 충족되지 않을 때 pass를 사용하여 루프를 계속 진행하는 방법"
   ]
  },
  {
   "cell_type": "markdown",
   "metadata": {},
   "source": [
    "#### enumerate(iterable, start=0)\n",
    "- iterable 객체의 각 요소에 대해 인덱스와 함께 반환하는 내장함수\n",
    "- 인덱스(index)와 요소(element)를 한번에 쓸 수 있음"
   ]
  },
  {
   "cell_type": "code",
   "execution_count": null,
   "metadata": {},
   "outputs": [],
   "source": [
    "# enumerate\n",
    "\n",
    "result = ['a', 'b', 'c']\n",
    "\n",
    "print(enumerate(result))\n",
    "print(list(enumerate(result)))\n",
    "\n",
    "for index, elem in enumerate(result):\n",
    "    print(index,elem)\n"
   ]
  },
  {
   "cell_type": "markdown",
   "metadata": {},
   "source": [
    "## 코드의 가독성 > 간결함\n",
    "### 프로그래밍은\n",
    "### 우리 프로그램이 어떻게 그 목적을 명확하게 전달하는지에 대한 것\n",
    "\n",
    "\n",
    "### \"작은 효율성에 대해서는, 말하자면 97% 정도에 대해서는, 잊어버려라\n",
    "### 섣부른 최적화는 모든 악의 근원이다.\" - 도널드"
   ]
  }
 ],
 "metadata": {
  "kernelspec": {
   "display_name": "Python 3",
   "language": "python",
   "name": "python3"
  },
  "language_info": {
   "codemirror_mode": {
    "name": "ipython",
    "version": 3
   },
   "file_extension": ".py",
   "mimetype": "text/x-python",
   "name": "python",
   "nbconvert_exporter": "python",
   "pygments_lexer": "ipython3",
   "version": "3.11.4"
  },
  "orig_nbformat": 4
 },
 "nbformat": 4,
 "nbformat_minor": 2
}
