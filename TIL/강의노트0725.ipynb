{
 "cells": [
  {
   "cell_type": "markdown",
   "metadata": {},
   "source": [
    "## 비시퀀스 데이터 구조"
   ]
  },
  {
   "cell_type": "markdown",
   "metadata": {},
   "source": [
    "#### 1. set\n",
    "- 고유한 항목들의 정렬되지 않은 컬렉션\n",
    "\n",
    "![이미지](이미지/세트.PNG)"
   ]
  },
  {
   "cell_type": "code",
   "execution_count": 45,
   "metadata": {},
   "outputs": [
    {
     "name": "stdout",
     "output_type": "stream",
     "text": [
      "{1, 2, 3, 4}\n",
      "{1, 2, 3, 4}\n",
      "set()\n",
      "{1, 3}\n",
      "{1, 3}\n"
     ]
    }
   ],
   "source": [
    "# .add(x) : 세트에 x추가\n",
    "\n",
    "my_set = {1,2,3}\n",
    "my_set.add(4)\n",
    "print(my_set)\n",
    "\n",
    "my_set.add(4)\n",
    "print(my_set)\n",
    "\n",
    "# .clear() : 세트의 모든 항목을 제거\n",
    "my_set.clear()\n",
    "print(my_set)\n",
    "\n",
    "# .remove(x) / .discard(x): 항목 x 제거\n",
    "my_set = {1,2,3}\n",
    "my_set.remove(2)\n",
    "# my_set.remove(10) # set 에 없는 것을 지우면 # KeyError\n",
    "print(my_set)\n",
    "\n",
    "# my_set.discard(2)\n",
    "# my_set.discard(10) # remove와 달리, set에 없는 것을 지워도 에러없음\n",
    "print(my_set)  "
   ]
  },
  {
   "cell_type": "code",
   "execution_count": 12,
   "metadata": {},
   "outputs": [
    {
     "name": "stdout",
     "output_type": "stream",
     "text": [
      "1\n",
      "{2, 3}\n"
     ]
    }
   ],
   "source": [
    "# .pop() : 세트에서 **임의의 요소**를 제거하고 반환\n",
    "# '무작위'가 아니라 '임의'라는 의미 -> hash table에 저장되어 있는 순서대로 제거됨.\n",
    "# 하지만 자료가 hash table에 저장되는 것이 무작위..\n",
    "# 한번 저장되고나면 hash table 순서는 정해져있고 뽑는 위치 순서는 정해져있음. \n",
    "\n",
    "my_set = {1,2,3}\n",
    "element = my_set.pop()\n",
    "\n",
    "print(element) # ? 제거\n",
    "print(my_set) "
   ]
  },
  {
   "cell_type": "code",
   "execution_count": 49,
   "metadata": {},
   "outputs": [
    {
     "name": "stdout",
     "output_type": "stream",
     "text": [
      "{1, 2, 3, 4, 5, 6, 7}\n"
     ]
    }
   ],
   "source": [
    "# .update(iterable)\n",
    "my_set.update([4,5,1,2,6,7])\n",
    "print(my_set)"
   ]
  },
  {
   "cell_type": "markdown",
   "metadata": {},
   "source": [
    "#### 세트 집합 메서드\n",
    "![이미지](이미지/집합메서드.PNG)"
   ]
  },
  {
   "cell_type": "code",
   "execution_count": 14,
   "metadata": {},
   "outputs": [
    {
     "name": "stdout",
     "output_type": "stream",
     "text": [
      "{0, 100, 2, 4}\n",
      "{1, 3}\n",
      "False\n",
      "False\n",
      "{0, 1, 2, 3, 4, 100, 5, 7, 9, 58}\n"
     ]
    }
   ],
   "source": [
    "# 예시\n",
    "\n",
    "set1 = {0,1,2,3,4,100}\n",
    "set2 = {1,3,5,7,9,58}\n",
    "\n",
    "print(set1.difference(set2)) # 차집합\n",
    "print(set1.intersection(set2)) # 교집합\n",
    "print(set1.issubset(set2)) # set1이 subset이냐\n",
    "print(set1.issuperset(set2)) # set1이 superset이냐\n",
    "print(set1.union(set2)) # 합집합 # set은 임의의 수"
   ]
  },
  {
   "cell_type": "markdown",
   "metadata": {},
   "source": [
    "#### 2. dictionary\n",
    "- 고유한 항목들의 정렬되지 않은 컬렉션\n",
    "\n",
    "![이미지](이미지/딕셔너리%20메서드.PNG)"
   ]
  },
  {
   "cell_type": "code",
   "execution_count": 72,
   "metadata": {},
   "outputs": [
    {
     "name": "stdout",
     "output_type": "stream",
     "text": [
      "None\n",
      "Unknown\n"
     ]
    }
   ],
   "source": [
    "# .get(key[,default])\n",
    "# 키 연결된 값을 반환하거나 키가 없으면 None 혹은 기본 값을 반환\n",
    "\n",
    "my_dict = { 'name' : 'Alice'}\n",
    "\n",
    "# 찾고자하는 키가 없을 때\n",
    "# print(my_dict['age']) # keyError # 에러뜨니까.. 이걸 쓰기보다는 .get()을 쓰자!\n",
    "print(my_dict.get('age')) # None\n",
    "print(my_dict.get('country', 'Unknown')) # 디폴트 값 Unknown 설정\n"
   ]
  },
  {
   "cell_type": "code",
   "execution_count": 73,
   "metadata": {},
   "outputs": [
    {
     "name": "stdout",
     "output_type": "stream",
     "text": [
      "dict_keys(['name'])\n",
      "name\n",
      "dict_values(['Alice'])\n",
      "Alice\n",
      "dict_items([('name', 'Alice'), ('age', 25)])\n",
      "name Alice\n",
      "age 25\n"
     ]
    }
   ],
   "source": [
    "person = {'name' : 'Alice', 'age' : 25}\n",
    "\n",
    "# .keys()\n",
    "# 딕셔너리 키를 모은 객체를 반환\n",
    "print(my_dict.keys())\n",
    "\n",
    "for key in my_dict.keys():\n",
    "    print(key)\n",
    "\n",
    "# .values()\n",
    "# 딕셔너리 값을 모은 객체를 반환\n",
    "print(my_dict.values())\n",
    "\n",
    "for value in my_dict.values():\n",
    "    print(value)\n",
    "\n",
    "# .items()\n",
    "# 딕셔너리 키/값 쌍을 모은 객체를 반환\n",
    "print(person.items())\n",
    "\n",
    "for k, v in person.items():\n",
    "    print(k,v)"
   ]
  },
  {
   "cell_type": "code",
   "execution_count": 74,
   "metadata": {},
   "outputs": [
    {
     "name": "stdout",
     "output_type": "stream",
     "text": [
      "25\n",
      "country 키는 없어요\n",
      "KOREA\n",
      "{'name': 'Alice', 'age': 25, 'country': 'KOREA'}\n",
      "{'name': 'Jane', 'age': 25, 'gender': 'Female'}\n",
      "{'name': 'Jane', 'age': 50, 'gender': 'Female'}\n",
      "{'name': 'Jane', 'age': 50, 'gender': 'Female', 'country': 'KOREA'}\n"
     ]
    }
   ],
   "source": [
    "# .pop(key[,default])\n",
    "# 키를 제거하고 연결됐던 값을 반환(없으면 에러나 default를 반환)\n",
    "print(person.pop('age'))\n",
    "\n",
    "# print(person.pop('country')) # 없는 값 출력 => 에러\n",
    "print(person.pop('country', 'country 키는 없어요'))\n",
    "\n",
    "## .setdefault(key[,default])\n",
    "## 키가 연결된 값을 반환. **키가 없다면** default와 연결한 키를 딕셔너리에 추가하고 default를 반환\n",
    "person = {'name' : 'Alice', 'age' : 25}\n",
    "print(person.setdefault('country', 'KOREA'))\n",
    "print(person)\n",
    "\n",
    "# .update([other])\n",
    "# other가 제공하는 키/값 쌍으로 딕셔너리를 갱신, 기존 키는 마지막으로 들어간 키에 덮어짐\n",
    "person = {'name' : 'Alice', 'age' : 25}\n",
    "other_person = {'name' : 'Jane', 'gender' : 'Female'}\n",
    "\n",
    "person.update(other_person)\n",
    "print(person)\n",
    "\n",
    "person.update(age=50)\n",
    "print(person)\n",
    "\n",
    "person.update(country = 'KOREA')\n",
    "print(person)\n"
   ]
  },
  {
   "cell_type": "code",
   "execution_count": 84,
   "metadata": {},
   "outputs": [
    {
     "name": "stdout",
     "output_type": "stream",
     "text": [
      "{'A': 1}\n",
      "{'A': 1, 'B': 1}\n",
      "{'A': 2, 'B': 1}\n",
      "{'A': 2, 'B': 1, 'O': 1}\n",
      "{'A': 2, 'B': 1, 'O': 1, 'AB': 1}\n",
      "{'A': 2, 'B': 1, 'O': 1, 'AB': 2}\n",
      "{'A': 2, 'B': 1, 'O': 2, 'AB': 2}\n",
      "{'A': 3, 'B': 1, 'O': 2, 'AB': 2}\n",
      "{'A': 3, 'B': 2, 'O': 2, 'AB': 2}\n",
      "{'A': 3, 'B': 2, 'O': 3, 'AB': 2}\n",
      "{'A': 3, 'B': 3, 'O': 3, 'AB': 2}\n",
      "{'A': 3, 'B': 3, 'O': 3, 'AB': 3}\n",
      "{'A': 3, 'B': 3, 'O': 3, 'AB': 3}\n"
     ]
    }
   ],
   "source": [
    "# 메서드 표현 비교해보기 : 혈액형 인원수 세기\n",
    "# 결과 => {'A' : 3, 'B' : 3, 'O': 3, 'AB': 3}\n",
    "blood_types = ['A','B','A','O','AB', 'AB', 'O', 'A', 'B', 'O', 'B', 'AB']\n",
    "\n",
    "# []\n",
    "# new_dict = {}\n",
    "# # print(new_dict.get('A'))\n",
    "# # blood_types을 순회하면서\n",
    "# for bt in blood_types:\n",
    "#     # 기존에 키가 이미 존재한다면, 기존에 키의 값을 +1 증가\n",
    "#     if bt in new_dict:\n",
    "#         new_dict[bt] += 1\n",
    "#     # 키가 존재하지 않는다면 키의 값을 1저장(처음 설정되는 키)\n",
    "#     else:\n",
    "#         new_dict[bt] = 1\n",
    "# print(new_dict)\n",
    "\n",
    "\n",
    "# .get()\n",
    "new_dict = {}\n",
    "# blood_types을 순회하면서 \n",
    "for bt in blood_types:\n",
    "    new_dict[bt] = new_dict.get(bt, 0) + 1  # 키가 있으면 bt, 키가 없으면 0 출력\n",
    "    print(new_dict)\n",
    "print(new_dict)\n",
    "\n",
    "\n",
    "# # .setdefault()\n",
    "# new_dict = {}\n",
    "# # blood_types을 순회하면서\n",
    "# for bt in blood_types:\n",
    "#     new_dict.setdefault(bt, 0) # 키가 있으면 bt, 키가 없으면 값을 0으로 세팅\n",
    "#     new_dict[bt] += 1\n",
    "# print(new_dict)\n"
   ]
  },
  {
   "cell_type": "code",
   "execution_count": null,
   "metadata": {},
   "outputs": [],
   "source": []
  },
  {
   "cell_type": "markdown",
   "metadata": {},
   "source": [
    "#### 3. 복사(Copy)\n",
    "\n",
    "##### 복사유형 \n",
    "- 1. 할당(assignment)\n",
    "\n",
    "\n",
    "- 2. 얕은 복사(shallow copy) ##### 슬라이싱 이용\n",
    "\n",
    "\n",
    "- 3. 깊은 복사(deep copy)\n"
   ]
  },
  {
   "cell_type": "markdown",
   "metadata": {},
   "source": [
    "#### 1. 할당\n",
    "- 리스트 복사 예시\n",
    "    - **할당 연산자**(=)를 통한 복사는 해당 객체에 대한 객체 참조를 복사\n",
    "\n",
    "        ```py\n",
    "        original_list = [1, 2, 3]\n",
    "        copy_list = original_list\n",
    "        print(original_list, copy_list)  # [1, 2, 3] [1, 2, 3]\n",
    "\n",
    "        copy_list[0] = 'hi'\n",
    "        print(original_list, copy_list)  # ['hi', 2, 3] ['hi', 2, 3]\n",
    "        ```\n",
    "\n",
    "        ![image](https://github.com/ragu6963/TIL/assets/32388270/f5ded019-54d8-40f4-b259-10140e6ff57f)\n"
   ]
  },
  {
   "cell_type": "markdown",
   "metadata": {},
   "source": [
    "#### 2. 얕은 복사\n",
    "- 리스트 얕은 복사 예시\n",
    "    - **슬라이싱**을 통해 생성된 객체는 원본 객체와 독립적으로 존재 / *깊은복사에선 슬라이싱 불가*\n",
    "        \n",
    "        ```py\n",
    "        a = [1, 2, 3]\n",
    "        b = a[:]\n",
    "        print(a, b)  # [1, 2, 3] [1, 2, 3]\n",
    "\n",
    "        b[0] = 100\n",
    "        print(a, b)  # [1, 2, 3] [100, 2, 3]\n",
    "        ```\n",
    "\n",
    "        ![image](https://github.com/ragu6963/TIL/assets/32388270/e6ca0423-4824-4822-bc3f-53d61ed551bd)\n",
    "\n",
    "- 2차원 리스트와 같이 변경가능한 객체 안에 변경 가능한 객체가 있는 경우\n",
    "    - a와 b의 주소는 다르지만 내부 객체의 주소는 같기 때문에 함께 변경됨\n",
    "\n",
    "        ```py\n",
    "        a = [1, 2, [1, 2]]\n",
    "        b = a[:]\n",
    "        print(a, b)  # [1, 2, [1, 2]] [1, 2, [1, 2]]\n",
    "\n",
    "        b[2][0] = 100\n",
    "        b[0] = 20\n",
    "        a[1] = 50\n",
    "        print(a, b)  # [1, 50, [100, 2]] [20, 2, [100, 2]]\n",
    "        \n",
    "        # 만약에 a[2] = 200 하면\n",
    "        # [1, 50, 200] [20, 2,[100, 2]]\n",
    "        ```\n",
    "        \n",
    "        ![image](https://github.com/ragu6963/TIL/assets/32388270/3ec9f431-47c8-4332-98b8-45ff86550bb0)"
   ]
  },
  {
   "cell_type": "markdown",
   "metadata": {},
   "source": [
    "#### 3. 깊은 복사\n",
    "- 리스트 깊은 복사 예시\n",
    "    - 내부에 중첩된 모든 객체까지 새로운 객체 주소를 참조하도록 함\n",
    "\n",
    "        ```py\n",
    "        import copy # deepcopy\n",
    "\n",
    "\n",
    "        original_list = [1, 2, [1, 2]]\n",
    "        deep_copied_list = copy.deepcopy(original_list)\n",
    "\n",
    "        deep_copied_list[2][0] = 100\n",
    "\n",
    "        print(original_list)  # [1, 2, [1, 2]]\n",
    "        print(deep_copied_list)  # [1, 2, [100, 2]] # 얇은 복사는 2차원리스트에서 같이 변경되지만 / 깊은 복사는 2차원리스트에서도 따로 변경됨\n",
    "        ```\n",
    "        \n",
    "        ![image](https://github.com/ragu6963/TIL/assets/32388270/b352a3ea-6264-46fc-9f84-f5e915b523d0)"
   ]
  },
  {
   "cell_type": "code",
   "execution_count": null,
   "metadata": {},
   "outputs": [],
   "source": [
    "# 실행 해보기 1\n",
    "original_list = [1, 2, 3]\n",
    "copy_list = original_list # 객체끼리 같은 주소를 참조한다\n",
    "print(original_list, copy_list) \n",
    "\n",
    "copy_list[0] = 'hi'\n",
    "print(original_list, copy_list) "
   ]
  },
  {
   "cell_type": "code",
   "execution_count": null,
   "metadata": {},
   "outputs": [],
   "source": [
    "# 실행 해보기 2\n",
    "a = 20\n",
    "b = a\n",
    "b = 10 # 변수 재설정, 객체 참조 x\n",
    "\n",
    "print(a)\n",
    "print(b)"
   ]
  },
  {
   "cell_type": "code",
   "execution_count": null,
   "metadata": {},
   "outputs": [],
   "source": [
    "# 실행 해보기 3\n",
    "a = [1, 2, [1, 2]]\n",
    "b = a[:]\n",
    "print(a, b) \n",
    "\n",
    "a[0] = 10\n",
    "b[1] = 'ssiba'\n",
    "b[2][0] = 100\n",
    "print(a, b)  "
   ]
  },
  {
   "cell_type": "code",
   "execution_count": 91,
   "metadata": {},
   "outputs": [
    {
     "name": "stdout",
     "output_type": "stream",
     "text": [
      "[1, 2, [1, 2]] [1, 2, [1, 2]]\n",
      "[1, 2, 200] [1, 2, [1, 2]]\n"
     ]
    }
   ],
   "source": [
    "# 실행 해보기 3-1\n",
    "a = [1, 2, [1, 2]]\n",
    "b = a[:]\n",
    "print(a, b) \n",
    "\n",
    "a[2] = 200\n",
    "print(a, b)  "
   ]
  },
  {
   "cell_type": "code",
   "execution_count": null,
   "metadata": {},
   "outputs": [],
   "source": [
    "# 실행 해보기 4\n",
    "import copy\n",
    "\n",
    "original_list = [1, 2, [1, 2]]\n",
    "deep_copied_list = copy.deepcopy(original_list)\n",
    "\n",
    "deep_copied_list[2][0] = 100\n",
    "\n",
    "print(original_list) \n",
    "print(deep_copied_list) "
   ]
  }
 ],
 "metadata": {
  "kernelspec": {
   "display_name": "Python 3",
   "language": "python",
   "name": "python3"
  },
  "language_info": {
   "codemirror_mode": {
    "name": "ipython",
    "version": 3
   },
   "file_extension": ".py",
   "mimetype": "text/x-python",
   "name": "python",
   "nbconvert_exporter": "python",
   "pygments_lexer": "ipython3",
   "version": "3.9.13"
  },
  "orig_nbformat": 4
 },
 "nbformat": 4,
 "nbformat_minor": 2
}
