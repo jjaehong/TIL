{
 "cells": [
  {
   "cell_type": "markdown",
   "metadata": {},
   "source": [
    "## 1. 클래스 상속(inheritance)\n",
    "\n",
    "- 기존 클래스의 속성과 메서드를 물려받아 새로운 하위 클래스를 생성하는 것\n",
    "- 상속이 필요한 이유 : 코드 재사용 / 계층 구조 / 유지 보수의 용이성"
   ]
  },
  {
   "cell_type": "code",
   "execution_count": 37,
   "metadata": {},
   "outputs": [
    {
     "name": "stdout",
     "output_type": "stream",
     "text": [
      "반갑습니다. 박교수입니다.\n",
      "반갑습니다. 김학생입니다.\n"
     ]
    }
   ],
   "source": [
    "# 학생/교수의 정보 구현\n",
    "# 상속 없이 구현 하는 경우 -> 메서드 **중복** 정의\n",
    "\n",
    "class Professor:\n",
    "    def __init__(self):\n",
    "        # self.name = name\n",
    "        # self.age = age\n",
    "        # self.department = department\n",
    "    \n",
    "    def talk(self): # 중복\n",
    "        print(f'반갑습니다. {self.name}입니다.')\n",
    "\n",
    "class Student:\n",
    "    def __init__(self,name,age,gpa):\n",
    "        self.name = name\n",
    "        self.age = age\n",
    "        self.gpa = gpa\n",
    "\n",
    "    def talk(self): # 중복\n",
    "        print(f'반갑습니다. {self.name}입니다.')\n",
    "\n",
    "p1 = Professor()\n",
    "s1 = Student('김학생', 20, 3.5)\n",
    "\n",
    "p1.talk()\n",
    "s1.talk()"
   ]
  },
  {
   "cell_type": "code",
   "execution_count": 36,
   "metadata": {},
   "outputs": [
    {
     "name": "stdout",
     "output_type": "stream",
     "text": [
      "반갑습니다. 박교수입니다.\n",
      "반갑습니다. 김학생입니다.\n"
     ]
    }
   ],
   "source": [
    "# **상속**을 사용한 계층구조 변경\n",
    "# super() : 부모 클래스의 메서드를 호출하기 위해 사용되는 내장 함수\n",
    "\n",
    "class Person:\n",
    "    def __init__(self, name, age):\n",
    "        self.name = name\n",
    "        self.age = age\n",
    "    \n",
    "    def talk(self): # 메서드 재사용\n",
    "        print(f'반갑습니다. {self.name}입니다.') # 인스턴스 호출하기\n",
    "\n",
    "\n",
    "class Professor(Person):\n",
    "    def __init__(self, name, age, department):\n",
    "        self.name = name\n",
    "        self.age = age\n",
    "        self.department = department\n",
    "\n",
    "\n",
    "class Student(Person):\n",
    "    def __init__(self, name, age, gpa):\n",
    "        # Person.__init__(self, name, age) # 클래스 이름으로 생성자를 직접 호출하기 => 지양하기 \n",
    "        super().__init__(name, age) # super() 부모클래스의 메서드를 호출하는 함수 # 여기선 init 메서드 호출함.\n",
    "        self.gpa = gpa\n",
    "\n",
    "\n",
    "p1 = Professor('박교수', 49, '컴공')\n",
    "s1 = Student('김학생', 20, 3.5)\n",
    "\n",
    "p1.talk()\n",
    "s1.talk()"
   ]
  },
  {
   "cell_type": "markdown",
   "metadata": {},
   "source": [
    "#### 다중 상속\n",
    "\n",
    "- 2개 이상의 클래스를 상속받는 경우\n",
    "- 상속받은 모든 클래스의 요소를 활용 가능함\n",
    "- 중복된 속성이나 메서드가 있는 경우 **상속 순서에 의해 결정**됨\n",
    "\n",
    "ex) def talk()이 모든 부모 클래스에 있는 경우"
   ]
  },
  {
   "cell_type": "code",
   "execution_count": 59,
   "metadata": {},
   "outputs": [
    {
     "name": "stdout",
     "output_type": "stream",
     "text": [
      "첫째가 응애\n",
      "첫째가 수영\n",
      "아빠가 걷기\n",
      "XX\n",
      "XY\n",
      "1\n",
      "[<class '__main__.FirstChild'>, <class '__main__.Mom'>, <class '__main__.Dad'>, <class '__main__.Person'>, <class 'object'>]\n"
     ]
    }
   ],
   "source": [
    "# 다중 상속 예시\n",
    "\n",
    "class Person:\n",
    "    def __init__(self, name):\n",
    "        self.name = name\n",
    "    \n",
    "    def greeting(self):\n",
    "        return f'안녕, {self.name}'\n",
    "    \n",
    "\n",
    "class Mom(Person):\n",
    "    gene = 'XX'\n",
    "\n",
    "    def __init__(self, name):\n",
    "        super().__init__(name)\n",
    "\n",
    "    def swim(self):\n",
    "        return '엄마가 수영'\n",
    "    \n",
    "\n",
    "class Dad(Person):\n",
    "    gene = 'XY'\n",
    "\n",
    "    def __init__(self, name, age):\n",
    "        super().__init__(name)\n",
    "        self.age = age\n",
    "\n",
    "    def walk(self):\n",
    "        return '아빠가 걷기'\n",
    "    \n",
    "\n",
    "class FirstChild(Mom,Dad): # 상속 구조, 순서\n",
    "    dad_gene = Dad.gene\n",
    "\n",
    "    def __init__(self, name, age):\n",
    "        # super().__init__(name)\n",
    "        Dad.__init__(self, name, age)\n",
    "  \n",
    "\n",
    "    def swim(self):\n",
    "        return '첫째가 수영'\n",
    "    \n",
    "    def cry(self):\n",
    "        return '첫째가 응애'\n",
    "    \n",
    "\n",
    "baby1 = FirstChild('아가',1)\n",
    "dad = Dad('아빠야', 35)\n",
    "print(baby1.cry())\n",
    "print(baby1.swim())\n",
    "print(baby1.walk())\n",
    "print(baby1.gene) # 두 상위 클래스에서 중복된 속성이나 메서드가 있는 경우..\n",
    "print(baby1.dad_gene) # 상속 순서를 바꾸지 않고 Dad 유전자를 넣고 싶은 경우\n",
    "print(baby1.age)\n",
    "print(FirstChild.mro()) # mro는 찾아올라가는 순서임."
   ]
  },
  {
   "cell_type": "markdown",
   "metadata": {},
   "source": [
    "## 2. 에러와 예외\n",
    "\n",
    "- 버그 : 소프트웨어에서 발생하는 오류 또는 결함, 프로그램의 예상된 동작과 실제 동작 사이의 불일치\n",
    "\n",
    "- 디버깅 : 소프트웨어에서 발생하는 버그를 찾아내고 수정하는 과정프로그램의 오작동, 원인을 식별하여 수정하는 작업\n",
    "\n",
    "- 디버깅 방법 : print, F5, python tutor"
   ]
  },
  {
   "cell_type": "markdown",
   "metadata": {},
   "source": [
    "#### 에러 : 프로그램 실행 중에 발생하는 예외 상황\n",
    "\n",
    "ⓐ 문법 에러(Syntax Error)\n",
    "- Invalid syntax(문법 오류)\n",
    "\n",
    "- cannot assign to literal(잘못된 할당)\n",
    "\n",
    "- EOL(End of Line)\n",
    "\n",
    "- EOF(End of File)"
   ]
  },
  {
   "cell_type": "markdown",
   "metadata": {},
   "source": [
    "#### 예외\n",
    "- 프로그램 실행 중에 감지되는 에러\n",
    "\n",
    "#### 내장 예외(built-in exceptions)\n",
    "\n",
    "① ZeroDivisionError\n",
    "\n",
    "② NameError\n",
    "\n",
    "③ TypeError\n",
    "- 타입 불일치\n",
    "- 인자 누락\n",
    "- 인자 초과\n",
    "- 인자 타입 불일치\n",
    "\n",
    "④ ValueError\n",
    "\n",
    "⑤ IndexError\n",
    "\n",
    "⑥ KeyError : 딕셔너리에 해당 키가 존재하지 않는 경우\n",
    "\n",
    "⑦ moduleNotFoundError\n",
    "\n",
    "⑧ ImportError\n",
    "\n",
    "⑨ KeyboardInterrupt : 무한루프 시 강제종료\n",
    "\n",
    "⑩ IndentationError : 잘못된 들여쓰기\n"
   ]
  },
  {
   "cell_type": "markdown",
   "metadata": {},
   "source": [
    "#### 예외 처리 : try 문과 except 절\n",
    "\n",
    "- try-except 구조\n",
    "\n"
   ]
  },
  {
   "cell_type": "code",
   "execution_count": null,
   "metadata": {},
   "outputs": [],
   "source": []
  },
  {
   "cell_type": "code",
   "execution_count": 12,
   "metadata": {},
   "outputs": [
    {
     "name": "stdout",
     "output_type": "stream",
     "text": [
      "왜 0을 입력하는거야?\n"
     ]
    }
   ],
   "source": [
    "try:\n",
    "    num = int(input('100을 나눌 값을 입력하시오 : '))\n",
    "    print(100/num)\n",
    "except ValueError:\n",
    "    print('숫자를 입력하라고!')\n",
    "except ZeroDivisionError:\n",
    "    print('왜 0을 입력하는거야?')\n",
    "except:\n",
    "    print('비상 비상')"
   ]
  },
  {
   "cell_type": "code",
   "execution_count": 13,
   "metadata": {},
   "outputs": [
    {
     "name": "stdout",
     "output_type": "stream",
     "text": [
      "숫자를 입력하라고!\n"
     ]
    }
   ],
   "source": [
    "# 내장 예외처리의 상속 계층구조 주의\n",
    "# 0 입력해봐!\n",
    "\n",
    "try:\n",
    "    num = int(input('100을 나눌 값을 입력하시오 : '))\n",
    "    print(100/num)\n",
    "except BaseException: # BaseException이 ZeroDivisionError의 상위 클래스 이기에 zerodivison이 절대 출력안됌.\n",
    "    print('숫자를 입력하라고!')\n",
    "except ZeroDivisionError: # 이 블록에 도달하지 못함\n",
    "    print('왜 0을 입력하는거야?')\n",
    "except:\n",
    "    print('비상 비상')"
   ]
  },
  {
   "cell_type": "markdown",
   "metadata": {},
   "source": [
    "##### 예외 처리 계층구조\n",
    "![이미지](이미지/예외처리%20계층.PNG)"
   ]
  },
  {
   "cell_type": "markdown",
   "metadata": {},
   "source": [
    "#### 예외처리와 값 검사에 대한 2가지 접근방식\n",
    "\n",
    "1. EAFP(easier to ask for forgiveness than permission)\n",
    "\n",
    "- 예외처리를 중심으로 코드를 작성하는 접근 방식(try-except)\n",
    "\n",
    "\n",
    "2. LBYL(look before you leap) \n",
    "\n",
    "=> 알고리즘 문제를 풀 때는,, 이걸 쓰자 !!\n",
    "\n",
    "- 값 검사를 중심으로 코드를 작성하는 접근 방식(if-else)\n",
    "\n",
    "![이미지](이미지/eafp.PNG)\n",
    "![이미지](이미지/eafp%20lbyl.PNG)"
   ]
  },
  {
   "cell_type": "markdown",
   "metadata": {},
   "source": [
    "## 파이썬 문법 배운 이후 앞으로 할 것\n",
    "## 파이썬을 활용한 것에 초점을 두기\n",
    "## 파이썬 공식문서 쭉 보기"
   ]
  },
  {
   "cell_type": "markdown",
   "metadata": {},
   "source": [
    "# 추가 강의\n",
    "\n",
    "\n",
    "## 00P의 핵심 개념\n",
    "\n",
    "- 추상화(Abstraction)\n",
    "\n",
    "- 상속(Inheritance)\n",
    "\n",
    "- 다형성(Polymorphism)\n",
    "\n",
    "- 캡슐화(Encapsulation)"
   ]
  },
  {
   "cell_type": "markdown",
   "metadata": {},
   "source": [
    "## 1. 추상화\n",
    "\n",
    "세부적인 내용은 감추고 필요한 부분만 표현하는 것을 말한다.\n",
    "\n",
    "## 2. 상속\n",
    "\n",
    "부모 - 자식\n",
    "\n",
    "코드의 재사용성을 위해서 사용한다.\n",
    "\n",
    "부모클래스에서 정의해 놓은 기능을 자식클래스에서 다시 만들지 않고 사용할 수 있다.\n"
   ]
  },
  {
   "cell_type": "code",
   "execution_count": 24,
   "metadata": {},
   "outputs": [
    {
     "name": "stdout",
     "output_type": "stream",
     "text": [
      "person init\n",
      "red\n"
     ]
    },
    {
     "ename": "TypeError",
     "evalue": "__init__() takes 2 positional arguments but 3 were given",
     "output_type": "error",
     "traceback": [
      "\u001b[1;31m---------------------------------------------------------------------------\u001b[0m",
      "\u001b[1;31mTypeError\u001b[0m                                 Traceback (most recent call last)",
      "Cell \u001b[1;32mIn[24], line 45\u001b[0m\n\u001b[0;32m     40\u001b[0m         \u001b[39msuper\u001b[39m()\u001b[39m.\u001b[39m\u001b[39m__init__\u001b[39m(name, age) \u001b[39m# super() : 안전한 방법\u001b[39;00m\n\u001b[0;32m     41\u001b[0m         \u001b[39m# Mom.__init__(self,name,age) # 클래스 이름으로 생성자를 직접 호출하기 # 이런 방식은 지양하는게 좋다.\u001b[39;00m\n\u001b[0;32m     42\u001b[0m         \u001b[39m# Dad.__init__(self,name)\u001b[39;00m\n\u001b[1;32m---> 45\u001b[0m c1 \u001b[39m=\u001b[39m Child(\u001b[39m\"\u001b[39;49m\u001b[39mjjaehong\u001b[39;49m\u001b[39m\"\u001b[39;49m,\u001b[39m12\u001b[39;49m)\n\u001b[0;32m     46\u001b[0m \u001b[39mprint\u001b[39m(c1\u001b[39m.\u001b[39mblood)\n\u001b[0;32m     47\u001b[0m \u001b[39mprint\u001b[39m(Child\u001b[39m.\u001b[39m\u001b[39m__mro__\u001b[39m)\n",
      "Cell \u001b[1;32mIn[24], line 40\u001b[0m, in \u001b[0;36mChild.__init__\u001b[1;34m(self, name, age)\u001b[0m\n\u001b[0;32m     39\u001b[0m \u001b[39mdef\u001b[39;00m \u001b[39m__init__\u001b[39m(\u001b[39mself\u001b[39m, name, age):\n\u001b[1;32m---> 40\u001b[0m     \u001b[39msuper\u001b[39;49m()\u001b[39m.\u001b[39;49m\u001b[39m__init__\u001b[39;49m(name, age)\n",
      "Cell \u001b[1;32mIn[24], line 25\u001b[0m, in \u001b[0;36mMom.__init__\u001b[1;34m(self, name, age)\u001b[0m\n\u001b[0;32m     24\u001b[0m \u001b[39mdef\u001b[39;00m \u001b[39m__init__\u001b[39m(\u001b[39mself\u001b[39m, name, age):\n\u001b[1;32m---> 25\u001b[0m     \u001b[39msuper\u001b[39;49m()\u001b[39m.\u001b[39;49m\u001b[39m__init__\u001b[39;49m(name,age) \u001b[39m# Person에서 name만 받으니까 name만 입력\u001b[39;00m\n\u001b[0;32m     26\u001b[0m     \u001b[39mself\u001b[39m\u001b[39m.\u001b[39mage \u001b[39m=\u001b[39m age\n\u001b[0;32m     27\u001b[0m     \u001b[39mprint\u001b[39m(\u001b[39m\"\u001b[39m\u001b[39mmom init\u001b[39m\u001b[39m\"\u001b[39m)\n",
      "Cell \u001b[1;32mIn[24], line 33\u001b[0m, in \u001b[0;36mDad.__init__\u001b[1;34m(self, name, age)\u001b[0m\n\u001b[0;32m     32\u001b[0m \u001b[39mdef\u001b[39;00m \u001b[39m__init__\u001b[39m(\u001b[39mself\u001b[39m, name, age):\n\u001b[1;32m---> 33\u001b[0m     \u001b[39msuper\u001b[39;49m()\u001b[39m.\u001b[39;49m\u001b[39m__init__\u001b[39;49m(name,age)\n\u001b[0;32m     34\u001b[0m     \u001b[39mself\u001b[39m\u001b[39m.\u001b[39mage \u001b[39m=\u001b[39m age\n\u001b[0;32m     35\u001b[0m     \u001b[39mprint\u001b[39m(\u001b[39m\"\u001b[39m\u001b[39mdad init\u001b[39m\u001b[39m\"\u001b[39m)\n",
      "\u001b[1;31mTypeError\u001b[0m: __init__() takes 2 positional arguments but 3 were given"
     ]
    }
   ],
   "source": [
    "class Person:\n",
    "    blood = 'red'\n",
    "\n",
    "    def __init__(self, name):\n",
    "        self.name = name\n",
    "        print(\"person init\")\n",
    "    \n",
    "\n",
    "    def greeting():\n",
    "        print(\"hello\")\n",
    "\n",
    "class Student(Person):\n",
    "    def __init__(self, name):\n",
    "        super().__init__(name)\n",
    "        # Person.__init__(self, name)\n",
    "\n",
    "s1 = Student(\"minseok\")\n",
    "print(s1.blood)\n",
    "# s1.greeting()\n",
    "\n",
    "class Mom(Person):\n",
    "    blood = 'yellow'\n",
    "\n",
    "    def __init__(self, name, age):\n",
    "        super().__init__(name,age) # Person에서 name만 받으니까 name만 입력\n",
    "        self.age = age\n",
    "        print(\"mom init\")\n",
    "\n",
    "class Dad(Person):\n",
    "    blood = 'blue'\n",
    "\n",
    "    def __init__(self, name, age):\n",
    "        super().__init__(name,age)\n",
    "        self.age = age\n",
    "        print(\"dad init\")\n",
    "\n",
    "class Child(Mom,Dad):\n",
    "    \n",
    "    def __init__(self, name, age):\n",
    "        super().__init__(name, age) # super() : 안전한 방법\n",
    "        # Mom.__init__(self,name,age) # 클래스 이름으로 생성자를 직접 호출하기 # 이런 방식은 지양하는게 좋다.\n",
    "        # Dad.__init__(self,name)\n",
    "\n",
    "\n",
    "c1 = Child(\"jjaehong\",12)\n",
    "print(c1.blood)\n",
    "print(Child.__mro__)\n"
   ]
  },
  {
   "cell_type": "markdown",
   "metadata": {},
   "source": [
    "## 3. 다형성\n",
    "\n",
    "여러 모양을 뜻한다. 동일한 메서드가 클래스에 따라 다르게 행동할 수 있다.\n",
    "\n",
    "서로 다른 클래스에 속해있는 객체들이 동일한 메시지에 대해 각기 다른 방식으로 응답(동작)\n",
    "\n",
    "메서드 오버라이딩\n",
    "\n",
    "- 상속받은 메서드를 그대로 사용하는 게 아니라 "
   ]
  },
  {
   "cell_type": "markdown",
   "metadata": {},
   "source": []
  },
  {
   "cell_type": "code",
   "execution_count": 26,
   "metadata": {},
   "outputs": [
    {
     "name": "stdout",
     "output_type": "stream",
     "text": [
      "안녕하세요 저는 minseok 입니다.\n",
      "충성! 저는 21사단 소속의 minseok입니다.\n"
     ]
    }
   ],
   "source": [
    "class Person:\n",
    "    \n",
    "    def __init__(self, name):\n",
    "        self.name = name\n",
    "    \n",
    "    def talk(self):\n",
    "        print(f'안녕하세요 저는 {self.name} 입니다.')\n",
    "\n",
    "class Soldier(Person):\n",
    "    def __init__(self, name, army):\n",
    "        super().__init__(name)\n",
    "        self.army = army\n",
    "\n",
    "    def talk(self) : \n",
    "        print(f'충성! 저는 {self.army} 소속의 {self.name}입니다.')\n",
    "\n",
    "\n",
    "p1 = Person(\"minseok\")\n",
    "s1 = Soldier(\"minseok\", \"21사단\")\n",
    "\n",
    "# talk() 라는 동일한 메서드를 실행 했으나 결과가 다르게 나온다.\n",
    "p1.talk()\n",
    "s1.talk()"
   ]
  },
  {
   "cell_type": "markdown",
   "metadata": {},
   "source": [
    "## 캡슐화\n",
    "\n",
    "객체의 일부 구현 내용에 대해 외부로부터의 직접적인 접근을 차단한다."
   ]
  },
  {
   "cell_type": "code",
   "execution_count": 30,
   "metadata": {},
   "outputs": [
    {
     "name": "stdout",
     "output_type": "stream",
     "text": [
      "15\n",
      "나이가 잘못되었다.\n",
      "20\n"
     ]
    }
   ],
   "source": [
    "class Person:\n",
    "\n",
    "    def __init__(self, name, age):\n",
    "        self.name = name\n",
    "        self.__age = age # 클래스 외부로부터 접근 차단\n",
    "    \n",
    "    def get_age(self):\n",
    "        return self.__age \n",
    "    \n",
    "    def set_age(self,age):\n",
    "        if type(age) == str:\n",
    "            print(\"나이가 잘못되었다.\")\n",
    "            return\n",
    "        \n",
    "        self.__age = age\n",
    "\n",
    "p1 = Person(\"minseok\", 15)\n",
    "\n",
    "# print(p1.__age) # 변수에 직접 접근하는 것을 차단한다.\n",
    "print(p1.get_age()) # 메소드를 통해서만 접근하도록 설계\n",
    "\n",
    "p1.set_age(20)\n",
    "\n",
    "p1.set_age(\"문자열\")\n",
    "print(p1.get_age())"
   ]
  }
 ],
 "metadata": {
  "kernelspec": {
   "display_name": "Python 3",
   "language": "python",
   "name": "python3"
  },
  "language_info": {
   "codemirror_mode": {
    "name": "ipython",
    "version": 3
   },
   "file_extension": ".py",
   "mimetype": "text/x-python",
   "name": "python",
   "nbconvert_exporter": "python",
   "pygments_lexer": "ipython3",
   "version": "3.9.13"
  },
  "orig_nbformat": 4
 },
 "nbformat": 4,
 "nbformat_minor": 2
}
