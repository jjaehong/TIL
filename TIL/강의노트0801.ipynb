{
 "cells": [
  {
   "cell_type": "markdown",
   "metadata": {},
   "source": []
  },
  {
   "cell_type": "markdown",
   "metadata": {},
   "source": []
  },
  {
   "cell_type": "markdown",
   "metadata": {},
   "source": []
  },
  {
   "cell_type": "code",
   "execution_count": null,
   "metadata": {},
   "outputs": [],
   "source": [
    "def Counting_Sort(A,B,k):\n",
    "    \n",
    "    # A[] -- 입력 배열(0 to k)\n",
    "    # B[] -- 정렬된 배열\n",
    "    # C[] -- 카운트 배열\n",
    "\n",
    "    C = [0] * (k+1)\n",
    "\n",
    "    for i in range(0,len(A)):\n",
    "        C[A[i]] += 1\n",
    "    \n",
    "    for i in range(0,len(A)):\n",
    "        C[i] += C[i-1]\n",
    "\n",
    "    for i in range(len(B)-1, -1, -1):\n",
    "        C[A[i]] -= 1   # 빼주기\n",
    "        B[C[A[i]]] = A[i]    # 복사하기\n",
    "\n",
    " "
   ]
  },
  {
   "cell_type": "markdown",
   "metadata": {},
   "source": [
    "![이미지](이미지/알고리즘정렬.PNG)"
   ]
  },
  {
   "cell_type": "code",
   "execution_count": null,
   "metadata": {},
   "outputs": [],
   "source": []
  },
  {
   "cell_type": "markdown",
   "metadata": {},
   "source": [
    "#### 1. 완전 검색(Exaustive Search) - baby-gin game\n",
    "\n",
    "- 완전 검색 방법은 문제의 해법으로 **생각할 수 있는 모든 경우의 수를 나열**해보고 확인하는 기법이다.\n",
    "\n",
    "- 모든 경우의 수를 테스트한 후, 최종 해법을 도출한다.\n",
    "\n",
    "- 일반적으로 경우의 수가 상대적으로 작을 때 유용하다.\n",
    "\n",
    "- **모든 경우의 수를 생성**\n",
    "\n",
    "- 완전 검색으로 시작해라! : 자격검정평가 등에서 문제를 풀 때, 우선 완전 검색으로 접근하여 해답을 도출한 후, 성능 개선을 위해 다른 알고리즘을 사용하고 해답을 확인하는 것이 바람직"
   ]
  },
  {
   "cell_type": "markdown",
   "metadata": {},
   "source": [
    "#### 순열"
   ]
  },
  {
   "cell_type": "markdown",
   "metadata": {},
   "source": [
    "#### 2. 탐욕 알고리즘(greedy)\n",
    "\n",
    "- 최적해를 구하는 데 사용되는 근시안적인 방법\n",
    "\n",
    "\n"
   ]
  },
  {
   "cell_type": "code",
   "execution_count": null,
   "metadata": {},
   "outputs": [],
   "source": [
    "# baby-gin\n",
    "\n",
    "\n",
    "\n",
    "\n",
    "# 완전 검색\n",
    "\n",
    "\n",
    "\n",
    "\n",
    "# 그리디\n",
    "\n",
    "\n",
    "\n",
    "for i in range(6):\n",
    "    c[num % 10] += 1 # num % 10은\n",
    "    num // = 10\n",
    "\n"
   ]
  }
 ],
 "metadata": {
  "language_info": {
   "name": "python"
  },
  "orig_nbformat": 4
 },
 "nbformat": 4,
 "nbformat_minor": 2
}
