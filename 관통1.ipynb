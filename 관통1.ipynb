{
 "cells": [
  {
   "cell_type": "code",
   "execution_count": null,
   "metadata": {},
   "outputs": [],
   "source": [
    "#### 'y' : 코드모드 변경\n",
    "#### 'm' : 마크다운 모드 변경\n",
    "\n",
    "#### 'a' : 위에 쉘 하나 추가\n",
    "#### 'b' : 기준 아래에 쉘 하나 추가\n",
    "\n",
    "#### 'shift + enter' : 실행 후 쉘 아래로 이동\n",
    "#### 'ctrl + enter' : 실행``"
   ]
  },
  {
   "cell_type": "markdown",
   "metadata": {},
   "source": [
    "#### API 이해하기\n",
    "\n",
    "- 실습 목표 : 파이썬으로, **인터넷에 있는 날씨 정보**를 가져와, 내가 원하는 정보만 출력\n"
   ]
  },
  {
   "cell_type": "markdown",
   "metadata": {},
   "source": [
    "###### 날씨 정보..\n",
    "\n",
    "- 실습 프로젝트를 진행하기 위해선 **날씨 데이터**가 있어야 한다.\n",
    "- 그러나... 직접 데이터를 모으기엔 너무 어렵다..\n",
    "\n",
    "- 따라서 인터넷에 있는 데이터를 가져오면 된다."
   ]
  },
  {
   "cell_type": "markdown",
   "metadata": {},
   "source": [
    "![이미지](이미지/클라이언트,서버.PNG)\n",
    "\n",
    "#### 예시 : 날씨정보\n",
    "![이미지](이미지/클라2.PNG)\n",
    "\n",
    "![이미지](이미지/클라3.PNG)\n",
    "\n",
    "![이미지](이미지/클라4.PNG)"
   ]
  },
  {
   "cell_type": "code",
   "execution_count": 10,
   "metadata": {},
   "outputs": [
    {
     "name": "stdout",
     "output_type": "stream",
     "text": [
      "[{'__v': 0,\n",
      "  'date': '2020-03-02T00:00:00.000Z',\n",
      "  'id': 1,\n",
      "  'products': [{'productId': 1, 'quantity': 4},\n",
      "               {'productId': 2, 'quantity': 1},\n",
      "               {'productId': 3, 'quantity': 6}],\n",
      "  'userId': 1},\n",
      " {'__v': 0,\n",
      "  'date': '2020-01-02T00:00:00.000Z',\n",
      "  'id': 2,\n",
      "  'products': [{'productId': 2, 'quantity': 4},\n",
      "               {'productId': 1, 'quantity': 10},\n",
      "               {'productId': 5, 'quantity': 2}],\n",
      "  'userId': 1},\n",
      " {'__v': 0,\n",
      "  'date': '2020-03-01T00:00:00.000Z',\n",
      "  'id': 3,\n",
      "  'products': [{'productId': 1, 'quantity': 2},\n",
      "               {'productId': 9, 'quantity': 1}],\n",
      "  'userId': 2},\n",
      " {'__v': 0,\n",
      "  'date': '2020-01-01T00:00:00.000Z',\n",
      "  'id': 4,\n",
      "  'products': [{'productId': 1, 'quantity': 4}],\n",
      "  'userId': 3},\n",
      " {'__v': 0,\n",
      "  'date': '2020-03-01T00:00:00.000Z',\n",
      "  'id': 5,\n",
      "  'products': [{'productId': 7, 'quantity': 1},\n",
      "               {'productId': 8, 'quantity': 1}],\n",
      "  'userId': 3},\n",
      " {'__v': 0,\n",
      "  'date': '2020-03-01T00:00:00.000Z',\n",
      "  'id': 6,\n",
      "  'products': [{'productId': 10, 'quantity': 2},\n",
      "               {'productId': 12, 'quantity': 3}],\n",
      "  'userId': 4},\n",
      " {'__v': 0,\n",
      "  'date': '2020-03-01T00:00:00.000Z',\n",
      "  'id': 7,\n",
      "  'products': [{'productId': 18, 'quantity': 1}],\n",
      "  'userId': 8}]\n"
     ]
    }
   ],
   "source": [
    "# 2 서버에 정보를 달라는 파이썬 코드를 작성 \n",
    "\n",
    "import requests\n",
    "from pprint import pprint\n",
    "\n",
    "url = 'https://fakestoreapi.com/carts'\n",
    "response = requests.get(url).json() # api 요청해서 얻기\n",
    "pprint(response)"
   ]
  },
  {
   "cell_type": "markdown",
   "metadata": {},
   "source": [
    "![이미지](이미지/파이썬코드해석.PNG)"
   ]
  },
  {
   "cell_type": "markdown",
   "metadata": {},
   "source": [
    "#### API\n",
    "- 클라이언트들은 각자 다른 방식으로 요청을 보낼 것이다.(크롬 방식, 파이썬 방식 등)\n",
    "- 서버는 어떻게 요청을 해석할까?  ==> API\n",
    "\n",
    "![이미지](이미지/api2.PNG)"
   ]
  },
  {
   "cell_type": "markdown",
   "metadata": {},
   "source": [
    "###### 어떤 정보를 수집하기 위해서는 두 가지를 찾아야 한다.\n",
    "- 어떤 정보를 가지고 있는 서버\n",
    "- 해당 서버가 제공하는 API"
   ]
  },
  {
   "cell_type": "markdown",
   "metadata": {},
   "source": [
    "#### 오픈 API\n",
    "- 외부에서 사용할 수 있도록 <span style = 'color : red'>무료로</span> 개방(open)된 API\n",
    "- 사용법은 공식 문서(Docs)에 명시되어 있음\n",
    "- 프로젝트에서 사용되는 API\n",
    "    - 금융상품통합비교공시 API: 금융감독원에서 제공하는 금융 상품 정보를 제공하는 오픈 API"
   ]
  },
  {
   "cell_type": "markdown",
   "metadata": {},
   "source": [
    "![이미지](이미지/api%20key.PNG)\n",
    "![이미지](이미지/api%20key2.PNG)\n",
    "![이미지](이미지/api%20key3.PNG)"
   ]
  },
  {
   "cell_type": "markdown",
   "metadata": {},
   "source": [
    "#### JSON\n",
    "\n",
    "![이미지](이미지/json0.PNG)\n",
    "![이미지](이미지/json.PNG)\n",
    "```pyhon\n",
    "import json # 내장 모듈\n",
    "\n",
    "# json 데이터\n",
    "json_data = '''\n",
    "{\n",
    "    \"name\" : \"김싸피\",\n",
    "    \"age\" : 28,\n",
    "    \"hobbies\" : [\n",
    "        \"공부하기\",\n",
    "        \"복습하기\"\n",
    "    ]\n",
    "}\n",
    "'''\n",
    "\n",
    "data = json.loads(json_data) # json.load() 함수 활용\n",
    "print(type(data))\n",
    "\n",
    "# JSON 데이터에서 원하는 데이터만 가져오기\n",
    "name = data.get('name')\n",
    "\n",
    "print(name)\n",
    "```\n",
    "\n",
    "![이미지](이미지/파싱.PNG)"
   ]
  },
  {
   "cell_type": "code",
   "execution_count": 32,
   "metadata": {},
   "outputs": [],
   "source": [
    "# 실습 예제1. \n",
    "# Openweather API 를 활용하여 특정 지역의 \"현재 날씨\"에 대한 정보를 출력하세요.\n",
    "# 서울의 위도:37.56, 경도:126.97\n",
    "\n",
    "import pprint\n",
    "import requests\n",
    "\n",
    "def get_seoul_weather1():\n",
    "    # OpenWeatherMap API 키\n",
    "    api_key = '68142f8c32d015facfe5d9e71c745058'\n",
    "\n",
    "    # 서울의 위도\n",
    "    lat = 37.56\n",
    "    # 서울의 경도\n",
    "    lon = 126.97\n",
    "\n",
    "    # API 요청 URL\n",
    "    url1 = f'https://api.openweathermap.org/data/2.5/weather?lat={lat}&lon={lon}&appid={api_key}'\n",
    "\n",
    "    # API 요청 보내기\n",
    "    response1 = requests.get(url1).json()\n",
    "    return response1"
   ]
  },
  {
   "cell_type": "markdown",
   "metadata": {},
   "source": [
    "- json 형태의 데이터 반환"
   ]
  },
  {
   "cell_type": "code",
   "execution_count": 34,
   "metadata": {},
   "outputs": [
    {
     "data": {
      "text/plain": [
       "{'coord': {'lon': 126.97, 'lat': 37.56},\n",
       " 'weather': [{'id': 721,\n",
       "   'main': 'Haze',\n",
       "   'description': 'haze',\n",
       "   'icon': '50d'}],\n",
       " 'base': 'stations',\n",
       " 'main': {'temp': 304.62,\n",
       "  'feels_like': 307.97,\n",
       "  'temp_min': 303.96,\n",
       "  'temp_max': 305.03,\n",
       "  'pressure': 1012,\n",
       "  'humidity': 56},\n",
       " 'visibility': 6000,\n",
       " 'wind': {'speed': 2.06, 'deg': 260},\n",
       " 'clouds': {'all': 20},\n",
       " 'dt': 1689907926,\n",
       " 'sys': {'type': 1,\n",
       "  'id': 8105,\n",
       "  'country': 'KR',\n",
       "  'sunrise': 1689884785,\n",
       "  'sunset': 1689936611},\n",
       " 'timezone': 32400,\n",
       " 'id': 1835848,\n",
       " 'name': 'Seoul',\n",
       " 'cod': 200}"
      ]
     },
     "execution_count": 34,
     "metadata": {},
     "output_type": "execute_result"
    }
   ],
   "source": [
    "result1 = get_seoul_weather1()\n",
    "result1"
   ]
  },
  {
   "cell_type": "code",
   "execution_count": 35,
   "metadata": {},
   "outputs": [
    {
     "name": "stdout",
     "output_type": "stream",
     "text": [
      "{'base': 'stations',\n",
      " 'clouds': {'all': 20},\n",
      " 'cod': 200,\n",
      " 'coord': {'lat': 37.56, 'lon': 126.97},\n",
      " 'dt': 1689907926,\n",
      " 'id': 1835848,\n",
      " 'main': {'feels_like': 307.97,\n",
      "          'humidity': 56,\n",
      "          'pressure': 1012,\n",
      "          'temp': 304.62,\n",
      "          'temp_max': 305.03,\n",
      "          'temp_min': 303.96},\n",
      " 'name': 'Seoul',\n",
      " 'sys': {'country': 'KR',\n",
      "         'id': 8105,\n",
      "         'sunrise': 1689884785,\n",
      "         'sunset': 1689936611,\n",
      "         'type': 1},\n",
      " 'timezone': 32400,\n",
      " 'visibility': 6000,\n",
      " 'weather': [{'description': 'haze', 'icon': '50d', 'id': 721, 'main': 'Haze'}],\n",
      " 'wind': {'deg': 260, 'speed': 2.06}}\n"
     ]
    }
   ],
   "source": [
    "# prrint.prrint()`: json 을 보기 좋은 형식으로 출력\n",
    "pprint.pprint(result1)"
   ]
  },
  {
   "cell_type": "code",
   "execution_count": 39,
   "metadata": {},
   "outputs": [],
   "source": [
    "# 실습예제 2\n",
    "# Openweather API 를 활용하여 \"서울\" 의 \"현재 날씨\"에 대한 정보를 출력하세요.\n",
    "\n",
    "def get_seoul_weather2():\n",
    "    # OpenWeatherMap API 키\n",
    "    api_key = '68142f8c32d015facfe5d9e71c745058'\n",
    "\n",
    "    # 검색 조건\n",
    "    city = \"Seoul,KR\"\n",
    "\n",
    "    # 다른 지역\n",
    "    # city = \"Tokyo,JP\"\n",
    "    # city = \"New York,US\"\n",
    "\n",
    "    # API 요청 URL\n",
    "    url2 = f'http://api.openweathermap.org/data/2.5/weather?q={city}&appid={api_key}'\n",
    "\n",
    "    # API 요청 보내기\n",
    "    response2 = requests.get(url2).json()\n",
    "    return response2"
   ]
  },
  {
   "cell_type": "code",
   "execution_count": 43,
   "metadata": {},
   "outputs": [
    {
     "name": "stdout",
     "output_type": "stream",
     "text": [
      "{'base': 'stations',\n",
      " 'clouds': {'all': 92},\n",
      " 'cod': 200,\n",
      " 'coord': {'lat': 37.5683, 'lon': 126.9778},\n",
      " 'dt': 1689908475,\n",
      " 'id': 1835848,\n",
      " 'main': {'feels_like': 304.78,\n",
      "          'grnd_level': 1006,\n",
      "          'humidity': 39,\n",
      "          'pressure': 1012,\n",
      "          'sea_level': 1012,\n",
      "          'temp': 304.81,\n",
      "          'temp_max': 304.81,\n",
      "          'temp_min': 303.84},\n",
      " 'name': 'Seoul',\n",
      " 'sys': {'country': 'KR',\n",
      "         'id': 5509,\n",
      "         'sunrise': 1689884782,\n",
      "         'sunset': 1689936610,\n",
      "         'type': 1},\n",
      " 'timezone': 32400,\n",
      " 'visibility': 10000,\n",
      " 'weather': [{'description': 'overcast clouds',\n",
      "              'icon': '04d',\n",
      "              'id': 804,\n",
      "              'main': 'Clouds'}],\n",
      " 'wind': {'deg': 184, 'gust': 1.49, 'speed': 1.09}}\n"
     ]
    }
   ],
   "source": [
    "result2 = get_seoul_weather2()\n",
    "pprint.pprint(result2)"
   ]
  },
  {
   "cell_type": "code",
   "execution_count": 44,
   "metadata": {},
   "outputs": [
    {
     "name": "stdout",
     "output_type": "stream",
     "text": [
      "'캘빈 온도: 304.81K'\n"
     ]
    }
   ],
   "source": [
    "# 캘빈 온도 출력\n",
    "temperature = result2['main']['temp']\n",
    "print(f\"캘빈 온도: {temperature}K\")"
   ]
  },
  {
   "cell_type": "code",
   "execution_count": 45,
   "metadata": {},
   "outputs": [
    {
     "name": "stdout",
     "output_type": "stream",
     "text": [
      "'섭씨 온도: 31.66˚C'\n"
     ]
    }
   ],
   "source": [
    "# 섭씨 온도는 캘빈 - 273.15\n",
    "temperature_celsius = temperature - 273.15\n",
    "print(f\"섭씨 온도: {temperature_celsius:.2f}˚C\")"
   ]
  },
  {
   "cell_type": "code",
   "execution_count": 47,
   "metadata": {},
   "outputs": [
    {
     "name": "stdout",
     "output_type": "stream",
     "text": [
      "'날씨 설명: overcast clouds'\n"
     ]
    }
   ],
   "source": [
    "# 예제4. 서울의 현재 날씨 중 날씨에 대한 설명 정보만 출력하시오.\n",
    "\n",
    "description = result2['weather'][0]['description']\n",
    "print(f'날씨 설명: {description}')"
   ]
  }
 ],
 "metadata": {
  "kernelspec": {
   "display_name": "Python 3",
   "language": "python",
   "name": "python3"
  },
  "language_info": {
   "codemirror_mode": {
    "name": "ipython",
    "version": 3
   },
   "file_extension": ".py",
   "mimetype": "text/x-python",
   "name": "python",
   "nbconvert_exporter": "python",
   "pygments_lexer": "ipython3",
   "version": "3.9.13"
  },
  "orig_nbformat": 4
 },
 "nbformat": 4,
 "nbformat_minor": 2
}
